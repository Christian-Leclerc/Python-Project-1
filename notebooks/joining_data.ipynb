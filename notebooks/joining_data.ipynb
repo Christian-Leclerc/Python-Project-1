{
 "cells": [
  {
   "cell_type": "code",
   "execution_count": 23,
   "metadata": {
    "tags": []
   },
   "outputs": [],
   "source": [
    "# import\n",
    "import pandas as pd\n",
    "import sqlite3\n",
    "import numpy as np\n",
    "import re\n",
    "from sqlite3 import Error\n",
    "import seaborn as sns\n",
    "import matplotlib.pyplot as plt\n",
    "%matplotlib inline\n",
    "from scipy import stats"
   ]
  },
  {
   "cell_type": "markdown",
   "metadata": {},
   "source": [
    "versions_v2_03091125"
   ]
  },
  {
   "cell_type": "markdown",
   "metadata": {},
   "source": [
    "# Table of content:\n",
    "\n",
    "- ## [Functions](#Functions)\n",
    "- ## [Joining](#Joining):\n",
    "    - [Strategy](#Strategy)\n",
    "    - [Feature engineering](#feature-engineering):\n",
    "        - [Create meaningful columns](#create-meaningful-columns)\n",
    "        - [Cleaning dataframe](#cleaning-dataframe)\n",
    "        - [Missing values](#missing-values)\n",
    "\n",
    "- ## [Database](#Database):\n",
    "\n",
    "Acronyms and Definition:\n",
    "\n",
    "+ fsq = FourSquare (API)\n",
    "+ yelp = Yelp (API)\n",
    "+ poi(s) = Point Of Interest(s)\n",
    "+ stations = Bike rental station (Bixi - Montréal, Qc, Canada)"
   ]
  },
  {
   "cell_type": "markdown",
   "metadata": {},
   "source": [
    "## Functions"
   ]
  },
  {
   "cell_type": "code",
   "execution_count": 28,
   "metadata": {
    "tags": []
   },
   "outputs": [],
   "source": [
    "# Function to rename columns in a DataFrame\n",
    "def rename_columns(df, rename_dict):\n",
    "    df.rename(columns=rename_dict, inplace=True)\n",
    "\n",
    "# Define a custom aggregation function to calculate the mode\n",
    "def custom_mode(series):\n",
    "    mode_result = stats.mode(series, keepdims=False)\n",
    "    if len(mode_result) > 0:\n",
    "        return mode_result[0]\n",
    "    else:\n",
    "        return None"
   ]
  },
  {
   "cell_type": "markdown",
   "metadata": {},
   "source": [
    "## Joining"
   ]
  },
  {
   "cell_type": "code",
   "execution_count": 3,
   "metadata": {
    "tags": []
   },
   "outputs": [],
   "source": [
    "# Load data from sources\n",
    "stations = pd.read_csv('../data/stations.csv', index_col=None)\n",
    "fsq_pois = pd.read_csv('../data/fsq_businesses.csv', index_col=None)\n",
    "yelp_pois = pd.read_csv('../data/yelp_businesses.csv', index_col=None)"
   ]
  },
  {
   "cell_type": "markdown",
   "metadata": {},
   "source": [
    "### Strategy\n",
    "\n",
    "- Create a combined dataframe with both Yelp and FourSquare data for the creation of the SQLite database.\n",
    "<br>See [Database](#Database) section.\n",
    "- Filter the combined date with Yelp API only for the first model, and both for the second model."
   ]
  },
  {
   "cell_type": "markdown",
   "metadata": {},
   "source": [
    "### Feature engineering"
   ]
  },
  {
   "cell_type": "markdown",
   "metadata": {},
   "source": [
    "#### Create meaningful columns"
   ]
  },
  {
   "cell_type": "code",
   "execution_count": 4,
   "metadata": {
    "tags": []
   },
   "outputs": [],
   "source": [
    "# Change some columns name to match both data\n",
    "# FSQ\n",
    "fsq_rename_dict = {\n",
    "    'fsq_id': 'api_number'\n",
    "}\n",
    "\n",
    "# Yelp:\n",
    "yelp_rename_dict = {\n",
    "    'id': 'api_number',\n",
    "    'category_alias': 'category_name',\n",
    "    'rating': 'original_rating',\n",
    "    'scaled_rating': 'rating'\n",
    "}\n",
    "\n",
    "# Apply rename_columns to both DataFrames\n",
    "rename_columns(fsq_pois, fsq_rename_dict)\n",
    "rename_columns(yelp_pois, yelp_rename_dict)"
   ]
  },
  {
   "cell_type": "code",
   "execution_count": 5,
   "metadata": {
    "tags": []
   },
   "outputs": [],
   "source": [
    "# Create api_name to differentiate the POI provenance and api_number\n",
    "fsq_pois['api_name'] = \"FourSquare\"\n",
    "yelp_pois['api_name'] = \"Yelp\""
   ]
  },
  {
   "cell_type": "code",
   "execution_count": 6,
   "metadata": {
    "tags": []
   },
   "outputs": [],
   "source": [
    "# Create POI id for easier reference using the rank method to assign unique integers to each unique api_number\n",
    "\n",
    "# Yelp:\n",
    "yelp_pois['poi_id'] = yelp_pois['api_number'].rank(method='dense').astype(int) - 1 # start from 0\n",
    "\n",
    "# Register the last poi_id\n",
    "starting_number = yelp_pois['poi_id'].max()\n",
    "\n",
    "# FSQ:\n",
    "fsq_pois['poi_id'] = fsq_pois['api_number'].rank(method='dense').astype(int) + starting_number"
   ]
  },
  {
   "cell_type": "code",
   "execution_count": 7,
   "metadata": {
    "tags": []
   },
   "outputs": [
    {
     "name": "stdout",
     "output_type": "stream",
     "text": [
      "2424\n",
      "1527    2424\n",
      "Name: poi_id, dtype: int64\n",
      "34100    2425\n",
      "Name: poi_id, dtype: int64\n"
     ]
    }
   ],
   "source": [
    "# Validate\n",
    "print(starting_number)\n",
    "print(yelp_pois['poi_id'].sort_values().tail(1))\n",
    "print(fsq_pois['poi_id'].sort_values().head(1))"
   ]
  },
  {
   "cell_type": "code",
   "execution_count": 8,
   "metadata": {
    "tags": []
   },
   "outputs": [
    {
     "name": "stdout",
     "output_type": "stream",
     "text": [
      "<class 'pandas.core.frame.DataFrame'>\n",
      "RangeIndex: 22394 entries, 0 to 22393\n",
      "Data columns (total 15 columns):\n",
      " #   Column           Non-Null Count  Dtype  \n",
      "---  ------           --------------  -----  \n",
      " 0   api_number       22394 non-null  object \n",
      " 1   name             22394 non-null  object \n",
      " 2   original_rating  22394 non-null  float64\n",
      " 3   price            17393 non-null  float64\n",
      " 4   review_count     22394 non-null  int64  \n",
      " 5   s_lat            22394 non-null  float64\n",
      " 6   s_lon            22394 non-null  float64\n",
      " 7   p_lat            22394 non-null  float64\n",
      " 8   p_lon            22394 non-null  float64\n",
      " 9   category_name    22394 non-null  object \n",
      " 10  distance         22394 non-null  int64  \n",
      " 11  rating           22394 non-null  float64\n",
      " 12  station          22394 non-null  int64  \n",
      " 13  api_name         22394 non-null  object \n",
      " 14  poi_id           22394 non-null  int64  \n",
      "dtypes: float64(7), int64(4), object(4)\n",
      "memory usage: 2.6+ MB\n"
     ]
    }
   ],
   "source": [
    "yelp_pois.info()"
   ]
  },
  {
   "cell_type": "code",
   "execution_count": 9,
   "metadata": {
    "tags": []
   },
   "outputs": [
    {
     "name": "stdout",
     "output_type": "stream",
     "text": [
      "<class 'pandas.core.frame.DataFrame'>\n",
      "RangeIndex: 59349 entries, 0 to 59348\n",
      "Data columns (total 15 columns):\n",
      " #   Column         Non-Null Count  Dtype  \n",
      "---  ------         --------------  -----  \n",
      " 0   api_number     59349 non-null  object \n",
      " 1   name           59349 non-null  object \n",
      " 2   s_lat          59349 non-null  float64\n",
      " 3   s_lon          59349 non-null  float64\n",
      " 4   p_lat          59349 non-null  float64\n",
      " 5   p_lon          59349 non-null  float64\n",
      " 6   category_id    59349 non-null  int64  \n",
      " 7   category_name  59349 non-null  object \n",
      " 8   distance       59349 non-null  int64  \n",
      " 9   rating         39961 non-null  float64\n",
      " 10  popularity     51230 non-null  float64\n",
      " 11  price          43531 non-null  float64\n",
      " 12  station        59349 non-null  int64  \n",
      " 13  api_name       59349 non-null  object \n",
      " 14  poi_id         59349 non-null  int64  \n",
      "dtypes: float64(7), int64(4), object(4)\n",
      "memory usage: 6.8+ MB\n"
     ]
    }
   ],
   "source": [
    "fsq_pois.info()"
   ]
  },
  {
   "cell_type": "code",
   "execution_count": 10,
   "metadata": {},
   "outputs": [
    {
     "data": {
      "text/html": [
       "<div>\n",
       "<style scoped>\n",
       "    .dataframe tbody tr th:only-of-type {\n",
       "        vertical-align: middle;\n",
       "    }\n",
       "\n",
       "    .dataframe tbody tr th {\n",
       "        vertical-align: top;\n",
       "    }\n",
       "\n",
       "    .dataframe thead th {\n",
       "        text-align: right;\n",
       "    }\n",
       "</style>\n",
       "<table border=\"1\" class=\"dataframe\">\n",
       "  <thead>\n",
       "    <tr style=\"text-align: right;\">\n",
       "      <th></th>\n",
       "      <th>api_number</th>\n",
       "      <th>name</th>\n",
       "      <th>original_rating</th>\n",
       "      <th>price</th>\n",
       "      <th>review_count</th>\n",
       "      <th>s_lat</th>\n",
       "      <th>s_lon</th>\n",
       "      <th>p_lat</th>\n",
       "      <th>p_lon</th>\n",
       "      <th>category_name</th>\n",
       "      <th>distance</th>\n",
       "      <th>rating</th>\n",
       "      <th>station</th>\n",
       "      <th>api_name</th>\n",
       "      <th>poi_id</th>\n",
       "    </tr>\n",
       "  </thead>\n",
       "  <tbody>\n",
       "    <tr>\n",
       "      <th>0</th>\n",
       "      <td>vRJPrk-VH75uxLiVVprBhA</td>\n",
       "      <td>Capucine</td>\n",
       "      <td>5.0</td>\n",
       "      <td>NaN</td>\n",
       "      <td>4</td>\n",
       "      <td>45.6175</td>\n",
       "      <td>-73.606011</td>\n",
       "      <td>45.619670</td>\n",
       "      <td>-73.609704</td>\n",
       "      <td>italian</td>\n",
       "      <td>375</td>\n",
       "      <td>10.00</td>\n",
       "      <td>790</td>\n",
       "      <td>Yelp</td>\n",
       "      <td>2243</td>\n",
       "    </tr>\n",
       "    <tr>\n",
       "      <th>1</th>\n",
       "      <td>TyKGLi1V1PFRHYmHDjFUMQ</td>\n",
       "      <td>Restaurant Prima Luna</td>\n",
       "      <td>4.0</td>\n",
       "      <td>3.0</td>\n",
       "      <td>14</td>\n",
       "      <td>45.6175</td>\n",
       "      <td>-73.606011</td>\n",
       "      <td>45.617234</td>\n",
       "      <td>-73.594176</td>\n",
       "      <td>italian</td>\n",
       "      <td>921</td>\n",
       "      <td>7.75</td>\n",
       "      <td>790</td>\n",
       "      <td>Yelp</td>\n",
       "      <td>1136</td>\n",
       "    </tr>\n",
       "    <tr>\n",
       "      <th>2</th>\n",
       "      <td>TyKGLi1V1PFRHYmHDjFUMQ</td>\n",
       "      <td>Restaurant Prima Luna</td>\n",
       "      <td>4.0</td>\n",
       "      <td>3.0</td>\n",
       "      <td>14</td>\n",
       "      <td>45.6175</td>\n",
       "      <td>-73.606011</td>\n",
       "      <td>45.617234</td>\n",
       "      <td>-73.594176</td>\n",
       "      <td>sushi</td>\n",
       "      <td>921</td>\n",
       "      <td>7.75</td>\n",
       "      <td>790</td>\n",
       "      <td>Yelp</td>\n",
       "      <td>1136</td>\n",
       "    </tr>\n",
       "    <tr>\n",
       "      <th>3</th>\n",
       "      <td>DOVOYnq3y-milXVI03GIrg</td>\n",
       "      <td>Boulangerie Adriatica</td>\n",
       "      <td>4.0</td>\n",
       "      <td>NaN</td>\n",
       "      <td>1</td>\n",
       "      <td>45.6175</td>\n",
       "      <td>-73.606011</td>\n",
       "      <td>45.615210</td>\n",
       "      <td>-73.609710</td>\n",
       "      <td>italian</td>\n",
       "      <td>366</td>\n",
       "      <td>7.75</td>\n",
       "      <td>790</td>\n",
       "      <td>Yelp</td>\n",
       "      <td>511</td>\n",
       "    </tr>\n",
       "    <tr>\n",
       "      <th>4</th>\n",
       "      <td>DOVOYnq3y-milXVI03GIrg</td>\n",
       "      <td>Boulangerie Adriatica</td>\n",
       "      <td>4.0</td>\n",
       "      <td>NaN</td>\n",
       "      <td>1</td>\n",
       "      <td>45.6175</td>\n",
       "      <td>-73.606011</td>\n",
       "      <td>45.615210</td>\n",
       "      <td>-73.609710</td>\n",
       "      <td>pizza</td>\n",
       "      <td>366</td>\n",
       "      <td>7.75</td>\n",
       "      <td>790</td>\n",
       "      <td>Yelp</td>\n",
       "      <td>511</td>\n",
       "    </tr>\n",
       "  </tbody>\n",
       "</table>\n",
       "</div>"
      ],
      "text/plain": [
       "               api_number                   name  original_rating  price  \\\n",
       "0  vRJPrk-VH75uxLiVVprBhA               Capucine              5.0    NaN   \n",
       "1  TyKGLi1V1PFRHYmHDjFUMQ  Restaurant Prima Luna              4.0    3.0   \n",
       "2  TyKGLi1V1PFRHYmHDjFUMQ  Restaurant Prima Luna              4.0    3.0   \n",
       "3  DOVOYnq3y-milXVI03GIrg  Boulangerie Adriatica              4.0    NaN   \n",
       "4  DOVOYnq3y-milXVI03GIrg  Boulangerie Adriatica              4.0    NaN   \n",
       "\n",
       "   review_count    s_lat      s_lon      p_lat      p_lon category_name  \\\n",
       "0             4  45.6175 -73.606011  45.619670 -73.609704       italian   \n",
       "1            14  45.6175 -73.606011  45.617234 -73.594176       italian   \n",
       "2            14  45.6175 -73.606011  45.617234 -73.594176         sushi   \n",
       "3             1  45.6175 -73.606011  45.615210 -73.609710       italian   \n",
       "4             1  45.6175 -73.606011  45.615210 -73.609710         pizza   \n",
       "\n",
       "   distance  rating  station api_name  poi_id  \n",
       "0       375   10.00      790     Yelp    2243  \n",
       "1       921    7.75      790     Yelp    1136  \n",
       "2       921    7.75      790     Yelp    1136  \n",
       "3       366    7.75      790     Yelp     511  \n",
       "4       366    7.75      790     Yelp     511  "
      ]
     },
     "execution_count": 10,
     "metadata": {},
     "output_type": "execute_result"
    }
   ],
   "source": [
    "yelp_pois.head()"
   ]
  },
  {
   "cell_type": "code",
   "execution_count": 11,
   "metadata": {},
   "outputs": [
    {
     "data": {
      "text/html": [
       "<div>\n",
       "<style scoped>\n",
       "    .dataframe tbody tr th:only-of-type {\n",
       "        vertical-align: middle;\n",
       "    }\n",
       "\n",
       "    .dataframe tbody tr th {\n",
       "        vertical-align: top;\n",
       "    }\n",
       "\n",
       "    .dataframe thead th {\n",
       "        text-align: right;\n",
       "    }\n",
       "</style>\n",
       "<table border=\"1\" class=\"dataframe\">\n",
       "  <thead>\n",
       "    <tr style=\"text-align: right;\">\n",
       "      <th></th>\n",
       "      <th>api_number</th>\n",
       "      <th>name</th>\n",
       "      <th>s_lat</th>\n",
       "      <th>s_lon</th>\n",
       "      <th>p_lat</th>\n",
       "      <th>p_lon</th>\n",
       "      <th>category_id</th>\n",
       "      <th>category_name</th>\n",
       "      <th>distance</th>\n",
       "      <th>rating</th>\n",
       "      <th>popularity</th>\n",
       "      <th>price</th>\n",
       "      <th>station</th>\n",
       "      <th>api_name</th>\n",
       "      <th>poi_id</th>\n",
       "    </tr>\n",
       "  </thead>\n",
       "  <tbody>\n",
       "    <tr>\n",
       "      <th>0</th>\n",
       "      <td>4cb240b8cbab236ae154af73</td>\n",
       "      <td>Restaurant Prima Luna</td>\n",
       "      <td>45.6175</td>\n",
       "      <td>-73.606011</td>\n",
       "      <td>45.617439</td>\n",
       "      <td>-73.593995</td>\n",
       "      <td>13236</td>\n",
       "      <td>Italian Restaurant</td>\n",
       "      <td>941</td>\n",
       "      <td>7.4</td>\n",
       "      <td>0.985</td>\n",
       "      <td>1.0</td>\n",
       "      <td>790</td>\n",
       "      <td>FourSquare</td>\n",
       "      <td>4078</td>\n",
       "    </tr>\n",
       "    <tr>\n",
       "      <th>1</th>\n",
       "      <td>4e0b48221f6edc06be259aec</td>\n",
       "      <td>Salle Désilets</td>\n",
       "      <td>45.6175</td>\n",
       "      <td>-73.606011</td>\n",
       "      <td>45.617818</td>\n",
       "      <td>-73.606000</td>\n",
       "      <td>10039</td>\n",
       "      <td>Music Venue</td>\n",
       "      <td>19</td>\n",
       "      <td>NaN</td>\n",
       "      <td>0.969</td>\n",
       "      <td>NaN</td>\n",
       "      <td>790</td>\n",
       "      <td>FourSquare</td>\n",
       "      <td>4392</td>\n",
       "    </tr>\n",
       "    <tr>\n",
       "      <th>2</th>\n",
       "      <td>4e0b48221f6edc06be259aec</td>\n",
       "      <td>Salle Désilets</td>\n",
       "      <td>45.6175</td>\n",
       "      <td>-73.606011</td>\n",
       "      <td>45.617818</td>\n",
       "      <td>-73.606000</td>\n",
       "      <td>11130</td>\n",
       "      <td>Office Building</td>\n",
       "      <td>19</td>\n",
       "      <td>NaN</td>\n",
       "      <td>0.969</td>\n",
       "      <td>NaN</td>\n",
       "      <td>790</td>\n",
       "      <td>FourSquare</td>\n",
       "      <td>4392</td>\n",
       "    </tr>\n",
       "    <tr>\n",
       "      <th>3</th>\n",
       "      <td>4ea9b28cb803cf1ffacd7c0d</td>\n",
       "      <td>Café l'Exil</td>\n",
       "      <td>45.6175</td>\n",
       "      <td>-73.606011</td>\n",
       "      <td>45.617214</td>\n",
       "      <td>-73.604961</td>\n",
       "      <td>13034</td>\n",
       "      <td>Café</td>\n",
       "      <td>79</td>\n",
       "      <td>NaN</td>\n",
       "      <td>0.869</td>\n",
       "      <td>1.0</td>\n",
       "      <td>790</td>\n",
       "      <td>FourSquare</td>\n",
       "      <td>4519</td>\n",
       "    </tr>\n",
       "    <tr>\n",
       "      <th>4</th>\n",
       "      <td>4ea9b28cb803cf1ffacd7c0d</td>\n",
       "      <td>Café l'Exil</td>\n",
       "      <td>45.6175</td>\n",
       "      <td>-73.606011</td>\n",
       "      <td>45.617214</td>\n",
       "      <td>-73.604961</td>\n",
       "      <td>13035</td>\n",
       "      <td>Coffee Shop</td>\n",
       "      <td>79</td>\n",
       "      <td>NaN</td>\n",
       "      <td>0.869</td>\n",
       "      <td>1.0</td>\n",
       "      <td>790</td>\n",
       "      <td>FourSquare</td>\n",
       "      <td>4519</td>\n",
       "    </tr>\n",
       "  </tbody>\n",
       "</table>\n",
       "</div>"
      ],
      "text/plain": [
       "                 api_number                   name    s_lat      s_lon  \\\n",
       "0  4cb240b8cbab236ae154af73  Restaurant Prima Luna  45.6175 -73.606011   \n",
       "1  4e0b48221f6edc06be259aec         Salle Désilets  45.6175 -73.606011   \n",
       "2  4e0b48221f6edc06be259aec         Salle Désilets  45.6175 -73.606011   \n",
       "3  4ea9b28cb803cf1ffacd7c0d            Café l'Exil  45.6175 -73.606011   \n",
       "4  4ea9b28cb803cf1ffacd7c0d            Café l'Exil  45.6175 -73.606011   \n",
       "\n",
       "       p_lat      p_lon  category_id       category_name  distance  rating  \\\n",
       "0  45.617439 -73.593995        13236  Italian Restaurant       941     7.4   \n",
       "1  45.617818 -73.606000        10039         Music Venue        19     NaN   \n",
       "2  45.617818 -73.606000        11130     Office Building        19     NaN   \n",
       "3  45.617214 -73.604961        13034                Café        79     NaN   \n",
       "4  45.617214 -73.604961        13035         Coffee Shop        79     NaN   \n",
       "\n",
       "   popularity  price  station    api_name  poi_id  \n",
       "0       0.985    1.0      790  FourSquare    4078  \n",
       "1       0.969    NaN      790  FourSquare    4392  \n",
       "2       0.969    NaN      790  FourSquare    4392  \n",
       "3       0.869    1.0      790  FourSquare    4519  \n",
       "4       0.869    1.0      790  FourSquare    4519  "
      ]
     },
     "execution_count": 11,
     "metadata": {},
     "output_type": "execute_result"
    }
   ],
   "source": [
    "fsq_pois.head()"
   ]
  },
  {
   "cell_type": "markdown",
   "metadata": {},
   "source": [
    "#### Missing values"
   ]
  },
  {
   "cell_type": "markdown",
   "metadata": {},
   "source": [
    "As per our strategy, we need to do two models: one with the Yelp data only and one with the combined data.<br>\n",
    "We will create columns to keep track of the changes."
   ]
  },
  {
   "cell_type": "code",
   "execution_count": 12,
   "metadata": {},
   "outputs": [],
   "source": [
    "# Create change_log columns\n",
    "yelp_pois['price_change_log'] = 0\n",
    "\n",
    "fsq_pois['rating_change_log'] = 0\n",
    "fsq_pois['price_change_log'] = 0\n",
    "fsq_pois['popularity_change_log'] = 0\n",
    "\n",
    "# Identify missing value rows for Yelp\n",
    "yelp_pois['price_change_log'] = np.where(yelp_pois['price'].isnull(), 1, 0)\n",
    "\n",
    "fsq_pois['price_change_log'] = np.where(fsq_pois['price'].isnull(), 1, 0)\n",
    "fsq_pois['rating_change_log'] = np.where(fsq_pois['price'].isnull(), 1, 0)\n",
    "fsq_pois['popularity_change_log'] = np.where(fsq_pois['price'].isnull(), 1, 0)"
   ]
  },
  {
   "cell_type": "code",
   "execution_count": 13,
   "metadata": {},
   "outputs": [
    {
     "name": "stdout",
     "output_type": "stream",
     "text": [
      "True\n"
     ]
    }
   ],
   "source": [
    "# Validate one change\n",
    "print(True if yelp_pois[yelp_pois['price_change_log'] == 1].shape[0] == yelp_pois[yelp_pois['price'].isnull()].shape[0] else False)"
   ]
  },
  {
   "cell_type": "markdown",
   "metadata": {},
   "source": [
    "Yelp:<br>\n",
    "- About 22% of prices are missing. Since it's an ordinal column (value betwenn 1 and 4) we will use the mode.<br>\n",
    "(Note: if we had more time, we could try to identify the missing prices from FSQ, but even then we would not fill them completely)\n",
    "\n",
    "FourSquare:<br>\n",
    "- Abuot 27% of prices are missing. We could also apply the mode.\n",
    "- About 32% of rating and 13% of popularity are missing. Applying the means will probably strongly biase the data."
   ]
  },
  {
   "cell_type": "code",
   "execution_count": 14,
   "metadata": {},
   "outputs": [
    {
     "name": "stdout",
     "output_type": "stream",
     "text": [
      "Modes:\n",
      "    Yelp =  2.0\n",
      "    Foursquare =  1.0\n",
      "FourSquare means:\n",
      "     Rating = 8.010\n",
      "     Popularity = 0.900\n"
     ]
    }
   ],
   "source": [
    "# Get the modes\n",
    "mode_price_yelp = yelp_pois['price'].mode()[0]\n",
    "mode_price_fsq = fsq_pois['price'].mode()[0]\n",
    "\n",
    "# Get the means\n",
    "mean_rating_fsq = fsq_pois['rating'].mean()\n",
    "mean_popularity_fsq = fsq_pois['popularity'].mean()\n",
    "print(f\"Modes:\")\n",
    "print(f\"    Yelp =  {mode_price_yelp}\")\n",
    "print(f\"    Foursquare =  {mode_price_fsq}\")\n",
    "print(f\"FourSquare means:\")\n",
    "print(f\"     Rating = {mean_rating_fsq:.3f}\")\n",
    "print(f\"     Popularity = {mean_popularity_fsq:.3f}\")"
   ]
  },
  {
   "cell_type": "code",
   "execution_count": 15,
   "metadata": {},
   "outputs": [
    {
     "name": "stdout",
     "output_type": "stream",
     "text": [
      "               api_number                   name  original_rating  price  \\\n",
      "0  vRJPrk-VH75uxLiVVprBhA               Capucine              5.0    2.0   \n",
      "1  TyKGLi1V1PFRHYmHDjFUMQ  Restaurant Prima Luna              4.0    3.0   \n",
      "2  TyKGLi1V1PFRHYmHDjFUMQ  Restaurant Prima Luna              4.0    3.0   \n",
      "3  DOVOYnq3y-milXVI03GIrg  Boulangerie Adriatica              4.0    2.0   \n",
      "4  DOVOYnq3y-milXVI03GIrg  Boulangerie Adriatica              4.0    2.0   \n",
      "\n",
      "   review_count    s_lat      s_lon      p_lat      p_lon category_name  \\\n",
      "0             4  45.6175 -73.606011  45.619670 -73.609704       italian   \n",
      "1            14  45.6175 -73.606011  45.617234 -73.594176       italian   \n",
      "2            14  45.6175 -73.606011  45.617234 -73.594176         sushi   \n",
      "3             1  45.6175 -73.606011  45.615210 -73.609710       italian   \n",
      "4             1  45.6175 -73.606011  45.615210 -73.609710         pizza   \n",
      "\n",
      "   distance  rating  station api_name  poi_id  price_change_log  \n",
      "0       375   10.00      790     Yelp    2243                 1  \n",
      "1       921    7.75      790     Yelp    1136                 0  \n",
      "2       921    7.75      790     Yelp    1136                 0  \n",
      "3       366    7.75      790     Yelp     511                 1  \n",
      "4       366    7.75      790     Yelp     511                 1  \n"
     ]
    }
   ],
   "source": [
    "# Fill missing values\n",
    "yelp_pois['price'] = np.where(yelp_pois['price_change_log'], mode_price_yelp, yelp_pois['price'])\n",
    "\n",
    "fsq_pois['price'] = np.where(fsq_pois['price_change_log'], mode_price_fsq, fsq_pois['price'])\n",
    "fsq_pois['rating'] = np.where(fsq_pois['rating_change_log'], mean_rating_fsq, fsq_pois['rating'])\n",
    "fsq_pois['popularity'] = np.where(fsq_pois['popularity_change_log'], mean_popularity_fsq, fsq_pois['popularity'])\n",
    "print(yelp_pois.head())"
   ]
  },
  {
   "cell_type": "code",
   "execution_count": 16,
   "metadata": {},
   "outputs": [
    {
     "name": "stdout",
     "output_type": "stream",
     "text": [
      "<class 'pandas.core.frame.DataFrame'>\n",
      "RangeIndex: 22394 entries, 0 to 22393\n",
      "Data columns (total 16 columns):\n",
      " #   Column            Non-Null Count  Dtype  \n",
      "---  ------            --------------  -----  \n",
      " 0   api_number        22394 non-null  object \n",
      " 1   name              22394 non-null  object \n",
      " 2   original_rating   22394 non-null  float64\n",
      " 3   price             22394 non-null  float64\n",
      " 4   review_count      22394 non-null  int64  \n",
      " 5   s_lat             22394 non-null  float64\n",
      " 6   s_lon             22394 non-null  float64\n",
      " 7   p_lat             22394 non-null  float64\n",
      " 8   p_lon             22394 non-null  float64\n",
      " 9   category_name     22394 non-null  object \n",
      " 10  distance          22394 non-null  int64  \n",
      " 11  rating            22394 non-null  float64\n",
      " 12  station           22394 non-null  int64  \n",
      " 13  api_name          22394 non-null  object \n",
      " 14  poi_id            22394 non-null  int64  \n",
      " 15  price_change_log  22394 non-null  int64  \n",
      "dtypes: float64(7), int64(5), object(4)\n",
      "memory usage: 2.7+ MB\n",
      "None\n"
     ]
    }
   ],
   "source": [
    "print(yelp_pois.info())"
   ]
  },
  {
   "cell_type": "code",
   "execution_count": 17,
   "metadata": {},
   "outputs": [],
   "source": [
    "# Saving dataframes\n",
    "yelp_pois.to_csv('../data/yelp_pois.csv', index=False)\n",
    "fsq_pois.to_csv('../data/fsq_pois.csv', index=False)"
   ]
  },
  {
   "cell_type": "markdown",
   "metadata": {},
   "source": [
    "### Create combined dataframes"
   ]
  },
  {
   "cell_type": "code",
   "execution_count": 18,
   "metadata": {},
   "outputs": [
    {
     "data": {
      "text/html": [
       "<div>\n",
       "<style scoped>\n",
       "    .dataframe tbody tr th:only-of-type {\n",
       "        vertical-align: middle;\n",
       "    }\n",
       "\n",
       "    .dataframe tbody tr th {\n",
       "        vertical-align: top;\n",
       "    }\n",
       "\n",
       "    .dataframe thead th {\n",
       "        text-align: right;\n",
       "    }\n",
       "</style>\n",
       "<table border=\"1\" class=\"dataframe\">\n",
       "  <thead>\n",
       "    <tr style=\"text-align: right;\">\n",
       "      <th></th>\n",
       "      <th>api_number</th>\n",
       "      <th>name</th>\n",
       "      <th>s_lat</th>\n",
       "      <th>s_lon</th>\n",
       "      <th>p_lat</th>\n",
       "      <th>p_lon</th>\n",
       "      <th>category_id</th>\n",
       "      <th>category_name</th>\n",
       "      <th>distance</th>\n",
       "      <th>rating</th>\n",
       "      <th>popularity</th>\n",
       "      <th>price</th>\n",
       "      <th>station</th>\n",
       "      <th>api_name</th>\n",
       "      <th>poi_id</th>\n",
       "      <th>rating_change_log</th>\n",
       "      <th>price_change_log</th>\n",
       "      <th>popularity_change_log</th>\n",
       "      <th>original_rating</th>\n",
       "      <th>review_count</th>\n",
       "    </tr>\n",
       "  </thead>\n",
       "  <tbody>\n",
       "    <tr>\n",
       "      <th>0</th>\n",
       "      <td>4cb240b8cbab236ae154af73</td>\n",
       "      <td>Restaurant Prima Luna</td>\n",
       "      <td>45.6175</td>\n",
       "      <td>-73.606011</td>\n",
       "      <td>45.617439</td>\n",
       "      <td>-73.593995</td>\n",
       "      <td>13236.0</td>\n",
       "      <td>Italian Restaurant</td>\n",
       "      <td>941</td>\n",
       "      <td>7.400000</td>\n",
       "      <td>0.985000</td>\n",
       "      <td>1.0</td>\n",
       "      <td>790</td>\n",
       "      <td>FourSquare</td>\n",
       "      <td>4078</td>\n",
       "      <td>0.0</td>\n",
       "      <td>0</td>\n",
       "      <td>0.0</td>\n",
       "      <td>NaN</td>\n",
       "      <td>NaN</td>\n",
       "    </tr>\n",
       "    <tr>\n",
       "      <th>1</th>\n",
       "      <td>4e0b48221f6edc06be259aec</td>\n",
       "      <td>Salle Désilets</td>\n",
       "      <td>45.6175</td>\n",
       "      <td>-73.606011</td>\n",
       "      <td>45.617818</td>\n",
       "      <td>-73.606000</td>\n",
       "      <td>10039.0</td>\n",
       "      <td>Music Venue</td>\n",
       "      <td>19</td>\n",
       "      <td>8.009992</td>\n",
       "      <td>0.899922</td>\n",
       "      <td>1.0</td>\n",
       "      <td>790</td>\n",
       "      <td>FourSquare</td>\n",
       "      <td>4392</td>\n",
       "      <td>1.0</td>\n",
       "      <td>1</td>\n",
       "      <td>1.0</td>\n",
       "      <td>NaN</td>\n",
       "      <td>NaN</td>\n",
       "    </tr>\n",
       "    <tr>\n",
       "      <th>2</th>\n",
       "      <td>4e0b48221f6edc06be259aec</td>\n",
       "      <td>Salle Désilets</td>\n",
       "      <td>45.6175</td>\n",
       "      <td>-73.606011</td>\n",
       "      <td>45.617818</td>\n",
       "      <td>-73.606000</td>\n",
       "      <td>11130.0</td>\n",
       "      <td>Office Building</td>\n",
       "      <td>19</td>\n",
       "      <td>8.009992</td>\n",
       "      <td>0.899922</td>\n",
       "      <td>1.0</td>\n",
       "      <td>790</td>\n",
       "      <td>FourSquare</td>\n",
       "      <td>4392</td>\n",
       "      <td>1.0</td>\n",
       "      <td>1</td>\n",
       "      <td>1.0</td>\n",
       "      <td>NaN</td>\n",
       "      <td>NaN</td>\n",
       "    </tr>\n",
       "    <tr>\n",
       "      <th>3</th>\n",
       "      <td>4ea9b28cb803cf1ffacd7c0d</td>\n",
       "      <td>Café l'Exil</td>\n",
       "      <td>45.6175</td>\n",
       "      <td>-73.606011</td>\n",
       "      <td>45.617214</td>\n",
       "      <td>-73.604961</td>\n",
       "      <td>13034.0</td>\n",
       "      <td>Café</td>\n",
       "      <td>79</td>\n",
       "      <td>NaN</td>\n",
       "      <td>0.869000</td>\n",
       "      <td>1.0</td>\n",
       "      <td>790</td>\n",
       "      <td>FourSquare</td>\n",
       "      <td>4519</td>\n",
       "      <td>0.0</td>\n",
       "      <td>0</td>\n",
       "      <td>0.0</td>\n",
       "      <td>NaN</td>\n",
       "      <td>NaN</td>\n",
       "    </tr>\n",
       "    <tr>\n",
       "      <th>4</th>\n",
       "      <td>4ea9b28cb803cf1ffacd7c0d</td>\n",
       "      <td>Café l'Exil</td>\n",
       "      <td>45.6175</td>\n",
       "      <td>-73.606011</td>\n",
       "      <td>45.617214</td>\n",
       "      <td>-73.604961</td>\n",
       "      <td>13035.0</td>\n",
       "      <td>Coffee Shop</td>\n",
       "      <td>79</td>\n",
       "      <td>NaN</td>\n",
       "      <td>0.869000</td>\n",
       "      <td>1.0</td>\n",
       "      <td>790</td>\n",
       "      <td>FourSquare</td>\n",
       "      <td>4519</td>\n",
       "      <td>0.0</td>\n",
       "      <td>0</td>\n",
       "      <td>0.0</td>\n",
       "      <td>NaN</td>\n",
       "      <td>NaN</td>\n",
       "    </tr>\n",
       "  </tbody>\n",
       "</table>\n",
       "</div>"
      ],
      "text/plain": [
       "                 api_number                   name    s_lat      s_lon  \\\n",
       "0  4cb240b8cbab236ae154af73  Restaurant Prima Luna  45.6175 -73.606011   \n",
       "1  4e0b48221f6edc06be259aec         Salle Désilets  45.6175 -73.606011   \n",
       "2  4e0b48221f6edc06be259aec         Salle Désilets  45.6175 -73.606011   \n",
       "3  4ea9b28cb803cf1ffacd7c0d            Café l'Exil  45.6175 -73.606011   \n",
       "4  4ea9b28cb803cf1ffacd7c0d            Café l'Exil  45.6175 -73.606011   \n",
       "\n",
       "       p_lat      p_lon  category_id       category_name  distance    rating  \\\n",
       "0  45.617439 -73.593995      13236.0  Italian Restaurant       941  7.400000   \n",
       "1  45.617818 -73.606000      10039.0         Music Venue        19  8.009992   \n",
       "2  45.617818 -73.606000      11130.0     Office Building        19  8.009992   \n",
       "3  45.617214 -73.604961      13034.0                Café        79       NaN   \n",
       "4  45.617214 -73.604961      13035.0         Coffee Shop        79       NaN   \n",
       "\n",
       "   popularity  price  station    api_name  poi_id  rating_change_log  \\\n",
       "0    0.985000    1.0      790  FourSquare    4078                0.0   \n",
       "1    0.899922    1.0      790  FourSquare    4392                1.0   \n",
       "2    0.899922    1.0      790  FourSquare    4392                1.0   \n",
       "3    0.869000    1.0      790  FourSquare    4519                0.0   \n",
       "4    0.869000    1.0      790  FourSquare    4519                0.0   \n",
       "\n",
       "   price_change_log  popularity_change_log  original_rating  review_count  \n",
       "0                 0                    0.0              NaN           NaN  \n",
       "1                 1                    1.0              NaN           NaN  \n",
       "2                 1                    1.0              NaN           NaN  \n",
       "3                 0                    0.0              NaN           NaN  \n",
       "4                 0                    0.0              NaN           NaN  "
      ]
     },
     "execution_count": 18,
     "metadata": {},
     "output_type": "execute_result"
    }
   ],
   "source": [
    "# Create combined dataframe\n",
    "combined_df = pd.concat([fsq_pois, yelp_pois], keys=['fsq_pois', 'yelp_pois'], ignore_index=True)\n",
    "combined_df.head()"
   ]
  },
  {
   "cell_type": "code",
   "execution_count": 31,
   "metadata": {},
   "outputs": [],
   "source": [
    "# Grouping the POIs per station with their characteristics\n",
    "\n",
    "# Yelp only\n",
    "\n",
    "yelp_agg_dict = {\n",
    "    'distance': 'mean',\n",
    "    'review_count': 'mean',\n",
    "    'rating': 'mean',\n",
    "    'price': custom_mode\n",
    "}\n",
    "\n",
    "grouped_yelp = (\n",
    "    combined_df[combined_df['api_name'] == 'Yelp'][['station', 'distance', 'review_count', 'rating', 'price']]\n",
    "    .groupby('station')\n",
    "    .agg(yelp_agg_dict)\n",
    "    .sort_values('station')\n",
    ")\n",
    "# Both API\n",
    "\n",
    "combined_agg_dict = {\n",
    "    'distance': 'mean',\n",
    "    'review_count': 'mean',\n",
    "    'rating': 'mean',\n",
    "    'popularity': 'mean',\n",
    "    'price': custom_mode\n",
    "}\n",
    "\n",
    "# Use groupby and agg with the defined aggregation functions\n",
    "grouped_df = (\n",
    "    combined_df[['station', 'distance', 'review_count', 'rating', 'popularity', 'price']]\n",
    "    .groupby('station')\n",
    "    .agg(combined_agg_dict)\n",
    "    .sort_values('station')\n",
    ")"
   ]
  },
  {
   "cell_type": "code",
   "execution_count": 32,
   "metadata": {},
   "outputs": [
    {
     "data": {
      "text/html": [
       "<div>\n",
       "<style scoped>\n",
       "    .dataframe tbody tr th:only-of-type {\n",
       "        vertical-align: middle;\n",
       "    }\n",
       "\n",
       "    .dataframe tbody tr th {\n",
       "        vertical-align: top;\n",
       "    }\n",
       "\n",
       "    .dataframe thead th {\n",
       "        text-align: right;\n",
       "    }\n",
       "</style>\n",
       "<table border=\"1\" class=\"dataframe\">\n",
       "  <thead>\n",
       "    <tr style=\"text-align: right;\">\n",
       "      <th></th>\n",
       "      <th>distance</th>\n",
       "      <th>review_count</th>\n",
       "      <th>rating</th>\n",
       "      <th>price</th>\n",
       "    </tr>\n",
       "    <tr>\n",
       "      <th>station</th>\n",
       "      <th></th>\n",
       "      <th></th>\n",
       "      <th></th>\n",
       "      <th></th>\n",
       "    </tr>\n",
       "  </thead>\n",
       "  <tbody>\n",
       "    <tr>\n",
       "      <th>0</th>\n",
       "      <td>262.976744</td>\n",
       "      <td>258.302326</td>\n",
       "      <td>8.063953</td>\n",
       "      <td>2.0</td>\n",
       "    </tr>\n",
       "    <tr>\n",
       "      <th>1</th>\n",
       "      <td>451.472222</td>\n",
       "      <td>382.611111</td>\n",
       "      <td>8.468750</td>\n",
       "      <td>3.0</td>\n",
       "    </tr>\n",
       "    <tr>\n",
       "      <th>2</th>\n",
       "      <td>458.270270</td>\n",
       "      <td>291.756757</td>\n",
       "      <td>8.297297</td>\n",
       "      <td>2.0</td>\n",
       "    </tr>\n",
       "    <tr>\n",
       "      <th>3</th>\n",
       "      <td>640.600000</td>\n",
       "      <td>31.150000</td>\n",
       "      <td>6.962500</td>\n",
       "      <td>2.0</td>\n",
       "    </tr>\n",
       "    <tr>\n",
       "      <th>4</th>\n",
       "      <td>237.250000</td>\n",
       "      <td>282.625000</td>\n",
       "      <td>8.087500</td>\n",
       "      <td>2.0</td>\n",
       "    </tr>\n",
       "  </tbody>\n",
       "</table>\n",
       "</div>"
      ],
      "text/plain": [
       "           distance  review_count    rating  price\n",
       "station                                           \n",
       "0        262.976744    258.302326  8.063953    2.0\n",
       "1        451.472222    382.611111  8.468750    3.0\n",
       "2        458.270270    291.756757  8.297297    2.0\n",
       "3        640.600000     31.150000  6.962500    2.0\n",
       "4        237.250000    282.625000  8.087500    2.0"
      ]
     },
     "execution_count": 32,
     "metadata": {},
     "output_type": "execute_result"
    }
   ],
   "source": [
    "grouped_yelp.head()"
   ]
  },
  {
   "cell_type": "code",
   "execution_count": 34,
   "metadata": {},
   "outputs": [],
   "source": [
    "# Merge with stations\n",
    "merged_yelp = pd.merge(stations, grouped_yelp, on='station')\n",
    "merged_df = pd.merge(stations, grouped_df, on='station')"
   ]
  },
  {
   "cell_type": "code",
   "execution_count": 35,
   "metadata": {},
   "outputs": [
    {
     "data": {
      "text/html": [
       "<div>\n",
       "<style scoped>\n",
       "    .dataframe tbody tr th:only-of-type {\n",
       "        vertical-align: middle;\n",
       "    }\n",
       "\n",
       "    .dataframe tbody tr th {\n",
       "        vertical-align: top;\n",
       "    }\n",
       "\n",
       "    .dataframe thead th {\n",
       "        text-align: right;\n",
       "    }\n",
       "</style>\n",
       "<table border=\"1\" class=\"dataframe\">\n",
       "  <thead>\n",
       "    <tr style=\"text-align: right;\">\n",
       "      <th></th>\n",
       "      <th>station_name</th>\n",
       "      <th>latitude</th>\n",
       "      <th>longitude</th>\n",
       "      <th>total_bikes</th>\n",
       "      <th>station</th>\n",
       "      <th>distance</th>\n",
       "      <th>review_count</th>\n",
       "      <th>rating</th>\n",
       "      <th>price</th>\n",
       "    </tr>\n",
       "  </thead>\n",
       "  <tbody>\n",
       "    <tr>\n",
       "      <th>0</th>\n",
       "      <td>de la Commune / Place Jacques-Cartier</td>\n",
       "      <td>45.507610</td>\n",
       "      <td>-73.551836</td>\n",
       "      <td>78</td>\n",
       "      <td>0</td>\n",
       "      <td>262.976744</td>\n",
       "      <td>258.302326</td>\n",
       "      <td>8.063953</td>\n",
       "      <td>2.0</td>\n",
       "    </tr>\n",
       "    <tr>\n",
       "      <th>1</th>\n",
       "      <td>de la Commune / King</td>\n",
       "      <td>45.497504</td>\n",
       "      <td>-73.552845</td>\n",
       "      <td>62</td>\n",
       "      <td>1</td>\n",
       "      <td>451.472222</td>\n",
       "      <td>382.611111</td>\n",
       "      <td>8.468750</td>\n",
       "      <td>3.0</td>\n",
       "    </tr>\n",
       "    <tr>\n",
       "      <th>2</th>\n",
       "      <td>Jeanne-Mance / René-Lévesque</td>\n",
       "      <td>45.506371</td>\n",
       "      <td>-73.564201</td>\n",
       "      <td>55</td>\n",
       "      <td>2</td>\n",
       "      <td>458.270270</td>\n",
       "      <td>291.756757</td>\n",
       "      <td>8.297297</td>\n",
       "      <td>2.0</td>\n",
       "    </tr>\n",
       "    <tr>\n",
       "      <th>3</th>\n",
       "      <td>Métro Viau (Viau / Pierre-de-Coubertin)</td>\n",
       "      <td>45.563084</td>\n",
       "      <td>-73.548194</td>\n",
       "      <td>50</td>\n",
       "      <td>3</td>\n",
       "      <td>640.600000</td>\n",
       "      <td>31.150000</td>\n",
       "      <td>6.962500</td>\n",
       "      <td>2.0</td>\n",
       "    </tr>\n",
       "    <tr>\n",
       "      <th>4</th>\n",
       "      <td>Métro Peel (de Maisonneuve / Stanley)</td>\n",
       "      <td>45.500380</td>\n",
       "      <td>-73.575070</td>\n",
       "      <td>48</td>\n",
       "      <td>4</td>\n",
       "      <td>237.250000</td>\n",
       "      <td>282.625000</td>\n",
       "      <td>8.087500</td>\n",
       "      <td>2.0</td>\n",
       "    </tr>\n",
       "  </tbody>\n",
       "</table>\n",
       "</div>"
      ],
      "text/plain": [
       "                              station_name   latitude  longitude  total_bikes  \\\n",
       "0    de la Commune / Place Jacques-Cartier  45.507610 -73.551836           78   \n",
       "1                     de la Commune / King  45.497504 -73.552845           62   \n",
       "2             Jeanne-Mance / René-Lévesque  45.506371 -73.564201           55   \n",
       "3  Métro Viau (Viau / Pierre-de-Coubertin)  45.563084 -73.548194           50   \n",
       "4    Métro Peel (de Maisonneuve / Stanley)  45.500380 -73.575070           48   \n",
       "\n",
       "   station    distance  review_count    rating  price  \n",
       "0        0  262.976744    258.302326  8.063953    2.0  \n",
       "1        1  451.472222    382.611111  8.468750    3.0  \n",
       "2        2  458.270270    291.756757  8.297297    2.0  \n",
       "3        3  640.600000     31.150000  6.962500    2.0  \n",
       "4        4  237.250000    282.625000  8.087500    2.0  "
      ]
     },
     "execution_count": 35,
     "metadata": {},
     "output_type": "execute_result"
    }
   ],
   "source": [
    "merged_yelp.head()"
   ]
  },
  {
   "cell_type": "code",
   "execution_count": 37,
   "metadata": {},
   "outputs": [
    {
     "name": "stdout",
     "output_type": "stream",
     "text": [
      "<class 'pandas.core.frame.DataFrame'>\n",
      "Int64Index: 795 entries, 0 to 794\n",
      "Data columns (total 9 columns):\n",
      " #   Column        Non-Null Count  Dtype  \n",
      "---  ------        --------------  -----  \n",
      " 0   station_name  795 non-null    object \n",
      " 1   latitude      795 non-null    float64\n",
      " 2   longitude     795 non-null    float64\n",
      " 3   total_bikes   795 non-null    int64  \n",
      " 4   station       795 non-null    int64  \n",
      " 5   distance      795 non-null    float64\n",
      " 6   review_count  795 non-null    float64\n",
      " 7   rating        795 non-null    float64\n",
      " 8   price         795 non-null    float64\n",
      "dtypes: float64(6), int64(2), object(1)\n",
      "memory usage: 62.1+ KB\n"
     ]
    }
   ],
   "source": [
    "merged_yelp.info()"
   ]
  },
  {
   "cell_type": "code",
   "execution_count": 38,
   "metadata": {},
   "outputs": [],
   "source": [
    "# Save the dataframes\n",
    "merged_yelp.to_csv('../data/merged_yelp.csv', index=False)\n",
    "merged_df.to_csv('../data/merged_yelp.csv', index=False)"
   ]
  },
  {
   "cell_type": "markdown",
   "metadata": {},
   "source": [
    "### Visualization"
   ]
  },
  {
   "cell_type": "code",
   "execution_count": 39,
   "metadata": {},
   "outputs": [
    {
     "data": {
      "text/html": [
       "<div>\n",
       "<style scoped>\n",
       "    .dataframe tbody tr th:only-of-type {\n",
       "        vertical-align: middle;\n",
       "    }\n",
       "\n",
       "    .dataframe tbody tr th {\n",
       "        vertical-align: top;\n",
       "    }\n",
       "\n",
       "    .dataframe thead th {\n",
       "        text-align: right;\n",
       "    }\n",
       "</style>\n",
       "<table border=\"1\" class=\"dataframe\">\n",
       "  <thead>\n",
       "    <tr style=\"text-align: right;\">\n",
       "      <th></th>\n",
       "      <th>latitude</th>\n",
       "      <th>longitude</th>\n",
       "      <th>total_bikes</th>\n",
       "      <th>station</th>\n",
       "      <th>distance</th>\n",
       "      <th>review_count</th>\n",
       "      <th>rating</th>\n",
       "      <th>price</th>\n",
       "    </tr>\n",
       "  </thead>\n",
       "  <tbody>\n",
       "    <tr>\n",
       "      <th>count</th>\n",
       "      <td>795.000000</td>\n",
       "      <td>795.000000</td>\n",
       "      <td>795.000000</td>\n",
       "      <td>795.000000</td>\n",
       "      <td>795.000000</td>\n",
       "      <td>795.000000</td>\n",
       "      <td>795.000000</td>\n",
       "      <td>795.000000</td>\n",
       "    </tr>\n",
       "    <tr>\n",
       "      <th>mean</th>\n",
       "      <td>45.523838</td>\n",
       "      <td>-73.593054</td>\n",
       "      <td>20.883019</td>\n",
       "      <td>397.831447</td>\n",
       "      <td>534.758009</td>\n",
       "      <td>109.460373</td>\n",
       "      <td>7.978216</td>\n",
       "      <td>2.016352</td>\n",
       "    </tr>\n",
       "    <tr>\n",
       "      <th>std</th>\n",
       "      <td>0.040303</td>\n",
       "      <td>0.048295</td>\n",
       "      <td>6.948907</td>\n",
       "      <td>230.464528</td>\n",
       "      <td>166.298803</td>\n",
       "      <td>125.992256</td>\n",
       "      <td>0.736053</td>\n",
       "      <td>0.176687</td>\n",
       "    </tr>\n",
       "    <tr>\n",
       "      <th>min</th>\n",
       "      <td>45.416295</td>\n",
       "      <td>-73.758227</td>\n",
       "      <td>5.000000</td>\n",
       "      <td>0.000000</td>\n",
       "      <td>120.250000</td>\n",
       "      <td>1.000000</td>\n",
       "      <td>2.500000</td>\n",
       "      <td>1.000000</td>\n",
       "    </tr>\n",
       "    <tr>\n",
       "      <th>25%</th>\n",
       "      <td>45.501627</td>\n",
       "      <td>-73.616065</td>\n",
       "      <td>16.000000</td>\n",
       "      <td>198.500000</td>\n",
       "      <td>409.621212</td>\n",
       "      <td>12.355172</td>\n",
       "      <td>7.750000</td>\n",
       "      <td>2.000000</td>\n",
       "    </tr>\n",
       "    <tr>\n",
       "      <th>50%</th>\n",
       "      <td>45.525014</td>\n",
       "      <td>-73.582596</td>\n",
       "      <td>19.000000</td>\n",
       "      <td>397.000000</td>\n",
       "      <td>533.774194</td>\n",
       "      <td>47.280000</td>\n",
       "      <td>8.182692</td>\n",
       "      <td>2.000000</td>\n",
       "    </tr>\n",
       "    <tr>\n",
       "      <th>75%</th>\n",
       "      <td>45.545403</td>\n",
       "      <td>-73.565379</td>\n",
       "      <td>23.000000</td>\n",
       "      <td>597.500000</td>\n",
       "      <td>659.390937</td>\n",
       "      <td>183.734023</td>\n",
       "      <td>8.411765</td>\n",
       "      <td>2.000000</td>\n",
       "    </tr>\n",
       "    <tr>\n",
       "      <th>max</th>\n",
       "      <td>45.702349</td>\n",
       "      <td>-73.436058</td>\n",
       "      <td>78.000000</td>\n",
       "      <td>796.000000</td>\n",
       "      <td>984.600000</td>\n",
       "      <td>556.812500</td>\n",
       "      <td>10.000000</td>\n",
       "      <td>3.000000</td>\n",
       "    </tr>\n",
       "  </tbody>\n",
       "</table>\n",
       "</div>"
      ],
      "text/plain": [
       "         latitude   longitude  total_bikes     station    distance  \\\n",
       "count  795.000000  795.000000   795.000000  795.000000  795.000000   \n",
       "mean    45.523838  -73.593054    20.883019  397.831447  534.758009   \n",
       "std      0.040303    0.048295     6.948907  230.464528  166.298803   \n",
       "min     45.416295  -73.758227     5.000000    0.000000  120.250000   \n",
       "25%     45.501627  -73.616065    16.000000  198.500000  409.621212   \n",
       "50%     45.525014  -73.582596    19.000000  397.000000  533.774194   \n",
       "75%     45.545403  -73.565379    23.000000  597.500000  659.390937   \n",
       "max     45.702349  -73.436058    78.000000  796.000000  984.600000   \n",
       "\n",
       "       review_count      rating       price  \n",
       "count    795.000000  795.000000  795.000000  \n",
       "mean     109.460373    7.978216    2.016352  \n",
       "std      125.992256    0.736053    0.176687  \n",
       "min        1.000000    2.500000    1.000000  \n",
       "25%       12.355172    7.750000    2.000000  \n",
       "50%       47.280000    8.182692    2.000000  \n",
       "75%      183.734023    8.411765    2.000000  \n",
       "max      556.812500   10.000000    3.000000  "
      ]
     },
     "execution_count": 39,
     "metadata": {},
     "output_type": "execute_result"
    }
   ],
   "source": [
    "merged_yelp.describe()"
   ]
  },
  {
   "cell_type": "code",
   "execution_count": 42,
   "metadata": {},
   "outputs": [
    {
     "data": {
      "text/plain": [
       "<Figure size 1200x800 with 0 Axes>"
      ]
     },
     "metadata": {},
     "output_type": "display_data"
    },
    {
     "data": {
      "image/png": "[encoded data removed]",
      "text/plain": [
       "<Figure size 640x480 with 6 Axes>"
      ]
     },
     "metadata": {},
     "output_type": "display_data"
    }
   ],
   "source": [
    "# Histogram of each variables (filtered data)\n",
    "plt.figure(figsize=(12, 8))\n",
    "merged_yelp[['distance', 'review_count', 'rating', 'price', 'total_bikes']].hist(bins=20, alpha=0.8)\n",
    "plt.tight_layout()"
   ]
  },
  {
   "cell_type": "markdown",
   "metadata": {},
   "source": [
    "#### OVERVIEW\n",
    "- Dependant variable:\n",
    "    + Total_bikes seems to have some outliers with a lot of bikes compare to the other station\n",
    "- Independant variables:\n",
    "    + Distance mean seems pretty well distributed.\n",
    "    + Review count is totally skewed. Kinf of two categories: under rated and well rated...\n",
    "    + Rating is almost normally distributed with some outliers near zero.\n",
    "    + Price mode not rep"
   ]
  },
  {
   "cell_type": "code",
   "execution_count": null,
   "metadata": {},
   "outputs": [],
   "source": [
    "# Validate outliers\n",
    "plt.figure(figsize=(12, 8))\n",
    "filtered_rentals[['total_bikes', 'rating', 'popularity', 'price']].boxplot()\n",
    "plt.tight_layout()"
   ]
  },
  {
   "cell_type": "code",
   "execution_count": null,
   "metadata": {},
   "outputs": [],
   "source": [
    "# Removing outliers\n",
    "filtered_rentals = (\n",
    "    filtered_rentals[\n",
    "        (filtered_rentals['total_bikes'].between(10, 50)) &\n",
    "        (filtered_rentals['rating'] > 6) &\n",
    "        (filtered_rentals['price'] < 2)\n",
    "    ]\n",
    ")\n",
    "filtered_rentals.describe()"
   ]
  },
  {
   "cell_type": "markdown",
   "metadata": {},
   "source": [
    "#### OVERVIEW:\n",
    "Looks like all the means now are close to the median."
   ]
  },
  {
   "cell_type": "code",
   "execution_count": null,
   "metadata": {},
   "outputs": [],
   "source": [
    "# Save a copy of the merged data\n",
    "filtered_rentals.to_csv('../data/bike_rentals.csv', index=None)"
   ]
  },
  {
   "cell_type": "markdown",
   "metadata": {},
   "source": [
    "### Relationship"
   ]
  },
  {
   "cell_type": "code",
   "execution_count": null,
   "metadata": {},
   "outputs": [],
   "source": [
    "# Visualize relationship with the dependant variable\n",
    "ind_var = ['rating', 'popularity', 'price']\n",
    "dep_var = ['total_bikes']\n",
    "\n",
    "# Create a DataFrame with the variables\n",
    "vars_to_plot = ind_var + dep_var\n",
    "data_to_plot = filtered_rentals[vars_to_plot]\n",
    "\n",
    "# Create a pair plot\n",
    "g = sns.pairplot(data_to_plot, kind='reg', plot_kws={'line_kws':{'color':'red'}, 'scatter_kws': {'alpha': 0.3}})\n",
    "g.map_lower(sns.scatterplot, alpha=0.3)\n"
   ]
  },
  {
   "cell_type": "markdown",
   "metadata": {},
   "source": [
    "#### OVERVIEW\n",
    "- The only 'visible' relationship between independant variables is the one between rating and price, thought not strong. We could choose either of them for the modelling.\n",
    "- As for the relationship between 'total_bikes\" and all the independant variables, they are all similar, showing a weak positve relationship.\n"
   ]
  },
  {
   "cell_type": "markdown",
   "metadata": {},
   "source": [
    "### CORRELATION"
   ]
  },
  {
   "cell_type": "code",
   "execution_count": null,
   "metadata": {},
   "outputs": [],
   "source": [
    "# Correlation\n",
    "correlation_matrix = filtered_rentals[['total_bikes', 'rating', 'popularity', 'price']].corr()\n",
    "\n",
    "# Create a heatmap\n",
    "plt.figure(figsize=(10, 8))\n",
    "sns.heatmap(correlation_matrix, annot=True, cmap='coolwarm', center=0)\n",
    "plt.title('Correlation Heatmap')"
   ]
  },
  {
   "cell_type": "markdown",
   "metadata": {},
   "source": [
    "#### OVERVIEW\n",
    "- As expected, rating and price have the strongest correlation. We will use rating for the model since the price is almost the same scale (1 to 2: inexpensive) for every POI.\n",
    "- All independant variable have the same weak (25%) correlation with the dependant variable. Not really good for our model."
   ]
  },
  {
   "cell_type": "markdown",
   "metadata": {},
   "source": [
    "# Database"
   ]
  },
  {
   "cell_type": "markdown",
   "metadata": {},
   "source": [
    "Put all your results in an SQLite3 database (remember, SQLite stores its databases as files in your local machine - make sure to create your database in your project's data/ directory!)"
   ]
  },
  {
   "cell_type": "markdown",
   "metadata": {},
   "source": [
    "### Creating functions and connection info"
   ]
  },
  {
   "cell_type": "code",
   "execution_count": null,
   "metadata": {},
   "outputs": [],
   "source": [
    "# Connection function\n",
    "def create_connection(path):\n",
    "    connection = None\n",
    "    try:\n",
    "        connection = sqlite3.connect(path)\n",
    "        print(\"Connection to SQLite DB successful\")\n",
    "    except Error as e:\n",
    "        print(f\"The error '{e}' occurred\")\n",
    "\n",
    "    return connection"
   ]
  },
  {
   "cell_type": "code",
   "execution_count": null,
   "metadata": {},
   "outputs": [],
   "source": [
    "# Query function\n",
    "def execute_query(queries, cursor, data=None, print_message=True):\n",
    "    try:\n",
    "        for query in queries:\n",
    "            if data:\n",
    "                cursor.execute(query, data)\n",
    "            else:\n",
    "                cursor.execute(query)\n",
    "        \n",
    "        # Commit only if all statements succeeded\n",
    "        cursor.connection.commit()\n",
    "        \n",
    "        if print_message:\n",
    "            print(\"Queries executed successfully\")\n",
    "\n",
    "    except sqlite3.Error as e:\n",
    "        print(\"An error occurred:\", e)\n",
    "        # Rollback the transaction in case of error\n",
    "        cursor.connection.rollback()"
   ]
  },
  {
   "cell_type": "markdown",
   "metadata": {},
   "source": [
    "### Phase 1a: Create tables<br>\n",
    "- **stations**: to hold information related to the stations location in the city along with their total bikes\n",
    "- **pois**: to hold the information about each POI (including rating, popularity, price)\n",
    "- **categories**: simulates the api category for Foursquare\n",
    "- **poi_category**: joining table for poi and categories (many-to-many)\n",
    "- **prices**: to holds the definition of the prices number\n",
    "- **poi_detail**: creates the relation between data (station, poi_id, distance to the station)"
   ]
  },
  {
   "cell_type": "code",
   "execution_count": null,
   "metadata": {},
   "outputs": [],
   "source": [
    "# CREATE TABLE queries in related order\n",
    "create_table_queries = [\n",
    "\"\"\"\n",
    "CREATE TABLE IF NOT EXISTS stations (\n",
    "  station_id INTEGER PRIMARY KEY AUTOINCREMENT,\n",
    "  station_name VARCHAR NOT NULL,\n",
    "  s_lat FLOAT NOT NULL,\n",
    "  s_lon FLOAT NOT NULL,\n",
    "  total_bikes INTEGER NOT NULL\n",
    ");\n",
    "\"\"\",\n",
    "\"\"\"\n",
    "CREATE TABLE IF NOT EXISTS categories (\n",
    "  category_id INTEGER PRIMARY KEY,\n",
    "  category_name VARCHAR NOT NULL\n",
    ");\n",
    "\"\"\",\n",
    "\"\"\"\n",
    "CREATE TABLE IF NOT EXISTS prices (\n",
    "  price INTEGER PRIMARY KEY,\n",
    "  price_name VARCHAR NOT NULL\n",
    ");\n",
    "\"\"\",\n",
    "\"\"\"\n",
    "CREATE TABLE IF NOT EXISTS pois (\n",
    "  poi_id INTEGER PRIMARY KEY AUTOINCREMENT,\n",
    "  api_number VARCHAR NOT NULL,\n",
    "  api_name VARCHAR NOT NULL,\n",
    "  poi_name VARCHAR NOT NULL,\n",
    "  p_lat FLOAT NOT NULL,\n",
    "  p_lon FLOAT NOT NULL,\n",
    "  rating INTEGER,\n",
    "  popularity FLOAT,\n",
    "  price INTEGER,\n",
    "  FOREIGN KEY (price) REFERENCES prices(price)\n",
    ");\n",
    "\"\"\",\n",
    "\"\"\"\n",
    "CREATE TABLE IF NOT EXISTS poi_category (\n",
    "  poi_id INTEGER NOT NULL,\n",
    "  category_id INTEGER NOT NULL,\n",
    "  PRIMARY KEY (poi_id, category_id),\n",
    "  FOREIGN KEY (poi_id) REFERENCES pois(poi_id),\n",
    "  FOREIGN KEY (category_id) REFERENCES categories(category_id)\n",
    ");\n",
    "\"\"\",\n",
    "\"\"\"\n",
    "CREATE TABLE IF NOT EXISTS poi_detail (\n",
    "  data_id INTEGER PRIMARY KEY AUTOINCREMENT,\n",
    "  station_id INTEGER NOT NULL,\n",
    "  poi_id INTEGER NOT NULL,\n",
    "  to_station_m INTEGER NOT NULL,\n",
    "  FOREIGN KEY (station_id) REFERENCES stations(station_id),\n",
    "  FOREIGN KEY (poi_id) REFERENCES pois(poi_id)\n",
    ");\n",
    "\"\"\"\n",
    "]"
   ]
  },
  {
   "cell_type": "code",
   "execution_count": null,
   "metadata": {},
   "outputs": [],
   "source": [
    "# Create connection and cursor\n",
    "conn = create_connection('../data/mtl_bike_rentals.sqlite')\n",
    "# Create cursor\n",
    "cursor = conn.cursor()"
   ]
  },
  {
   "cell_type": "code",
   "execution_count": null,
   "metadata": {},
   "outputs": [],
   "source": [
    "# Call the function to create the tables\n",
    "execute_query(create_table_queries, cursor)"
   ]
  },
  {
   "cell_type": "markdown",
   "metadata": {},
   "source": [
    "### Phase 1b: Inserts data in tables"
   ]
  },
  {
   "cell_type": "code",
   "execution_count": null,
   "metadata": {},
   "outputs": [],
   "source": [
    "# Define a function to execute inserts\n",
    "def execute_inserts(table, query, cursor):\n",
    "\n",
    "    # Convert DataFrame rows to list of dictionaries\n",
    "    my_list = table.to_dict(orient='records')\n",
    "\n",
    "    # Iterate through the list of dictionaries and insert data\n",
    "    for row in my_list:\n",
    "        try:\n",
    "            execute_query(query, cursor, row, print_message=False)\n",
    "\n",
    "        except sqlite3.Error as e:\n",
    "            print(\"An error occurred:\", e)\n",
    "            \n",
    "    print(\"Queries executed successfully\")"
   ]
  },
  {
   "cell_type": "markdown",
   "metadata": {},
   "source": [
    "#### Stations table"
   ]
  },
  {
   "cell_type": "code",
   "execution_count": null,
   "metadata": {},
   "outputs": [],
   "source": [
    "# Create query\n",
    "insert_stations = [\n",
    "\"\"\"\n",
    "INSERT INTO\n",
    "  stations (station_id, station_name, s_lat, s_lon, total_bikes)\n",
    "VALUES\n",
    "  (:station, :station_name, :latitude, :longitude, :total_bikes);\n",
    "\"\"\"\n",
    "]\n",
    "\n",
    "# Insert in table\n",
    "execute_inserts(stations, insert_stations, cursor)"
   ]
  },
  {
   "cell_type": "markdown",
   "metadata": {},
   "source": [
    "#### Categories table"
   ]
  },
  {
   "cell_type": "code",
   "execution_count": null,
   "metadata": {},
   "outputs": [],
   "source": [
    "# Create data\n",
    "categories = (\n",
    "    fsq_pois[['category_id', 'category_name']]\n",
    "    .drop_duplicates(subset='category_id')\n",
    "    .sort_values('category_id')\n",
    "    .reset_index(drop=True)\n",
    ")\n",
    "\n",
    "categories.head()"
   ]
  },
  {
   "cell_type": "code",
   "execution_count": null,
   "metadata": {},
   "outputs": [],
   "source": [
    "# Create query\n",
    "insert_categories = [\n",
    "\"\"\"\n",
    "INSERT INTO\n",
    "  categories (category_id, category_name)\n",
    "VALUES\n",
    "  (:category_id, :category_name);\n",
    "\"\"\"\n",
    "]\n",
    "\n",
    "# Insert in table\n",
    "execute_inserts(categories, insert_categories, cursor)"
   ]
  },
  {
   "cell_type": "markdown",
   "metadata": {},
   "source": [
    "#### Price table"
   ]
  },
  {
   "cell_type": "code",
   "execution_count": null,
   "metadata": {},
   "outputs": [],
   "source": [
    "# Create table\n",
    "\n",
    "price = {\n",
    "    1: 'Cheap',\n",
    "    2: 'Moderate',\n",
    "    3: 'Expensive',\n",
    "    4: 'Very Expensive',\n",
    "}\n",
    "prices = pd.DataFrame({'price': list(price.keys()), 'price_name': list(price.values())})\n",
    "prices"
   ]
  },
  {
   "cell_type": "code",
   "execution_count": null,
   "metadata": {},
   "outputs": [],
   "source": [
    "# Create query\n",
    "insert_prices = [\n",
    "\"\"\"\n",
    "INSERT INTO\n",
    "  prices (price, price_name)\n",
    "VALUES\n",
    "  (:price, :price_name);\n",
    "\"\"\"\n",
    "]\n",
    "\n",
    "# Insert in table\n",
    "execute_inserts(prices, insert_prices, cursor)"
   ]
  },
  {
   "cell_type": "markdown",
   "metadata": {},
   "source": [
    "#### POIs table"
   ]
  },
  {
   "cell_type": "code",
   "execution_count": null,
   "metadata": {},
   "outputs": [],
   "source": [
    "# Create table\n",
    "\n",
    "pois = (\n",
    "    fsq_pois[['fsq_id', 'name', 'p_lat', 'p_lon', 'rating', 'popularity', 'price']]\n",
    "    .drop_duplicates(subset='fsq_id')\n",
    "    .reset_index(drop=True)\n",
    ")\n",
    "\n",
    "api_name = 'FourSquare'\n",
    "pois.insert(loc=1, column='api_name', value=api_name)\n",
    "\n",
    "pois.head()"
   ]
  },
  {
   "cell_type": "code",
   "execution_count": null,
   "metadata": {},
   "outputs": [],
   "source": [
    "# Save the relation between the index and the fsq_id (for the category_poi table later)\n",
    "\n",
    "poi_pk = pois[['fsq_id']].copy()\n",
    "poi_pk['index_number'] = pois.index\n",
    "\n",
    "poi_pk.head()"
   ]
  },
  {
   "cell_type": "code",
   "execution_count": null,
   "metadata": {},
   "outputs": [],
   "source": [
    "# Create query\n",
    "\n",
    "insert_pois = [\n",
    "\"\"\"\n",
    "INSERT INTO\n",
    "  pois (api_number, api_name, poi_name, p_lat, p_lon, rating, popularity, price)\n",
    "VALUES\n",
    "  (:fsq_id, :api_name, :name, :p_lat, :p_lon, :rating, :popularity, :price);\n",
    "\"\"\"\n",
    "]\n",
    "\n",
    "# Insert in table\n",
    "execute_inserts(pois, insert_pois, cursor)"
   ]
  },
  {
   "cell_type": "markdown",
   "metadata": {},
   "source": [
    "#### POI_category table"
   ]
  },
  {
   "cell_type": "code",
   "execution_count": null,
   "metadata": {},
   "outputs": [],
   "source": [
    "# Create table\n",
    "fsq_cat = fsq_pois[['fsq_id', 'category_id']]\n",
    "\n",
    "poi_category = fsq_cat.merge(poi_pk, on='fsq_id', how='left') # poi_pk created in previous query\n",
    "poi_category.drop(columns='fsq_id', inplace=True)\n",
    "\n",
    "poi_category.head()"
   ]
  },
  {
   "cell_type": "code",
   "execution_count": null,
   "metadata": {},
   "outputs": [],
   "source": [
    "# Create query\n",
    "insert_poi_category = [\n",
    "\"\"\"\n",
    "INSERT INTO\n",
    "  poi_category (poi_id, category_id)\n",
    "VALUES\n",
    "  (:index_number, :category_id);\n",
    "\"\"\"\n",
    "]\n",
    "\n",
    "# Insert in table\n",
    "execute_inserts(poi_category, insert_poi_category, cursor)"
   ]
  },
  {
   "cell_type": "markdown",
   "metadata": {},
   "source": [
    "#### POI_detail"
   ]
  },
  {
   "cell_type": "code",
   "execution_count": null,
   "metadata": {},
   "outputs": [],
   "source": [
    "# Create table\n",
    "\n",
    "poi_detail = fsq_pois[['station', 'distance', 'fsq_id']].drop_duplicates()\n",
    "poi_detail = poi_detail.merge(poi_pk, on='fsq_id', how='left')\n",
    "poi_detail.drop(columns='fsq_id', inplace=True)\n",
    "\n",
    "poi_detail.head()"
   ]
  },
  {
   "cell_type": "code",
   "execution_count": null,
   "metadata": {},
   "outputs": [],
   "source": [
    "# Create query\n",
    "\n",
    "insert_poi_detail = [\n",
    "\"\"\"\n",
    "INSERT INTO\n",
    "  poi_detail (station_id, poi_id, to_station_m)\n",
    "VALUES\n",
    "  (:station, :index_number, :distance);\n",
    "\"\"\"\n",
    "]\n",
    "\n",
    "# Insert in table\n",
    "execute_inserts(poi_detail, insert_poi_detail, cursor)"
   ]
  },
  {
   "cell_type": "code",
   "execution_count": null,
   "metadata": {},
   "outputs": [],
   "source": [
    "# Close the cursor and connection\n",
    "cursor.close()\n",
    "conn.close()"
   ]
  },
  {
   "cell_type": "markdown",
   "metadata": {},
   "source": [
    "### Phase 2: Read data"
   ]
  },
  {
   "cell_type": "markdown",
   "metadata": {},
   "source": [
    "Look at the data before and after the join to validate your data."
   ]
  },
  {
   "cell_type": "code",
   "execution_count": null,
   "metadata": {},
   "outputs": [],
   "source": [
    "# create connection\n",
    "conn = sqlite3.connect('../data/mtl_bike_rentals.sqlite')"
   ]
  },
  {
   "cell_type": "code",
   "execution_count": null,
   "metadata": {},
   "outputs": [],
   "source": [
    "# all data from db\n",
    "df_all = pd.read_sql(\n",
    "    \"\"\"\n",
    "    SELECT \n",
    "        name\n",
    "    FROM\n",
    "        sqlite_master \n",
    "    WHERE\n",
    "        type ='table'\n",
    "        AND name NOT LIKE 'sqlite_%';\n",
    "    \"\"\", conn\n",
    ")\n",
    "\n",
    "# Print the DataFrame\n",
    "print(df_all)"
   ]
  },
  {
   "cell_type": "code",
   "execution_count": null,
   "metadata": {},
   "outputs": [],
   "source": [
    "# Select data for modeling and compare values to bike.rentals_csv (dataframe)\n",
    "\n",
    "df_rentals = pd.read_sql(\n",
    "    \"\"\"\n",
    "    SELECT\n",
    "        s.station_name AS name,\n",
    "        s.station_id AS station,\n",
    "        AVG(s.total_bikes) as total_bikes,\n",
    "        AVG(pd.to_station_m) AS avg_distance_to_station_m,\n",
    "        AVG(p.rating) AS avg_rating,\n",
    "        AVG(p.popularity) AS avg_popularity,\n",
    "        AVG(p.price) AS avg_price\n",
    "    FROM\n",
    "        stations s\n",
    "    JOIN poi_detail pd USING(station_id)\n",
    "    JOIN pois p USING(poi_id)\n",
    "    JOIN poi_category USING(poi_id)\n",
    "    JOIN categories c USING(category_id)\n",
    "    GROUP BY 1, 2\n",
    "    HAVING\n",
    "        total_bikes BETWEEN 10 AND 50\n",
    "        AND avg_rating >= 6\n",
    "        AND avg_price <=2\n",
    "        AND avg_distance_to_station_m > 1000\n",
    "    ORDER BY 2\n",
    "    \"\"\", conn\n",
    ")\n",
    "\n",
    "print(df_rentals)"
   ]
  },
  {
   "cell_type": "code",
   "execution_count": null,
   "metadata": {},
   "outputs": [],
   "source": [
    "df_rentals.describe()"
   ]
  },
  {
   "cell_type": "code",
   "execution_count": null,
   "metadata": {},
   "outputs": [],
   "source": [
    "# Select data for modeling and compare values to bike.rentals_csv (dataframe)\n",
    "\n",
    "df_stations = pd.read_sql(\n",
    "    \"\"\"\n",
    "    SELECT station_id, poi_id, to_station_m\n",
    "    FROM\n",
    "        poi_detail pd\n",
    "    WHERE\n",
    "        to_station_m > 10000\n",
    "    \"\"\", conn\n",
    ")\n",
    "\n",
    "print(df_stations)"
   ]
  }
 ],
 "metadata": {
  "kernelspec": {
   "display_name": "dev_lhl",
   "language": "python",
   "name": "python3"
  },
  "language_info": {
   "codemirror_mode": {
    "name": "ipython",
    "version": 3
   },
   "file_extension": ".py",
   "mimetype": "text/x-python",
   "name": "python",
   "nbconvert_exporter": "python",
   "pygments_lexer": "ipython3",
   "version": "3.11.3"
  }
 },
 "nbformat": 4,
 "nbformat_minor": 4
}
