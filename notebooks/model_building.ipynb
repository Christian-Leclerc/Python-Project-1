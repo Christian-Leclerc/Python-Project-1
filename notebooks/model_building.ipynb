{
 "cells": [
  {
   "cell_type": "code",
   "execution_count": 81,
   "metadata": {},
   "outputs": [],
   "source": [
    "# import\n",
    "import statsmodels.api as sm\n",
    "import pandas as pd\n",
    "import numpy as np\n",
    "import sqlite3\n",
    "import seaborn as sns\n",
    "import matplotlib.pyplot as plt\n",
    "%matplotlib inline\n",
    "import scipy"
   ]
  },
  {
   "cell_type": "code",
   "execution_count": null,
   "metadata": {},
   "outputs": [],
   "source": [
    "version_v3_03091200"
   ]
  },
  {
   "cell_type": "markdown",
   "metadata": {},
   "source": [
    "# Building a regression model."
   ]
  },
  {
   "cell_type": "markdown",
   "metadata": {},
   "source": [
    "## Loading Data"
   ]
  },
  {
   "cell_type": "code",
   "execution_count": 3,
   "metadata": {},
   "outputs": [],
   "source": [
    "# create connection\n",
    "conn = sqlite3.connect('../data/mtl_bike_rentals.sqlite')"
   ]
  },
  {
   "cell_type": "markdown",
   "metadata": {},
   "source": [
    "### Considerations for outliers\n",
    "As suggested during our EDA, we should remove some outliers while querying our database.\n",
    "- Total_bikes between 10 and 35\n",
    "- Rating above 6\n",
    "\n",
    "We could also try to do 2 seperate model with review counts as two categories:\n",
    "- Underated, review_counts < 100\n",
    "- Well rated, review_counts >= 100\n",
    "\n",
    "Addition: We didn't evaluate that in the EDA, but with the database it is now easy to pull new characteristics.<br>\n",
    "We will add the number of POI's"
   ]
  },
  {
   "cell_type": "markdown",
   "metadata": {},
   "source": [
    "#### First model:\n",
    "- From Yelp\n",
    "- Full review counts\n",
    "- Outliers removed"
   ]
  },
  {
   "cell_type": "code",
   "execution_count": 22,
   "metadata": {},
   "outputs": [
    {
     "name": "stdout",
     "output_type": "stream",
     "text": [
      "                                              name  station  total_bikes  \\\n",
      "0                            Union / Ste-Catherine       26         35.0   \n",
      "1                            University / des Pins       27         35.0   \n",
      "2                                 Dorion / Ontario       28         35.0   \n",
      "3                   de la Montagne / Ste-Catherine       29         35.0   \n",
      "4                          Larivière / de Lorimier       30         35.0   \n",
      "..                                             ...      ...          ...   \n",
      "759                       de Chateaubriand / Jarry      789         11.0   \n",
      "760                           Cégep Marie-Victorin      790         11.0   \n",
      "761                         Ste-Famille / des Pins      791         10.0   \n",
      "762                            Waverly / Van Horne      792         10.0   \n",
      "763  Gare d'autocars de Montréal (Berri / Ontario)      793         10.0   \n",
      "\n",
      "     avg_distance_to_station_m  avg_review  avg_rating  avg_price  number_poi  \n",
      "0                   401.842105  265.947368    8.105263   2.421053          19  \n",
      "1                   771.000000  530.777778    8.500000   2.444444           9  \n",
      "2                   539.062500  113.312500    8.242188   2.250000          16  \n",
      "3                   254.650000  292.850000    8.031250   2.350000          20  \n",
      "4                   618.187500   68.125000    7.960938   1.875000          16  \n",
      "..                         ...         ...         ...        ...         ...  \n",
      "759                 352.125000   31.812500    8.171875   1.750000          16  \n",
      "760                 764.428571    4.285714    8.232143   2.000000           7  \n",
      "761                 623.000000  427.833333    8.375000   2.222222          18  \n",
      "762                 534.705882  155.705882    8.411765   2.294118          17  \n",
      "763                 404.157895  240.157895    8.342105   2.368421          19  \n",
      "\n",
      "[764 rows x 8 columns]\n"
     ]
    }
   ],
   "source": [
    "# Select data for first model\n",
    "\n",
    "yelp_model_all_review = pd.read_sql(\n",
    "    \"\"\"\n",
    "    SELECT\n",
    "        s.station_name AS name,\n",
    "        s.station_id AS station,\n",
    "        AVG(s.total_bikes) AS total_bikes,\n",
    "        AVG(pd.to_station_m) AS avg_distance_to_station_m,\n",
    "        AVG(review_count) AS avg_review,\n",
    "        AVG(p.rating) AS avg_rating,\n",
    "        AVG(p.price) AS avg_price,\n",
    "        COUNT(*) AS number_poi\n",
    "    FROM\n",
    "        stations s\n",
    "    JOIN poi_detail pd USING(station_id)\n",
    "    JOIN pois p USING(poi_id)\n",
    "    JOIN api a USING(poi_id)\n",
    "    WHERE\n",
    "        api_name = 'Yelp'\n",
    "        AND total_bikes BETWEEN 10 AND 35\n",
    "        AND rating > 6\n",
    "    GROUP BY 1, 2\n",
    "    HAVING\n",
    "        avg_review NOT NULL\n",
    "    ORDER BY\n",
    "        station;\n",
    "    \"\"\", conn\n",
    ")\n",
    "\n",
    "print(yelp_model_all_review)"
   ]
  },
  {
   "cell_type": "code",
   "execution_count": 23,
   "metadata": {},
   "outputs": [
    {
     "name": "stdout",
     "output_type": "stream",
     "text": [
      "<class 'pandas.core.frame.DataFrame'>\n",
      "RangeIndex: 764 entries, 0 to 763\n",
      "Data columns (total 8 columns):\n",
      " #   Column                     Non-Null Count  Dtype  \n",
      "---  ------                     --------------  -----  \n",
      " 0   name                       764 non-null    object \n",
      " 1   station                    764 non-null    int64  \n",
      " 2   total_bikes                764 non-null    float64\n",
      " 3   avg_distance_to_station_m  764 non-null    float64\n",
      " 4   avg_review                 764 non-null    float64\n",
      " 5   avg_rating                 764 non-null    float64\n",
      " 6   avg_price                  764 non-null    float64\n",
      " 7   number_poi                 764 non-null    int64  \n",
      "dtypes: float64(5), int64(2), object(1)\n",
      "memory usage: 47.9+ KB\n"
     ]
    }
   ],
   "source": [
    "# View info (in case of datatype error)\n",
    "yelp_model_all_review.info()"
   ]
  },
  {
   "cell_type": "code",
   "execution_count": 29,
   "metadata": {},
   "outputs": [
    {
     "data": {
      "text/html": [
       "<div>\n",
       "<style scoped>\n",
       "    .dataframe tbody tr th:only-of-type {\n",
       "        vertical-align: middle;\n",
       "    }\n",
       "\n",
       "    .dataframe tbody tr th {\n",
       "        vertical-align: top;\n",
       "    }\n",
       "\n",
       "    .dataframe thead th {\n",
       "        text-align: right;\n",
       "    }\n",
       "</style>\n",
       "<table border=\"1\" class=\"dataframe\">\n",
       "  <thead>\n",
       "    <tr style=\"text-align: right;\">\n",
       "      <th></th>\n",
       "      <th>station</th>\n",
       "      <th>total_bikes</th>\n",
       "      <th>avg_distance_to_station_m</th>\n",
       "      <th>avg_review</th>\n",
       "      <th>avg_rating</th>\n",
       "      <th>avg_price</th>\n",
       "      <th>number_poi</th>\n",
       "    </tr>\n",
       "  </thead>\n",
       "  <tbody>\n",
       "    <tr>\n",
       "      <th>count</th>\n",
       "      <td>764.000000</td>\n",
       "      <td>764.000000</td>\n",
       "      <td>764.000000</td>\n",
       "      <td>764.000000</td>\n",
       "      <td>764.000000</td>\n",
       "      <td>764.000000</td>\n",
       "      <td>764.000000</td>\n",
       "    </tr>\n",
       "    <tr>\n",
       "      <th>mean</th>\n",
       "      <td>409.183246</td>\n",
       "      <td>20.153141</td>\n",
       "      <td>540.103511</td>\n",
       "      <td>112.643911</td>\n",
       "      <td>8.323556</td>\n",
       "      <td>2.084117</td>\n",
       "      <td>14.972513</td>\n",
       "    </tr>\n",
       "    <tr>\n",
       "      <th>std</th>\n",
       "      <td>221.846358</td>\n",
       "      <td>5.268304</td>\n",
       "      <td>163.064019</td>\n",
       "      <td>134.985159</td>\n",
       "      <td>0.344017</td>\n",
       "      <td>0.233127</td>\n",
       "      <td>4.696618</td>\n",
       "    </tr>\n",
       "    <tr>\n",
       "      <th>min</th>\n",
       "      <td>26.000000</td>\n",
       "      <td>10.000000</td>\n",
       "      <td>104.500000</td>\n",
       "      <td>1.000000</td>\n",
       "      <td>7.187500</td>\n",
       "      <td>1.500000</td>\n",
       "      <td>1.000000</td>\n",
       "    </tr>\n",
       "    <tr>\n",
       "      <th>25%</th>\n",
       "      <td>217.750000</td>\n",
       "      <td>16.000000</td>\n",
       "      <td>417.519444</td>\n",
       "      <td>12.500000</td>\n",
       "      <td>8.125000</td>\n",
       "      <td>1.916667</td>\n",
       "      <td>12.000000</td>\n",
       "    </tr>\n",
       "    <tr>\n",
       "      <th>50%</th>\n",
       "      <td>409.500000</td>\n",
       "      <td>19.000000</td>\n",
       "      <td>537.961300</td>\n",
       "      <td>45.975000</td>\n",
       "      <td>8.342105</td>\n",
       "      <td>2.054094</td>\n",
       "      <td>16.000000</td>\n",
       "    </tr>\n",
       "    <tr>\n",
       "      <th>75%</th>\n",
       "      <td>601.250000</td>\n",
       "      <td>23.000000</td>\n",
       "      <td>665.508824</td>\n",
       "      <td>176.447368</td>\n",
       "      <td>8.519737</td>\n",
       "      <td>2.216270</td>\n",
       "      <td>19.000000</td>\n",
       "    </tr>\n",
       "    <tr>\n",
       "      <th>max</th>\n",
       "      <td>793.000000</td>\n",
       "      <td>35.000000</td>\n",
       "      <td>985.200000</td>\n",
       "      <td>620.631579</td>\n",
       "      <td>10.000000</td>\n",
       "      <td>3.000000</td>\n",
       "      <td>20.000000</td>\n",
       "    </tr>\n",
       "  </tbody>\n",
       "</table>\n",
       "</div>"
      ],
      "text/plain": [
       "          station  total_bikes  avg_distance_to_station_m  avg_review  \\\n",
       "count  764.000000   764.000000                 764.000000  764.000000   \n",
       "mean   409.183246    20.153141                 540.103511  112.643911   \n",
       "std    221.846358     5.268304                 163.064019  134.985159   \n",
       "min     26.000000    10.000000                 104.500000    1.000000   \n",
       "25%    217.750000    16.000000                 417.519444   12.500000   \n",
       "50%    409.500000    19.000000                 537.961300   45.975000   \n",
       "75%    601.250000    23.000000                 665.508824  176.447368   \n",
       "max    793.000000    35.000000                 985.200000  620.631579   \n",
       "\n",
       "       avg_rating   avg_price  number_poi  \n",
       "count  764.000000  764.000000  764.000000  \n",
       "mean     8.323556    2.084117   14.972513  \n",
       "std      0.344017    0.233127    4.696618  \n",
       "min      7.187500    1.500000    1.000000  \n",
       "25%      8.125000    1.916667   12.000000  \n",
       "50%      8.342105    2.054094   16.000000  \n",
       "75%      8.519737    2.216270   19.000000  \n",
       "max     10.000000    3.000000   20.000000  "
      ]
     },
     "execution_count": 29,
     "metadata": {},
     "output_type": "execute_result"
    }
   ],
   "source": [
    "yelp_model_all_review.describe()"
   ]
  },
  {
   "cell_type": "markdown",
   "metadata": {},
   "source": [
    "As per the result of our EDA:\n",
    "- Dependant variable is total_bikes\n",
    "- Independant variables are number_poi, rating, distance, prices (thougth strongly correlated with the others) and review count (potential category)\n",
    "\n",
    "We will conduct "
   ]
  },
  {
   "cell_type": "code",
   "execution_count": 25,
   "metadata": {},
   "outputs": [
    {
     "data": {
      "text/html": [
       "<div>\n",
       "<style scoped>\n",
       "    .dataframe tbody tr th:only-of-type {\n",
       "        vertical-align: middle;\n",
       "    }\n",
       "\n",
       "    .dataframe tbody tr th {\n",
       "        vertical-align: top;\n",
       "    }\n",
       "\n",
       "    .dataframe thead th {\n",
       "        text-align: right;\n",
       "    }\n",
       "</style>\n",
       "<table border=\"1\" class=\"dataframe\">\n",
       "  <thead>\n",
       "    <tr style=\"text-align: right;\">\n",
       "      <th></th>\n",
       "      <th>const</th>\n",
       "      <th>avg_distance_to_station_m</th>\n",
       "      <th>avg_review</th>\n",
       "      <th>avg_rating</th>\n",
       "      <th>avg_price</th>\n",
       "      <th>number_poi</th>\n",
       "    </tr>\n",
       "  </thead>\n",
       "  <tbody>\n",
       "    <tr>\n",
       "      <th>0</th>\n",
       "      <td>1.0</td>\n",
       "      <td>401.842105</td>\n",
       "      <td>265.947368</td>\n",
       "      <td>8.105263</td>\n",
       "      <td>2.421053</td>\n",
       "      <td>19</td>\n",
       "    </tr>\n",
       "    <tr>\n",
       "      <th>1</th>\n",
       "      <td>1.0</td>\n",
       "      <td>771.000000</td>\n",
       "      <td>530.777778</td>\n",
       "      <td>8.500000</td>\n",
       "      <td>2.444444</td>\n",
       "      <td>9</td>\n",
       "    </tr>\n",
       "    <tr>\n",
       "      <th>2</th>\n",
       "      <td>1.0</td>\n",
       "      <td>539.062500</td>\n",
       "      <td>113.312500</td>\n",
       "      <td>8.242188</td>\n",
       "      <td>2.250000</td>\n",
       "      <td>16</td>\n",
       "    </tr>\n",
       "    <tr>\n",
       "      <th>3</th>\n",
       "      <td>1.0</td>\n",
       "      <td>254.650000</td>\n",
       "      <td>292.850000</td>\n",
       "      <td>8.031250</td>\n",
       "      <td>2.350000</td>\n",
       "      <td>20</td>\n",
       "    </tr>\n",
       "    <tr>\n",
       "      <th>4</th>\n",
       "      <td>1.0</td>\n",
       "      <td>618.187500</td>\n",
       "      <td>68.125000</td>\n",
       "      <td>7.960938</td>\n",
       "      <td>1.875000</td>\n",
       "      <td>16</td>\n",
       "    </tr>\n",
       "    <tr>\n",
       "      <th>...</th>\n",
       "      <td>...</td>\n",
       "      <td>...</td>\n",
       "      <td>...</td>\n",
       "      <td>...</td>\n",
       "      <td>...</td>\n",
       "      <td>...</td>\n",
       "    </tr>\n",
       "    <tr>\n",
       "      <th>759</th>\n",
       "      <td>1.0</td>\n",
       "      <td>352.125000</td>\n",
       "      <td>31.812500</td>\n",
       "      <td>8.171875</td>\n",
       "      <td>1.750000</td>\n",
       "      <td>16</td>\n",
       "    </tr>\n",
       "    <tr>\n",
       "      <th>760</th>\n",
       "      <td>1.0</td>\n",
       "      <td>764.428571</td>\n",
       "      <td>4.285714</td>\n",
       "      <td>8.232143</td>\n",
       "      <td>2.000000</td>\n",
       "      <td>7</td>\n",
       "    </tr>\n",
       "    <tr>\n",
       "      <th>761</th>\n",
       "      <td>1.0</td>\n",
       "      <td>623.000000</td>\n",
       "      <td>427.833333</td>\n",
       "      <td>8.375000</td>\n",
       "      <td>2.222222</td>\n",
       "      <td>18</td>\n",
       "    </tr>\n",
       "    <tr>\n",
       "      <th>762</th>\n",
       "      <td>1.0</td>\n",
       "      <td>534.705882</td>\n",
       "      <td>155.705882</td>\n",
       "      <td>8.411765</td>\n",
       "      <td>2.294118</td>\n",
       "      <td>17</td>\n",
       "    </tr>\n",
       "    <tr>\n",
       "      <th>763</th>\n",
       "      <td>1.0</td>\n",
       "      <td>404.157895</td>\n",
       "      <td>240.157895</td>\n",
       "      <td>8.342105</td>\n",
       "      <td>2.368421</td>\n",
       "      <td>19</td>\n",
       "    </tr>\n",
       "  </tbody>\n",
       "</table>\n",
       "<p>764 rows × 6 columns</p>\n",
       "</div>"
      ],
      "text/plain": [
       "     const  avg_distance_to_station_m  avg_review  avg_rating  avg_price  \\\n",
       "0      1.0                 401.842105  265.947368    8.105263   2.421053   \n",
       "1      1.0                 771.000000  530.777778    8.500000   2.444444   \n",
       "2      1.0                 539.062500  113.312500    8.242188   2.250000   \n",
       "3      1.0                 254.650000  292.850000    8.031250   2.350000   \n",
       "4      1.0                 618.187500   68.125000    7.960938   1.875000   \n",
       "..     ...                        ...         ...         ...        ...   \n",
       "759    1.0                 352.125000   31.812500    8.171875   1.750000   \n",
       "760    1.0                 764.428571    4.285714    8.232143   2.000000   \n",
       "761    1.0                 623.000000  427.833333    8.375000   2.222222   \n",
       "762    1.0                 534.705882  155.705882    8.411765   2.294118   \n",
       "763    1.0                 404.157895  240.157895    8.342105   2.368421   \n",
       "\n",
       "     number_poi  \n",
       "0            19  \n",
       "1             9  \n",
       "2            16  \n",
       "3            20  \n",
       "4            16  \n",
       "..          ...  \n",
       "759          16  \n",
       "760           7  \n",
       "761          18  \n",
       "762          17  \n",
       "763          19  \n",
       "\n",
       "[764 rows x 6 columns]"
      ]
     },
     "execution_count": 25,
     "metadata": {},
     "output_type": "execute_result"
    }
   ],
   "source": [
    "# Run model with all variables\n",
    "y = yelp_model_all_review['total_bikes']\n",
    "X = yelp_model_all_review.drop(['total_bikes', 'name', 'station'], axis=1)\n",
    "X = sm.add_constant(X)\n",
    "X"
   ]
  },
  {
   "cell_type": "code",
   "execution_count": 26,
   "metadata": {},
   "outputs": [
    {
     "name": "stdout",
     "output_type": "stream",
     "text": [
      "                            OLS Regression Results                            \n",
      "==============================================================================\n",
      "Dep. Variable:            total_bikes   R-squared:                       0.108\n",
      "Model:                            OLS   Adj. R-squared:                  0.102\n",
      "Method:                 Least Squares   F-statistic:                     18.27\n",
      "Date:                Sun, 03 Sep 2023   Prob (F-statistic):           3.75e-17\n",
      "Time:                        22:52:18   Log-Likelihood:                -2309.6\n",
      "No. Observations:                 764   AIC:                             4631.\n",
      "Df Residuals:                     758   BIC:                             4659.\n",
      "Df Model:                           5                                         \n",
      "Covariance Type:            nonrobust                                         \n",
      "=============================================================================================\n",
      "                                coef    std err          t      P>|t|      [0.025      0.975]\n",
      "---------------------------------------------------------------------------------------------\n",
      "const                        26.8686      5.110      5.258      0.000      16.837      36.900\n",
      "avg_distance_to_station_m    -0.0018      0.001     -1.427      0.154      -0.004       0.001\n",
      "avg_review                    0.0057      0.002      3.249      0.001       0.002       0.009\n",
      "avg_rating                   -1.6184      0.529     -3.058      0.002      -2.657      -0.580\n",
      "avg_price                     2.7360      0.954      2.868      0.004       0.864       4.608\n",
      "number_poi                    0.0916      0.047      1.966      0.050       0.000       0.183\n",
      "==============================================================================\n",
      "Omnibus:                       29.935   Durbin-Watson:                   0.213\n",
      "Prob(Omnibus):                  0.000   Jarque-Bera (JB):               32.648\n",
      "Skew:                           0.505   Prob(JB):                     8.14e-08\n",
      "Kurtosis:                       3.067   Cond. No.                     1.63e+04\n",
      "==============================================================================\n",
      "\n",
      "Notes:\n",
      "[1] Standard Errors assume that the covariance matrix of the errors is correctly specified.\n",
      "[2] The condition number is large, 1.63e+04. This might indicate that there are\n",
      "strong multicollinearity or other numerical problems.\n"
     ]
    }
   ],
   "source": [
    "# Run model and output summary\n",
    "model = sm.OLS(y, X)\n",
    "results = model.fit()\n",
    "print(results.summary())"
   ]
  },
  {
   "cell_type": "markdown",
   "metadata": {},
   "source": [
    "All p-value are below .005 except Distance. But Adjusted R square is nearly zero..."
   ]
  },
  {
   "cell_type": "code",
   "execution_count": 27,
   "metadata": {},
   "outputs": [
    {
     "name": "stdout",
     "output_type": "stream",
     "text": [
      "                            OLS Regression Results                            \n",
      "==============================================================================\n",
      "Dep. Variable:            total_bikes   R-squared:                       0.105\n",
      "Model:                            OLS   Adj. R-squared:                  0.100\n",
      "Method:                 Least Squares   F-statistic:                     22.30\n",
      "Date:                Sun, 03 Sep 2023   Prob (F-statistic):           1.98e-17\n",
      "Time:                        22:52:46   Log-Likelihood:                -2310.7\n",
      "No. Observations:                 764   AIC:                             4631.\n",
      "Df Residuals:                     759   BIC:                             4655.\n",
      "Df Model:                           4                                         \n",
      "Covariance Type:            nonrobust                                         \n",
      "==============================================================================\n",
      "                 coef    std err          t      P>|t|      [0.025      0.975]\n",
      "------------------------------------------------------------------------------\n",
      "const         25.2190      4.981      5.063      0.000      15.441      34.997\n",
      "avg_review     0.0057      0.002      3.239      0.001       0.002       0.009\n",
      "avg_rating    -1.6259      0.530     -3.070      0.002      -2.665      -0.586\n",
      "avg_price      2.9210      0.946      3.089      0.002       1.065       4.777\n",
      "number_poi     0.1161      0.043      2.677      0.008       0.031       0.201\n",
      "==============================================================================\n",
      "Omnibus:                       30.550   Durbin-Watson:                   0.204\n",
      "Prob(Omnibus):                  0.000   Jarque-Bera (JB):               33.395\n",
      "Skew:                           0.511   Prob(JB):                     5.60e-08\n",
      "Kurtosis:                       3.067   Cond. No.                     4.89e+03\n",
      "==============================================================================\n",
      "\n",
      "Notes:\n",
      "[1] Standard Errors assume that the covariance matrix of the errors is correctly specified.\n",
      "[2] The condition number is large, 4.89e+03. This might indicate that there are\n",
      "strong multicollinearity or other numerical problems.\n"
     ]
    }
   ],
   "source": [
    "# Remove highest p_value (distance), repeat\n",
    "y = yelp_model_all_review['total_bikes']\n",
    "X = yelp_model_all_review.drop(['total_bikes', 'name', 'station', 'avg_distance_to_station_m'], axis=1)\n",
    "X = sm.add_constant(X)\n",
    "\n",
    "# Run model and output summary\n",
    "model = sm.OLS(y, X)\n",
    "results = model.fit()\n",
    "print(results.summary())"
   ]
  },
  {
   "cell_type": "markdown",
   "metadata": {},
   "source": [
    "Since price is correlated to rating, lets remove it too."
   ]
  },
  {
   "cell_type": "code",
   "execution_count": 30,
   "metadata": {},
   "outputs": [
    {
     "name": "stdout",
     "output_type": "stream",
     "text": [
      "                            OLS Regression Results                            \n",
      "==============================================================================\n",
      "Dep. Variable:            total_bikes   R-squared:                       0.094\n",
      "Model:                            OLS   Adj. R-squared:                  0.090\n",
      "Method:                 Least Squares   F-statistic:                     26.30\n",
      "Date:                Sun, 03 Sep 2023   Prob (F-statistic):           3.40e-16\n",
      "Time:                        23:00:04   Log-Likelihood:                -2315.4\n",
      "No. Observations:                 764   AIC:                             4639.\n",
      "Df Residuals:                     760   BIC:                             4657.\n",
      "Df Model:                           3                                         \n",
      "Covariance Type:            nonrobust                                         \n",
      "==============================================================================\n",
      "                 coef    std err          t      P>|t|      [0.025      0.975]\n",
      "------------------------------------------------------------------------------\n",
      "const         11.1366      1.953      5.703      0.000       7.303      14.970\n",
      "avg_review     0.0052      0.002      2.976      0.003       0.002       0.009\n",
      "avg_price      3.1200      0.949      3.289      0.001       1.258       4.982\n",
      "number_poi     0.1285      0.043      2.960      0.003       0.043       0.214\n",
      "==============================================================================\n",
      "Omnibus:                       35.893   Durbin-Watson:                   0.185\n",
      "Prob(Omnibus):                  0.000   Jarque-Bera (JB):               39.845\n",
      "Skew:                           0.555   Prob(JB):                     2.23e-09\n",
      "Kurtosis:                       3.143   Cond. No.                     2.09e+03\n",
      "==============================================================================\n",
      "\n",
      "Notes:\n",
      "[1] Standard Errors assume that the covariance matrix of the errors is correctly specified.\n",
      "[2] The condition number is large, 2.09e+03. This might indicate that there are\n",
      "strong multicollinearity or other numerical problems.\n"
     ]
    }
   ],
   "source": [
    "# Remove highest p_value (distance), repeat\n",
    "y = yelp_model_all_review['total_bikes']\n",
    "X = yelp_model_all_review.drop(['total_bikes', 'name', 'station', 'avg_distance_to_station_m', 'avg_rating'], axis=1)\n",
    "X = sm.add_constant(X)\n",
    "\n",
    "# Run model and output summary\n",
    "model = sm.OLS(y, X)\n",
    "results = model.fit()\n",
    "print(results.summary())"
   ]
  },
  {
   "cell_type": "code",
   "execution_count": 31,
   "metadata": {},
   "outputs": [
    {
     "name": "stdout",
     "output_type": "stream",
     "text": [
      "                            OLS Regression Results                            \n",
      "==============================================================================\n",
      "Dep. Variable:            total_bikes   R-squared:                       0.081\n",
      "Model:                            OLS   Adj. R-squared:                  0.079\n",
      "Method:                 Least Squares   F-statistic:                     33.61\n",
      "Date:                Sun, 03 Sep 2023   Prob (F-statistic):           1.03e-14\n",
      "Time:                        23:00:37   Log-Likelihood:                -2320.8\n",
      "No. Observations:                 764   AIC:                             4648.\n",
      "Df Residuals:                     761   BIC:                             4661.\n",
      "Df Model:                           2                                         \n",
      "Covariance Type:            nonrobust                                         \n",
      "==============================================================================\n",
      "                 coef    std err          t      P>|t|      [0.025      0.975]\n",
      "------------------------------------------------------------------------------\n",
      "const         17.2272      0.624     27.609      0.000      16.002      18.452\n",
      "avg_review     0.0082      0.002      5.411      0.000       0.005       0.011\n",
      "number_poi     0.1336      0.044      3.059      0.002       0.048       0.219\n",
      "==============================================================================\n",
      "Omnibus:                       36.203   Durbin-Watson:                   0.159\n",
      "Prob(Omnibus):                  0.000   Jarque-Bera (JB):               40.195\n",
      "Skew:                           0.556   Prob(JB):                     1.87e-09\n",
      "Kurtosis:                       3.162   Cond. No.                         602.\n",
      "==============================================================================\n",
      "\n",
      "Notes:\n",
      "[1] Standard Errors assume that the covariance matrix of the errors is correctly specified.\n"
     ]
    }
   ],
   "source": [
    "# Remove highest p_value (distance), repeat\n",
    "y = yelp_model_all_review['total_bikes']\n",
    "X = yelp_model_all_review.drop(['total_bikes', 'name', 'station', 'avg_distance_to_station_m', 'avg_rating', 'avg_price'], axis=1)\n",
    "X = sm.add_constant(X)\n",
    "\n",
    "# Run model and output summary\n",
    "model = sm.OLS(y, X)\n",
    "results = model.fit()\n",
    "print(results.summary())"
   ]
  },
  {
   "cell_type": "markdown",
   "metadata": {},
   "source": [
    "### OVERVIEW\n",
    "None of these variables show any potential at all. The only one close was the first one with all variables. All p-value were below .005 except distance and number of poi."
   ]
  },
  {
   "cell_type": "markdown",
   "metadata": {},
   "source": [
    "#### Second model:\n",
    "- From Yelp\n",
    "- Underrated review\n",
    "- Outliers removed"
   ]
  },
  {
   "cell_type": "code",
   "execution_count": 36,
   "metadata": {},
   "outputs": [
    {
     "name": "stdout",
     "output_type": "stream",
     "text": [
      "                                              name  station  total_bikes  \\\n",
      "0                            Union / Ste-Catherine       26         35.0   \n",
      "1                            University / des Pins       27         35.0   \n",
      "2                                 Dorion / Ontario       28         35.0   \n",
      "3                   de la Montagne / Ste-Catherine       29         35.0   \n",
      "4                          Larivière / de Lorimier       30         35.0   \n",
      "..                                             ...      ...          ...   \n",
      "757                       de Chateaubriand / Jarry      789         11.0   \n",
      "758                           Cégep Marie-Victorin      790         11.0   \n",
      "759                         Ste-Famille / des Pins      791         10.0   \n",
      "760                            Waverly / Van Horne      792         10.0   \n",
      "761  Gare d'autocars de Montréal (Berri / Ontario)      793         10.0   \n",
      "\n",
      "     avg_distance_to_station_m  avg_review  avg_rating  avg_price  number_poi  \n",
      "0                   148.000000   65.000000    8.125000   2.333333           3  \n",
      "1                   502.000000   40.000000    8.875000   2.000000           1  \n",
      "2                   461.333333   43.083333    8.125000   2.166667          12  \n",
      "3                   169.600000   72.200000    7.975000   2.000000           5  \n",
      "4                   614.133333   32.666667    7.900000   1.866667          15  \n",
      "..                         ...         ...         ...        ...         ...  \n",
      "757                 352.125000   31.812500    8.171875   1.750000          16  \n",
      "758                 764.428571    4.285714    8.232143   2.000000           7  \n",
      "759                 393.333333   78.666667    8.125000   2.000000           3  \n",
      "760                 420.100000   56.300000    8.312500   2.200000          10  \n",
      "761                 209.250000   72.750000    8.312500   2.250000           8  \n",
      "\n",
      "[762 rows x 8 columns]\n"
     ]
    }
   ],
   "source": [
    "# Select data\n",
    "\n",
    "yelp_model_low_review = pd.read_sql(\n",
    "    \"\"\"\n",
    "    SELECT\n",
    "        s.station_name AS name,\n",
    "        s.station_id AS station,\n",
    "        AVG(s.total_bikes) AS total_bikes,\n",
    "        AVG(pd.to_station_m) AS avg_distance_to_station_m,\n",
    "        AVG(review_count) AS avg_review,\n",
    "        AVG(p.rating) AS avg_rating,\n",
    "        AVG(p.price) AS avg_price,\n",
    "        COUNT(*) AS number_poi\n",
    "    FROM\n",
    "        stations s\n",
    "    JOIN poi_detail pd USING(station_id)\n",
    "    JOIN pois p USING(poi_id)\n",
    "    JOIN api a USING(poi_id)\n",
    "    WHERE\n",
    "        api_name = 'Yelp'\n",
    "        AND total_bikes BETWEEN 10 AND 35\n",
    "        AND rating > 6\n",
    "        AND review_count < 100\n",
    "    GROUP BY 1, 2\n",
    "    HAVING\n",
    "        avg_review NOT NULL\n",
    "    ORDER BY\n",
    "        station;\n",
    "    \"\"\", conn\n",
    ")\n",
    "\n",
    "print(yelp_model_low_review)"
   ]
  },
  {
   "cell_type": "code",
   "execution_count": 37,
   "metadata": {},
   "outputs": [
    {
     "name": "stdout",
     "output_type": "stream",
     "text": [
      "                            OLS Regression Results                            \n",
      "==============================================================================\n",
      "Dep. Variable:            total_bikes   R-squared:                       0.113\n",
      "Model:                            OLS   Adj. R-squared:                  0.107\n",
      "Method:                 Least Squares   F-statistic:                     19.27\n",
      "Date:                Sun, 03 Sep 2023   Prob (F-statistic):           4.39e-18\n",
      "Time:                        23:07:18   Log-Likelihood:                -2300.0\n",
      "No. Observations:                 762   AIC:                             4612.\n",
      "Df Residuals:                     756   BIC:                             4640.\n",
      "Df Model:                           5                                         \n",
      "Covariance Type:            nonrobust                                         \n",
      "=============================================================================================\n",
      "                                coef    std err          t      P>|t|      [0.025      0.975]\n",
      "---------------------------------------------------------------------------------------------\n",
      "const                        31.2012      4.549      6.859      0.000      22.271      40.131\n",
      "avg_distance_to_station_m    -0.0028      0.001     -2.482      0.013      -0.005      -0.001\n",
      "avg_review                    0.0544      0.011      5.159      0.000       0.034       0.075\n",
      "avg_rating                   -1.2332      0.480     -2.569      0.010      -2.176      -0.291\n",
      "avg_price                    -0.3251      0.951     -0.342      0.733      -2.193       1.542\n",
      "number_poi                   -0.0600      0.040     -1.497      0.135      -0.139       0.019\n",
      "==============================================================================\n",
      "Omnibus:                       30.563   Durbin-Watson:                   0.231\n",
      "Prob(Omnibus):                  0.000   Jarque-Bera (JB):               33.226\n",
      "Skew:                           0.505   Prob(JB):                     6.10e-08\n",
      "Kurtosis:                       3.162   Cond. No.                     1.35e+04\n",
      "==============================================================================\n",
      "\n",
      "Notes:\n",
      "[1] Standard Errors assume that the covariance matrix of the errors is correctly specified.\n",
      "[2] The condition number is large, 1.35e+04. This might indicate that there are\n",
      "strong multicollinearity or other numerical problems.\n"
     ]
    }
   ],
   "source": [
    "# Remove highest p_value (distance), repeat\n",
    "y = yelp_model_low_review['total_bikes']\n",
    "X = yelp_model_low_review.drop(['total_bikes', 'name', 'station'], axis=1)\n",
    "X = sm.add_constant(X)\n",
    "\n",
    "# Run model and output summary\n",
    "model = sm.OLS(y, X)\n",
    "results = model.fit()\n",
    "print(results.summary())"
   ]
  },
  {
   "cell_type": "markdown",
   "metadata": {},
   "source": [
    "Slightly better, lets remove prices (we know its correlated to the other)"
   ]
  },
  {
   "cell_type": "code",
   "execution_count": 38,
   "metadata": {},
   "outputs": [
    {
     "name": "stdout",
     "output_type": "stream",
     "text": [
      "                            OLS Regression Results                            \n",
      "==============================================================================\n",
      "Dep. Variable:            total_bikes   R-squared:                       0.113\n",
      "Model:                            OLS   Adj. R-squared:                  0.108\n",
      "Method:                 Least Squares   F-statistic:                     24.09\n",
      "Date:                Sun, 03 Sep 2023   Prob (F-statistic):           8.81e-19\n",
      "Time:                        23:08:26   Log-Likelihood:                -2300.1\n",
      "No. Observations:                 762   AIC:                             4610.\n",
      "Df Residuals:                     757   BIC:                             4633.\n",
      "Df Model:                           4                                         \n",
      "Covariance Type:            nonrobust                                         \n",
      "=============================================================================================\n",
      "                                coef    std err          t      P>|t|      [0.025      0.975]\n",
      "---------------------------------------------------------------------------------------------\n",
      "const                        30.5555      4.135      7.389      0.000      22.437      38.674\n",
      "avg_distance_to_station_m    -0.0028      0.001     -2.463      0.014      -0.005      -0.001\n",
      "avg_review                    0.0532      0.010      5.397      0.000       0.034       0.072\n",
      "avg_rating                   -1.2375      0.480     -2.580      0.010      -2.179      -0.296\n",
      "number_poi                   -0.0561      0.038     -1.461      0.145      -0.131       0.019\n",
      "==============================================================================\n",
      "Omnibus:                       30.655   Durbin-Watson:                   0.230\n",
      "Prob(Omnibus):                  0.000   Jarque-Bera (JB):               33.344\n",
      "Skew:                           0.506   Prob(JB):                     5.75e-08\n",
      "Kurtosis:                       3.158   Cond. No.                     1.22e+04\n",
      "==============================================================================\n",
      "\n",
      "Notes:\n",
      "[1] Standard Errors assume that the covariance matrix of the errors is correctly specified.\n",
      "[2] The condition number is large, 1.22e+04. This might indicate that there are\n",
      "strong multicollinearity or other numerical problems.\n"
     ]
    }
   ],
   "source": [
    "# Remove highest p_value (distance), repeat\n",
    "y = yelp_model_low_review['total_bikes']\n",
    "X = yelp_model_low_review.drop(['total_bikes', 'name', 'station', 'avg_price'], axis=1)\n",
    "X = sm.add_constant(X)\n",
    "\n",
    "# Run model and output summary\n",
    "model = sm.OLS(y, X)\n",
    "results = model.fit()\n",
    "print(results.summary())"
   ]
  },
  {
   "cell_type": "markdown",
   "metadata": {},
   "source": [
    "Improving a bit, lets remove number of poi"
   ]
  },
  {
   "cell_type": "code",
   "execution_count": 40,
   "metadata": {},
   "outputs": [
    {
     "name": "stdout",
     "output_type": "stream",
     "text": [
      "                            OLS Regression Results                            \n",
      "==============================================================================\n",
      "Dep. Variable:            total_bikes   R-squared:                       0.110\n",
      "Model:                            OLS   Adj. R-squared:                  0.107\n",
      "Method:                 Least Squares   F-statistic:                     31.36\n",
      "Date:                Sun, 03 Sep 2023   Prob (F-statistic):           4.07e-19\n",
      "Time:                        23:09:32   Log-Likelihood:                -2301.2\n",
      "No. Observations:                 762   AIC:                             4610.\n",
      "Df Residuals:                     758   BIC:                             4629.\n",
      "Df Model:                           3                                         \n",
      "Covariance Type:            nonrobust                                         \n",
      "=============================================================================================\n",
      "                                coef    std err          t      P>|t|      [0.025      0.975]\n",
      "---------------------------------------------------------------------------------------------\n",
      "const                        29.3727      4.058      7.237      0.000      21.406      37.340\n",
      "avg_distance_to_station_m    -0.0028      0.001     -2.472      0.014      -0.005      -0.001\n",
      "avg_review                    0.0570      0.010      5.995      0.000       0.038       0.076\n",
      "avg_rating                   -1.1823      0.478     -2.471      0.014      -2.122      -0.243\n",
      "==============================================================================\n",
      "Omnibus:                       32.064   Durbin-Watson:                   0.226\n",
      "Prob(Omnibus):                  0.000   Jarque-Bera (JB):               35.039\n",
      "Skew:                           0.518   Prob(JB):                     2.46e-08\n",
      "Kurtosis:                       3.174   Cond. No.                     1.20e+04\n",
      "==============================================================================\n",
      "\n",
      "Notes:\n",
      "[1] Standard Errors assume that the covariance matrix of the errors is correctly specified.\n",
      "[2] The condition number is large, 1.2e+04. This might indicate that there are\n",
      "strong multicollinearity or other numerical problems.\n"
     ]
    }
   ],
   "source": [
    "# Remove highest p_value (distance), repeat\n",
    "y = yelp_model_low_review['total_bikes']\n",
    "X = yelp_model_low_review.drop(['total_bikes', 'name', 'station', 'avg_price', 'number_poi'], axis=1)\n",
    "X = sm.add_constant(X)\n",
    "\n",
    "# Run model and output summary\n",
    "model = sm.OLS(y, X)\n",
    "results = model.fit()\n",
    "print(results.summary())"
   ]
  },
  {
   "cell_type": "markdown",
   "metadata": {},
   "source": [
    "I think its the best we can get, and it make sense.  Lets double check by keeping only review this time"
   ]
  },
  {
   "cell_type": "code",
   "execution_count": 50,
   "metadata": {},
   "outputs": [
    {
     "name": "stdout",
     "output_type": "stream",
     "text": [
      "                            OLS Regression Results                            \n",
      "==============================================================================\n",
      "Dep. Variable:            total_bikes   R-squared:                       0.096\n",
      "Model:                            OLS   Adj. R-squared:                  0.094\n",
      "Method:                 Least Squares   F-statistic:                     80.30\n",
      "Date:                Sun, 03 Sep 2023   Prob (F-statistic):           2.46e-18\n",
      "Time:                        23:14:23   Log-Likelihood:                -2307.5\n",
      "No. Observations:                 762   AIC:                             4619.\n",
      "Df Residuals:                     760   BIC:                             4628.\n",
      "Df Model:                           1                                         \n",
      "Covariance Type:            nonrobust                                         \n",
      "==============================================================================\n",
      "                 coef    std err          t      P>|t|      [0.025      0.975]\n",
      "------------------------------------------------------------------------------\n",
      "const         17.6607      0.331     53.360      0.000      17.011      18.310\n",
      "avg_review     0.0714      0.008      8.961      0.000       0.056       0.087\n",
      "==============================================================================\n",
      "Omnibus:                       34.562   Durbin-Watson:                   0.191\n",
      "Prob(Omnibus):                  0.000   Jarque-Bera (JB):               38.125\n",
      "Skew:                           0.541   Prob(JB):                     5.26e-09\n",
      "Kurtosis:                       3.175   Cond. No.                         75.8\n",
      "==============================================================================\n",
      "\n",
      "Notes:\n",
      "[1] Standard Errors assume that the covariance matrix of the errors is correctly specified.\n"
     ]
    }
   ],
   "source": [
    "# Remove highest p_value (distance), repeat\n",
    "y = yelp_model_low_review['total_bikes']\n",
    "X = yelp_model_low_review['avg_review']\n",
    "X = sm.add_constant(X)\n",
    "\n",
    "# Run model and output summary\n",
    "model = sm.OLS(y, X)\n",
    "results = model.fit()\n",
    "print(results.summary())"
   ]
  },
  {
   "cell_type": "code",
   "execution_count": null,
   "metadata": {},
   "outputs": [],
   "source": [
    "It looks like only the review itself can explian  (by only 10% chance)."
   ]
  },
  {
   "cell_type": "markdown",
   "metadata": {},
   "source": [
    "#### Third model:\n",
    "- From Yelp\n",
    "- Well rated review\n",
    "- Outliers removed"
   ]
  },
  {
   "cell_type": "code",
   "execution_count": 51,
   "metadata": {},
   "outputs": [
    {
     "name": "stdout",
     "output_type": "stream",
     "text": [
      "                                              name  station  total_bikes  \\\n",
      "0                            Union / Ste-Catherine       26         35.0   \n",
      "1                            University / des Pins       27         35.0   \n",
      "2                                 Dorion / Ontario       28         35.0   \n",
      "3                   de la Montagne / Ste-Catherine       29         35.0   \n",
      "4                          Larivière / de Lorimier       30         35.0   \n",
      "..                                             ...      ...          ...   \n",
      "440                          Laval / du Mont-Royal      786         11.0   \n",
      "441                         Paré / Mountain Sights      787         11.0   \n",
      "442                         Ste-Famille / des Pins      791         10.0   \n",
      "443                            Waverly / Van Horne      792         10.0   \n",
      "444  Gare d'autocars de Montréal (Berri / Ontario)      793         10.0   \n",
      "\n",
      "     avg_distance_to_station_m  avg_review  avg_rating  avg_price  number_poi  \n",
      "0                   449.437500  303.625000    8.101562   2.437500          16  \n",
      "1                   804.625000  592.125000    8.453125   2.500000           8  \n",
      "2                   772.250000  324.000000    8.593750   2.500000           4  \n",
      "3                   283.000000  366.400000    8.050000   2.466667          15  \n",
      "4                   679.000000  600.000000    8.875000   2.000000           1  \n",
      "..                         ...         ...         ...        ...         ...  \n",
      "440                 550.583333  717.833333    8.406250   2.000000          12  \n",
      "441                 297.333333  185.333333    7.750000   1.666667           3  \n",
      "442                 668.933333  497.666667    8.425000   2.266667          15  \n",
      "443                 698.428571  297.714286    8.553571   2.428571           7  \n",
      "444                 545.909091  361.909091    8.363636   2.454545          11  \n",
      "\n",
      "[445 rows x 8 columns]\n"
     ]
    }
   ],
   "source": [
    "# Select data\n",
    "yelp_model_high_review = pd.read_sql(\n",
    "    \"\"\"\n",
    "    SELECT\n",
    "        s.station_name AS name,\n",
    "        s.station_id AS station,\n",
    "        AVG(s.total_bikes) AS total_bikes,\n",
    "        AVG(pd.to_station_m) AS avg_distance_to_station_m,\n",
    "        AVG(review_count) AS avg_review,\n",
    "        AVG(p.rating) AS avg_rating,\n",
    "        AVG(p.price) AS avg_price,\n",
    "        COUNT(*) AS number_poi\n",
    "    FROM\n",
    "        stations s\n",
    "    JOIN poi_detail pd USING(station_id)\n",
    "    JOIN pois p USING(poi_id)\n",
    "    JOIN api a USING(poi_id)\n",
    "    WHERE\n",
    "        api_name = 'Yelp'\n",
    "        AND total_bikes BETWEEN 10 AND 35\n",
    "        AND rating > 6\n",
    "        AND review_count >= 100\n",
    "    GROUP BY 1, 2\n",
    "    HAVING\n",
    "        avg_review NOT NULL\n",
    "    ORDER BY\n",
    "        station;\n",
    "    \"\"\", conn\n",
    ")\n",
    "\n",
    "print(yelp_model_high_review)"
   ]
  },
  {
   "cell_type": "code",
   "execution_count": 56,
   "metadata": {},
   "outputs": [
    {
     "name": "stdout",
     "output_type": "stream",
     "text": [
      "                            OLS Regression Results                            \n",
      "==============================================================================\n",
      "Dep. Variable:            total_bikes   R-squared:                       0.067\n",
      "Model:                            OLS   Adj. R-squared:                  0.057\n",
      "Method:                 Least Squares   F-statistic:                     6.322\n",
      "Date:                Sun, 03 Sep 2023   Prob (F-statistic):           1.11e-05\n",
      "Time:                        23:18:48   Log-Likelihood:                -1372.1\n",
      "No. Observations:                 445   AIC:                             2756.\n",
      "Df Residuals:                     439   BIC:                             2781.\n",
      "Df Model:                           5                                         \n",
      "Covariance Type:            nonrobust                                         \n",
      "=============================================================================================\n",
      "                                coef    std err          t      P>|t|      [0.025      0.975]\n",
      "---------------------------------------------------------------------------------------------\n",
      "const                        32.0405      6.336      5.057      0.000      19.588      44.493\n",
      "avg_distance_to_station_m  6.061e-05      0.002      0.040      0.968      -0.003       0.003\n",
      "avg_review                   -0.0015      0.002     -0.875      0.382      -0.005       0.002\n",
      "avg_rating                   -1.4821      0.711     -2.084      0.038      -2.880      -0.085\n",
      "avg_price                    -0.0551      0.865     -0.064      0.949      -1.756       1.646\n",
      "number_poi                    0.2805      0.065      4.333      0.000       0.153       0.408\n",
      "==============================================================================\n",
      "Omnibus:                        9.690   Durbin-Watson:                   0.135\n",
      "Prob(Omnibus):                  0.008   Jarque-Bera (JB):               10.059\n",
      "Skew:                           0.364   Prob(JB):                      0.00654\n",
      "Kurtosis:                       2.886   Cond. No.                     1.76e+04\n",
      "==============================================================================\n",
      "\n",
      "Notes:\n",
      "[1] Standard Errors assume that the covariance matrix of the errors is correctly specified.\n",
      "[2] The condition number is large, 1.76e+04. This might indicate that there are\n",
      "strong multicollinearity or other numerical problems.\n"
     ]
    }
   ],
   "source": [
    "# Remove highest p_value (distance), repeat\n",
    "y = yelp_model_high_review['total_bikes']\n",
    "X = yelp_model_high_review.drop(['total_bikes', 'name', 'station'], axis=1)\n",
    "X = sm.add_constant(X)\n",
    "\n",
    "# Run model and output summary\n",
    "model = sm.OLS(y, X)\n",
    "results = model.fit()\n",
    "print(results.summary())"
   ]
  },
  {
   "cell_type": "markdown",
   "metadata": {},
   "source": [
    "Not a good start"
   ]
  },
  {
   "cell_type": "code",
   "execution_count": 59,
   "metadata": {},
   "outputs": [
    {
     "name": "stdout",
     "output_type": "stream",
     "text": [
      "                            OLS Regression Results                            \n",
      "==============================================================================\n",
      "Dep. Variable:            total_bikes   R-squared:                       0.067\n",
      "Model:                            OLS   Adj. R-squared:                  0.059\n",
      "Method:                 Least Squares   F-statistic:                     7.920\n",
      "Date:                Sun, 03 Sep 2023   Prob (F-statistic):           3.59e-06\n",
      "Time:                        23:20:06   Log-Likelihood:                -1372.1\n",
      "No. Observations:                 445   AIC:                             2754.\n",
      "Df Residuals:                     440   BIC:                             2775.\n",
      "Df Model:                           4                                         \n",
      "Covariance Type:            nonrobust                                         \n",
      "==============================================================================\n",
      "                 coef    std err          t      P>|t|      [0.025      0.975]\n",
      "------------------------------------------------------------------------------\n",
      "const         32.0707      6.283      5.104      0.000      19.721      44.420\n",
      "avg_review    -0.0015      0.002     -0.886      0.376      -0.005       0.002\n",
      "avg_rating    -1.4818      0.710     -2.087      0.038      -2.877      -0.086\n",
      "avg_price     -0.0520      0.861     -0.060      0.952      -1.744       1.640\n",
      "number_poi     0.2794      0.058      4.802      0.000       0.165       0.394\n",
      "==============================================================================\n",
      "Omnibus:                        9.684   Durbin-Watson:                   0.135\n",
      "Prob(Omnibus):                  0.008   Jarque-Bera (JB):               10.053\n",
      "Skew:                           0.364   Prob(JB):                      0.00656\n",
      "Kurtosis:                       2.885   Cond. No.                     9.07e+03\n",
      "==============================================================================\n",
      "\n",
      "Notes:\n",
      "[1] Standard Errors assume that the covariance matrix of the errors is correctly specified.\n",
      "[2] The condition number is large, 9.07e+03. This might indicate that there are\n",
      "strong multicollinearity or other numerical problems.\n"
     ]
    }
   ],
   "source": [
    "# Remove highest p_value (distance), repeat\n",
    "y = yelp_model_high_review['total_bikes']\n",
    "X = yelp_model_high_review.drop(['total_bikes', 'name', 'station', 'avg_distance_to_station_m'], axis=1)\n",
    "X = sm.add_constant(X)\n",
    "\n",
    "# Run model and output summary\n",
    "model = sm.OLS(y, X)\n",
    "results = model.fit()\n",
    "print(results.summary())"
   ]
  },
  {
   "cell_type": "markdown",
   "metadata": {},
   "source": [
    "Not going anywhere. Not a good model."
   ]
  },
  {
   "cell_type": "markdown",
   "metadata": {},
   "source": [
    "#### Fourth model:\n",
    "- From combined data\n",
    "- Outliers removed"
   ]
  },
  {
   "cell_type": "code",
   "execution_count": 61,
   "metadata": {},
   "outputs": [
    {
     "name": "stdout",
     "output_type": "stream",
     "text": [
      "                                              name  station  total_bikes  \\\n",
      "0                            Union / Ste-Catherine       26         35.0   \n",
      "1                            University / des Pins       27         35.0   \n",
      "2                                 Dorion / Ontario       28         35.0   \n",
      "3                   de la Montagne / Ste-Catherine       29         35.0   \n",
      "4                          Larivière / de Lorimier       30         35.0   \n",
      "..                                             ...      ...          ...   \n",
      "759                       de Chateaubriand / Jarry      789         11.0   \n",
      "760                           Cégep Marie-Victorin      790         11.0   \n",
      "761                         Ste-Famille / des Pins      791         10.0   \n",
      "762                            Waverly / Van Horne      792         10.0   \n",
      "763  Gare d'autocars de Montréal (Berri / Ontario)      793         10.0   \n",
      "\n",
      "     avg_distance_to_station_m  avg_review  avg_rating  avg_popularity  \\\n",
      "0                   542.492754  265.947368    8.227536        0.977840   \n",
      "1                   802.385965  530.777778    7.900175        0.961438   \n",
      "2                   656.548387  113.312500    7.908788        0.903649   \n",
      "3                   378.485714  292.850000    8.154643        0.974900   \n",
      "4                   658.428571   68.125000    7.915264        0.804127   \n",
      "..                         ...         ...         ...             ...   \n",
      "759                 547.444444   31.812500    8.027457        0.828918   \n",
      "760                 709.781250    4.285714    8.039525        0.865510   \n",
      "761                 669.000000  427.833333    8.193333        0.959000   \n",
      "762                 632.060606  155.705882    8.266969        0.937531   \n",
      "763                 589.768116  240.157895    8.153623        0.962320   \n",
      "\n",
      "     avg_price  number_poi  \n",
      "0     1.724638          69  \n",
      "1     1.666667          57  \n",
      "2     1.854839          62  \n",
      "3     1.871429          70  \n",
      "4     1.464286          56  \n",
      "..         ...         ...  \n",
      "759   1.523810          63  \n",
      "760   1.281250          32  \n",
      "761   1.803030          66  \n",
      "762   1.772727          66  \n",
      "763   1.971014          69  \n",
      "\n",
      "[764 rows x 9 columns]\n"
     ]
    }
   ],
   "source": [
    "# Select data\n",
    "# Select data\n",
    "comb_model = pd.read_sql(\n",
    "    \"\"\"\n",
    "    SELECT\n",
    "        s.station_name AS name,\n",
    "        s.station_id AS station,\n",
    "        AVG(s.total_bikes) AS total_bikes,\n",
    "        AVG(pd.to_station_m) AS avg_distance_to_station_m,\n",
    "        AVG(review_count) AS avg_review,\n",
    "        AVG(p.rating) AS avg_rating,\n",
    "        AVG(popularity) AS avg_popularity,\n",
    "        AVG(p.price) AS avg_price,\n",
    "        COUNT(*) AS number_poi\n",
    "    FROM\n",
    "        stations s\n",
    "    JOIN poi_detail pd USING(station_id)\n",
    "    JOIN pois p USING(poi_id)\n",
    "    JOIN api a USING(poi_id)\n",
    "    WHERE\n",
    "        total_bikes BETWEEN 10 AND 35\n",
    "        AND rating > 6\n",
    "    GROUP BY 1, 2\n",
    "    HAVING\n",
    "        avg_review NOT NULL\n",
    "    ORDER BY\n",
    "        station;\n",
    "    \"\"\", conn\n",
    ")\n",
    "\n",
    "print(comb_model)"
   ]
  },
  {
   "cell_type": "code",
   "execution_count": 62,
   "metadata": {},
   "outputs": [
    {
     "name": "stdout",
     "output_type": "stream",
     "text": [
      "<class 'pandas.core.frame.DataFrame'>\n",
      "RangeIndex: 764 entries, 0 to 763\n",
      "Data columns (total 9 columns):\n",
      " #   Column                     Non-Null Count  Dtype  \n",
      "---  ------                     --------------  -----  \n",
      " 0   name                       764 non-null    object \n",
      " 1   station                    764 non-null    int64  \n",
      " 2   total_bikes                764 non-null    float64\n",
      " 3   avg_distance_to_station_m  764 non-null    float64\n",
      " 4   avg_review                 764 non-null    float64\n",
      " 5   avg_rating                 764 non-null    float64\n",
      " 6   avg_popularity             764 non-null    float64\n",
      " 7   avg_price                  764 non-null    float64\n",
      " 8   number_poi                 764 non-null    int64  \n",
      "dtypes: float64(6), int64(2), object(1)\n",
      "memory usage: 53.8+ KB\n"
     ]
    }
   ],
   "source": [
    "comb_model.info()"
   ]
  },
  {
   "cell_type": "code",
   "execution_count": 63,
   "metadata": {},
   "outputs": [
    {
     "data": {
      "text/html": [
       "<div>\n",
       "<style scoped>\n",
       "    .dataframe tbody tr th:only-of-type {\n",
       "        vertical-align: middle;\n",
       "    }\n",
       "\n",
       "    .dataframe tbody tr th {\n",
       "        vertical-align: top;\n",
       "    }\n",
       "\n",
       "    .dataframe thead th {\n",
       "        text-align: right;\n",
       "    }\n",
       "</style>\n",
       "<table border=\"1\" class=\"dataframe\">\n",
       "  <thead>\n",
       "    <tr style=\"text-align: right;\">\n",
       "      <th></th>\n",
       "      <th>station</th>\n",
       "      <th>total_bikes</th>\n",
       "      <th>avg_distance_to_station_m</th>\n",
       "      <th>avg_review</th>\n",
       "      <th>avg_rating</th>\n",
       "      <th>avg_popularity</th>\n",
       "      <th>avg_price</th>\n",
       "      <th>number_poi</th>\n",
       "    </tr>\n",
       "  </thead>\n",
       "  <tbody>\n",
       "    <tr>\n",
       "      <th>count</th>\n",
       "      <td>764.000000</td>\n",
       "      <td>764.000000</td>\n",
       "      <td>764.000000</td>\n",
       "      <td>764.000000</td>\n",
       "      <td>764.000000</td>\n",
       "      <td>764.000000</td>\n",
       "      <td>764.000000</td>\n",
       "      <td>764.000000</td>\n",
       "    </tr>\n",
       "    <tr>\n",
       "      <th>mean</th>\n",
       "      <td>409.183246</td>\n",
       "      <td>20.153141</td>\n",
       "      <td>607.003128</td>\n",
       "      <td>112.643911</td>\n",
       "      <td>8.093779</td>\n",
       "      <td>0.873875</td>\n",
       "      <td>1.556775</td>\n",
       "      <td>57.392670</td>\n",
       "    </tr>\n",
       "    <tr>\n",
       "      <th>std</th>\n",
       "      <td>221.846358</td>\n",
       "      <td>5.268304</td>\n",
       "      <td>104.867911</td>\n",
       "      <td>134.985159</td>\n",
       "      <td>0.199224</td>\n",
       "      <td>0.067522</td>\n",
       "      <td>0.205750</td>\n",
       "      <td>14.144462</td>\n",
       "    </tr>\n",
       "    <tr>\n",
       "      <th>min</th>\n",
       "      <td>26.000000</td>\n",
       "      <td>10.000000</td>\n",
       "      <td>251.952381</td>\n",
       "      <td>1.000000</td>\n",
       "      <td>7.545621</td>\n",
       "      <td>0.681966</td>\n",
       "      <td>1.071429</td>\n",
       "      <td>4.000000</td>\n",
       "    </tr>\n",
       "    <tr>\n",
       "      <th>25%</th>\n",
       "      <td>217.750000</td>\n",
       "      <td>16.000000</td>\n",
       "      <td>540.570076</td>\n",
       "      <td>12.500000</td>\n",
       "      <td>7.950780</td>\n",
       "      <td>0.822628</td>\n",
       "      <td>1.393443</td>\n",
       "      <td>53.000000</td>\n",
       "    </tr>\n",
       "    <tr>\n",
       "      <th>50%</th>\n",
       "      <td>409.500000</td>\n",
       "      <td>19.000000</td>\n",
       "      <td>611.689027</td>\n",
       "      <td>45.975000</td>\n",
       "      <td>8.086261</td>\n",
       "      <td>0.861444</td>\n",
       "      <td>1.543219</td>\n",
       "      <td>63.000000</td>\n",
       "    </tr>\n",
       "    <tr>\n",
       "      <th>75%</th>\n",
       "      <td>601.250000</td>\n",
       "      <td>23.000000</td>\n",
       "      <td>681.798676</td>\n",
       "      <td>176.447368</td>\n",
       "      <td>8.216993</td>\n",
       "      <td>0.939071</td>\n",
       "      <td>1.724638</td>\n",
       "      <td>67.000000</td>\n",
       "    </tr>\n",
       "    <tr>\n",
       "      <th>max</th>\n",
       "      <td>793.000000</td>\n",
       "      <td>35.000000</td>\n",
       "      <td>919.590909</td>\n",
       "      <td>620.631579</td>\n",
       "      <td>8.622464</td>\n",
       "      <td>0.978680</td>\n",
       "      <td>2.088235</td>\n",
       "      <td>70.000000</td>\n",
       "    </tr>\n",
       "  </tbody>\n",
       "</table>\n",
       "</div>"
      ],
      "text/plain": [
       "          station  total_bikes  avg_distance_to_station_m  avg_review  \\\n",
       "count  764.000000   764.000000                 764.000000  764.000000   \n",
       "mean   409.183246    20.153141                 607.003128  112.643911   \n",
       "std    221.846358     5.268304                 104.867911  134.985159   \n",
       "min     26.000000    10.000000                 251.952381    1.000000   \n",
       "25%    217.750000    16.000000                 540.570076   12.500000   \n",
       "50%    409.500000    19.000000                 611.689027   45.975000   \n",
       "75%    601.250000    23.000000                 681.798676  176.447368   \n",
       "max    793.000000    35.000000                 919.590909  620.631579   \n",
       "\n",
       "       avg_rating  avg_popularity   avg_price  number_poi  \n",
       "count  764.000000      764.000000  764.000000  764.000000  \n",
       "mean     8.093779        0.873875    1.556775   57.392670  \n",
       "std      0.199224        0.067522    0.205750   14.144462  \n",
       "min      7.545621        0.681966    1.071429    4.000000  \n",
       "25%      7.950780        0.822628    1.393443   53.000000  \n",
       "50%      8.086261        0.861444    1.543219   63.000000  \n",
       "75%      8.216993        0.939071    1.724638   67.000000  \n",
       "max      8.622464        0.978680    2.088235   70.000000  "
      ]
     },
     "execution_count": 63,
     "metadata": {},
     "output_type": "execute_result"
    }
   ],
   "source": [
    "comb_model.describe()"
   ]
  },
  {
   "cell_type": "code",
   "execution_count": 64,
   "metadata": {},
   "outputs": [
    {
     "name": "stdout",
     "output_type": "stream",
     "text": [
      "                            OLS Regression Results                            \n",
      "==============================================================================\n",
      "Dep. Variable:            total_bikes   R-squared:                       0.107\n",
      "Model:                            OLS   Adj. R-squared:                  0.100\n",
      "Method:                 Least Squares   F-statistic:                     15.19\n",
      "Date:                Sun, 03 Sep 2023   Prob (F-statistic):           1.77e-16\n",
      "Time:                        23:24:47   Log-Likelihood:                -2309.7\n",
      "No. Observations:                 764   AIC:                             4633.\n",
      "Df Residuals:                     757   BIC:                             4666.\n",
      "Df Model:                           6                                         \n",
      "Covariance Type:            nonrobust                                         \n",
      "=============================================================================================\n",
      "                                coef    std err          t      P>|t|      [0.025      0.975]\n",
      "---------------------------------------------------------------------------------------------\n",
      "const                        28.9252      9.335      3.099      0.002      10.600      47.250\n",
      "avg_distance_to_station_m    -0.0027      0.002     -1.508      0.132      -0.006       0.001\n",
      "avg_review                    0.0043      0.002      1.937      0.053   -5.88e-05       0.009\n",
      "avg_rating                   -2.8480      1.139     -2.500      0.013      -5.084      -0.612\n",
      "avg_popularity               10.8318      4.311      2.512      0.012       2.368      19.296\n",
      "avg_price                     3.3020      1.487      2.220      0.027       0.382       6.222\n",
      "number_poi                    0.0147      0.017      0.886      0.376      -0.018       0.047\n",
      "==============================================================================\n",
      "Omnibus:                       30.141   Durbin-Watson:                   0.217\n",
      "Prob(Omnibus):                  0.000   Jarque-Bera (JB):               32.970\n",
      "Skew:                           0.509   Prob(JB):                     6.93e-08\n",
      "Kurtosis:                       3.035   Cond. No.                     3.28e+04\n",
      "==============================================================================\n",
      "\n",
      "Notes:\n",
      "[1] Standard Errors assume that the covariance matrix of the errors is correctly specified.\n",
      "[2] The condition number is large, 3.28e+04. This might indicate that there are\n",
      "strong multicollinearity or other numerical problems.\n"
     ]
    }
   ],
   "source": [
    "# Run model\n",
    "y = comb_model['total_bikes']\n",
    "X = comb_model.drop(['total_bikes', 'name', 'station'], axis=1)\n",
    "X = sm.add_constant(X)\n",
    "\n",
    "# Run model and output summary\n",
    "model = sm.OLS(y, X)\n",
    "results = model.fit()\n",
    "print(results.summary())"
   ]
  },
  {
   "cell_type": "markdown",
   "metadata": {},
   "source": [
    "Decively, the number of poi in the area doesn' t seems to have a great impact."
   ]
  },
  {
   "cell_type": "code",
   "execution_count": 65,
   "metadata": {},
   "outputs": [
    {
     "name": "stdout",
     "output_type": "stream",
     "text": [
      "                            OLS Regression Results                            \n",
      "==============================================================================\n",
      "Dep. Variable:            total_bikes   R-squared:                       0.107\n",
      "Model:                            OLS   Adj. R-squared:                  0.101\n",
      "Method:                 Least Squares   F-statistic:                     18.08\n",
      "Date:                Sun, 03 Sep 2023   Prob (F-statistic):           5.71e-17\n",
      "Time:                        23:26:21   Log-Likelihood:                -2310.1\n",
      "No. Observations:                 764   AIC:                             4632.\n",
      "Df Residuals:                     758   BIC:                             4660.\n",
      "Df Model:                           5                                         \n",
      "Covariance Type:            nonrobust                                         \n",
      "=============================================================================================\n",
      "                                coef    std err          t      P>|t|      [0.025      0.975]\n",
      "---------------------------------------------------------------------------------------------\n",
      "const                        28.7168      9.330      3.078      0.002      10.400      47.033\n",
      "avg_distance_to_station_m    -0.0030      0.002     -1.663      0.097      -0.006       0.001\n",
      "avg_review                    0.0045      0.002      2.015      0.044       0.000       0.009\n",
      "avg_rating                   -2.7954      1.137     -2.458      0.014      -5.028      -0.562\n",
      "avg_popularity               10.8003      4.311      2.505      0.012       2.338      19.263\n",
      "avg_price                     3.8044      1.375      2.767      0.006       1.106       6.503\n",
      "==============================================================================\n",
      "Omnibus:                       30.164   Durbin-Watson:                   0.215\n",
      "Prob(Omnibus):                  0.000   Jarque-Bera (JB):               33.006\n",
      "Skew:                           0.509   Prob(JB):                     6.81e-08\n",
      "Kurtosis:                       3.031   Cond. No.                     3.27e+04\n",
      "==============================================================================\n",
      "\n",
      "Notes:\n",
      "[1] Standard Errors assume that the covariance matrix of the errors is correctly specified.\n",
      "[2] The condition number is large, 3.27e+04. This might indicate that there are\n",
      "strong multicollinearity or other numerical problems.\n"
     ]
    }
   ],
   "source": [
    "# Run model\n",
    "y = comb_model['total_bikes']\n",
    "X = comb_model.drop(['total_bikes', 'name', 'station', 'number_poi'], axis=1)\n",
    "X = sm.add_constant(X)\n",
    "\n",
    "# Run model and output summary\n",
    "model = sm.OLS(y, X)\n",
    "results = model.fit()\n",
    "print(results.summary())"
   ]
  },
  {
   "cell_type": "code",
   "execution_count": 67,
   "metadata": {},
   "outputs": [
    {
     "name": "stdout",
     "output_type": "stream",
     "text": [
      "                            OLS Regression Results                            \n",
      "==============================================================================\n",
      "Dep. Variable:            total_bikes   R-squared:                       0.103\n",
      "Model:                            OLS   Adj. R-squared:                  0.099\n",
      "Method:                 Least Squares   F-statistic:                     21.86\n",
      "Date:                Sun, 03 Sep 2023   Prob (F-statistic):           4.31e-17\n",
      "Time:                        23:27:16   Log-Likelihood:                -2311.5\n",
      "No. Observations:                 764   AIC:                             4633.\n",
      "Df Residuals:                     759   BIC:                             4656.\n",
      "Df Model:                           4                                         \n",
      "Covariance Type:            nonrobust                                         \n",
      "==================================================================================\n",
      "                     coef    std err          t      P>|t|      [0.025      0.975]\n",
      "----------------------------------------------------------------------------------\n",
      "const             25.0953      9.083      2.763      0.006       7.264      42.926\n",
      "avg_review         0.0041      0.002      1.870      0.062      -0.000       0.008\n",
      "avg_rating        -2.6625      1.136     -2.344      0.019      -4.893      -0.433\n",
      "avg_popularity    10.9822      4.314      2.546      0.011       2.513      19.451\n",
      "avg_price          4.2054      1.355      3.103      0.002       1.545       6.866\n",
      "==============================================================================\n",
      "Omnibus:                       30.775   Durbin-Watson:                   0.203\n",
      "Prob(Omnibus):                  0.000   Jarque-Bera (JB):               33.728\n",
      "Skew:                           0.514   Prob(JB):                     4.74e-08\n",
      "Kurtosis:                       3.042   Cond. No.                     8.93e+03\n",
      "==============================================================================\n",
      "\n",
      "Notes:\n",
      "[1] Standard Errors assume that the covariance matrix of the errors is correctly specified.\n",
      "[2] The condition number is large, 8.93e+03. This might indicate that there are\n",
      "strong multicollinearity or other numerical problems.\n"
     ]
    }
   ],
   "source": [
    "# Run model\n",
    "y = comb_model['total_bikes']\n",
    "X = comb_model.drop(['total_bikes', 'name', 'station', 'number_poi', 'avg_distance_to_station_m'], axis=1)\n",
    "X = sm.add_constant(X)\n",
    "\n",
    "# Run model and output summary\n",
    "model = sm.OLS(y, X)\n",
    "results = model.fit()\n",
    "print(results.summary())"
   ]
  },
  {
   "cell_type": "code",
   "execution_count": 68,
   "metadata": {},
   "outputs": [
    {
     "name": "stdout",
     "output_type": "stream",
     "text": [
      "                            OLS Regression Results                            \n",
      "==============================================================================\n",
      "Dep. Variable:            total_bikes   R-squared:                       0.099\n",
      "Model:                            OLS   Adj. R-squared:                  0.096\n",
      "Method:                 Least Squares   F-statistic:                     27.89\n",
      "Date:                Sun, 03 Sep 2023   Prob (F-statistic):           4.09e-17\n",
      "Time:                        23:28:04   Log-Likelihood:                -2313.2\n",
      "No. Observations:                 764   AIC:                             4634.\n",
      "Df Residuals:                     760   BIC:                             4653.\n",
      "Df Model:                           3                                         \n",
      "Covariance Type:            nonrobust                                         \n",
      "==================================================================================\n",
      "                     coef    std err          t      P>|t|      [0.025      0.975]\n",
      "----------------------------------------------------------------------------------\n",
      "const             16.4508      7.831      2.101      0.036       1.077      31.824\n",
      "avg_rating        -2.0479      1.089     -1.880      0.060      -4.186       0.090\n",
      "avg_popularity    14.2265      3.956      3.596      0.000       6.460      21.993\n",
      "avg_price          5.0398      1.282      3.932      0.000       2.524       7.556\n",
      "==============================================================================\n",
      "Omnibus:                       31.924   Durbin-Watson:                   0.196\n",
      "Prob(Omnibus):                  0.000   Jarque-Bera (JB):               35.156\n",
      "Skew:                           0.525   Prob(JB):                     2.32e-08\n",
      "Kurtosis:                       3.034   Cond. No.                         364.\n",
      "==============================================================================\n",
      "\n",
      "Notes:\n",
      "[1] Standard Errors assume that the covariance matrix of the errors is correctly specified.\n"
     ]
    }
   ],
   "source": [
    "# Run model\n",
    "y = comb_model['total_bikes']\n",
    "X = comb_model.drop(['total_bikes', 'name', 'station', 'number_poi', 'avg_distance_to_station_m', 'avg_review'], axis=1)\n",
    "X = sm.add_constant(X)\n",
    "\n",
    "# Run model and output summary\n",
    "model = sm.OLS(y, X)\n",
    "results = model.fit()\n",
    "print(results.summary())"
   ]
  },
  {
   "cell_type": "code",
   "execution_count": 69,
   "metadata": {},
   "outputs": [
    {
     "name": "stdout",
     "output_type": "stream",
     "text": [
      "                            OLS Regression Results                            \n",
      "==============================================================================\n",
      "Dep. Variable:            total_bikes   R-squared:                       0.095\n",
      "Model:                            OLS   Adj. R-squared:                  0.093\n",
      "Method:                 Least Squares   F-statistic:                     39.93\n",
      "Date:                Sun, 03 Sep 2023   Prob (F-statistic):           3.23e-17\n",
      "Time:                        23:28:45   Log-Likelihood:                -2315.0\n",
      "No. Observations:                 764   AIC:                             4636.\n",
      "Df Residuals:                     761   BIC:                             4650.\n",
      "Df Model:                           2                                         \n",
      "Covariance Type:            nonrobust                                         \n",
      "==================================================================================\n",
      "                     coef    std err          t      P>|t|      [0.025      0.975]\n",
      "----------------------------------------------------------------------------------\n",
      "const              2.4285      2.395      1.014      0.311      -2.273       7.130\n",
      "avg_popularity    12.2359      3.818      3.204      0.001       4.740      19.732\n",
      "avg_price          4.5170      1.253      3.605      0.000       2.057       6.977\n",
      "==============================================================================\n",
      "Omnibus:                       33.943   Durbin-Watson:                   0.189\n",
      "Prob(Omnibus):                  0.000   Jarque-Bera (JB):               37.518\n",
      "Skew:                           0.541   Prob(JB):                     7.13e-09\n",
      "Kurtosis:                       3.093   Cond. No.                         49.8\n",
      "==============================================================================\n",
      "\n",
      "Notes:\n",
      "[1] Standard Errors assume that the covariance matrix of the errors is correctly specified.\n"
     ]
    }
   ],
   "source": [
    "# Run model\n",
    "y = comb_model['total_bikes']\n",
    "X = comb_model.drop(['total_bikes', 'name', 'station', 'number_poi', 'avg_distance_to_station_m', 'avg_review', 'avg_rating'], axis=1)\n",
    "X = sm.add_constant(X)\n",
    "\n",
    "# Run model and output summary\n",
    "model = sm.OLS(y, X)\n",
    "results = model.fit()\n",
    "print(results.summary())"
   ]
  },
  {
   "cell_type": "markdown",
   "metadata": {},
   "source": [
    "It's the first time we get a model with al p_value below 0.005. But we know that price and popularity are strongly related, so this model is not valid either.\n",
    "\n",
    "Let's try with our guts!"
   ]
  },
  {
   "cell_type": "code",
   "execution_count": 72,
   "metadata": {},
   "outputs": [
    {
     "name": "stdout",
     "output_type": "stream",
     "text": [
      "                            OLS Regression Results                            \n",
      "==============================================================================\n",
      "Dep. Variable:            total_bikes   R-squared:                       0.098\n",
      "Model:                            OLS   Adj. R-squared:                  0.093\n",
      "Method:                 Least Squares   F-statistic:                     20.64\n",
      "Date:                Sun, 03 Sep 2023   Prob (F-statistic):           3.70e-16\n",
      "Time:                        23:31:17   Log-Likelihood:                -2313.7\n",
      "No. Observations:                 764   AIC:                             4637.\n",
      "Df Residuals:                     759   BIC:                             4661.\n",
      "Df Model:                           4                                         \n",
      "Covariance Type:            nonrobust                                         \n",
      "==================================================================================\n",
      "                     coef    std err          t      P>|t|      [0.025      0.975]\n",
      "----------------------------------------------------------------------------------\n",
      "const             25.4357      9.126      2.787      0.005       7.520      43.352\n",
      "avg_review         0.0054      0.002      2.534      0.011       0.001       0.010\n",
      "avg_rating        -2.5611      1.139     -2.249      0.025      -4.797      -0.325\n",
      "avg_popularity    14.7320      4.032      3.653      0.000       6.816      22.648\n",
      "number_poi         0.0342      0.015      2.278      0.023       0.005       0.064\n",
      "==============================================================================\n",
      "Omnibus:                       31.586   Durbin-Watson:                   0.194\n",
      "Prob(Omnibus):                  0.000   Jarque-Bera (JB):               34.726\n",
      "Skew:                           0.522   Prob(JB):                     2.88e-08\n",
      "Kurtosis:                       3.040   Cond. No.                     9.21e+03\n",
      "==============================================================================\n",
      "\n",
      "Notes:\n",
      "[1] Standard Errors assume that the covariance matrix of the errors is correctly specified.\n",
      "[2] The condition number is large, 9.21e+03. This might indicate that there are\n",
      "strong multicollinearity or other numerical problems.\n"
     ]
    }
   ],
   "source": [
    "# Run model\n",
    "y = comb_model['total_bikes']\n",
    "X = comb_model.drop(['total_bikes', 'name', 'station', 'avg_price', 'avg_distance_to_station_m'], axis=1)\n",
    "X = sm.add_constant(X)\n",
    "\n",
    "# Run model and output summary\n",
    "model = sm.OLS(y, X)\n",
    "results = model.fit()\n",
    "print(results.summary())"
   ]
  },
  {
   "cell_type": "markdown",
   "metadata": {},
   "source": [
    "That could be our best guess since none of the model is good enough."
   ]
  },
  {
   "cell_type": "markdown",
   "metadata": {},
   "source": [
    "### Residual Plots\n",
    "for testing our model against the linear regression assumptions\n",
    "#### Normality"
   ]
  },
  {
   "cell_type": "code",
   "execution_count": 73,
   "metadata": {},
   "outputs": [
    {
     "data": {
      "text/plain": [
       "0      12.433231\n",
       "1      10.818298\n",
       "2      13.773108\n",
       "3      12.110457\n",
       "4      15.705094\n",
       "         ...    \n",
       "759    -8.416502\n",
       "760    -7.714844\n",
       "761   -13.147623\n",
       "762   -11.174384\n",
       "763   -12.388272\n",
       "Length: 764, dtype: float64"
      ]
     },
     "execution_count": 73,
     "metadata": {},
     "output_type": "execute_result"
    }
   ],
   "source": [
    "residuals = results.resid\n",
    "residuals"
   ]
  },
  {
   "cell_type": "code",
   "execution_count": 76,
   "metadata": {},
   "outputs": [
    {
     "data": {
      "text/plain": [
       "<Axes: ylabel='Count'>"
      ]
     },
     "execution_count": 76,
     "metadata": {},
     "output_type": "execute_result"
    },
    {
     "data": {
      "image/png": "[encoded data removed]",
      "text/plain": [
       "<Figure size 640x480 with 1 Axes>"
      ]
     },
     "metadata": {},
     "output_type": "display_data"
    }
   ],
   "source": [
    "sns.histplot(residuals)"
   ]
  },
  {
   "cell_type": "code",
   "execution_count": 79,
   "metadata": {},
   "outputs": [
    {
     "data": {
      "image/png": "[encoded data removed]",
      "text/plain": [
       "<Figure size 640x480 with 1 Axes>"
      ]
     },
     "metadata": {},
     "output_type": "display_data"
    }
   ],
   "source": [
    "sm.qqplot(residuals, line=\"r\")"
   ]
  },
  {
   "cell_type": "code",
   "execution_count": 82,
   "metadata": {},
   "outputs": [
    {
     "data": {
      "text/plain": [
       "ShapiroResult(statistic=0.9788070321083069, pvalue=4.476150117227462e-09)"
      ]
     },
     "execution_count": 82,
     "metadata": {},
     "output_type": "execute_result"
    }
   ],
   "source": [
    "scipy.stats.shapiro(residuals)"
   ]
  },
  {
   "cell_type": "markdown",
   "metadata": {},
   "source": [
    "We cannot reject null hypothesis, the data is not drawn from a normal distribution."
   ]
  },
  {
   "cell_type": "markdown",
   "metadata": {},
   "source": [
    "#### Homoscedasticity"
   ]
  },
  {
   "cell_type": "code",
   "execution_count": 83,
   "metadata": {},
   "outputs": [
    {
     "data": {
      "text/plain": [
       "<matplotlib.lines.Line2D at 0x16cd6f610>"
      ]
     },
     "execution_count": 83,
     "metadata": {},
     "output_type": "execute_result"
    },
    {
     "data": {
      "image/png": "[encoded data removed]",
      "text/plain": [
       "<Figure size 640x480 with 1 Axes>"
      ]
     },
     "metadata": {},
     "output_type": "display_data"
    }
   ],
   "source": [
    "ax = sns.scatterplot(x=comb_model['avg_review'], y=residuals)\n",
    "ax.axhline(0) #horizontal line at 0"
   ]
  },
  {
   "cell_type": "code",
   "execution_count": 85,
   "metadata": {},
   "outputs": [
    {
     "data": {
      "text/plain": [
       "<matplotlib.lines.Line2D at 0x16d1f3f50>"
      ]
     },
     "execution_count": 85,
     "metadata": {},
     "output_type": "execute_result"
    },
    {
     "data": {
      "image/png": "[encoded data removed]",
      "text/plain": [
       "<Figure size 640x480 with 1 Axes>"
      ]
     },
     "metadata": {},
     "output_type": "display_data"
    }
   ],
   "source": [
    "ax = sns.scatterplot(x=comb_model['avg_rating'], y=residuals)\n",
    "ax.axhline(0) #horizontal line at 0"
   ]
  },
  {
   "cell_type": "code",
   "execution_count": 86,
   "metadata": {},
   "outputs": [
    {
     "data": {
      "text/plain": [
       "<matplotlib.lines.Line2D at 0x16d313f50>"
      ]
     },
     "execution_count": 86,
     "metadata": {},
     "output_type": "execute_result"
    },
    {
     "data": {
      "image/png": "[encoded data removed]",
      "text/plain": [
       "<Figure size 640x480 with 1 Axes>"
      ]
     },
     "metadata": {},
     "output_type": "display_data"
    }
   ],
   "source": [
    "ax = sns.scatterplot(x=comb_model['avg_popularity'], y=residuals)\n",
    "ax.axhline(0) #horizontal line at 0"
   ]
  },
  {
   "cell_type": "code",
   "execution_count": 87,
   "metadata": {},
   "outputs": [
    {
     "data": {
      "text/plain": [
       "<matplotlib.lines.Line2D at 0x16d31c990>"
      ]
     },
     "execution_count": 87,
     "metadata": {},
     "output_type": "execute_result"
    },
    {
     "data": {
      "image/png": "[encoded data removed]",
      "text/plain": [
       "<Figure size 640x480 with 1 Axes>"
      ]
     },
     "metadata": {},
     "output_type": "display_data"
    }
   ],
   "source": [
    "ax = sns.scatterplot(x=comb_model['number_poi'], y=residuals)\n",
    "ax.axhline(0) #horizontal line at 0"
   ]
  },
  {
   "cell_type": "code",
   "execution_count": 88,
   "metadata": {},
   "outputs": [
    {
     "name": "stdout",
     "output_type": "stream",
     "text": [
      "0.0011543348134296985 0.0010922071105660652\n"
     ]
    }
   ],
   "source": [
    "stat, p, f_stat, f_p = sm.stats.diagnostic.het_breuschpagan(residuals,results.model.exog)\n",
    "print(p,f_p)"
   ]
  },
  {
   "cell_type": "markdown",
   "metadata": {},
   "source": [
    "We do not have homoscedasticity either."
   ]
  },
  {
   "cell_type": "markdown",
   "metadata": {},
   "source": [
    "## CONCLUSION\n",
    "\n",
    "With the data we have collected, we do not have enougth strong relationship between any independant variables and the dependant variable.\n",
    "It would be hard to try to predict the number of bikes per station based on the POIs characteristics.<br>\n",
    "\n",
    "As far as I am concerned, Montréal is a small city compare to New York for example. New York as almost 2000 stations and Montréal as 800. Thats a lot of stations for a small area. So, I guess, even if we know how much bike we need with a model, the space is limited, so it affect distance and quantity of bike availabe. Thought the ratings of POIs should be important, we mostly only covers the 'restaurant' category. But, when you rent a bike, its to see the environment outside, the achitecture, the people.<br>\n",
    "\n",
    "If we really need to predict the quanity of bike, we would need to consider all these other aspect."
   ]
  },
  {
   "cell_type": "markdown",
   "metadata": {},
   "source": [
    "# Stretch"
   ]
  },
  {
   "cell_type": "markdown",
   "metadata": {},
   "source": [
    "## How can you turn the regression model into a classification model?"
   ]
  },
  {
   "cell_type": "markdown",
   "metadata": {},
   "source": [
    "I think it could be interresting to re-evaluate the model using the perception of the customers about the bike rentals company.\n",
    "\n",
    "1) I would conduct a survey to know if \" There is ENOUGH bikes at the station\".\n",
    "2) I could then classify the total bikes in 2 category (or more):\n",
    "    - 0: Not enough bikes\n",
    "    - 1: Enough bikes\n",
    "3) I would then try to model using the POI attributes to see the relationship between the data and the customer affirmation.\n",
    "\n",
    "The model could then be used to predict the number of bikes NEEDED at a station (do we have enough or not), or for a new station to be build (how many to start with)."
   ]
  },
  {
   "cell_type": "markdown",
   "metadata": {},
   "source": []
  }
 ],
 "metadata": {
  "kernelspec": {
   "display_name": "Python 3",
   "language": "python",
   "name": "python3"
  },
  "language_info": {
   "codemirror_mode": {
    "name": "ipython",
    "version": 3
   },
   "file_extension": ".py",
   "mimetype": "text/x-python",
   "name": "python",
   "nbconvert_exporter": "python",
   "pygments_lexer": "ipython3",
   "version": "3.11.3"
  }
 },
 "nbformat": 4,
 "nbformat_minor": 4
}
