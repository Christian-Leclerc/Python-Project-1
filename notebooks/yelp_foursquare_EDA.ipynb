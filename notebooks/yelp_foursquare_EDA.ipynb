{
 "cells": [
  {
   "cell_type": "code",
   "execution_count": 68,
   "metadata": {
    "tags": []
   },
   "outputs": [],
   "source": [
    "# imports\n",
    "import pandas as pd\n",
    "from pandas import json_normalize\n",
    "import json\n",
    "import requests\n",
    "import os\n",
    "from pprint import pp\n",
    "import time\n",
    "from IPython.display import clear_output\n",
    "import numpy as np\n",
    "import matplotlib.pyplot as plt\n",
    "%matplotlib inline"
   ]
  },
  {
   "cell_type": "markdown",
   "metadata": {},
   "source": [
    "# Foursquare"
   ]
  },
  {
   "cell_type": "markdown",
   "metadata": {},
   "source": [
    "#### Send a request to Foursquare with a small radius (1000m) for all the bike stations in your city of choice. "
   ]
  },
  {
   "cell_type": "code",
   "execution_count": 2,
   "metadata": {
    "tags": []
   },
   "outputs": [],
   "source": [
    "# Setting variables\n",
    "api_key = os.getenv('FOUR_SQUARE_API')\n",
    "url = 'https://api.foursquare.com/v3/places/search'\n",
    "headers = {\n",
    "    'Accept': 'application/json',\n",
    "    'Authorization': api_key\n",
    "}\n",
    "radius  = 1000 # 1 km\n",
    "categories = '10000,13000' #10000: Art and Entertainment, 13000: Dining and Restaurant(some bars)\n",
    "fields = 'fsq_id,name,rating,popularity,price,categories,distance,geocodes'\n",
    "limit = 50\n",
    "time_per_request = 1 / 100  # 1 second / 100 QPS - FourSquare API rate limit\n",
    "responses = [] # list for dumping responses along the way in case of error"
   ]
  },
  {
   "cell_type": "code",
   "execution_count": 3,
   "metadata": {
    "tags": []
   },
   "outputs": [],
   "source": [
    "# Load locations from stations.csv\n",
    "stations = pd.read_csv('../data/stations.csv', index_col=None)\n",
    "\n",
    "# Create a list of paired (latitude, longitude)\n",
    "locations = [f\"{lat},{long}\" for lat, long in zip(stations['latitude'], stations['longitude'])]"
   ]
  },
  {
   "cell_type": "code",
   "execution_count": 12,
   "metadata": {
    "tags": []
   },
   "outputs": [],
   "source": [
    "# GET request for each locations\n",
    "\n",
    "# Continue from last error, if any\n",
    "try:\n",
    "    with open('../data/responses_fsq.json', 'r') as f:\n",
    "        responses = json.load(f)\n",
    "except FileNotFoundError:\n",
    "    pass\n",
    "\n",
    "# Loop throught locations\n",
    "for location in locations[len(responses):]:\n",
    "    params = {\n",
    "        'll': location,\n",
    "        'radius': radius,\n",
    "        'fields': fields,\n",
    "        'categories': categories,\n",
    "        'limit': limit\n",
    "    }\n",
    "    try:\n",
    "        response = requests.get(url, params=params, headers=headers)\n",
    "        response.raise_for_status()\n",
    "\n",
    "        responses.append(response.json())\n",
    "\n",
    "        # Save intermediate progress after each successful request\n",
    "        with open('../data/responses_fsq.json', 'w') as f:\n",
    "            json.dump(responses, f)\n",
    "\n",
    "    except requests.exceptions.RequestException as error:\n",
    "        print(f\"Error: {error}\")\n",
    "        # Break out of the loop when an error occurs\n",
    "        break\n",
    "\n",
    "    time.sleep(time_per_request)\n",
    "\n",
    "    # Stop the loop if an error occurred\n",
    "    if 'error' in response.json():\n",
    "        break"
   ]
  },
  {
   "cell_type": "markdown",
   "metadata": {},
   "source": [
    "#### Parse through the response to get the POI (such as restaurants, bars, etc) details you want (ratings, name, location, etc)"
   ]
  },
  {
   "cell_type": "code",
   "execution_count": 14,
   "metadata": {},
   "outputs": [
    {
     "name": "stdout",
     "output_type": "stream",
     "text": [
      "{'results': [{'fsq_id': '4cb240b8cbab236ae154af73',\n",
      "              'categories': [{'id': 13236,\n",
      "                              'name': 'Italian Restaurant',\n",
      "                              'icon': {...}}],\n",
      "              'distance': 941,\n",
      "              'geocodes': {'main': {'latitude': 45.617439,\n",
      "                                    'longitude': -73.593995},\n",
      "                           'roof': {'latitude': 45.617439,\n",
      "                                    'longitude': -73.593995}},\n",
      "              'name': 'Restaurant Prima Luna',\n",
      "              'popularity': 0.9848918500445737,\n",
      "              'price': 1,\n",
      "              'rating': 7.4},\n",
      "             {'fsq_id': '4e0b48221f6edc06be259aec',\n",
      "              'categories': [{'id': 10039,\n",
      "                              'name': 'Music Venue',\n",
      "                              'icon': {...}},\n",
      "                             {'id': 11130,\n",
      "                              'name': 'Office Building',\n",
      "                              'icon': {...}}],\n",
      "              'distance': 19,\n",
      "              'geocodes': {'drop_off': {'latitude': 45.617369,\n",
      "                                        'longitude': -73.60642},\n",
      "                           'main': {'latitude': 45.617818,\n",
      "                                    'longitude': -73.606},\n",
      "                           'roof': {'latitude': 45.617818,\n",
      "                                    'longitude': -73.606}},\n",
      "              'name': 'Salle Désilets',\n",
      "              'popularity': 0.96878665603153},\n",
      "             {'fsq_id': '4ea9b28cb803cf1ffacd7c0d',\n",
      "              'categories': [{'id': 13034, 'name': 'Café', 'icon': {...}},\n",
      "                             {'id': 13035,\n",
      "                              'name': 'Coffee Shop',\n",
      "                              'icon': {...}}],\n",
      "              'distance': 79,\n",
      "              'geocodes': {'main': {'latitude': 45.617214,\n",
      "                                    'longitude': -73.604961},\n",
      "                           'roof': {'latitude': 45.617214,\n",
      "                                    'longitude': -73.604961}},\n",
      "              'name': \"Café l'Exil\",\n",
      "              'popularity': 0.8685074836953972,\n",
      "              'price': 1},\n",
      "             {'fsq_id': '4de7c3322271b9ccf4e4edbe',\n",
      "              'categories': [{'id': 13002, 'name': 'Bakery', 'icon': {...}},\n",
      "                             {'id': 13236,\n",
      "                              'name': 'Italian Restaurant',\n",
      "                              'icon': {...}}],\n",
      "              'distance': 240,\n",
      "              'geocodes': {'main': {'latitude': 45.619507,\n",
      "                                    'longitude': -73.6096},\n",
      "                           'roof': {'latitude': 45.619507,\n",
      "                                    'longitude': -73.6096}},\n",
      "              'name': 'Capucine',\n",
      "              'popularity': 0.9913667714540422,\n",
      "              'price': 2},\n",
      "             {'fsq_id': '539b2831498efdb7bfabf900',\n",
      "              'categories': [{'id': 13002, 'name': 'Bakery', 'icon': {...}},\n",
      "                             {'id': 13047,\n",
      "                              'name': 'Pastry Shop',\n",
      "                              'icon': {...}}],\n",
      "              'distance': 587,\n",
      "              'geocodes': {'main': {'latitude': 45.622126,\n",
      "                                    'longitude': -73.601188},\n",
      "                           'roof': {'latitude': 45.622126,\n",
      "                                    'longitude': -73.601188}},\n",
      "              'name': 'Biscuits Heavenly Taste Biscotti',\n",
      "              'popularity': 0.8245788955097828,\n",
      "              'price': 1},\n",
      "             {'fsq_id': '5660cd6975364081d71764ee',\n",
      "              'categories': [{'id': 13065, 'name': 'Restaurant', 'icon': {...}},\n",
      "                             {'id': 13065,\n",
      "                              'name': 'Restaurant',\n",
      "                              'icon': {...}}],\n",
      "              'distance': 641,\n",
      "              'geocodes': {'main': {'latitude': 45.611729,\n",
      "                                    'longitude': -73.606237},\n",
      "                           'roof': {'latitude': 45.611729,\n",
      "                                    'longitude': -73.606237}},\n",
      "              'name': 'Ecafé'},\n",
      "             {'fsq_id': '4efcf2012c5b66f3397b9ce0',\n",
      "              'categories': [{'id': 13352,\n",
      "                              'name': 'Thai Restaurant',\n",
      "                              'icon': {...}}],\n",
      "              'distance': 696,\n",
      "              'geocodes': {'main': {'latitude': 45.6233,\n",
      "                                    'longitude': -73.602149},\n",
      "                           'roof': {'latitude': 45.6233,\n",
      "                                    'longitude': -73.602149}},\n",
      "              'name': 'Restaurant Phoenix Oriental',\n",
      "              'popularity': 0.9687162764509923,\n",
      "              'price': 2},\n",
      "             {'fsq_id': '4bd3682341b9ef3b181e00e6',\n",
      "              'categories': [{'id': 13065,\n",
      "                              'name': 'Restaurant',\n",
      "                              'icon': {...}}],\n",
      "              'distance': 773,\n",
      "              'geocodes': {'main': {'latitude': 45.623543,\n",
      "                                    'longitude': -73.60138},\n",
      "                           'roof': {'latitude': 45.623543,\n",
      "                                    'longitude': -73.60138}},\n",
      "              'name': 'Restaurant Shekz',\n",
      "              'popularity': 0.2667972598883311},\n",
      "             {'fsq_id': '8717e6e2e93b4cc1c260cc7e',\n",
      "              'categories': [{'id': 13002, 'name': 'Bakery', 'icon': {...}}],\n",
      "              'distance': 919,\n",
      "              'geocodes': {'main': {'latitude': 45.61184,\n",
      "                                    'longitude': -73.614639},\n",
      "                           'roof': {'latitude': 45.61184,\n",
      "                                    'longitude': -73.614639}},\n",
      "              'name': 'Boulangerie Patisserie Charcuterie Sapori Veri Inc',\n",
      "              'price': 1},\n",
      "             {'fsq_id': '4b2c3ca0f964a5205ac424e3',\n",
      "              'categories': [{'id': 13064, 'name': 'Pizzeria', 'icon': {...}}],\n",
      "              'distance': 964,\n",
      "              'geocodes': {'main': {'latitude': 45.617734,\n",
      "                                    'longitude': -73.593471},\n",
      "                           'roof': {'latitude': 45.617734,\n",
      "                                    'longitude': -73.593471}},\n",
      "              'name': 'Pizzeria Etc',\n",
      "              'popularity': 0.3840027213437808,\n",
      "              'price': 1},\n",
      "             {'fsq_id': '4b9c5f9df964a520d16336e3',\n",
      "              'categories': [{'id': 10006,\n",
      "                              'name': 'Bowling Alley',\n",
      "                              'icon': {...}},\n",
      "                             {'id': 16000,\n",
      "                              'name': 'Landmarks and Outdoors',\n",
      "                              'icon': {...}}],\n",
      "              'distance': 969,\n",
      "              'geocodes': {'main': {'latitude': 45.611298,\n",
      "                                    'longitude': -73.596757},\n",
      "                           'roof': {'latitude': 45.611298,\n",
      "                                    'longitude': -73.596757}},\n",
      "              'name': 'Bowling Anjou-sur-le-lac',\n",
      "              'popularity': 0.979894899826397},\n",
      "             {'fsq_id': 'ec53d9eccf6a445dc5ad4526',\n",
      "              'categories': [{'id': 13022, 'name': 'Sports Bar', 'icon': {...}},\n",
      "                             {'id': 13236,\n",
      "                              'name': 'Italian Restaurant',\n",
      "                              'icon': {...}}],\n",
      "              'distance': 246,\n",
      "              'geocodes': {'drop_off': {'latitude': 45.61913,\n",
      "                                        'longitude': -73.608237},\n",
      "                           'main': {'latitude': 45.618905,\n",
      "                                    'longitude': -73.608463},\n",
      "                           'roof': {'latitude': 45.618905,\n",
      "                                    'longitude': -73.608463}},\n",
      "              'name': 'Resto-bar Capucine - Nord-Est de Montréal'},\n",
      "             {'fsq_id': '41bb1f8dfbc94dc5b2895fa2',\n",
      "              'categories': [{'id': 13002, 'name': 'Bakery', 'icon': {...}},\n",
      "                             {'id': 13047,\n",
      "                              'name': 'Pastry Shop',\n",
      "                              'icon': {...}}],\n",
      "              'distance': 635,\n",
      "              'geocodes': {'main': {'latitude': 45.622289,\n",
      "                                    'longitude': -73.601534},\n",
      "                           'roof': {'latitude': 45.622289,\n",
      "                                    'longitude': -73.601534}},\n",
      "              'name': 'Pâtisserie Safa'},\n",
      "             {'fsq_id': '071a64a5b5fe4b4c26477ff0',\n",
      "              'categories': [{'id': 13065,\n",
      "                              'name': 'Restaurant',\n",
      "                              'icon': {...}}],\n",
      "              'distance': 636,\n",
      "              'geocodes': {'main': {'latitude': 45.617138,\n",
      "                                    'longitude': -73.614183},\n",
      "                           'roof': {'latitude': 45.617138,\n",
      "                                    'longitude': -73.614183}},\n",
      "              'name': 'Hollywood Diner'},\n",
      "             {'fsq_id': '598f0623747e41848ab1057c',\n",
      "              'categories': [{'id': 13009,\n",
      "                              'name': 'Cocktail Bar',\n",
      "                              'icon': {...}},\n",
      "                             {'id': 13016, 'name': 'Lounge', 'icon': {...}}],\n",
      "              'distance': 661,\n",
      "              'geocodes': {'main': {'latitude': 45.611645,\n",
      "                                    'longitude': -73.607545},\n",
      "                           'roof': {'latitude': 45.611645,\n",
      "                                    'longitude': -73.607545}},\n",
      "              'name': 'Piano Bar la Belle Epoque'},\n",
      "             {'fsq_id': '65a6c92bd8a44c7be80069e3',\n",
      "              'categories': [{'id': 13065,\n",
      "                              'name': 'Restaurant',\n",
      "                              'icon': {...}}],\n",
      "              'distance': 687,\n",
      "              'geocodes': {'main': {'latitude': 45.616558,\n",
      "                                    'longitude': -73.614747},\n",
      "                           'roof': {'latitude': 45.616558,\n",
      "                                    'longitude': -73.614747}},\n",
      "              'name': 'Mon Ami Drive in'},\n",
      "             {'fsq_id': '8b9a7e2e32ec47839851178a',\n",
      "              'categories': [{'id': 13034, 'name': 'Café', 'icon': {...}},\n",
      "                             {'id': 13035,\n",
      "                              'name': 'Coffee Shop',\n",
      "                              'icon': {...}},\n",
      "                             {'id': 13065,\n",
      "                              'name': 'Restaurant',\n",
      "                              'icon': {...}}],\n",
      "              'distance': 715,\n",
      "              'geocodes': {'main': {'latitude': 45.623356,\n",
      "                                    'longitude': -73.6022},\n",
      "                           'roof': {'latitude': 45.623356,\n",
      "                                    'longitude': -73.6022}},\n",
      "              'name': 'Resto Bar Danesi'},\n",
      "             {'fsq_id': 'c0cb003cb4b640d17a3de993',\n",
      "              'categories': [{'id': 13347,\n",
      "                              'name': 'Tapas Restaurant',\n",
      "                              'icon': {...}}],\n",
      "              'distance': 743,\n",
      "              'geocodes': {'main': {'latitude': 45.623426,\n",
      "                                    'longitude': -73.601571},\n",
      "                           'roof': {'latitude': 45.623426,\n",
      "                                    'longitude': -73.601571}},\n",
      "              'name': 'Hendrix Tapas & Burgers'},\n",
      "             {'fsq_id': 'eec429fe03c84972cf87ffa7',\n",
      "              'categories': [{'id': 13003, 'name': 'Bar', 'icon': {...}},\n",
      "                             {'id': 13065,\n",
      "                              'name': 'Restaurant',\n",
      "                              'icon': {...}}],\n",
      "              'distance': 809,\n",
      "              'geocodes': {'drop_off': {'latitude': 45.624169,\n",
      "                                        'longitude': -73.601266},\n",
      "                           'main': {'latitude': 45.623946,\n",
      "                                    'longitude': -73.601151},\n",
      "                           'roof': {'latitude': 45.623946,\n",
      "                                    'longitude': -73.601151}},\n",
      "              'name': 'Cafe liana bar & grill'},\n",
      "             {'fsq_id': 'c0d67eb481024db296db0d77',\n",
      "              'categories': [{'id': 10000,\n",
      "                              'name': 'Arts and Entertainment',\n",
      "                              'icon': {...}}],\n",
      "              'distance': 835,\n",
      "              'geocodes': {'drop_off': {'latitude': 45.610256,\n",
      "                                        'longitude': -73.60954},\n",
      "                           'main': {'latitude': 45.610408,\n",
      "                                    'longitude': -73.609592},\n",
      "                           'roof': {'latitude': 45.610408,\n",
      "                                    'longitude': -73.609592}},\n",
      "              'name': 'Entre 2 Plaisirs Inc'},\n",
      "             {'fsq_id': '0117aa6279f840cbd11e8293',\n",
      "              'categories': [{'id': 13065,\n",
      "                              'name': 'Restaurant',\n",
      "                              'icon': {...}}],\n",
      "              'distance': 861,\n",
      "              'geocodes': {'drop_off': {'latitude': 45.611974,\n",
      "                                        'longitude': -73.613932},\n",
      "                           'main': {'latitude': 45.612137,\n",
      "                                    'longitude': -73.614018},\n",
      "                           'roof': {'latitude': 45.612137,\n",
      "                                    'longitude': -73.614018}},\n",
      "              'name': 'Restaurant Fuzion'},\n",
      "             {'fsq_id': '271f7a60134e442c0f8c312c',\n",
      "              'categories': [{'id': 13065,\n",
      "                              'name': 'Restaurant',\n",
      "                              'icon': {...}}],\n",
      "              'distance': 887,\n",
      "              'geocodes': {'drop_off': {'latitude': 45.611829,\n",
      "                                        'longitude': -73.614205},\n",
      "                           'main': {'latitude': 45.612017,\n",
      "                                    'longitude': -73.614305},\n",
      "                           'roof': {'latitude': 45.612017,\n",
      "                                    'longitude': -73.614305}},\n",
      "              'name': 'Resto Celta'},\n",
      "             {'fsq_id': '5656c3946c9f11b50d62b049',\n",
      "              'categories': [{'id': 13064, 'name': 'Pizzeria', 'icon': {...}}],\n",
      "              'distance': 906,\n",
      "              'geocodes': {'drop_off': {'latitude': 45.611724,\n",
      "                                        'longitude': -73.614402},\n",
      "                           'main': {'latitude': 45.6119,\n",
      "                                    'longitude': -73.614496},\n",
      "                           'roof': {'latitude': 45.6119,\n",
      "                                    'longitude': -73.614496}},\n",
      "              'name': 'Pizzeria Migusto'},\n",
      "             {'fsq_id': 'd71fdb701d2c44aee4e79ee9',\n",
      "              'categories': [{'id': 13276,\n",
      "                              'name': 'Sushi Restaurant',\n",
      "                              'icon': {...}}],\n",
      "              'distance': 953,\n",
      "              'geocodes': {'drop_off': {'latitude': 45.625066,\n",
      "                                        'longitude': -73.599559},\n",
      "                           'main': {'latitude': 45.624722,\n",
      "                                    'longitude': -73.599379},\n",
      "                           'roof': {'latitude': 45.624722,\n",
      "                                    'longitude': -73.599379}},\n",
      "              'name': 'O Sushi'},\n",
      "             {'fsq_id': '401e519268b849bfa9d2bc9b',\n",
      "              'categories': [{'id': 13003, 'name': 'Bar', 'icon': {...}},\n",
      "                             {'id': 13236,\n",
      "                              'name': 'Italian Restaurant',\n",
      "                              'icon': {...}}],\n",
      "              'distance': 960,\n",
      "              'geocodes': {'main': {'latitude': 45.609744,\n",
      "                                    'longitude': -73.611463},\n",
      "                           'roof': {'latitude': 45.609744,\n",
      "                                    'longitude': -73.611463}},\n",
      "              'name': 'La Veranda'}],\n",
      " 'context': {'geo_bounds': {'circle': {'center': {'latitude': 45.617499783128075,\n",
      "                                                  'longitude': -73.60601127147675},\n",
      "                                       'radius': 1000}}}}\n",
      "dict_keys(['fsq_id', 'categories', 'distance', 'geocodes', 'name', 'popularity', 'price', 'rating'])\n"
     ]
    }
   ],
   "source": [
    "# Visualize structure of FSq responses\n",
    "pp(responses[0], depth=5)\n",
    "pp(responses[0]['results'][0].keys())"
   ]
  },
  {
   "cell_type": "code",
   "execution_count": 15,
   "metadata": {},
   "outputs": [
    {
     "name": "stdout",
     "output_type": "stream",
     "text": [
      "Businesses with multiple categories: 18562\n",
      "                                   name  \\\n",
      "1                        Salle Désilets   \n",
      "2                           Café l'Exil   \n",
      "3                              Capucine   \n",
      "4      Biscuits Heavenly Taste Biscotti   \n",
      "5                                 Ecafé   \n",
      "...                                 ...   \n",
      "35168                           Fitzroy   \n",
      "35169                       Frite Alors   \n",
      "35171         Bootlegger, l'Authentique   \n",
      "35172                      Bar l'Barouf   \n",
      "35173                   Les 3 Brasseurs   \n",
      "\n",
      "                                              categories  num_categories  \n",
      "1      [{'id': 10039, 'name': 'Music Venue', 'icon': ...               2  \n",
      "2      [{'id': 13034, 'name': 'Café', 'icon': {'prefi...               2  \n",
      "3      [{'id': 13002, 'name': 'Bakery', 'icon': {'pre...               2  \n",
      "4      [{'id': 13002, 'name': 'Bakery', 'icon': {'pre...               2  \n",
      "5      [{'id': 13065, 'name': 'Restaurant', 'icon': {...               2  \n",
      "...                                                  ...             ...  \n",
      "35168  [{'id': 10045, 'name': 'Pool Hall', 'icon': {'...               2  \n",
      "35169  [{'id': 13031, 'name': 'Burger Joint', 'icon':...               3  \n",
      "35171  [{'id': 13009, 'name': 'Cocktail Bar', 'icon':...               2  \n",
      "35172  [{'id': 13006, 'name': 'Beer Bar', 'icon': {'p...               3  \n",
      "35173  [{'id': 13029, 'name': 'Brewery', 'icon': {'pr...               2  \n",
      "\n",
      "[18562 rows x 3 columns]\n"
     ]
    }
   ],
   "source": [
    "# Validate if categories can have mulitple items\n",
    "\n",
    "# Flatten the JSON structure using json_normalize\n",
    "df = json_normalize(responses, record_path='results')\n",
    "\n",
    "# Calculate the number of categories for each business\n",
    "df['num_categories'] = df['categories'].apply(len)\n",
    "\n",
    "# Check if any business has multiple categories\n",
    "businesses_with_multiple_categories = df[df['num_categories'] > 1]\n",
    "print(f\"Businesses with multiple categories: {len(businesses_with_multiple_categories)}\")\n",
    "print(businesses_with_multiple_categories[['name', 'categories', 'num_categories']])"
   ]
  },
  {
   "cell_type": "code",
   "execution_count": 43,
   "metadata": {},
   "outputs": [],
   "source": [
    "with open('../data/responses_fsq.json', 'r') as f:\n",
    "    responses = json.load(f)"
   ]
  },
  {
   "cell_type": "code",
   "execution_count": 44,
   "metadata": {},
   "outputs": [],
   "source": [
    "# Parsing required info: \n",
    "#   While exploring with 'Postman' requests, FourSquare doesn't always gives rating, popularity and price\n",
    "\n",
    "# List to store extracted items\n",
    "extracted_items = []\n",
    "\n",
    "# Iterate through each data entry\n",
    "for entry in responses:\n",
    "    # Use json_normalize to flatten the 'businesses' data\n",
    "    flattened_businesses = json_normalize(entry['results'])\n",
    "\n",
    "    # Iterate through each row in flattened_businesses\n",
    "    for idx, business in flattened_businesses.iterrows():\n",
    "        # Loop through categories and create a new entry for each category\n",
    "        for category in business['categories']:\n",
    "            extracted_item = {\n",
    "                'fsq_id': business['fsq_id'],\n",
    "                'name': business['name'],\n",
    "                'latitude': entry['context']['geo_bounds']['circle']['center']['latitude'],\n",
    "                'longitude': entry['context']['geo_bounds']['circle']['center']['longitude'],\n",
    "                'category_id': category['id'],\n",
    "                'category_name': category['name'],\n",
    "                'distance': business['distance'],\n",
    "                'rating': business.get('rating', np.nan),\n",
    "                'popularity': business.get('popularity', np.nan),\n",
    "                'price': business.get('price', np.nan)\n",
    "            }\n",
    "            extracted_items.append(extracted_item)"
   ]
  },
  {
   "cell_type": "markdown",
   "metadata": {},
   "source": [
    "#### Put your parsed results into a DataFrame"
   ]
  },
  {
   "cell_type": "code",
   "execution_count": 19,
   "metadata": {},
   "outputs": [
    {
     "data": {
      "text/html": [
       "<div>\n",
       "<style scoped>\n",
       "    .dataframe tbody tr th:only-of-type {\n",
       "        vertical-align: middle;\n",
       "    }\n",
       "\n",
       "    .dataframe tbody tr th {\n",
       "        vertical-align: top;\n",
       "    }\n",
       "\n",
       "    .dataframe thead th {\n",
       "        text-align: right;\n",
       "    }\n",
       "</style>\n",
       "<table border=\"1\" class=\"dataframe\">\n",
       "  <thead>\n",
       "    <tr style=\"text-align: right;\">\n",
       "      <th></th>\n",
       "      <th>fsq_id</th>\n",
       "      <th>name</th>\n",
       "      <th>latitude</th>\n",
       "      <th>longitude</th>\n",
       "      <th>category_id</th>\n",
       "      <th>category_name</th>\n",
       "      <th>distance</th>\n",
       "      <th>rating</th>\n",
       "      <th>popularity</th>\n",
       "      <th>price</th>\n",
       "    </tr>\n",
       "  </thead>\n",
       "  <tbody>\n",
       "    <tr>\n",
       "      <th>0</th>\n",
       "      <td>4cb240b8cbab236ae154af73</td>\n",
       "      <td>Restaurant Prima Luna</td>\n",
       "      <td>45.6175</td>\n",
       "      <td>-73.606011</td>\n",
       "      <td>13236</td>\n",
       "      <td>Italian Restaurant</td>\n",
       "      <td>941</td>\n",
       "      <td>7.4</td>\n",
       "      <td>0.984892</td>\n",
       "      <td>1.0</td>\n",
       "    </tr>\n",
       "    <tr>\n",
       "      <th>1</th>\n",
       "      <td>4e0b48221f6edc06be259aec</td>\n",
       "      <td>Salle Désilets</td>\n",
       "      <td>45.6175</td>\n",
       "      <td>-73.606011</td>\n",
       "      <td>10039</td>\n",
       "      <td>Music Venue</td>\n",
       "      <td>19</td>\n",
       "      <td>NaN</td>\n",
       "      <td>0.968787</td>\n",
       "      <td>NaN</td>\n",
       "    </tr>\n",
       "    <tr>\n",
       "      <th>2</th>\n",
       "      <td>4e0b48221f6edc06be259aec</td>\n",
       "      <td>Salle Désilets</td>\n",
       "      <td>45.6175</td>\n",
       "      <td>-73.606011</td>\n",
       "      <td>11130</td>\n",
       "      <td>Office Building</td>\n",
       "      <td>19</td>\n",
       "      <td>NaN</td>\n",
       "      <td>0.968787</td>\n",
       "      <td>NaN</td>\n",
       "    </tr>\n",
       "    <tr>\n",
       "      <th>3</th>\n",
       "      <td>4ea9b28cb803cf1ffacd7c0d</td>\n",
       "      <td>Café l'Exil</td>\n",
       "      <td>45.6175</td>\n",
       "      <td>-73.606011</td>\n",
       "      <td>13034</td>\n",
       "      <td>Café</td>\n",
       "      <td>79</td>\n",
       "      <td>NaN</td>\n",
       "      <td>0.868507</td>\n",
       "      <td>1.0</td>\n",
       "    </tr>\n",
       "    <tr>\n",
       "      <th>4</th>\n",
       "      <td>4ea9b28cb803cf1ffacd7c0d</td>\n",
       "      <td>Café l'Exil</td>\n",
       "      <td>45.6175</td>\n",
       "      <td>-73.606011</td>\n",
       "      <td>13035</td>\n",
       "      <td>Coffee Shop</td>\n",
       "      <td>79</td>\n",
       "      <td>NaN</td>\n",
       "      <td>0.868507</td>\n",
       "      <td>1.0</td>\n",
       "    </tr>\n",
       "  </tbody>\n",
       "</table>\n",
       "</div>"
      ],
      "text/plain": [
       "                     fsq_id                   name  latitude  longitude  \\\n",
       "0  4cb240b8cbab236ae154af73  Restaurant Prima Luna   45.6175 -73.606011   \n",
       "1  4e0b48221f6edc06be259aec         Salle Désilets   45.6175 -73.606011   \n",
       "2  4e0b48221f6edc06be259aec         Salle Désilets   45.6175 -73.606011   \n",
       "3  4ea9b28cb803cf1ffacd7c0d            Café l'Exil   45.6175 -73.606011   \n",
       "4  4ea9b28cb803cf1ffacd7c0d            Café l'Exil   45.6175 -73.606011   \n",
       "\n",
       "   category_id       category_name  distance  rating  popularity  price  \n",
       "0        13236  Italian Restaurant       941     7.4    0.984892    1.0  \n",
       "1        10039         Music Venue        19     NaN    0.968787    NaN  \n",
       "2        11130     Office Building        19     NaN    0.968787    NaN  \n",
       "3        13034                Café        79     NaN    0.868507    1.0  \n",
       "4        13035         Coffee Shop        79     NaN    0.868507    1.0  "
      ]
     },
     "execution_count": 19,
     "metadata": {},
     "output_type": "execute_result"
    }
   ],
   "source": [
    "# Create dataframe\n",
    "df_businesses = pd.DataFrame(extracted_items)\n",
    "df_businesses.head()"
   ]
  },
  {
   "cell_type": "markdown",
   "metadata": {},
   "source": [
    "## Pre_cleaning"
   ]
  },
  {
   "cell_type": "code",
   "execution_count": 45,
   "metadata": {},
   "outputs": [
    {
     "name": "stdout",
     "output_type": "stream",
     "text": [
      "0\n"
     ]
    }
   ],
   "source": [
    "# Any duplicates?\n",
    "print(df_businesses.duplicated().sum())"
   ]
  },
  {
   "cell_type": "code",
   "execution_count": 46,
   "metadata": {},
   "outputs": [
    {
     "name": "stdout",
     "output_type": "stream",
     "text": [
      "0\n"
     ]
    }
   ],
   "source": [
    "# Drop duplicates\n",
    "fsq_with_dupes = df_businesses.copy() # Just in case!\n",
    "df_businesses.drop_duplicates(inplace=True)\n",
    "print(df_businesses.duplicated().sum())"
   ]
  },
  {
   "cell_type": "code",
   "execution_count": 47,
   "metadata": {},
   "outputs": [
    {
     "name": "stdout",
     "output_type": "stream",
     "text": [
      "<class 'pandas.core.frame.DataFrame'>\n",
      "Int64Index: 60329 entries, 0 to 60328\n",
      "Data columns (total 10 columns):\n",
      " #   Column         Non-Null Count  Dtype  \n",
      "---  ------         --------------  -----  \n",
      " 0   fsq_id         60329 non-null  object \n",
      " 1   name           60329 non-null  object \n",
      " 2   latitude       60329 non-null  float64\n",
      " 3   longitude      60329 non-null  float64\n",
      " 4   category_id    60329 non-null  int64  \n",
      " 5   category_name  60329 non-null  object \n",
      " 6   distance       60329 non-null  int64  \n",
      " 7   rating         40312 non-null  float64\n",
      " 8   popularity     51905 non-null  float64\n",
      " 9   price          43693 non-null  float64\n",
      "dtypes: float64(5), int64(2), object(3)\n",
      "memory usage: 5.1+ MB\n"
     ]
    }
   ],
   "source": [
    "# Any-null? and Dtypes info\n",
    "df_businesses.info()"
   ]
  },
  {
   "cell_type": "markdown",
   "metadata": {},
   "source": [
    "#### Overview:\n",
    "- For rating: we could try to get the rating value from Yelp to reduce the number of missing value (need scaling)\n",
    "- For popularity: Will need to drop these only if they don't have a rating either.\n",
    "- For price: Only keep if they have a rating."
   ]
  },
  {
   "cell_type": "code",
   "execution_count": 48,
   "metadata": {},
   "outputs": [
    {
     "name": "stdout",
     "output_type": "stream",
     "text": [
      "Index            482632\n",
      "fsq_id           482632\n",
      "name             482632\n",
      "latitude         482632\n",
      "longitude        482632\n",
      "category_id      482632\n",
      "category_name    482632\n",
      "distance         482632\n",
      "rating           482632\n",
      "popularity       482632\n",
      "price            482632\n",
      "dtype: int64\n"
     ]
    }
   ],
   "source": [
    "# Check memory\n",
    "print(df_businesses.memory_usage())"
   ]
  },
  {
   "cell_type": "code",
   "execution_count": 49,
   "metadata": {},
   "outputs": [
    {
     "name": "stdout",
     "output_type": "stream",
     "text": [
      "[0.985 0.969 0.869 0.991 0.825   nan 0.267 0.384 0.98  0.923 0.955 0.976\n",
      " 0.928 0.944 0.956 0.961 0.974 0.967 0.972 0.938 0.979 0.951 0.953 0.975\n",
      " 0.982 0.963 0.973 0.966 0.96  0.937 0.981 0.931 0.989 0.947 0.987 0.95\n",
      " 0.948 0.983 0.926 0.958 0.978 0.946 0.965 0.957 0.924 0.997 0.249 0.873\n",
      " 0.561 0.933 0.191 0.945 0.268 0.125 0.22  0.699 0.988 0.964 0.999 0.177\n",
      " 0.89  0.998 0.666 0.922 0.905 0.848 0.214 0.949 0.917 0.495 0.874 0.282\n",
      " 0.42  0.064 0.354 0.881 0.918 0.994 0.043 0.934 0.145 0.117 0.334 0.553\n",
      " 0.493 0.344 0.644 0.893 0.939 0.992 0.67  0.858 0.993 0.862 0.864 0.157\n",
      " 0.258 0.996 0.91  0.487 0.682 0.082 0.82  0.97  0.649 0.932 0.901 0.796\n",
      " 0.001 0.808 0.925 0.857 0.899 0.952 0.935 0.241 0.936 0.907 0.916 0.962\n",
      " 0.277 0.294 0.837 0.86  0.566 0.421 0.409 0.393 0.919 0.971 0.904 0.459\n",
      " 0.114 0.828 0.841 0.871 0.8   0.88  0.84  0.093 0.849 0.929 0.913 0.878\n",
      " 0.499 0.695 0.095 0.879 0.829 0.902 0.898 0.859 0.912 0.884 0.113 0.746\n",
      " 0.091 0.434 0.806 0.818 0.669 0.827 0.38  0.097 0.85  0.75  0.876 0.866\n",
      " 0.637 0.62  0.831 0.801 0.539 0.886 0.139 0.719 0.458 0.74  0.751 0.927\n",
      " 0.93  0.889 0.218 0.891 0.209 0.758 0.903 0.959 0.906 0.968 0.872 0.954\n",
      " 0.142 0.728 0.263 0.283 0.73  0.867 0.9   0.725 0.275 0.839 0.063 0.943\n",
      " 0.12  0.524 0.977 0.842 0.877 0.87  0.577 0.99  0.888 0.921 0.914 0.908\n",
      " 0.911 0.909 0.376 0.772 0.94  0.468 0.92  0.813 0.43  0.311 0.049 0.776\n",
      " 0.851 0.984 0.942 1.    0.995 0.861 0.173 0.846 0.371 0.885 0.986 0.593\n",
      " 0.819 0.793 0.65  0.803 0.033 0.37  0.56  0.854 0.017 0.597 0.733 0.892\n",
      " 0.609 0.154 0.915 0.815 0.381 0.834 0.852 0.816 0.661 0.412 0.809 0.016\n",
      " 0.883 0.626 0.81  0.941 0.896 0.343 0.232 0.573 0.486 0.657 0.212 0.592\n",
      " 0.415 0.807 0.589 0.392 0.13  0.583 0.64  0.33  0.545 0.676 0.08  0.092\n",
      " 0.036 0.835 0.622 0.031 0.3   0.646 0.454 0.378 0.844 0.727 0.137 0.599\n",
      " 0.513 0.479 0.171 0.607 0.833 0.756 0.604 0.477 0.4   0.855 0.52  0.115\n",
      " 0.181 0.301 0.642 0.009 0.401 0.596 0.21  0.061 0.292 0.467 0.777 0.072\n",
      " 0.838 0.112 0.027 0.713 0.271 0.736 0.044 0.832 0.439 0.098 0.601 0.104\n",
      " 0.738 0.322 0.315 0.732 0.508 0.279 0.385 0.397 0.318 0.078 0.653 0.638\n",
      " 0.709 0.7   0.254 0.836 0.197 0.716 0.028 0.221 0.386 0.632 0.246 0.641\n",
      " 0.466 0.868 0.446 0.737 0.416 0.797 0.193 0.123 0.229 0.856 0.568 0.863\n",
      " 0.68  0.441 0.457 0.826 0.612 0.731 0.431 0.244 0.46  0.689 0.084 0.764\n",
      " 0.688 0.314 0.645 0.068 0.521 0.685 0.435 0.106 0.83  0.148 0.895 0.581\n",
      " 0.845 0.391 0.575 0.483 0.721 0.367 0.453 0.629 0.219 0.04  0.067 0.264\n",
      " 0.355 0.582 0.773 0.175 0.121 0.556 0.634 0.759 0.202 0.536 0.252 0.865\n",
      " 0.262 0.778 0.022 0.174 0.02  0.003 0.086 0.347 0.507 0.613 0.032 0.299\n",
      " 0.162 0.324 0.625 0.06  0.302 0.748 0.122 0.769 0.015 0.595 0.752 0.814\n",
      " 0.526 0.683 0.008 0.293 0.272 0.552 0.784 0.897 0.558 0.786 0.624 0.824\n",
      " 0.319 0.346 0.567 0.515 0.633 0.227 0.616 0.358 0.31  0.274 0.427 0.608\n",
      " 0.463 0.351 0.783 0.025 0.882 0.088 0.077 0.853 0.215 0.602 0.362 0.447\n",
      " 0.105 0.073 0.795 0.617 0.811 0.781 0.465 0.09  0.847 0.305 0.714 0.276\n",
      " 0.437 0.557 0.183 0.894 0.631 0.356 0.475 0.875 0.843 0.046 0.329 0.124\n",
      " 0.396 0.25  0.501 0.794 0.006 0.286 0.185 0.587 0.225 0.161 0.131 0.251\n",
      " 0.511 0.363 0.23  0.798 0.822 0.6   0.503 0.527 0.042 0.821 0.217 0.011\n",
      " 0.805 0.352 0.44  0.399 0.074 0.532 0.132 0.1   0.11  0.572 0.564 0.734\n",
      " 0.498 0.057 0.099 0.32  0.611 0.059 0.065 0.398 0.423 0.297 0.754 0.004\n",
      " 0.614 0.024 0.496 0.186 0.085 0.571 0.357 0.27  0.66  0.166 0.307 0.116\n",
      " 0.265 0.179 0.238 0.744 0.096 0.235 0.745 0.159 0.211 0.309 0.019 0.176\n",
      " 0.365 0.551 0.411 0.243 0.735 0.237 0.485 0.54  0.771 0.359 0.887 0.774\n",
      " 0.675 0.621 0.706 0.555 0.222 0.636 0.102 0.317 0.404 0.531 0.189 0.686\n",
      " 0.273 0.505 0.422 0.799 0.585 0.198 0.701 0.298 0.425 0.802 0.542 0.205\n",
      " 0.054 0.039 0.289 0.509 0.543 0.231 0.052 0.257 0.58  0.584 0.687 0.056\n",
      " 0.693 0.817 0.081 0.667 0.757 0.224 0.478 0.823 0.574 0.147 0.403 0.127\n",
      " 0.768 0.48  0.516 0.708 0.548 0.014 0.512 0.256 0.269 0.741 0.255 0.295\n",
      " 0.635 0.18  0.103 0.698 0.623 0.47  0.443 0.812 0.474 0.316 0.77  0.135\n",
      " 0.76  0.785 0.662 0.28  0.576 0.406 0.694 0.34  0.375 0.417 0.109 0.476\n",
      " 0.326 0.78  0.788 0.761 0.691 0.14  0.442 0.321 0.213 0.199 0.041 0.389\n",
      " 0.413 0.702 0.29  0.188 0.156 0.506 0.456 0.671 0.647 0.323 0.63  0.158]\n",
      "[ 1. nan  2.  3.  4.]\n"
     ]
    }
   ],
   "source": [
    "# Check column popularity and price\n",
    "print(df_businesses['popularity'].unique())\n",
    "print(df_businesses['price'].unique())"
   ]
  },
  {
   "cell_type": "code",
   "execution_count": 50,
   "metadata": {},
   "outputs": [],
   "source": [
    "# Convert type\n",
    "\n",
    "df_businesses['popularity'] = df_businesses['popularity'].round(3)\n",
    "df_businesses['price'] = pd.to_numeric(\n",
    "    df_businesses['price'], \n",
    "    errors='coerce'\n",
    ").astype('Int16')\n"
   ]
  },
  {
   "cell_type": "code",
   "execution_count": 51,
   "metadata": {},
   "outputs": [
    {
     "name": "stdout",
     "output_type": "stream",
     "text": [
      "fsq_id            object\n",
      "name              object\n",
      "latitude         float64\n",
      "longitude        float64\n",
      "category_id        int64\n",
      "category_name     object\n",
      "distance           int64\n",
      "rating           float64\n",
      "popularity       float64\n",
      "price              Int16\n",
      "dtype: object\n"
     ]
    },
    {
     "data": {
      "text/plain": [
       "Index            482632\n",
       "fsq_id           482632\n",
       "name             482632\n",
       "latitude         482632\n",
       "longitude        482632\n",
       "category_id      482632\n",
       "category_name    482632\n",
       "distance         482632\n",
       "rating           482632\n",
       "popularity       482632\n",
       "price            180987\n",
       "dtype: int64"
      ]
     },
     "execution_count": 51,
     "metadata": {},
     "output_type": "execute_result"
    }
   ],
   "source": [
    "print(df_businesses.dtypes)\n",
    "df_businesses.memory_usage()\n"
   ]
  },
  {
   "cell_type": "code",
   "execution_count": 52,
   "metadata": {},
   "outputs": [
    {
     "data": {
      "text/html": [
       "<div>\n",
       "<style scoped>\n",
       "    .dataframe tbody tr th:only-of-type {\n",
       "        vertical-align: middle;\n",
       "    }\n",
       "\n",
       "    .dataframe tbody tr th {\n",
       "        vertical-align: top;\n",
       "    }\n",
       "\n",
       "    .dataframe thead th {\n",
       "        text-align: right;\n",
       "    }\n",
       "</style>\n",
       "<table border=\"1\" class=\"dataframe\">\n",
       "  <thead>\n",
       "    <tr style=\"text-align: right;\">\n",
       "      <th></th>\n",
       "      <th>latitude</th>\n",
       "      <th>longitude</th>\n",
       "      <th>category_id</th>\n",
       "      <th>distance</th>\n",
       "      <th>rating</th>\n",
       "      <th>popularity</th>\n",
       "      <th>price</th>\n",
       "    </tr>\n",
       "  </thead>\n",
       "  <tbody>\n",
       "    <tr>\n",
       "      <th>count</th>\n",
       "      <td>60329.000000</td>\n",
       "      <td>60329.000000</td>\n",
       "      <td>60329.000000</td>\n",
       "      <td>60329.000000</td>\n",
       "      <td>40312.000000</td>\n",
       "      <td>51905.000000</td>\n",
       "      <td>43693.0</td>\n",
       "    </tr>\n",
       "    <tr>\n",
       "      <th>mean</th>\n",
       "      <td>45.522371</td>\n",
       "      <td>-73.590128</td>\n",
       "      <td>12836.274064</td>\n",
       "      <td>629.504136</td>\n",
       "      <td>8.010692</td>\n",
       "      <td>0.899001</td>\n",
       "      <td>1.58451</td>\n",
       "    </tr>\n",
       "    <tr>\n",
       "      <th>std</th>\n",
       "      <td>0.034438</td>\n",
       "      <td>0.041348</td>\n",
       "      <td>1076.562444</td>\n",
       "      <td>248.448190</td>\n",
       "      <td>0.916921</td>\n",
       "      <td>0.172436</td>\n",
       "      <td>0.687931</td>\n",
       "    </tr>\n",
       "    <tr>\n",
       "      <th>min</th>\n",
       "      <td>45.416295</td>\n",
       "      <td>-73.758227</td>\n",
       "      <td>10000.000000</td>\n",
       "      <td>4.000000</td>\n",
       "      <td>4.500000</td>\n",
       "      <td>0.001000</td>\n",
       "      <td>1.0</td>\n",
       "    </tr>\n",
       "    <tr>\n",
       "      <th>25%</th>\n",
       "      <td>45.502350</td>\n",
       "      <td>-73.608970</td>\n",
       "      <td>13018.000000</td>\n",
       "      <td>449.000000</td>\n",
       "      <td>7.500000</td>\n",
       "      <td>0.919000</td>\n",
       "      <td>1.0</td>\n",
       "    </tr>\n",
       "    <tr>\n",
       "      <th>50%</th>\n",
       "      <td>45.523481</td>\n",
       "      <td>-73.580994</td>\n",
       "      <td>13049.000000</td>\n",
       "      <td>664.000000</td>\n",
       "      <td>8.200000</td>\n",
       "      <td>0.951000</td>\n",
       "      <td>1.0</td>\n",
       "    </tr>\n",
       "    <tr>\n",
       "      <th>75%</th>\n",
       "      <td>45.539972</td>\n",
       "      <td>-73.566583</td>\n",
       "      <td>13095.000000</td>\n",
       "      <td>841.000000</td>\n",
       "      <td>8.700000</td>\n",
       "      <td>0.972000</td>\n",
       "      <td>2.0</td>\n",
       "    </tr>\n",
       "    <tr>\n",
       "      <th>max</th>\n",
       "      <td>45.702349</td>\n",
       "      <td>-73.436058</td>\n",
       "      <td>19055.000000</td>\n",
       "      <td>1000.000000</td>\n",
       "      <td>9.400000</td>\n",
       "      <td>1.000000</td>\n",
       "      <td>4.0</td>\n",
       "    </tr>\n",
       "  </tbody>\n",
       "</table>\n",
       "</div>"
      ],
      "text/plain": [
       "           latitude     longitude   category_id      distance        rating  \\\n",
       "count  60329.000000  60329.000000  60329.000000  60329.000000  40312.000000   \n",
       "mean      45.522371    -73.590128  12836.274064    629.504136      8.010692   \n",
       "std        0.034438      0.041348   1076.562444    248.448190      0.916921   \n",
       "min       45.416295    -73.758227  10000.000000      4.000000      4.500000   \n",
       "25%       45.502350    -73.608970  13018.000000    449.000000      7.500000   \n",
       "50%       45.523481    -73.580994  13049.000000    664.000000      8.200000   \n",
       "75%       45.539972    -73.566583  13095.000000    841.000000      8.700000   \n",
       "max       45.702349    -73.436058  19055.000000   1000.000000      9.400000   \n",
       "\n",
       "         popularity     price  \n",
       "count  51905.000000   43693.0  \n",
       "mean       0.899001   1.58451  \n",
       "std        0.172436  0.687931  \n",
       "min        0.001000       1.0  \n",
       "25%        0.919000       1.0  \n",
       "50%        0.951000       1.0  \n",
       "75%        0.972000       2.0  \n",
       "max        1.000000       4.0  "
      ]
     },
     "execution_count": 52,
     "metadata": {},
     "output_type": "execute_result"
    }
   ],
   "source": [
    "# Descriptive statistics\n",
    "df_businesses.describe()"
   ]
  },
  {
   "cell_type": "code",
   "execution_count": 74,
   "metadata": {},
   "outputs": [
    {
     "data": {
      "text/plain": [
       "<Figure size 1200x800 with 0 Axes>"
      ]
     },
     "metadata": {},
     "output_type": "display_data"
    },
    {
     "data": {
      "image/png": "[encoded data removed]",
      "text/plain": [
       "<Figure size 640x480 with 4 Axes>"
      ]
     },
     "metadata": {},
     "output_type": "display_data"
    }
   ],
   "source": [
    "# Histogram of each variables (raw data)\n",
    "plt.figure(figsize=(12, 8))\n",
    "df_businesses[['rating', 'popularity', 'price', 'category_id']].hist(bins=20, alpha=0.8)\n",
    "plt.tight_layout()"
   ]
  },
  {
   "cell_type": "markdown",
   "metadata": {},
   "source": [
    "## First impressions\n",
    "- a) Rating and popularity have a high mean, with maybe some outliers on the left.\n",
    "- b) price seems negative skewed too, with most of price between 1 and 2.\n",
    "    - Values include:\n",
    "        - 1 = Cheap\n",
    "        - 2 = Moderate\n",
    "        - 3 = Expensive\n",
    "        - 4 = Very Expensive.<br>\n",
    "    This is not abnormal, as Montreal is recognize having a lot of good restaurants with a majority of low prices and a few with very high prices.\n",
    "- c) Category_id has some data outside of the collected category (10,000's, 13,000's). Remove.\n",
    "- d) Popularity as some strong outliers in the low value. Should validate the impact on rating if removing them.\n"
   ]
  },
  {
   "cell_type": "code",
   "execution_count": 75,
   "metadata": {},
   "outputs": [
    {
     "name": "stdout",
     "output_type": "stream",
     "text": [
      "Number of out of range catgeory = 980\n"
     ]
    }
   ],
   "source": [
    "# a) and b) could be caused by the same outliers from c)\n",
    "out_of_cat = df_businesses[df_businesses['category_id'] > 14000]['category_id']\n",
    "print(f\"Number of out of range catgeory = {len(out_of_cat)}\")"
   ]
  },
  {
   "cell_type": "code",
   "execution_count": 77,
   "metadata": {},
   "outputs": [
    {
     "name": "stdout",
     "output_type": "stream",
     "text": [
      "Total rows popularity below 75% = 4294\n",
      "Total which have no ratings = 4142\n",
      "Average rating for pop below 75% = 6.7592105263157904\n"
     ]
    }
   ],
   "source": [
    "# d) Check low popularity value\n",
    "tot_pop = df_businesses[(df_businesses['popularity'] < 0.75)].shape[0]\n",
    "num_pop_no_rating = df_businesses[(df_businesses['popularity'] < 0.75) & (df_businesses['rating'].isnull())].shape[0]\n",
    "avg_rating = df_businesses[(df_businesses['popularity'] < 0.75) & (~df_businesses['rating'].isnull())]['rating'].mean()\n",
    "print(f\"Total rows popularity below 75% = {tot_pop}\")\n",
    "print(f\"Total which have no ratings = {num_pop_no_rating}\")\n",
    "print(f\"Average rating for pop below 75% = {avg_rating}\")"
   ]
  },
  {
   "cell_type": "markdown",
   "metadata": {},
   "source": [
    "- Most of the popularity below 75% have no ratings.\n",
    "- The average of ratings left is below the mean of the whole data (out of std dev also).\n",
    "- The subset is relatively small compare to the total of data (4294 out of 60329)"
   ]
  },
  {
   "cell_type": "code",
   "execution_count": 83,
   "metadata": {},
   "outputs": [
    {
     "name": "stdout",
     "output_type": "stream",
     "text": [
      "Pourcentage of missing rating for 10k category = 60%\n",
      "Pourcentage of missing rating for 13k category = 60%\n",
      "Pourcentage of 10k rows over total = 11%\n"
     ]
    }
   ],
   "source": [
    "# Validate the rating of each familiy of category (10,000's, 13,000's)\n",
    "num_rows_10k = df_businesses[df_businesses['category_id'].between(10000, 12999)].shape[0]\n",
    "num_rating_10k = df_businesses[(df_businesses['category_id'].between(10000, 12999)) & (df_businesses['rating'].isnull())].shape[0]\n",
    "\n",
    "num_rows_13k = df_businesses[df_businesses['category_id'].between(13000, 13999)].shape[0]\n",
    "num_rating_13k = df_businesses[(df_businesses['category_id'].between(13000, 13999)) & (df_businesses['rating'].isnull())].shape[0]\n",
    "\n",
    "print(f\"Pourcentage of missing rating for 10k category = {round(num_rating_10k/num_rows_10k*100)}%\")\n",
    "print(f\"Pourcentage of missing rating for 13k category = {round(num_rating_10k/num_rows_10k*100)}%\")\n",
    "print(f\"Pourcentage of 10k rows over total = {round((num_rows_10k/(num_rows_10k+num_rows_13k))*100)}%\")"
   ]
  },
  {
   "cell_type": "markdown",
   "metadata": {},
   "source": [
    "- It looks like it is difficult to get ratings at all from FourSquare...\n",
    "- It looks like Art & Entertainement category is less represented, and will even be more less if we remove the no rating rows. We should seperate it from the data and conentrate on the Dining & Restaurant."
   ]
  },
  {
   "cell_type": "code",
   "execution_count": 85,
   "metadata": {},
   "outputs": [
    {
     "data": {
      "text/html": [
       "<div>\n",
       "<style scoped>\n",
       "    .dataframe tbody tr th:only-of-type {\n",
       "        vertical-align: middle;\n",
       "    }\n",
       "\n",
       "    .dataframe tbody tr th {\n",
       "        vertical-align: top;\n",
       "    }\n",
       "\n",
       "    .dataframe thead th {\n",
       "        text-align: right;\n",
       "    }\n",
       "</style>\n",
       "<table border=\"1\" class=\"dataframe\">\n",
       "  <thead>\n",
       "    <tr style=\"text-align: right;\">\n",
       "      <th></th>\n",
       "      <th>latitude</th>\n",
       "      <th>longitude</th>\n",
       "      <th>category_id</th>\n",
       "      <th>distance</th>\n",
       "      <th>rating</th>\n",
       "      <th>popularity</th>\n",
       "      <th>price</th>\n",
       "    </tr>\n",
       "  </thead>\n",
       "  <tbody>\n",
       "    <tr>\n",
       "      <th>count</th>\n",
       "      <td>43449.000000</td>\n",
       "      <td>43449.000000</td>\n",
       "      <td>43449.000000</td>\n",
       "      <td>43449.000000</td>\n",
       "      <td>37127.000000</td>\n",
       "      <td>43449.000000</td>\n",
       "      <td>39769.0</td>\n",
       "    </tr>\n",
       "    <tr>\n",
       "      <th>mean</th>\n",
       "      <td>45.520035</td>\n",
       "      <td>-73.586848</td>\n",
       "      <td>13094.105733</td>\n",
       "      <td>629.259454</td>\n",
       "      <td>7.998131</td>\n",
       "      <td>0.945655</td>\n",
       "      <td>1.582564</td>\n",
       "    </tr>\n",
       "    <tr>\n",
       "      <th>std</th>\n",
       "      <td>0.028690</td>\n",
       "      <td>0.035389</td>\n",
       "      <td>102.671394</td>\n",
       "      <td>248.322153</td>\n",
       "      <td>0.923209</td>\n",
       "      <td>0.036683</td>\n",
       "      <td>0.690831</td>\n",
       "    </tr>\n",
       "    <tr>\n",
       "      <th>min</th>\n",
       "      <td>45.416295</td>\n",
       "      <td>-73.758227</td>\n",
       "      <td>13000.000000</td>\n",
       "      <td>4.000000</td>\n",
       "      <td>4.500000</td>\n",
       "      <td>0.750000</td>\n",
       "      <td>1.0</td>\n",
       "    </tr>\n",
       "    <tr>\n",
       "      <th>25%</th>\n",
       "      <td>45.502940</td>\n",
       "      <td>-73.601261</td>\n",
       "      <td>13032.000000</td>\n",
       "      <td>448.000000</td>\n",
       "      <td>7.500000</td>\n",
       "      <td>0.926000</td>\n",
       "      <td>1.0</td>\n",
       "    </tr>\n",
       "    <tr>\n",
       "      <th>50%</th>\n",
       "      <td>45.522225</td>\n",
       "      <td>-73.579130</td>\n",
       "      <td>13064.000000</td>\n",
       "      <td>664.000000</td>\n",
       "      <td>8.200000</td>\n",
       "      <td>0.954000</td>\n",
       "      <td>1.0</td>\n",
       "    </tr>\n",
       "    <tr>\n",
       "      <th>75%</th>\n",
       "      <td>45.535190</td>\n",
       "      <td>-73.567336</td>\n",
       "      <td>13145.000000</td>\n",
       "      <td>841.000000</td>\n",
       "      <td>8.700000</td>\n",
       "      <td>0.972000</td>\n",
       "      <td>2.0</td>\n",
       "    </tr>\n",
       "    <tr>\n",
       "      <th>max</th>\n",
       "      <td>45.702349</td>\n",
       "      <td>-73.436058</td>\n",
       "      <td>13389.000000</td>\n",
       "      <td>1000.000000</td>\n",
       "      <td>9.400000</td>\n",
       "      <td>1.000000</td>\n",
       "      <td>4.0</td>\n",
       "    </tr>\n",
       "  </tbody>\n",
       "</table>\n",
       "</div>"
      ],
      "text/plain": [
       "           latitude     longitude   category_id      distance        rating  \\\n",
       "count  43449.000000  43449.000000  43449.000000  43449.000000  37127.000000   \n",
       "mean      45.520035    -73.586848  13094.105733    629.259454      7.998131   \n",
       "std        0.028690      0.035389    102.671394    248.322153      0.923209   \n",
       "min       45.416295    -73.758227  13000.000000      4.000000      4.500000   \n",
       "25%       45.502940    -73.601261  13032.000000    448.000000      7.500000   \n",
       "50%       45.522225    -73.579130  13064.000000    664.000000      8.200000   \n",
       "75%       45.535190    -73.567336  13145.000000    841.000000      8.700000   \n",
       "max       45.702349    -73.436058  13389.000000   1000.000000      9.400000   \n",
       "\n",
       "         popularity     price  \n",
       "count  43449.000000   39769.0  \n",
       "mean       0.945655  1.582564  \n",
       "std        0.036683  0.690831  \n",
       "min        0.750000       1.0  \n",
       "25%        0.926000       1.0  \n",
       "50%        0.954000       1.0  \n",
       "75%        0.972000       2.0  \n",
       "max        1.000000       4.0  "
      ]
     },
     "execution_count": 85,
     "metadata": {},
     "output_type": "execute_result"
    }
   ],
   "source": [
    "# Filtering them out\n",
    "filtered_businesses = (\n",
    "    df_businesses[\n",
    "        (df_businesses['popularity'] >= .75) &\n",
    "        (df_businesses['category_id'].between(13000, 13999))\n",
    "    ]\n",
    ")\n",
    "filtered_businesses.describe()"
   ]
  },
  {
   "cell_type": "code",
   "execution_count": 88,
   "metadata": {},
   "outputs": [
    {
     "name": "stdout",
     "output_type": "stream",
     "text": [
      "<class 'pandas.core.frame.DataFrame'>\n",
      "Int64Index: 43449 entries, 0 to 60328\n",
      "Data columns (total 10 columns):\n",
      " #   Column         Non-Null Count  Dtype  \n",
      "---  ------         --------------  -----  \n",
      " 0   fsq_id         43449 non-null  object \n",
      " 1   name           43449 non-null  object \n",
      " 2   latitude       43449 non-null  float64\n",
      " 3   longitude      43449 non-null  float64\n",
      " 4   category_id    43449 non-null  int64  \n",
      " 5   category_name  43449 non-null  object \n",
      " 6   distance       43449 non-null  int64  \n",
      " 7   rating         37127 non-null  float64\n",
      " 8   popularity     43449 non-null  float64\n",
      " 9   price          39769 non-null  Int16  \n",
      "dtypes: Int16(1), float64(4), int64(2), object(3)\n",
      "memory usage: 3.4+ MB\n"
     ]
    }
   ],
   "source": [
    "filtered_businesses.info()"
   ]
  },
  {
   "cell_type": "code",
   "execution_count": 86,
   "metadata": {},
   "outputs": [
    {
     "data": {
      "text/plain": [
       "<Figure size 1200x800 with 0 Axes>"
      ]
     },
     "metadata": {},
     "output_type": "display_data"
    },
    {
     "data": {
      "image/png": "[encoded data removed]",
      "text/plain": [
       "<Figure size 640x480 with 4 Axes>"
      ]
     },
     "metadata": {},
     "output_type": "display_data"
    }
   ],
   "source": [
    "# Histogram of each variables (filtered data)\n",
    "plt.figure(figsize=(12, 8))\n",
    "filtered_businesses[['rating', 'popularity', 'price', 'category_id']].hist(bins=20, alpha=0.8)\n",
    "plt.tight_layout()"
   ]
  },
  {
   "cell_type": "code",
   "execution_count": 87,
   "metadata": {},
   "outputs": [],
   "source": [
    "# Create csv file\n",
    "filtered_businesses.to_csv('../data/fsq_businesses.csv', index=False)"
   ]
  },
  {
   "cell_type": "markdown",
   "metadata": {},
   "source": [
    "# Yelp"
   ]
  },
  {
   "cell_type": "markdown",
   "metadata": {},
   "source": [
    "#### Send a request to Yelp with a small radius (1000m) for all the bike stations in your city of choice. "
   ]
  },
  {
   "cell_type": "code",
   "execution_count": 5,
   "metadata": {
    "tags": []
   },
   "outputs": [],
   "source": [
    "# Note: The API does not return businesses without any reviews.\n",
    "\n",
    "# Setting variables\n",
    "api_key = os.getenv('YELP_API')\n",
    "url = 'https://api.yelp.com/v3/businesses/search'\n",
    "headers = {\n",
    "    'Accept': 'application/json',\n",
    "    'Authorization': 'Bearer ' + api_key\n",
    "}\n",
    "radius  = 1000 # 1 km\n",
    "time_per_request = 1 / 100  # 1 second / 100 QPS - Cannot find real QPS - Limit 500 per day\n",
    "responses = [] # list for dumping responses along the way in case of error"
   ]
  },
  {
   "cell_type": "code",
   "execution_count": 10,
   "metadata": {
    "tags": []
   },
   "outputs": [
    {
     "name": "stdout",
     "output_type": "stream",
     "text": [
      "Remaining calls: 202.0\n"
     ]
    }
   ],
   "source": [
    "# GET request for each locations\n",
    "\n",
    "# Continue from last error, if any, or from limit obtained for last day\n",
    "try:\n",
    "    with open('../data/responses_yelp.json', 'r') as f:\n",
    "        responses = json.load(f)\n",
    "except FileNotFoundError:\n",
    "    pass\n",
    "\n",
    "# Loop throught locations - Limit Max 500 per day\n",
    "\n",
    "max_iterations = 500\n",
    "start_index = len(responses)\n",
    "end_index = min(start_index + max_iterations, len(stations))\n",
    "\n",
    "for index in range(start_index, end_index):\n",
    "    params = {\n",
    "        'latitude': stations.iloc[index]['latitude'],\n",
    "        'longitude': stations.iloc[index]['longitude'],\n",
    "        'radius': radius\n",
    "    }\n",
    "\n",
    "    try:\n",
    "        response = requests.get(url, params=params, headers=headers)\n",
    "        response.raise_for_status()\n",
    "\n",
    "        responses.append(response.json())\n",
    "\n",
    "        # Save intermediate progress after each successful request\n",
    "        with open('../data/responses_yelp.json', 'w') as f:\n",
    "            json.dump(responses, f)\n",
    "\n",
    "        # Print progress\n",
    "        remaining = response.headers.get('RateLimit-Remaining')\n",
    "        clear_output(wait=True)\n",
    "        print(f\"Remaining calls: {remaining}\")\n",
    "        \n",
    "    except requests.exceptions.RequestException as error:\n",
    "        print(f\"Error: {error}\")\n",
    "        # Break out of the loop when an error occurs\n",
    "        break\n",
    "\n",
    "    time.sleep(time_per_request)\n",
    "\n",
    "    # Stop the loop if an error occurred\n",
    "    if 'error' in response.json():\n",
    "        break"
   ]
  },
  {
   "cell_type": "markdown",
   "metadata": {},
   "source": [
    "#### Parse through the response to get the POI (such as restaurants, bars, etc) details you want (ratings, name, location, etc)"
   ]
  },
  {
   "cell_type": "code",
   "execution_count": 30,
   "metadata": {},
   "outputs": [
    {
     "name": "stdout",
     "output_type": "stream",
     "text": [
      "Businesses with multiple categories: 15113\n",
      "                        name  \\\n",
      "1      Restaurant Prima Luna   \n",
      "2      Boulangerie Adriatica   \n",
      "3       Boulangerie Amaretti   \n",
      "5                Tim Hortons   \n",
      "6           Shekz Restaurant   \n",
      "...                      ...   \n",
      "15105        Les Deux Gamins   \n",
      "15106           Ichigo Ichie   \n",
      "15107                 O'Thym   \n",
      "15109               Nil Bleu   \n",
      "15111    La Demande Générale   \n",
      "\n",
      "                                              categories  num_categories  \n",
      "1      [{'alias': 'italian', 'title': 'Italian'}, {'a...               2  \n",
      "2      [{'alias': 'italian', 'title': 'Italian'}, {'a...               2  \n",
      "3      [{'alias': 'bakeries', 'title': 'Bakeries'}, {...               2  \n",
      "5      [{'alias': 'coffee', 'title': 'Coffee & Tea'},...               2  \n",
      "6      [{'alias': 'sushi', 'title': 'Sushi Bars'}, {'...               3  \n",
      "...                                                  ...             ...  \n",
      "15105  [{'alias': 'french', 'title': 'French'}, {'ali...               2  \n",
      "15106  [{'alias': 'japanese', 'title': 'Japanese'}, {...               2  \n",
      "15107  [{'alias': 'french', 'title': 'French'}, {'ali...               2  \n",
      "15109  [{'alias': 'ethiopian', 'title': 'Ethiopian'},...               2  \n",
      "15111  [{'alias': 'bistros', 'title': 'Bistros'}, {'a...               3  \n",
      "\n",
      "[7840 rows x 3 columns]\n"
     ]
    }
   ],
   "source": [
    "# Validate if categories can have mulitple items\n",
    "\n",
    "# Flatten the JSON structure using json_normalize\n",
    "df = json_normalize(responses, record_path='businesses')\n",
    "\n",
    "# Calculate the number of categories for each business\n",
    "df['num_categories'] = df['categories'].apply(len)\n",
    "\n",
    "# Check if any business has multiple categories\n",
    "businesses_with_multiple_categories = df[df['num_categories'] > 1]\n",
    "print(f\"Businesses with multiple categories: {len(businesses_with_multiple_categories)}\")\n",
    "print(businesses_with_multiple_categories[['name', 'categories', 'num_categories']])"
   ]
  },
  {
   "cell_type": "code",
   "execution_count": 7,
   "metadata": {},
   "outputs": [],
   "source": [
    "# Parsing required info\n",
    "\n",
    "# List to store extracted items\n",
    "extracted_items = []\n",
    "\n",
    "# Iterate through each data entry\n",
    "for entry in responses:\n",
    "    # Use json_normalize to flatten the 'businesses' data\n",
    "    flattened_businesses = json_normalize(entry['businesses'], sep='_')\n",
    "\n",
    "    # Iterate through each row in flattened_businesses\n",
    "    for idx, business in flattened_businesses.iterrows():\n",
    "        # Loop through categories and create a new entry for each category\n",
    "        for category in business['categories']:\n",
    "            extracted_item = {\n",
    "                'id': business['id'],\n",
    "                'name': business['name'],\n",
    "                'rating': business.get('rating', np.nan),\n",
    "                'price': business.get('price', np.nan),\n",
    "                'review_count': business['review_count'],\n",
    "                'latitude': entry['region']['center']['latitude'],\n",
    "                'longitude': entry['region']['center']['longitude'],\n",
    "                'category_alias': category['alias'],\n",
    "                'distance': business['distance']\n",
    "            }\n",
    "            extracted_items.append(extracted_item)"
   ]
  },
  {
   "cell_type": "markdown",
   "metadata": {},
   "source": [
    "#### Put your parsed results into a DataFrame"
   ]
  },
  {
   "cell_type": "code",
   "execution_count": 8,
   "metadata": {},
   "outputs": [
    {
     "data": {
      "text/html": [
       "<div>\n",
       "<style scoped>\n",
       "    .dataframe tbody tr th:only-of-type {\n",
       "        vertical-align: middle;\n",
       "    }\n",
       "\n",
       "    .dataframe tbody tr th {\n",
       "        vertical-align: top;\n",
       "    }\n",
       "\n",
       "    .dataframe thead th {\n",
       "        text-align: right;\n",
       "    }\n",
       "</style>\n",
       "<table border=\"1\" class=\"dataframe\">\n",
       "  <thead>\n",
       "    <tr style=\"text-align: right;\">\n",
       "      <th></th>\n",
       "      <th>id</th>\n",
       "      <th>name</th>\n",
       "      <th>rating</th>\n",
       "      <th>price</th>\n",
       "      <th>review_count</th>\n",
       "      <th>latitude</th>\n",
       "      <th>longitude</th>\n",
       "      <th>category_alias</th>\n",
       "      <th>distance</th>\n",
       "    </tr>\n",
       "  </thead>\n",
       "  <tbody>\n",
       "    <tr>\n",
       "      <th>0</th>\n",
       "      <td>vRJPrk-VH75uxLiVVprBhA</td>\n",
       "      <td>Capucine</td>\n",
       "      <td>5.0</td>\n",
       "      <td>NaN</td>\n",
       "      <td>4</td>\n",
       "      <td>45.6175</td>\n",
       "      <td>-73.606011</td>\n",
       "      <td>italian</td>\n",
       "      <td>375.111000</td>\n",
       "    </tr>\n",
       "    <tr>\n",
       "      <th>1</th>\n",
       "      <td>TyKGLi1V1PFRHYmHDjFUMQ</td>\n",
       "      <td>Restaurant Prima Luna</td>\n",
       "      <td>4.0</td>\n",
       "      <td>$$$</td>\n",
       "      <td>14</td>\n",
       "      <td>45.6175</td>\n",
       "      <td>-73.606011</td>\n",
       "      <td>italian</td>\n",
       "      <td>920.960695</td>\n",
       "    </tr>\n",
       "    <tr>\n",
       "      <th>2</th>\n",
       "      <td>TyKGLi1V1PFRHYmHDjFUMQ</td>\n",
       "      <td>Restaurant Prima Luna</td>\n",
       "      <td>4.0</td>\n",
       "      <td>$$$</td>\n",
       "      <td>14</td>\n",
       "      <td>45.6175</td>\n",
       "      <td>-73.606011</td>\n",
       "      <td>sushi</td>\n",
       "      <td>920.960695</td>\n",
       "    </tr>\n",
       "    <tr>\n",
       "      <th>3</th>\n",
       "      <td>DOVOYnq3y-milXVI03GIrg</td>\n",
       "      <td>Boulangerie Adriatica</td>\n",
       "      <td>4.0</td>\n",
       "      <td>NaN</td>\n",
       "      <td>1</td>\n",
       "      <td>45.6175</td>\n",
       "      <td>-73.606011</td>\n",
       "      <td>italian</td>\n",
       "      <td>365.542788</td>\n",
       "    </tr>\n",
       "    <tr>\n",
       "      <th>4</th>\n",
       "      <td>DOVOYnq3y-milXVI03GIrg</td>\n",
       "      <td>Boulangerie Adriatica</td>\n",
       "      <td>4.0</td>\n",
       "      <td>NaN</td>\n",
       "      <td>1</td>\n",
       "      <td>45.6175</td>\n",
       "      <td>-73.606011</td>\n",
       "      <td>pizza</td>\n",
       "      <td>365.542788</td>\n",
       "    </tr>\n",
       "  </tbody>\n",
       "</table>\n",
       "</div>"
      ],
      "text/plain": [
       "                       id                   name  rating price  review_count  \\\n",
       "0  vRJPrk-VH75uxLiVVprBhA               Capucine     5.0   NaN             4   \n",
       "1  TyKGLi1V1PFRHYmHDjFUMQ  Restaurant Prima Luna     4.0   $$$            14   \n",
       "2  TyKGLi1V1PFRHYmHDjFUMQ  Restaurant Prima Luna     4.0   $$$            14   \n",
       "3  DOVOYnq3y-milXVI03GIrg  Boulangerie Adriatica     4.0   NaN             1   \n",
       "4  DOVOYnq3y-milXVI03GIrg  Boulangerie Adriatica     4.0   NaN             1   \n",
       "\n",
       "   latitude  longitude category_alias    distance  \n",
       "0   45.6175 -73.606011        italian  375.111000  \n",
       "1   45.6175 -73.606011        italian  920.960695  \n",
       "2   45.6175 -73.606011          sushi  920.960695  \n",
       "3   45.6175 -73.606011        italian  365.542788  \n",
       "4   45.6175 -73.606011          pizza  365.542788  "
      ]
     },
     "execution_count": 8,
     "metadata": {},
     "output_type": "execute_result"
    }
   ],
   "source": [
    "# Create dataframe\n",
    "df_businesses = pd.DataFrame(extracted_items)\n",
    "df_businesses.head()"
   ]
  },
  {
   "cell_type": "markdown",
   "metadata": {},
   "source": [
    "#### Pre_cleaning"
   ]
  },
  {
   "cell_type": "code",
   "execution_count": 9,
   "metadata": {},
   "outputs": [
    {
     "name": "stdout",
     "output_type": "stream",
     "text": [
      "0\n"
     ]
    }
   ],
   "source": [
    "# Any duplicates?\n",
    "print(df_businesses.duplicated().sum())"
   ]
  },
  {
   "cell_type": "code",
   "execution_count": 10,
   "metadata": {},
   "outputs": [
    {
     "name": "stdout",
     "output_type": "stream",
     "text": [
      "<class 'pandas.core.frame.DataFrame'>\n",
      "RangeIndex: 26339 entries, 0 to 26338\n",
      "Data columns (total 9 columns):\n",
      " #   Column          Non-Null Count  Dtype  \n",
      "---  ------          --------------  -----  \n",
      " 0   id              26339 non-null  object \n",
      " 1   name            26339 non-null  object \n",
      " 2   rating          26339 non-null  float64\n",
      " 3   price           20389 non-null  object \n",
      " 4   review_count    26339 non-null  int64  \n",
      " 5   latitude        26339 non-null  float64\n",
      " 6   longitude       26339 non-null  float64\n",
      " 7   category_alias  26339 non-null  object \n",
      " 8   distance        26339 non-null  float64\n",
      "dtypes: float64(4), int64(1), object(4)\n",
      "memory usage: 1.8+ MB\n",
      "None\n"
     ]
    }
   ],
   "source": [
    "# Any-null? and Dtypes info\n",
    "print(df_businesses.info())"
   ]
  },
  {
   "cell_type": "code",
   "execution_count": 11,
   "metadata": {},
   "outputs": [
    {
     "name": "stdout",
     "output_type": "stream",
     "text": [
      "Index                132\n",
      "id                210712\n",
      "name              210712\n",
      "rating            210712\n",
      "price             210712\n",
      "review_count      210712\n",
      "latitude          210712\n",
      "longitude         210712\n",
      "category_alias    210712\n",
      "distance          210712\n",
      "dtype: int64\n"
     ]
    }
   ],
   "source": [
    "# Check memory\n",
    "print(df_businesses.memory_usage())"
   ]
  },
  {
   "cell_type": "code",
   "execution_count": 12,
   "metadata": {},
   "outputs": [
    {
     "name": "stdout",
     "output_type": "stream",
     "text": [
      "Index                132\n",
      "id                210712\n",
      "name              210712\n",
      "rating            210712\n",
      "price             210712\n",
      "review_count      210712\n",
      "latitude          210712\n",
      "longitude         210712\n",
      "category_alias     62558\n",
      "distance          210712\n",
      "dtype: int64\n"
     ]
    }
   ],
   "source": [
    "# Convert type\n",
    "df_businesses['review_count'] = df_businesses['review_count'].astype(int)\n",
    "df_businesses['category_alias'] = df_businesses['category_alias'].astype('category')\n",
    "df_businesses['distance'] = df_businesses['distance'].round().astype(int)\n",
    "print(df_businesses.memory_usage())"
   ]
  },
  {
   "cell_type": "code",
   "execution_count": 13,
   "metadata": {},
   "outputs": [
    {
     "data": {
      "text/html": [
       "<div>\n",
       "<style scoped>\n",
       "    .dataframe tbody tr th:only-of-type {\n",
       "        vertical-align: middle;\n",
       "    }\n",
       "\n",
       "    .dataframe tbody tr th {\n",
       "        vertical-align: top;\n",
       "    }\n",
       "\n",
       "    .dataframe thead th {\n",
       "        text-align: right;\n",
       "    }\n",
       "</style>\n",
       "<table border=\"1\" class=\"dataframe\">\n",
       "  <thead>\n",
       "    <tr style=\"text-align: right;\">\n",
       "      <th></th>\n",
       "      <th>id</th>\n",
       "      <th>name</th>\n",
       "      <th>rating</th>\n",
       "      <th>price</th>\n",
       "      <th>review_count</th>\n",
       "      <th>latitude</th>\n",
       "      <th>longitude</th>\n",
       "      <th>category_alias</th>\n",
       "      <th>distance</th>\n",
       "    </tr>\n",
       "  </thead>\n",
       "  <tbody>\n",
       "    <tr>\n",
       "      <th>0</th>\n",
       "      <td>vRJPrk-VH75uxLiVVprBhA</td>\n",
       "      <td>Capucine</td>\n",
       "      <td>5.0</td>\n",
       "      <td>NaN</td>\n",
       "      <td>4</td>\n",
       "      <td>45.6175</td>\n",
       "      <td>-73.606011</td>\n",
       "      <td>italian</td>\n",
       "      <td>375</td>\n",
       "    </tr>\n",
       "    <tr>\n",
       "      <th>1</th>\n",
       "      <td>TyKGLi1V1PFRHYmHDjFUMQ</td>\n",
       "      <td>Restaurant Prima Luna</td>\n",
       "      <td>4.0</td>\n",
       "      <td>$$$</td>\n",
       "      <td>14</td>\n",
       "      <td>45.6175</td>\n",
       "      <td>-73.606011</td>\n",
       "      <td>italian</td>\n",
       "      <td>921</td>\n",
       "    </tr>\n",
       "    <tr>\n",
       "      <th>2</th>\n",
       "      <td>TyKGLi1V1PFRHYmHDjFUMQ</td>\n",
       "      <td>Restaurant Prima Luna</td>\n",
       "      <td>4.0</td>\n",
       "      <td>$$$</td>\n",
       "      <td>14</td>\n",
       "      <td>45.6175</td>\n",
       "      <td>-73.606011</td>\n",
       "      <td>sushi</td>\n",
       "      <td>921</td>\n",
       "    </tr>\n",
       "    <tr>\n",
       "      <th>3</th>\n",
       "      <td>DOVOYnq3y-milXVI03GIrg</td>\n",
       "      <td>Boulangerie Adriatica</td>\n",
       "      <td>4.0</td>\n",
       "      <td>NaN</td>\n",
       "      <td>1</td>\n",
       "      <td>45.6175</td>\n",
       "      <td>-73.606011</td>\n",
       "      <td>italian</td>\n",
       "      <td>366</td>\n",
       "    </tr>\n",
       "    <tr>\n",
       "      <th>4</th>\n",
       "      <td>DOVOYnq3y-milXVI03GIrg</td>\n",
       "      <td>Boulangerie Adriatica</td>\n",
       "      <td>4.0</td>\n",
       "      <td>NaN</td>\n",
       "      <td>1</td>\n",
       "      <td>45.6175</td>\n",
       "      <td>-73.606011</td>\n",
       "      <td>pizza</td>\n",
       "      <td>366</td>\n",
       "    </tr>\n",
       "  </tbody>\n",
       "</table>\n",
       "</div>"
      ],
      "text/plain": [
       "                       id                   name  rating price  review_count  \\\n",
       "0  vRJPrk-VH75uxLiVVprBhA               Capucine     5.0   NaN             4   \n",
       "1  TyKGLi1V1PFRHYmHDjFUMQ  Restaurant Prima Luna     4.0   $$$            14   \n",
       "2  TyKGLi1V1PFRHYmHDjFUMQ  Restaurant Prima Luna     4.0   $$$            14   \n",
       "3  DOVOYnq3y-milXVI03GIrg  Boulangerie Adriatica     4.0   NaN             1   \n",
       "4  DOVOYnq3y-milXVI03GIrg  Boulangerie Adriatica     4.0   NaN             1   \n",
       "\n",
       "   latitude  longitude category_alias  distance  \n",
       "0   45.6175 -73.606011        italian       375  \n",
       "1   45.6175 -73.606011        italian       921  \n",
       "2   45.6175 -73.606011          sushi       921  \n",
       "3   45.6175 -73.606011        italian       366  \n",
       "4   45.6175 -73.606011          pizza       366  "
      ]
     },
     "execution_count": 13,
     "metadata": {},
     "output_type": "execute_result"
    }
   ],
   "source": [
    "df_businesses.head()"
   ]
  },
  {
   "cell_type": "code",
   "execution_count": 14,
   "metadata": {},
   "outputs": [
    {
     "name": "stdout",
     "output_type": "stream",
     "text": [
      "             rating  review_count      latitude     longitude      distance\n",
      "count  26339.000000  26339.000000  26339.000000  26339.000000  26339.000000\n",
      "mean       4.127757    125.427313     45.522838    -73.593403    655.471278\n",
      "std        0.611375    245.470379      0.036496      0.045010   1119.072248\n",
      "min        1.000000      1.000000     45.416295    -73.758227      5.000000\n",
      "25%        4.000000     11.000000     45.501804    -73.614708    312.000000\n",
      "50%        4.000000     44.000000     45.524283    -73.581989    592.000000\n",
      "75%        4.500000    129.000000     45.543652    -73.566583    901.000000\n",
      "max        5.000000   3117.000000     45.702349    -73.436058  39996.000000\n"
     ]
    }
   ],
   "source": [
    "# Descriptive statistics\n",
    "print(df_businesses.describe())"
   ]
  },
  {
   "cell_type": "markdown",
   "metadata": {},
   "source": [
    "#### First impressions\n",
    "\n",
    "- a) review_count seems really skewed with a high std_dev\n",
    "- b) distance have outliers as the set radius was 1000 meters.\n",
    "    - According to documentation:<br>\n",
    "    \"A suggested search radius in meters. This field is used as a suggestion to the search. The actual search radius may be lower than the suggested radius in dense urban areas, and higher in regions of less business density ...\""
   ]
  },
  {
   "cell_type": "code",
   "execution_count": 15,
   "metadata": {},
   "outputs": [
    {
     "name": "stdout",
     "output_type": "stream",
     "text": [
      "                           id                     name  review_count\n",
      "4884   0W4lkclzZThpx3V65bVgig               Schwartz's          3117\n",
      "496    5T6kFKFycym_GkhgOiysIw              La Banquise          2174\n",
      "17111  46Ld9Qc9nAx_A0jwclNZiw        Olive + Gourmando          1598\n",
      "1557   46Ld9Qc9nAx_A0jwclNZiw        Olive + Gourmando          1597\n",
      "500    cKdox2gt3L1Dbb7MpOPdWg        Au Pied de Cochon          1381\n",
      "...                       ...                      ...           ...\n",
      "3106   86Cq7KrcFUo1LGtNORfo1w                 KazaMaza           133\n",
      "611    ZrtROjmux0QieMkwqlnnTA       Ristorante Quattro           131\n",
      "4275   qDM-yZ9320Vkkt97UG1uqw          Maison Publique           130\n",
      "7075   9mG2yOnHtxVPEM1p8FqycA  La Croissanterie Figaro           130\n",
      "3110   X8lYvkI2Yv7f96cz4uE9LQ            Île Flottante           129\n",
      "\n",
      "[161 rows x 3 columns]\n"
     ]
    }
   ],
   "source": [
    "# (a) Filter and get unique business names and review counts\n",
    "filtered_businesses = df_businesses[df_businesses['review_count'] >= 129]\n",
    "unique_businesses = filtered_businesses[['id', 'name', 'review_count']].drop_duplicates()\n",
    "\n",
    "print(unique_businesses.sort_values('review_count', ascending=False))"
   ]
  },
  {
   "cell_type": "markdown",
   "metadata": {},
   "source": [
    "- c) Due to the fact that I had to request the API in batches (500 per day max), some business ID don't have the same review_count"
   ]
  },
  {
   "cell_type": "code",
   "execution_count": 16,
   "metadata": {},
   "outputs": [],
   "source": [
    "# (c) Update the review_count\n",
    "\n",
    "max_review_count = df_businesses.groupby('id')['review_count'].transform('max')\n",
    "\n",
    "# Update the review_count column with the maximum values\n",
    "df_businesses['review_count'] = max_review_count"
   ]
  },
  {
   "cell_type": "code",
   "execution_count": 17,
   "metadata": {},
   "outputs": [
    {
     "name": "stdout",
     "output_type": "stream",
     "text": [
      "3945\n"
     ]
    }
   ],
   "source": [
    "# (b) View if businesses out of radius\n",
    "out_radius = df_businesses[df_businesses['distance'] > 1000]\n",
    "print(len(out_radius))"
   ]
  },
  {
   "cell_type": "code",
   "execution_count": 18,
   "metadata": {},
   "outputs": [
    {
     "name": "stdout",
     "output_type": "stream",
     "text": [
      "             rating  review_count      latitude     longitude      distance\n",
      "count  22394.000000  22394.000000  22394.000000  22394.000000  22394.000000\n",
      "mean       4.126150    124.673797     45.522215    -73.592639    516.712423\n",
      "std        0.606704    244.335947      0.036138      0.044564    279.510146\n",
      "min        1.000000      1.000000     45.416295    -73.758227      5.000000\n",
      "25%        4.000000     11.000000     45.501407    -73.612969    279.000000\n",
      "50%        4.000000     45.000000     45.523319    -73.581056    494.000000\n",
      "75%        4.500000    129.000000     45.543032    -73.566583    766.000000\n",
      "max        5.000000   3117.000000     45.702349    -73.436058   1000.000000\n"
     ]
    }
   ],
   "source": [
    "# (b) Filter out businesses out of radius\n",
    "filtered_radius = df_businesses[df_businesses['distance'] <= 1000]\n",
    "print(filtered_radius.describe())"
   ]
  },
  {
   "cell_type": "code",
   "execution_count": 19,
   "metadata": {},
   "outputs": [],
   "source": [
    "# Create csv file\n",
    "filtered_radius.to_csv('../data/yelp_businesses.csv', index=False)"
   ]
  },
  {
   "cell_type": "markdown",
   "metadata": {},
   "source": [
    "# Comparing Results"
   ]
  },
  {
   "cell_type": "markdown",
   "metadata": {},
   "source": [
    "#### Which API provided you with more complete data? Provide an explanation. "
   ]
  },
  {
   "cell_type": "code",
   "execution_count": 21,
   "metadata": {},
   "outputs": [],
   "source": [
    "# Import csv from sources\n",
    "# Foursquare\n",
    "fsq_poi = pd.read_csv('../data/fsq_businesses.csv', index_col=None)\n",
    "# Yelp\n",
    "yelp_poi = pd.read_csv('../data/yelp_businesses.csv', index_col=None)\n",
    "# Stations\n",
    "stations = pd.read_csv('../data/stations.csv', index_col=None)"
   ]
  },
  {
   "cell_type": "code",
   "execution_count": 22,
   "metadata": {},
   "outputs": [
    {
     "data": {
      "text/html": [
       "<div>\n",
       "<style scoped>\n",
       "    .dataframe tbody tr th:only-of-type {\n",
       "        vertical-align: middle;\n",
       "    }\n",
       "\n",
       "    .dataframe tbody tr th {\n",
       "        vertical-align: top;\n",
       "    }\n",
       "\n",
       "    .dataframe thead th {\n",
       "        text-align: right;\n",
       "    }\n",
       "</style>\n",
       "<table border=\"1\" class=\"dataframe\">\n",
       "  <thead>\n",
       "    <tr style=\"text-align: right;\">\n",
       "      <th></th>\n",
       "      <th>fsq_id</th>\n",
       "      <th>name</th>\n",
       "      <th>latitude</th>\n",
       "      <th>longitude</th>\n",
       "      <th>category_id</th>\n",
       "      <th>category_name</th>\n",
       "      <th>distance</th>\n",
       "      <th>rating</th>\n",
       "      <th>popularity</th>\n",
       "      <th>price</th>\n",
       "    </tr>\n",
       "  </thead>\n",
       "  <tbody>\n",
       "    <tr>\n",
       "      <th>0</th>\n",
       "      <td>4cb240b8cbab236ae154af73</td>\n",
       "      <td>Restaurant Prima Luna</td>\n",
       "      <td>45.6175</td>\n",
       "      <td>-73.606011</td>\n",
       "      <td>13236</td>\n",
       "      <td>Italian Restaurant</td>\n",
       "      <td>941</td>\n",
       "      <td>7.4</td>\n",
       "      <td>0.985</td>\n",
       "      <td>1.0</td>\n",
       "    </tr>\n",
       "    <tr>\n",
       "      <th>1</th>\n",
       "      <td>4e0b48221f6edc06be259aec</td>\n",
       "      <td>Salle Désilets</td>\n",
       "      <td>45.6175</td>\n",
       "      <td>-73.606011</td>\n",
       "      <td>10039</td>\n",
       "      <td>Music Venue</td>\n",
       "      <td>19</td>\n",
       "      <td>NaN</td>\n",
       "      <td>0.969</td>\n",
       "      <td>NaN</td>\n",
       "    </tr>\n",
       "    <tr>\n",
       "      <th>2</th>\n",
       "      <td>4e0b48221f6edc06be259aec</td>\n",
       "      <td>Salle Désilets</td>\n",
       "      <td>45.6175</td>\n",
       "      <td>-73.606011</td>\n",
       "      <td>11130</td>\n",
       "      <td>Office Building</td>\n",
       "      <td>19</td>\n",
       "      <td>NaN</td>\n",
       "      <td>0.969</td>\n",
       "      <td>NaN</td>\n",
       "    </tr>\n",
       "    <tr>\n",
       "      <th>3</th>\n",
       "      <td>4ea9b28cb803cf1ffacd7c0d</td>\n",
       "      <td>Café l'Exil</td>\n",
       "      <td>45.6175</td>\n",
       "      <td>-73.606011</td>\n",
       "      <td>13034</td>\n",
       "      <td>Café</td>\n",
       "      <td>79</td>\n",
       "      <td>NaN</td>\n",
       "      <td>0.869</td>\n",
       "      <td>1.0</td>\n",
       "    </tr>\n",
       "    <tr>\n",
       "      <th>4</th>\n",
       "      <td>4ea9b28cb803cf1ffacd7c0d</td>\n",
       "      <td>Café l'Exil</td>\n",
       "      <td>45.6175</td>\n",
       "      <td>-73.606011</td>\n",
       "      <td>13035</td>\n",
       "      <td>Coffee Shop</td>\n",
       "      <td>79</td>\n",
       "      <td>NaN</td>\n",
       "      <td>0.869</td>\n",
       "      <td>1.0</td>\n",
       "    </tr>\n",
       "  </tbody>\n",
       "</table>\n",
       "</div>"
      ],
      "text/plain": [
       "                     fsq_id                   name  latitude  longitude  \\\n",
       "0  4cb240b8cbab236ae154af73  Restaurant Prima Luna   45.6175 -73.606011   \n",
       "1  4e0b48221f6edc06be259aec         Salle Désilets   45.6175 -73.606011   \n",
       "2  4e0b48221f6edc06be259aec         Salle Désilets   45.6175 -73.606011   \n",
       "3  4ea9b28cb803cf1ffacd7c0d            Café l'Exil   45.6175 -73.606011   \n",
       "4  4ea9b28cb803cf1ffacd7c0d            Café l'Exil   45.6175 -73.606011   \n",
       "\n",
       "   category_id       category_name  distance  rating  popularity  price  \n",
       "0        13236  Italian Restaurant       941     7.4       0.985    1.0  \n",
       "1        10039         Music Venue        19     NaN       0.969    NaN  \n",
       "2        11130     Office Building        19     NaN       0.969    NaN  \n",
       "3        13034                Café        79     NaN       0.869    1.0  \n",
       "4        13035         Coffee Shop        79     NaN       0.869    1.0  "
      ]
     },
     "execution_count": 22,
     "metadata": {},
     "output_type": "execute_result"
    }
   ],
   "source": [
    "fsq_poi.head()"
   ]
  },
  {
   "cell_type": "code",
   "execution_count": 23,
   "metadata": {},
   "outputs": [
    {
     "data": {
      "text/html": [
       "<div>\n",
       "<style scoped>\n",
       "    .dataframe tbody tr th:only-of-type {\n",
       "        vertical-align: middle;\n",
       "    }\n",
       "\n",
       "    .dataframe tbody tr th {\n",
       "        vertical-align: top;\n",
       "    }\n",
       "\n",
       "    .dataframe thead th {\n",
       "        text-align: right;\n",
       "    }\n",
       "</style>\n",
       "<table border=\"1\" class=\"dataframe\">\n",
       "  <thead>\n",
       "    <tr style=\"text-align: right;\">\n",
       "      <th></th>\n",
       "      <th>id</th>\n",
       "      <th>name</th>\n",
       "      <th>rating</th>\n",
       "      <th>price</th>\n",
       "      <th>review_count</th>\n",
       "      <th>latitude</th>\n",
       "      <th>longitude</th>\n",
       "      <th>category_alias</th>\n",
       "      <th>distance</th>\n",
       "    </tr>\n",
       "  </thead>\n",
       "  <tbody>\n",
       "    <tr>\n",
       "      <th>0</th>\n",
       "      <td>vRJPrk-VH75uxLiVVprBhA</td>\n",
       "      <td>Capucine</td>\n",
       "      <td>5.0</td>\n",
       "      <td>NaN</td>\n",
       "      <td>4</td>\n",
       "      <td>45.6175</td>\n",
       "      <td>-73.606011</td>\n",
       "      <td>italian</td>\n",
       "      <td>375</td>\n",
       "    </tr>\n",
       "    <tr>\n",
       "      <th>1</th>\n",
       "      <td>TyKGLi1V1PFRHYmHDjFUMQ</td>\n",
       "      <td>Restaurant Prima Luna</td>\n",
       "      <td>4.0</td>\n",
       "      <td>$$$</td>\n",
       "      <td>14</td>\n",
       "      <td>45.6175</td>\n",
       "      <td>-73.606011</td>\n",
       "      <td>italian</td>\n",
       "      <td>921</td>\n",
       "    </tr>\n",
       "    <tr>\n",
       "      <th>2</th>\n",
       "      <td>TyKGLi1V1PFRHYmHDjFUMQ</td>\n",
       "      <td>Restaurant Prima Luna</td>\n",
       "      <td>4.0</td>\n",
       "      <td>$$$</td>\n",
       "      <td>14</td>\n",
       "      <td>45.6175</td>\n",
       "      <td>-73.606011</td>\n",
       "      <td>sushi</td>\n",
       "      <td>921</td>\n",
       "    </tr>\n",
       "    <tr>\n",
       "      <th>3</th>\n",
       "      <td>DOVOYnq3y-milXVI03GIrg</td>\n",
       "      <td>Boulangerie Adriatica</td>\n",
       "      <td>4.0</td>\n",
       "      <td>NaN</td>\n",
       "      <td>1</td>\n",
       "      <td>45.6175</td>\n",
       "      <td>-73.606011</td>\n",
       "      <td>italian</td>\n",
       "      <td>366</td>\n",
       "    </tr>\n",
       "    <tr>\n",
       "      <th>4</th>\n",
       "      <td>DOVOYnq3y-milXVI03GIrg</td>\n",
       "      <td>Boulangerie Adriatica</td>\n",
       "      <td>4.0</td>\n",
       "      <td>NaN</td>\n",
       "      <td>1</td>\n",
       "      <td>45.6175</td>\n",
       "      <td>-73.606011</td>\n",
       "      <td>pizza</td>\n",
       "      <td>366</td>\n",
       "    </tr>\n",
       "  </tbody>\n",
       "</table>\n",
       "</div>"
      ],
      "text/plain": [
       "                       id                   name  rating price  review_count  \\\n",
       "0  vRJPrk-VH75uxLiVVprBhA               Capucine     5.0   NaN             4   \n",
       "1  TyKGLi1V1PFRHYmHDjFUMQ  Restaurant Prima Luna     4.0   $$$            14   \n",
       "2  TyKGLi1V1PFRHYmHDjFUMQ  Restaurant Prima Luna     4.0   $$$            14   \n",
       "3  DOVOYnq3y-milXVI03GIrg  Boulangerie Adriatica     4.0   NaN             1   \n",
       "4  DOVOYnq3y-milXVI03GIrg  Boulangerie Adriatica     4.0   NaN             1   \n",
       "\n",
       "   latitude  longitude category_alias  distance  \n",
       "0   45.6175 -73.606011        italian       375  \n",
       "1   45.6175 -73.606011        italian       921  \n",
       "2   45.6175 -73.606011          sushi       921  \n",
       "3   45.6175 -73.606011        italian       366  \n",
       "4   45.6175 -73.606011          pizza       366  "
      ]
     },
     "execution_count": 23,
     "metadata": {},
     "output_type": "execute_result"
    }
   ],
   "source": [
    "yelp_poi.head()"
   ]
  },
  {
   "cell_type": "code",
   "execution_count": 24,
   "metadata": {},
   "outputs": [
    {
     "data": {
      "text/html": [
       "<div>\n",
       "<style scoped>\n",
       "    .dataframe tbody tr th:only-of-type {\n",
       "        vertical-align: middle;\n",
       "    }\n",
       "\n",
       "    .dataframe tbody tr th {\n",
       "        vertical-align: top;\n",
       "    }\n",
       "\n",
       "    .dataframe thead th {\n",
       "        text-align: right;\n",
       "    }\n",
       "</style>\n",
       "<table border=\"1\" class=\"dataframe\">\n",
       "  <thead>\n",
       "    <tr style=\"text-align: right;\">\n",
       "      <th></th>\n",
       "      <th>station_name</th>\n",
       "      <th>latitude</th>\n",
       "      <th>longitude</th>\n",
       "      <th>total_bikes</th>\n",
       "      <th>station</th>\n",
       "    </tr>\n",
       "  </thead>\n",
       "  <tbody>\n",
       "    <tr>\n",
       "      <th>0</th>\n",
       "      <td>de la Commune / Place Jacques-Cartier</td>\n",
       "      <td>45.507610</td>\n",
       "      <td>-73.551836</td>\n",
       "      <td>78</td>\n",
       "      <td>0</td>\n",
       "    </tr>\n",
       "    <tr>\n",
       "      <th>1</th>\n",
       "      <td>de la Commune / King</td>\n",
       "      <td>45.497504</td>\n",
       "      <td>-73.552845</td>\n",
       "      <td>62</td>\n",
       "      <td>1</td>\n",
       "    </tr>\n",
       "    <tr>\n",
       "      <th>2</th>\n",
       "      <td>Jeanne-Mance / René-Lévesque</td>\n",
       "      <td>45.506371</td>\n",
       "      <td>-73.564201</td>\n",
       "      <td>55</td>\n",
       "      <td>2</td>\n",
       "    </tr>\n",
       "    <tr>\n",
       "      <th>3</th>\n",
       "      <td>Métro Viau (Viau / Pierre-de-Coubertin)</td>\n",
       "      <td>45.563084</td>\n",
       "      <td>-73.548194</td>\n",
       "      <td>50</td>\n",
       "      <td>3</td>\n",
       "    </tr>\n",
       "    <tr>\n",
       "      <th>4</th>\n",
       "      <td>Métro Peel (de Maisonneuve / Stanley)</td>\n",
       "      <td>45.500380</td>\n",
       "      <td>-73.575070</td>\n",
       "      <td>48</td>\n",
       "      <td>4</td>\n",
       "    </tr>\n",
       "  </tbody>\n",
       "</table>\n",
       "</div>"
      ],
      "text/plain": [
       "                              station_name   latitude  longitude  total_bikes  \\\n",
       "0    de la Commune / Place Jacques-Cartier  45.507610 -73.551836           78   \n",
       "1                     de la Commune / King  45.497504 -73.552845           62   \n",
       "2             Jeanne-Mance / René-Lévesque  45.506371 -73.564201           55   \n",
       "3  Métro Viau (Viau / Pierre-de-Coubertin)  45.563084 -73.548194           50   \n",
       "4    Métro Peel (de Maisonneuve / Stanley)  45.500380 -73.575070           48   \n",
       "\n",
       "   station  \n",
       "0        0  \n",
       "1        1  \n",
       "2        2  \n",
       "3        3  \n",
       "4        4  "
      ]
     },
     "execution_count": 24,
     "metadata": {},
     "output_type": "execute_result"
    }
   ],
   "source": [
    "stations.head()"
   ]
  },
  {
   "cell_type": "markdown",
   "metadata": {},
   "source": [
    "#### Comparing number of results per station"
   ]
  },
  {
   "cell_type": "markdown",
   "metadata": {},
   "source": [
    "Since stations are determined by a combination of 'latitude' and 'longitude' and the long decimal values are hard to manage when comparing dataframe, we will use the station number as reference."
   ]
  },
  {
   "cell_type": "code",
   "execution_count": 25,
   "metadata": {},
   "outputs": [],
   "source": [
    "# Create the 'station' column using a dictionary\n",
    "# locations dictionary\n",
    "locations = stations.set_index(['latitude', 'longitude'])['station'].to_dict()\n"
   ]
  },
  {
   "cell_type": "code",
   "execution_count": 26,
   "metadata": {},
   "outputs": [],
   "source": [
    "# stations columns\n",
    "fsq_poi['station'] = fsq_poi.apply(lambda row: locations.get((row['latitude'], row['longitude']), 9999), axis=1)\n",
    "yelp_poi['station'] = yelp_poi.apply(lambda row: locations.get((row['latitude'], row['longitude']), 9999), axis=1)"
   ]
  },
  {
   "cell_type": "code",
   "execution_count": 27,
   "metadata": {},
   "outputs": [],
   "source": [
    "# Each POI can have multiple categories, filter only unique businesses\n",
    "yelp = (\n",
    "    yelp_poi\n",
    "    .drop_duplicates(subset=['station', 'id']) # each business as a unique id\n",
    "    .groupby(['station'])\n",
    "    .size().reset_index(name='count').sort_values(by='count', ascending=False)\n",
    ")\n",
    "\n",
    "fsq = (\n",
    "    fsq_poi\n",
    "    .drop_duplicates(subset=['station', 'fsq_id']) # each business as a unique fsq_id\n",
    "    .groupby(['station'])\n",
    "    .size().reset_index(name='count').sort_values(by='count', ascending=False)\n",
    ")\n",
    "# Merge and compare the number of businesses around each station\n",
    "compare_yelp_fsq = pd.merge(yelp, fsq, on='station', how='outer', suffixes=('_yelp', '_fsq')) #outer, to see if some stations are not covered"
   ]
  },
  {
   "cell_type": "code",
   "execution_count": 28,
   "metadata": {},
   "outputs": [
    {
     "data": {
      "text/html": [
       "<div>\n",
       "<style scoped>\n",
       "    .dataframe tbody tr th:only-of-type {\n",
       "        vertical-align: middle;\n",
       "    }\n",
       "\n",
       "    .dataframe tbody tr th {\n",
       "        vertical-align: top;\n",
       "    }\n",
       "\n",
       "    .dataframe thead th {\n",
       "        text-align: right;\n",
       "    }\n",
       "</style>\n",
       "<table border=\"1\" class=\"dataframe\">\n",
       "  <thead>\n",
       "    <tr style=\"text-align: right;\">\n",
       "      <th></th>\n",
       "      <th>station</th>\n",
       "      <th>count_yelp</th>\n",
       "      <th>count_fsq</th>\n",
       "    </tr>\n",
       "  </thead>\n",
       "  <tbody>\n",
       "    <tr>\n",
       "      <th>0</th>\n",
       "      <td>0</td>\n",
       "      <td>20.0</td>\n",
       "      <td>49</td>\n",
       "    </tr>\n",
       "    <tr>\n",
       "      <th>58</th>\n",
       "      <td>1</td>\n",
       "      <td>20.0</td>\n",
       "      <td>48</td>\n",
       "    </tr>\n",
       "    <tr>\n",
       "      <th>143</th>\n",
       "      <td>2</td>\n",
       "      <td>20.0</td>\n",
       "      <td>49</td>\n",
       "    </tr>\n",
       "    <tr>\n",
       "      <th>564</th>\n",
       "      <td>3</td>\n",
       "      <td>15.0</td>\n",
       "      <td>49</td>\n",
       "    </tr>\n",
       "    <tr>\n",
       "      <th>135</th>\n",
       "      <td>4</td>\n",
       "      <td>20.0</td>\n",
       "      <td>50</td>\n",
       "    </tr>\n",
       "  </tbody>\n",
       "</table>\n",
       "</div>"
      ],
      "text/plain": [
       "     station  count_yelp  count_fsq\n",
       "0          0        20.0         49\n",
       "58         1        20.0         48\n",
       "143        2        20.0         49\n",
       "564        3        15.0         49\n",
       "135        4        20.0         50"
      ]
     },
     "execution_count": 28,
     "metadata": {},
     "output_type": "execute_result"
    }
   ],
   "source": [
    "compare_yelp_fsq.sort_values('station').head()"
   ]
  },
  {
   "cell_type": "markdown",
   "metadata": {},
   "source": [
    "Yelp seems to provide less POI than FSQ per locations (maybe an internally limit to 20???).\n",
    "Let's compare the quality of data for the station with the higher total of bikes (station 0)."
   ]
  },
  {
   "cell_type": "code",
   "execution_count": 29,
   "metadata": {},
   "outputs": [],
   "source": [
    "# Select station 0 and remove duplicate of id because of category\n",
    "yelp_qual_0 = yelp_poi[yelp_poi['station'] == 0].drop_duplicates(subset=['id'])\n",
    "fsq_qual_0 = fsq_poi[fsq_poi['station'] == 0].drop_duplicates(subset=['fsq_id'])"
   ]
  },
  {
   "cell_type": "code",
   "execution_count": 30,
   "metadata": {},
   "outputs": [
    {
     "name": "stdout",
     "output_type": "stream",
     "text": [
      "                          id                     name  rating price  \\\n",
      "1884  Ht-_i0UAq7YDBaqJwcQMdQ  Le Club Chasse et Pêche     4.5  $$$$   \n",
      "1904  uaf_yrwWo35aWM0_qJCgrw                 Pincette     4.5   $$$   \n",
      "1924  ja01cHy1xqUB9DQ1r1OYKQ                   Gibbys     4.5  $$$$   \n",
      "1921  XI3iNUgChOfJk5ppjKVEQQ                  Barroco     4.5   $$$   \n",
      "1918  9rT_Zr_A2qYmLaHpSi6eqw        Maison Saint-Paul     4.5   $$$   \n",
      "1916  4eVPP9Qrq2lUYv0dOipIXQ            Un Po' Di Più     4.5   NaN   \n",
      "1913  eJ9L40jm5VOXCIq7xs9kQw     Restaurant Bonaparte     4.5   $$$   \n",
      "1907  QOlpCzJnVdcnxAmuIwdtEQ         Lattuca Barbecue     4.5    $$   \n",
      "1898  BCSofuQwu1VE8wjzDaQ3qQ             The Coldroom     4.5    $$   \n",
      "1926  soyZpe78MCeVN-0a11zSdQ                 Monarque     4.5   NaN   \n",
      "\n",
      "      review_count  latitude  longitude  category_alias  distance  station  \n",
      "1884           234  45.50761 -73.551836          french       156        0  \n",
      "1904            34  45.50761 -73.551836         seafood       154        0  \n",
      "1924           479  45.50761 -73.551836         seafood       737        0  \n",
      "1921           295  45.50761 -73.551836         spanish       760        0  \n",
      "1918            99  45.50761 -73.551836  champagne_bars       177        0  \n",
      "1916            60  45.50761 -73.551836         italian       251        0  \n",
      "1913           387  45.50761 -73.551836          french       580        0  \n",
      "1907           178  45.50761 -73.551836             bbq       324        0  \n",
      "1898           235  45.50761 -73.551836    cocktailbars       116        0  \n",
      "1926           133  45.50761 -73.551836      brasseries       909        0  \n"
     ]
    }
   ],
   "source": [
    "print(yelp_qual_0.sort_values('rating', ascending=False).head(10))"
   ]
  },
  {
   "cell_type": "code",
   "execution_count": 31,
   "metadata": {},
   "outputs": [
    {
     "name": "stdout",
     "output_type": "stream",
     "text": [
      "                        fsq_id                    name  latitude  longitude  \\\n",
      "4423  56e9cf37498e8d07ac01d8f4  Crew Collective & Café  45.50761 -73.551836   \n",
      "4418  4adf0b0ef964a5203d7721e3       Olive & Gourmando  45.50761 -73.551836   \n",
      "4409  4ad4c06df964a5206ffa20e3              Stash Café  45.50761 -73.551836   \n",
      "4389  5aee235b947c05002ca7bd54      Paquebot Vieux-Mtl  45.50761 -73.551836   \n",
      "4414  58ac82d42980db353baa5cdd                 Mandy's  45.50761 -73.551836   \n",
      "4440  57a1fa72498ef754ac40c539  La Finca café & bureau  45.50761 -73.551836   \n",
      "4381  55777789498e80fb292f9b8a            Pub BreWskey  45.50761 -73.551836   \n",
      "4374  4b391e12f964a5208c5625e3    L'Usine de Spaghetti  45.50761 -73.551836   \n",
      "4434  4ff32280e4b0444717c09497      Deli Italien Bello  45.50761 -73.551836   \n",
      "4426  5372ed9f498e6f504d4fe05d   Bar le Mal Nécessaire  45.50761 -73.551836   \n",
      "\n",
      "      category_id                category_name  distance  rating  popularity  \\\n",
      "4423        13034                         Café       815     9.3       0.985   \n",
      "4418        13002                       Bakery       780     9.3       0.959   \n",
      "4409        13139  Eastern European Restaurant       607     9.1       0.960   \n",
      "4389        13034                         Café       375     9.1       0.976   \n",
      "4414        13332             Salad Restaurant       691     9.1       0.960   \n",
      "4440        13034                         Café       943     9.0       0.954   \n",
      "4381        13018                          Pub       199     9.0       0.987   \n",
      "4374        13236           Italian Restaurant        63     8.9       0.969   \n",
      "4434        13039                         Deli       835     8.9       0.920   \n",
      "4426        13009                 Cocktail Bar       737     8.9       0.967   \n",
      "\n",
      "      price  station  \n",
      "4423    1.0        0  \n",
      "4418    2.0        0  \n",
      "4409    2.0        0  \n",
      "4389    1.0        0  \n",
      "4414    1.0        0  \n",
      "4440    1.0        0  \n",
      "4381    1.0        0  \n",
      "4374    2.0        0  \n",
      "4434    2.0        0  \n",
      "4426    3.0        0  \n"
     ]
    }
   ],
   "source": [
    "print(fsq_qual_0.sort_values('rating', ascending=False).head(10))"
   ]
  },
  {
   "cell_type": "markdown",
   "metadata": {},
   "source": [
    "Both API gives completely different result:\n",
    "- Yelp:\n",
    "    - Provides a low scale rating (1-5), while providing a review count.\n",
    "    - Provides a price range in dollars signs category.\n",
    "    - We could have get more attributes, but these are 'Premium Access' like:\n",
    "        - parking_bike - businesses with bike parking type.\n",
    "        - outdoor_seating - businesses with outdoor seating areas.\n",
    "    \n",
    "- FSQ:\n",
    "    - Provides high scale rating (1-10), but no review count.\n",
    "    - Provides attribute like popularity (%) and price category from 1 to 4 (some missing data).\n"
   ]
  },
  {
   "cell_type": "code",
   "execution_count": 32,
   "metadata": {},
   "outputs": [
    {
     "name": "stdout",
     "output_type": "stream",
     "text": [
      "      latitude  longitude  distance\n",
      "4375  45.50761 -73.551836        66\n",
      "      latitude  longitude  distance\n",
      "1894  45.50761 -73.551836        73\n"
     ]
    }
   ],
   "source": [
    "# Lets compare distance value\n",
    "print(fsq_qual_0[fsq_qual_0['name'] == 'Jardin Nelson'][['latitude', 'longitude', 'distance']])\n",
    "print(yelp_qual_0[yelp_qual_0['name'] == 'Jardin Nelson'][['latitude', 'longitude', 'distance']])"
   ]
  },
  {
   "cell_type": "markdown",
   "metadata": {},
   "source": [
    "Using a distance calculator from the web, we find that Jardin Nelson is 79.5m from station:\n",
    "- Yelp is 13.5m offset\n",
    "- FSQ is 6.5m offset\n",
    "<br><br>\n",
    "FSQ distance calculator seems more precise than Yelp."
   ]
  },
  {
   "cell_type": "markdown",
   "metadata": {},
   "source": [
    "#### Get the top 10 restaurants according to their rating"
   ]
  },
  {
   "cell_type": "code",
   "execution_count": 36,
   "metadata": {},
   "outputs": [
    {
     "name": "stdout",
     "output_type": "stream",
     "text": [
      "                         fsq_id                    name   latitude  longitude  \\\n",
      "57     56ec4544498e27e294330c2b                   Cadet  45.516926 -73.564257   \n",
      "2896   56edffc9cd10ffe7a54b492c          La Bête à Pain  45.497165 -73.559330   \n",
      "53     4d920503f5388cfa1a81c23d           Bouillon Bilk  45.516926 -73.564257   \n",
      "1198   56e9cf37498e8d07ac01d8f4  Crew Collective & Café  45.507144 -73.555119   \n",
      "1203   4adf0b0ef964a5203d7721e3       Olive & Gourmando  45.507144 -73.555119   \n",
      "12705  55a86753498ee54a8b686b1e                   Damas  45.523026 -73.601840   \n",
      "35523  54c3ca91498ec42c959c1f36         Mamie Clafoutis  45.570625 -73.651786   \n",
      "6031   5040e925e4b029b248db6485          Trip de Bouffe  45.516897 -73.589108   \n",
      "6044   56b28f5d498e8af56db1f578                 Larry's  45.516897 -73.589108   \n",
      "5263   4adb932bf964a5201b2921e3             Cafe Italia  45.535190 -73.615482   \n",
      "\n",
      "       category_id category_name  distance  rating  popularity  price  station  \n",
      "57           13065    Restaurant       741     9.4       0.967    NaN      793  \n",
      "2896         13002        Bakery       462     9.3       0.964    1.0      350  \n",
      "53           13065    Restaurant       675     9.3       0.956    3.0      793  \n",
      "1198         13034          Café       615     9.3       0.985    1.0      751  \n",
      "1203         13002        Bakery       655     9.3       0.959    2.0      751  \n",
      "12705        13049         Diner       878     9.3       0.962    4.0      245  \n",
      "35523        13002        Bakery       775     9.3       0.973    1.0      192  \n",
      "6031         13002        Bakery       754     9.2       0.908    1.0       43  \n",
      "6044         13065    Restaurant       908     9.2       0.923    NaN       43  \n",
      "5263         13034          Café       277     9.2       0.961    1.0      177  \n"
     ]
    }
   ],
   "source": [
    "fsq_resto= fsq_poi[fsq_poi['category_id'] >= 13000].drop_duplicates(subset=['fsq_id'])\n",
    "print(fsq_resto.sort_values('rating', ascending=False).head(10))"
   ]
  },
  {
   "cell_type": "code",
   "execution_count": 37,
   "metadata": {},
   "outputs": [
    {
     "name": "stdout",
     "output_type": "stream",
     "text": [
      "                           id                       name  rating price  \\\n",
      "14147  evTWdlBsQl6EMiVcm0fXww              Cloakroom Bar     5.0   $$$   \n",
      "2040   yLVW9xxnX8se7IFCDppdkw          Café de' Mercanti     5.0     $   \n",
      "9629   I4KLIuqnYu_zPV6RCfEtQg             Pasta da Panza     5.0    $$   \n",
      "9054   Vlg_nesyZJfX_mpy2fslTQ                 Le Marquis     5.0    $$   \n",
      "12653  0o8kO3S4Khl_lIqrdk67ig                  Ono Pokii     5.0   NaN   \n",
      "3456   RoNi0USDhvCBvXa4bMyxDA                  Mr. Puffs     5.0     $   \n",
      "2595   Rx7E8hZQXcSjeHPGUZCeBg  Casse-Croûte Sissi & Paul     5.0    $$   \n",
      "1256   uH4-Esv5-b31q2y89AqyAw               Place Carmin     5.0   NaN   \n",
      "4128   aLubn-yEUrbL3vlvzK3lVw    Che Churros & Empanadas     5.0   NaN   \n",
      "12657  AQuvwHokJgcv1kchsZqKqg                    Toucheh     5.0    $$   \n",
      "\n",
      "       review_count   latitude  longitude category_alias  distance  station  \n",
      "14147           187  45.496830 -73.579130   cocktailbars       310       36  \n",
      "2040             74  45.510860 -73.549830         coffee       243        6  \n",
      "9629             47  45.557421 -73.748060        italian       986      464  \n",
      "9054             44  45.536135 -73.622585       bakeries       475       21  \n",
      "12653            32  45.476294 -73.606175       hawaiian       232      700  \n",
      "3456             29  45.539461 -73.576056       desserts       723      587  \n",
      "2595             28  45.559697 -73.601460        haitian       643      583  \n",
      "1256             26  45.497165 -73.559330         french       177      350  \n",
      "4128             24  45.518967 -73.583616      argentine       183      306  \n",
      "12657            23  45.476294 -73.606175        persian       314      700  \n"
     ]
    }
   ],
   "source": [
    "yelp_resto = yelp_poi.drop_duplicates(subset=['id'])\n",
    "print(yelp_resto.sort_values(['rating', 'review_count'], ascending=False).head(10))"
   ]
  },
  {
   "cell_type": "markdown",
   "metadata": {},
   "source": [
    "FSQ:<br>\n",
    "Its easy to filter 'restaurant' with FSQ since we have different level of category_id from the API documentation. The rating is wide enough to use only this filter.\n",
    "<br><br>\n",
    "YELP:<br>\n",
    "To be able to see proper top list, we need to consider review_count, which is the primary attribute of the API.\n",
    "Also, it looks like the best rating/review 'restaurant' are fastfoods POI..."
   ]
  },
  {
   "cell_type": "markdown",
   "metadata": {},
   "source": [
    "# CONCLUSION"
   ]
  },
  {
   "cell_type": "markdown",
   "metadata": {},
   "source": [
    "Reminder: The city of choice is Montreal and the citybikes API provides information about the BiXi company (bike rental).\n",
    "\n",
    "Beeing a Montrealer myself, I know people and tourist won't rent a bike because they want to access a fastfood restaurant! There is so many other restaurant options and point of interests.\n",
    "\n",
    "My choice would be to use FSQ only data because:<br>\n",
    "    - More POI (Art & Entertainement, Dining & Restaurant were selected)<br>\n",
    "    - Rating is wide (1-10)<br>\n",
    "    - Price range usable (1-4)<br>\n",
    "    - Esay to differentiate category (could even go deeper in each category using API documentation)"
   ]
  },
  {
   "cell_type": "markdown",
   "metadata": {},
   "source": []
  }
 ],
 "metadata": {
  "kernelspec": {
   "display_name": "dev_lhl",
   "language": "python",
   "name": "dev_lhl"
  },
  "language_info": {
   "codemirror_mode": {
    "name": "ipython",
    "version": 3
   },
   "file_extension": ".py",
   "mimetype": "text/x-python",
   "name": "python",
   "nbconvert_exporter": "python",
   "pygments_lexer": "ipython3",
   "version": "3.11.3"
  }
 },
 "nbformat": 4,
 "nbformat_minor": 4
}
