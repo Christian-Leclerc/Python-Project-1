{
 "cells": [
  {
   "cell_type": "code",
   "execution_count": 24,
   "metadata": {
    "tags": []
   },
   "outputs": [],
   "source": [
    "# imports\n",
    "import pandas as pd\n",
    "from pandas import json_normalize\n",
    "import json\n",
    "import requests\n",
    "import os\n",
    "from pprint import pp\n",
    "import time\n",
    "from IPython.display import clear_output\n",
    "import numpy as np\n",
    "import matplotlib.pyplot as plt\n",
    "%matplotlib inline"
   ]
  },
  {
   "cell_type": "markdown",
   "metadata": {
    "tags": []
   },
   "source": [
    "version_v2_02091120"
   ]
  },
  {
   "cell_type": "markdown",
   "metadata": {},
   "source": [
    "# Foursquare"
   ]
  },
  {
   "cell_type": "markdown",
   "metadata": {},
   "source": [
    "#### Send a request to Foursquare with a small radius (1000m) for all the bike stations in your city of choice. "
   ]
  },
  {
   "cell_type": "code",
   "execution_count": 25,
   "metadata": {
    "tags": []
   },
   "outputs": [],
   "source": [
    "# Setting variables\n",
    "api_key = os.getenv('FOUR_SQUARE_API')\n",
    "url = 'https://api.foursquare.com/v3/places/search'\n",
    "headers = {\n",
    "    'Accept': 'application/json',\n",
    "    'Authorization': api_key\n",
    "}\n",
    "radius  = 1000 # 1 km\n",
    "categories = '10000,13000' #10000: Art and Entertainment, 13000: Dining and Restaurant(some bars)\n",
    "fields = 'fsq_id,name,rating,popularity,price,categories,distance,geocodes'\n",
    "limit = 50\n",
    "time_per_request = 1 / 100  # 1 second / 100 QPS - FourSquare API rate limit\n",
    "responses = [] # list for dumping responses along the way in case of error"
   ]
  },
  {
   "cell_type": "code",
   "execution_count": 26,
   "metadata": {
    "tags": []
   },
   "outputs": [],
   "source": [
    "# Load locations from stations.csv\n",
    "stations = pd.read_csv('../data/stations.csv', index_col=None)\n",
    "\n",
    "# Create a list of paired (latitude, longitude)\n",
    "locations = [f\"{lat},{long}\" for lat, long in zip(stations['latitude'], stations['longitude'])]"
   ]
  },
  {
   "cell_type": "code",
   "execution_count": 12,
   "metadata": {
    "tags": []
   },
   "outputs": [],
   "source": [
    "# GET request for each locations\n",
    "\n",
    "# Continue from last error, if any\n",
    "try:\n",
    "    with open('../data/responses_fsq.json', 'r') as f:\n",
    "        responses = json.load(f)\n",
    "except FileNotFoundError:\n",
    "    pass\n",
    "\n",
    "# Loop throught locations\n",
    "for location in locations[len(responses):]:\n",
    "    params = {\n",
    "        'll': location,\n",
    "        'radius': radius,\n",
    "        'fields': fields,\n",
    "        'categories': categories,\n",
    "        'limit': limit\n",
    "    }\n",
    "    try:\n",
    "        response = requests.get(url, params=params, headers=headers)\n",
    "        response.raise_for_status()\n",
    "\n",
    "        responses.append(response.json())\n",
    "\n",
    "        # Save intermediate progress after each successful request\n",
    "        with open('../data/responses_fsq.json', 'w') as f:\n",
    "            json.dump(responses, f)\n",
    "\n",
    "    except requests.exceptions.RequestException as error:\n",
    "        print(f\"Error: {error}\")\n",
    "        # Break out of the loop when an error occurs\n",
    "        break\n",
    "\n",
    "    time.sleep(time_per_request)\n",
    "\n",
    "    # Stop the loop if an error occurred\n",
    "    if 'error' in response.json():\n",
    "        break"
   ]
  },
  {
   "cell_type": "markdown",
   "metadata": {},
   "source": [
    "#### Parse through the response to get the POI (such as restaurants, bars, etc) details you want (ratings, name, location, etc)"
   ]
  },
  {
   "cell_type": "code",
   "execution_count": 27,
   "metadata": {
    "tags": []
   },
   "outputs": [],
   "source": [
    "# Load source\n",
    "with open('../data/responses_fsq.json', 'r') as f:\n",
    "        responses = json.load(f)"
   ]
  },
  {
   "cell_type": "code",
   "execution_count": 28,
   "metadata": {
    "tags": []
   },
   "outputs": [
    {
     "name": "stdout",
     "output_type": "stream",
     "text": [
      "{'fsq_id': '4cb240b8cbab236ae154af73',\n",
      " 'categories': [{'id': 13236,\n",
      "                 'name': 'Italian Restaurant',\n",
      "                 'icon': {'prefix': 'https://ss3.4sqi.net/img/categories_v2/food/italian_',\n",
      "                          'suffix': '.png'}}],\n",
      " 'distance': 941,\n",
      " 'geocodes': {'main': {'latitude': 45.617439, 'longitude': -73.593995},\n",
      "              'roof': {'latitude': 45.617439, 'longitude': -73.593995}},\n",
      " 'name': 'Restaurant Prima Luna',\n",
      " 'popularity': 0.9848918500445737,\n",
      " 'price': 1,\n",
      " 'rating': 7.4}\n",
      "dict_keys(['fsq_id', 'categories', 'distance', 'geocodes', 'name', 'popularity', 'price', 'rating'])\n"
     ]
    }
   ],
   "source": [
    "# Visualize structure of FSQ responses 'results'\n",
    "pp(responses[0]['results'][0], depth=5)\n",
    "pp(responses[0]['results'][0].keys())"
   ]
  },
  {
   "cell_type": "code",
   "execution_count": 29,
   "metadata": {
    "tags": []
   },
   "outputs": [
    {
     "name": "stdout",
     "output_type": "stream",
     "text": [
      "Businesses with multiple categories: 18562\n",
      "                                   name  \\\n",
      "1                        Salle Désilets   \n",
      "2                           Café l'Exil   \n",
      "3                              Capucine   \n",
      "4      Biscuits Heavenly Taste Biscotti   \n",
      "5                                 Ecafé   \n",
      "...                                 ...   \n",
      "35168                           Fitzroy   \n",
      "35169                       Frite Alors   \n",
      "35171         Bootlegger, l'Authentique   \n",
      "35172                      Bar l'Barouf   \n",
      "35173                   Les 3 Brasseurs   \n",
      "\n",
      "                                              categories  num_categories  \n",
      "1      [{'id': 10039, 'name': 'Music Venue', 'icon': ...               2  \n",
      "2      [{'id': 13034, 'name': 'Café', 'icon': {'prefi...               2  \n",
      "3      [{'id': 13002, 'name': 'Bakery', 'icon': {'pre...               2  \n",
      "4      [{'id': 13002, 'name': 'Bakery', 'icon': {'pre...               2  \n",
      "5      [{'id': 13065, 'name': 'Restaurant', 'icon': {...               2  \n",
      "...                                                  ...             ...  \n",
      "35168  [{'id': 10045, 'name': 'Pool Hall', 'icon': {'...               2  \n",
      "35169  [{'id': 13031, 'name': 'Burger Joint', 'icon':...               3  \n",
      "35171  [{'id': 13009, 'name': 'Cocktail Bar', 'icon':...               2  \n",
      "35172  [{'id': 13006, 'name': 'Beer Bar', 'icon': {'p...               3  \n",
      "35173  [{'id': 13029, 'name': 'Brewery', 'icon': {'pr...               2  \n",
      "\n",
      "[18562 rows x 3 columns]\n"
     ]
    }
   ],
   "source": [
    "# Validate if categories can have mulitple items\n",
    "\n",
    "# Flatten the JSON structure using json_normalize\n",
    "df = json_normalize(responses, record_path='results')\n",
    "\n",
    "# Calculate the number of categories for each business\n",
    "df['num_categories'] = df['categories'].apply(len)\n",
    "\n",
    "# Check if any business has multiple categories\n",
    "businesses_with_multiple_categories = df[df['num_categories'] > 1]\n",
    "print(f\"Businesses with multiple categories: {len(businesses_with_multiple_categories)}\")\n",
    "print(businesses_with_multiple_categories[['name', 'categories', 'num_categories']])"
   ]
  },
  {
   "cell_type": "code",
   "execution_count": 30,
   "metadata": {
    "tags": []
   },
   "outputs": [],
   "source": [
    "# Parsing required info: \n",
    "#   While exploring with 'Postman' requests, FourSquare doesn't always gives rating, popularity and price\n",
    "\n",
    "# List to store extracted items\n",
    "extracted_items = []\n",
    "\n",
    "# Iterate through each data entry\n",
    "for entry in responses:\n",
    "    # Use json_normalize to flatten the 'businesses' data\n",
    "    flattened_businesses = json_normalize(entry['results'])\n",
    "\n",
    "    # Iterate through each row in flattened_businesses\n",
    "    for idx, business in flattened_businesses.iterrows():\n",
    "        # Loop through categories and create a new entry for each category\n",
    "        for category in business['categories']:\n",
    "            extracted_item = {\n",
    "                'fsq_id': business['fsq_id'],\n",
    "                'name': business['name'],\n",
    "                's_lat': entry['context']['geo_bounds']['circle']['center']['latitude'],\n",
    "                's_lon': entry['context']['geo_bounds']['circle']['center']['longitude'],\n",
    "                'p_lat': business.get('geocodes.main.latitude', np.nan),\n",
    "                'p_lon': business.get('geocodes.main.longitude', np.nan),\n",
    "                'category_id': category['id'],\n",
    "                'category_name': category['name'],\n",
    "                'distance': business['distance'],\n",
    "                'rating': business.get('rating', np.nan),\n",
    "                'popularity': business.get('popularity', np.nan),\n",
    "                'price': business.get('price', np.nan)\n",
    "            }\n",
    "            extracted_items.append(extracted_item)"
   ]
  },
  {
   "cell_type": "markdown",
   "metadata": {},
   "source": [
    "#### Put your parsed results into a DataFrame"
   ]
  },
  {
   "cell_type": "code",
   "execution_count": 31,
   "metadata": {
    "tags": []
   },
   "outputs": [
    {
     "data": {
      "text/html": [
       "<div>\n",
       "<style scoped>\n",
       "    .dataframe tbody tr th:only-of-type {\n",
       "        vertical-align: middle;\n",
       "    }\n",
       "\n",
       "    .dataframe tbody tr th {\n",
       "        vertical-align: top;\n",
       "    }\n",
       "\n",
       "    .dataframe thead th {\n",
       "        text-align: right;\n",
       "    }\n",
       "</style>\n",
       "<table border=\"1\" class=\"dataframe\">\n",
       "  <thead>\n",
       "    <tr style=\"text-align: right;\">\n",
       "      <th></th>\n",
       "      <th>fsq_id</th>\n",
       "      <th>name</th>\n",
       "      <th>s_lat</th>\n",
       "      <th>s_lon</th>\n",
       "      <th>p_lat</th>\n",
       "      <th>p_lon</th>\n",
       "      <th>category_id</th>\n",
       "      <th>category_name</th>\n",
       "      <th>distance</th>\n",
       "      <th>rating</th>\n",
       "      <th>popularity</th>\n",
       "      <th>price</th>\n",
       "    </tr>\n",
       "  </thead>\n",
       "  <tbody>\n",
       "    <tr>\n",
       "      <th>0</th>\n",
       "      <td>4cb240b8cbab236ae154af73</td>\n",
       "      <td>Restaurant Prima Luna</td>\n",
       "      <td>45.6175</td>\n",
       "      <td>-73.606011</td>\n",
       "      <td>45.617439</td>\n",
       "      <td>-73.593995</td>\n",
       "      <td>13236</td>\n",
       "      <td>Italian Restaurant</td>\n",
       "      <td>941</td>\n",
       "      <td>7.4</td>\n",
       "      <td>0.984892</td>\n",
       "      <td>1.0</td>\n",
       "    </tr>\n",
       "    <tr>\n",
       "      <th>1</th>\n",
       "      <td>4e0b48221f6edc06be259aec</td>\n",
       "      <td>Salle Désilets</td>\n",
       "      <td>45.6175</td>\n",
       "      <td>-73.606011</td>\n",
       "      <td>45.617818</td>\n",
       "      <td>-73.606000</td>\n",
       "      <td>10039</td>\n",
       "      <td>Music Venue</td>\n",
       "      <td>19</td>\n",
       "      <td>NaN</td>\n",
       "      <td>0.968787</td>\n",
       "      <td>NaN</td>\n",
       "    </tr>\n",
       "    <tr>\n",
       "      <th>2</th>\n",
       "      <td>4e0b48221f6edc06be259aec</td>\n",
       "      <td>Salle Désilets</td>\n",
       "      <td>45.6175</td>\n",
       "      <td>-73.606011</td>\n",
       "      <td>45.617818</td>\n",
       "      <td>-73.606000</td>\n",
       "      <td>11130</td>\n",
       "      <td>Office Building</td>\n",
       "      <td>19</td>\n",
       "      <td>NaN</td>\n",
       "      <td>0.968787</td>\n",
       "      <td>NaN</td>\n",
       "    </tr>\n",
       "    <tr>\n",
       "      <th>3</th>\n",
       "      <td>4ea9b28cb803cf1ffacd7c0d</td>\n",
       "      <td>Café l'Exil</td>\n",
       "      <td>45.6175</td>\n",
       "      <td>-73.606011</td>\n",
       "      <td>45.617214</td>\n",
       "      <td>-73.604961</td>\n",
       "      <td>13034</td>\n",
       "      <td>Café</td>\n",
       "      <td>79</td>\n",
       "      <td>NaN</td>\n",
       "      <td>0.868507</td>\n",
       "      <td>1.0</td>\n",
       "    </tr>\n",
       "    <tr>\n",
       "      <th>4</th>\n",
       "      <td>4ea9b28cb803cf1ffacd7c0d</td>\n",
       "      <td>Café l'Exil</td>\n",
       "      <td>45.6175</td>\n",
       "      <td>-73.606011</td>\n",
       "      <td>45.617214</td>\n",
       "      <td>-73.604961</td>\n",
       "      <td>13035</td>\n",
       "      <td>Coffee Shop</td>\n",
       "      <td>79</td>\n",
       "      <td>NaN</td>\n",
       "      <td>0.868507</td>\n",
       "      <td>1.0</td>\n",
       "    </tr>\n",
       "  </tbody>\n",
       "</table>\n",
       "</div>"
      ],
      "text/plain": [
       "                     fsq_id                   name    s_lat      s_lon  \\\n",
       "0  4cb240b8cbab236ae154af73  Restaurant Prima Luna  45.6175 -73.606011   \n",
       "1  4e0b48221f6edc06be259aec         Salle Désilets  45.6175 -73.606011   \n",
       "2  4e0b48221f6edc06be259aec         Salle Désilets  45.6175 -73.606011   \n",
       "3  4ea9b28cb803cf1ffacd7c0d            Café l'Exil  45.6175 -73.606011   \n",
       "4  4ea9b28cb803cf1ffacd7c0d            Café l'Exil  45.6175 -73.606011   \n",
       "\n",
       "       p_lat      p_lon  category_id       category_name  distance  rating  \\\n",
       "0  45.617439 -73.593995        13236  Italian Restaurant       941     7.4   \n",
       "1  45.617818 -73.606000        10039         Music Venue        19     NaN   \n",
       "2  45.617818 -73.606000        11130     Office Building        19     NaN   \n",
       "3  45.617214 -73.604961        13034                Café        79     NaN   \n",
       "4  45.617214 -73.604961        13035         Coffee Shop        79     NaN   \n",
       "\n",
       "   popularity  price  \n",
       "0    0.984892    1.0  \n",
       "1    0.968787    NaN  \n",
       "2    0.968787    NaN  \n",
       "3    0.868507    1.0  \n",
       "4    0.868507    1.0  "
      ]
     },
     "execution_count": 31,
     "metadata": {},
     "output_type": "execute_result"
    }
   ],
   "source": [
    "# Create dataframe\n",
    "df_businesses = pd.DataFrame(extracted_items)\n",
    "df_businesses.head()"
   ]
  },
  {
   "cell_type": "markdown",
   "metadata": {},
   "source": [
    "## Pre_cleaning"
   ]
  },
  {
   "cell_type": "code",
   "execution_count": 32,
   "metadata": {
    "tags": []
   },
   "outputs": [
    {
     "name": "stdout",
     "output_type": "stream",
     "text": [
      "215\n"
     ]
    }
   ],
   "source": [
    "# Any duplicates?\n",
    "print(df_businesses.duplicated().sum())"
   ]
  },
  {
   "cell_type": "code",
   "execution_count": 33,
   "metadata": {
    "tags": []
   },
   "outputs": [
    {
     "name": "stdout",
     "output_type": "stream",
     "text": [
      "0\n"
     ]
    }
   ],
   "source": [
    "# Drop duplicates\n",
    "fsq_with_dupes = df_businesses.copy() # Just in case!\n",
    "df_businesses.drop_duplicates(inplace=True)\n",
    "print(df_businesses.duplicated().sum())"
   ]
  },
  {
   "cell_type": "code",
   "execution_count": 34,
   "metadata": {
    "tags": []
   },
   "outputs": [
    {
     "name": "stdout",
     "output_type": "stream",
     "text": [
      "<class 'pandas.core.frame.DataFrame'>\n",
      "Int64Index: 61214 entries, 0 to 61428\n",
      "Data columns (total 12 columns):\n",
      " #   Column         Non-Null Count  Dtype  \n",
      "---  ------         --------------  -----  \n",
      " 0   fsq_id         61214 non-null  object \n",
      " 1   name           61214 non-null  object \n",
      " 2   s_lat          61214 non-null  float64\n",
      " 3   s_lon          61214 non-null  float64\n",
      " 4   p_lat          61214 non-null  float64\n",
      " 5   p_lon          61214 non-null  float64\n",
      " 6   category_id    61214 non-null  int64  \n",
      " 7   category_name  61214 non-null  object \n",
      " 8   distance       61214 non-null  int64  \n",
      " 9   rating         40794 non-null  float64\n",
      " 10  popularity     52790 non-null  float64\n",
      " 11  price          44336 non-null  float64\n",
      "dtypes: float64(7), int64(2), object(3)\n",
      "memory usage: 6.1+ MB\n"
     ]
    }
   ],
   "source": [
    "# Any-null? and Dtypes info\n",
    "df_businesses.info()"
   ]
  },
  {
   "cell_type": "markdown",
   "metadata": {},
   "source": [
    "#### Overview:\n",
    "For missing values:\n",
    "- Rating: we could try to get the rating value from Yelp to reduce the number of missing value (need scaling).\n",
    "\n",
    "For modeling purpose only:\n",
    "- Popularity: We could drop these only if they don't have a rating either.\n",
    "- Price: Only keep if they have a rating."
   ]
  },
  {
   "cell_type": "code",
   "execution_count": 35,
   "metadata": {
    "tags": []
   },
   "outputs": [
    {
     "name": "stdout",
     "output_type": "stream",
     "text": [
      "Index            489712\n",
      "fsq_id           489712\n",
      "name             489712\n",
      "s_lat            489712\n",
      "s_lon            489712\n",
      "p_lat            489712\n",
      "p_lon            489712\n",
      "category_id      489712\n",
      "category_name    489712\n",
      "distance         489712\n",
      "rating           489712\n",
      "popularity       489712\n",
      "price            489712\n",
      "dtype: int64\n"
     ]
    }
   ],
   "source": [
    "# Check memory\n",
    "print(df_businesses.memory_usage())"
   ]
  },
  {
   "cell_type": "code",
   "execution_count": 36,
   "metadata": {
    "tags": []
   },
   "outputs": [
    {
     "name": "stdout",
     "output_type": "stream",
     "text": [
      "min    0.000610\n",
      "max    0.999921\n",
      "Name: popularity, dtype: float64\n",
      "[ 1. nan  2.  3.  4.]\n"
     ]
    }
   ],
   "source": [
    "# Check column popularity and price\n",
    "print(df_businesses['popularity'].agg(['min', 'max']))\n",
    "print(df_businesses['price'].unique())"
   ]
  },
  {
   "cell_type": "code",
   "execution_count": 37,
   "metadata": {
    "tags": []
   },
   "outputs": [],
   "source": [
    "# Convert type\n",
    "\n",
    "df_businesses['popularity'] = df_businesses['popularity'].round(3)\n",
    "df_businesses['price'] = pd.to_numeric(\n",
    "    df_businesses['price'], \n",
    "    errors='coerce'\n",
    ").astype('Int16')"
   ]
  },
  {
   "cell_type": "code",
   "execution_count": 38,
   "metadata": {
    "tags": []
   },
   "outputs": [
    {
     "name": "stdout",
     "output_type": "stream",
     "text": [
      "fsq_id            object\n",
      "name              object\n",
      "s_lat            float64\n",
      "s_lon            float64\n",
      "p_lat            float64\n",
      "p_lon            float64\n",
      "category_id        int64\n",
      "category_name     object\n",
      "distance           int64\n",
      "rating           float64\n",
      "popularity       float64\n",
      "price              Int16\n",
      "dtype: object\n"
     ]
    },
    {
     "data": {
      "text/plain": [
       "Index            489712\n",
       "fsq_id           489712\n",
       "name             489712\n",
       "s_lat            489712\n",
       "s_lon            489712\n",
       "p_lat            489712\n",
       "p_lon            489712\n",
       "category_id      489712\n",
       "category_name    489712\n",
       "distance         489712\n",
       "rating           489712\n",
       "popularity       489712\n",
       "price            183642\n",
       "dtype: int64"
      ]
     },
     "execution_count": 38,
     "metadata": {},
     "output_type": "execute_result"
    }
   ],
   "source": [
    "print(df_businesses.dtypes)\n",
    "df_businesses.memory_usage()"
   ]
  },
  {
   "cell_type": "code",
   "execution_count": 39,
   "metadata": {
    "tags": []
   },
   "outputs": [
    {
     "data": {
      "text/html": [
       "<div>\n",
       "<style scoped>\n",
       "    .dataframe tbody tr th:only-of-type {\n",
       "        vertical-align: middle;\n",
       "    }\n",
       "\n",
       "    .dataframe tbody tr th {\n",
       "        vertical-align: top;\n",
       "    }\n",
       "\n",
       "    .dataframe thead th {\n",
       "        text-align: right;\n",
       "    }\n",
       "</style>\n",
       "<table border=\"1\" class=\"dataframe\">\n",
       "  <thead>\n",
       "    <tr style=\"text-align: right;\">\n",
       "      <th></th>\n",
       "      <th>s_lat</th>\n",
       "      <th>s_lon</th>\n",
       "      <th>p_lat</th>\n",
       "      <th>p_lon</th>\n",
       "      <th>category_id</th>\n",
       "      <th>distance</th>\n",
       "      <th>rating</th>\n",
       "      <th>popularity</th>\n",
       "      <th>price</th>\n",
       "    </tr>\n",
       "  </thead>\n",
       "  <tbody>\n",
       "    <tr>\n",
       "      <th>count</th>\n",
       "      <td>61214.000000</td>\n",
       "      <td>61214.000000</td>\n",
       "      <td>61214.000000</td>\n",
       "      <td>61214.000000</td>\n",
       "      <td>61214.000000</td>\n",
       "      <td>6.121400e+04</td>\n",
       "      <td>40794.000000</td>\n",
       "      <td>52790.000000</td>\n",
       "      <td>44336.0</td>\n",
       "    </tr>\n",
       "    <tr>\n",
       "      <th>mean</th>\n",
       "      <td>45.522447</td>\n",
       "      <td>-73.590226</td>\n",
       "      <td>45.522165</td>\n",
       "      <td>-73.590163</td>\n",
       "      <td>12836.673359</td>\n",
       "      <td>9.898619e+02</td>\n",
       "      <td>8.008254</td>\n",
       "      <td>0.897046</td>\n",
       "      <td>1.583724</td>\n",
       "    </tr>\n",
       "    <tr>\n",
       "      <th>std</th>\n",
       "      <td>0.034489</td>\n",
       "      <td>0.041489</td>\n",
       "      <td>0.034231</td>\n",
       "      <td>0.041448</td>\n",
       "      <td>1078.292490</td>\n",
       "      <td>2.403115e+04</td>\n",
       "      <td>0.918004</td>\n",
       "      <td>0.174962</td>\n",
       "      <td>0.687861</td>\n",
       "    </tr>\n",
       "    <tr>\n",
       "      <th>min</th>\n",
       "      <td>45.416295</td>\n",
       "      <td>-73.758227</td>\n",
       "      <td>45.415116</td>\n",
       "      <td>-73.769120</td>\n",
       "      <td>10000.000000</td>\n",
       "      <td>4.000000e+00</td>\n",
       "      <td>4.500000</td>\n",
       "      <td>0.001000</td>\n",
       "      <td>1.0</td>\n",
       "    </tr>\n",
       "    <tr>\n",
       "      <th>25%</th>\n",
       "      <td>45.502386</td>\n",
       "      <td>-73.608970</td>\n",
       "      <td>45.502195</td>\n",
       "      <td>-73.608952</td>\n",
       "      <td>13018.000000</td>\n",
       "      <td>4.530000e+02</td>\n",
       "      <td>7.500000</td>\n",
       "      <td>0.918000</td>\n",
       "      <td>1.0</td>\n",
       "    </tr>\n",
       "    <tr>\n",
       "      <th>50%</th>\n",
       "      <td>45.523550</td>\n",
       "      <td>-73.581056</td>\n",
       "      <td>45.522827</td>\n",
       "      <td>-73.579761</td>\n",
       "      <td>13049.000000</td>\n",
       "      <td>6.690000e+02</td>\n",
       "      <td>8.200000</td>\n",
       "      <td>0.950000</td>\n",
       "      <td>1.0</td>\n",
       "    </tr>\n",
       "    <tr>\n",
       "      <th>75%</th>\n",
       "      <td>45.540060</td>\n",
       "      <td>-73.566583</td>\n",
       "      <td>45.539309</td>\n",
       "      <td>-73.566723</td>\n",
       "      <td>13095.000000</td>\n",
       "      <td>8.490000e+02</td>\n",
       "      <td>8.700000</td>\n",
       "      <td>0.971000</td>\n",
       "      <td>2.0</td>\n",
       "    </tr>\n",
       "    <tr>\n",
       "      <th>max</th>\n",
       "      <td>45.702349</td>\n",
       "      <td>-73.436058</td>\n",
       "      <td>45.705136</td>\n",
       "      <td>-73.427798</td>\n",
       "      <td>19055.000000</td>\n",
       "      <td>2.333683e+06</td>\n",
       "      <td>9.400000</td>\n",
       "      <td>1.000000</td>\n",
       "      <td>4.0</td>\n",
       "    </tr>\n",
       "  </tbody>\n",
       "</table>\n",
       "</div>"
      ],
      "text/plain": [
       "              s_lat         s_lon         p_lat         p_lon   category_id  \\\n",
       "count  61214.000000  61214.000000  61214.000000  61214.000000  61214.000000   \n",
       "mean      45.522447    -73.590226     45.522165    -73.590163  12836.673359   \n",
       "std        0.034489      0.041489      0.034231      0.041448   1078.292490   \n",
       "min       45.416295    -73.758227     45.415116    -73.769120  10000.000000   \n",
       "25%       45.502386    -73.608970     45.502195    -73.608952  13018.000000   \n",
       "50%       45.523550    -73.581056     45.522827    -73.579761  13049.000000   \n",
       "75%       45.540060    -73.566583     45.539309    -73.566723  13095.000000   \n",
       "max       45.702349    -73.436058     45.705136    -73.427798  19055.000000   \n",
       "\n",
       "           distance        rating    popularity     price  \n",
       "count  6.121400e+04  40794.000000  52790.000000   44336.0  \n",
       "mean   9.898619e+02      8.008254      0.897046  1.583724  \n",
       "std    2.403115e+04      0.918004      0.174962  0.687861  \n",
       "min    4.000000e+00      4.500000      0.001000       1.0  \n",
       "25%    4.530000e+02      7.500000      0.918000       1.0  \n",
       "50%    6.690000e+02      8.200000      0.950000       1.0  \n",
       "75%    8.490000e+02      8.700000      0.971000       2.0  \n",
       "max    2.333683e+06      9.400000      1.000000       4.0  "
      ]
     },
     "execution_count": 39,
     "metadata": {},
     "output_type": "execute_result"
    }
   ],
   "source": [
    "# Descriptive statistics\n",
    "df_businesses.describe()"
   ]
  },
  {
   "cell_type": "markdown",
   "metadata": {},
   "source": [
    "It looks like we have data from outside the radius of 1000m and category of 10000's and 13000's"
   ]
  },
  {
   "cell_type": "code",
   "execution_count": 40,
   "metadata": {
    "tags": []
   },
   "outputs": [
    {
     "name": "stdout",
     "output_type": "stream",
     "text": [
      "Number of out of range radius = 885\n",
      "Number of out of range catgeory = 1004\n"
     ]
    }
   ],
   "source": [
    "# out of radius data\n",
    "out_of_radius = df_businesses[df_businesses['distance'] > 1000]\n",
    "out_of_cat = df_businesses[df_businesses['category_id'] > 14000]['category_id']\n",
    "print(f\"Number of out of range radius = {out_of_radius.shape[0]}\")\n",
    "print(f\"Number of out of range catgeory = {out_of_cat.shape[0]}\")"
   ]
  },
  {
   "cell_type": "code",
   "execution_count": 41,
   "metadata": {
    "tags": []
   },
   "outputs": [],
   "source": [
    "# Delete outliers\n",
    "df_businesses = df_businesses[df_businesses['distance'] <= 1000]\n",
    "df_businesses = df_businesses[df_businesses['category_id'] <= 13999]"
   ]
  },
  {
   "cell_type": "code",
   "execution_count": 42,
   "metadata": {
    "tags": []
   },
   "outputs": [
    {
     "data": {
      "text/plain": [
       "<Figure size 1200x800 with 0 Axes>"
      ]
     },
     "metadata": {},
     "output_type": "display_data"
    },
    {
     "data": {
      "image/png": "[encoded data removed]",
      "text/plain": [
       "<Figure size 640x480 with 4 Axes>"
      ]
     },
     "metadata": {},
     "output_type": "display_data"
    }
   ],
   "source": [
    "# Histogram of each variables (raw data)\n",
    "plt.figure(figsize=(12, 8))\n",
    "df_businesses[['rating', 'popularity', 'price', 'category_id']].hist(bins=20, alpha=0.8)\n",
    "plt.tight_layout()"
   ]
  },
  {
   "cell_type": "markdown",
   "metadata": {},
   "source": [
    "## First impressions\n",
    "- a) Rating and Popularity have a high mean, with maybe some outliers on the left or due to missing values.\n",
    "- b) Price seems positively skewed, with most of price between 1 and 2.\n",
    "    - Values include:\n",
    "        - 1 = Cheap\n",
    "        - 2 = Moderate\n",
    "        - 3 = Expensive\n",
    "        - 4 = Very Expensive.<br>\n",
    "    This is not abnormal as Montreal is recognize having a lot of good restaurants with a majority of low prices and a few with very high prices.\n",
    "- c) Category has less items from the 10,000's (Art and Entertainment) than 13,000's (Dining and Restaurant).\n"
   ]
  },
  {
   "cell_type": "code",
   "execution_count": 44,
   "metadata": {
    "tags": []
   },
   "outputs": [
    {
     "name": "stdout",
     "output_type": "stream",
     "text": [
      "Total rows popularity below 75% = 4155\n",
      "Total which have no ratings = 4003\n",
      "Average rating for pop below 75% = 6.759\n"
     ]
    }
   ],
   "source": [
    "# a) Check low popularity value\n",
    "\n",
    "total_low_pop = df_businesses[(df_businesses['popularity'] < 0.75)].shape[0]\n",
    "num_pop_no_rating = df_businesses[(df_businesses['popularity'] < 0.75) & (df_businesses['rating'].isnull())].shape[0]\n",
    "avg_rating = df_businesses[(df_businesses['popularity'] < 0.75) & (~df_businesses['rating'].isnull())]['rating'].mean()\n",
    "\n",
    "print(f\"Total rows popularity below 75% = {total_low_pop}\")\n",
    "print(f\"Total which have no ratings = {num_pop_no_rating}\")\n",
    "print(f\"Average rating for pop below 75% = {avg_rating:.3f}\")"
   ]
  },
  {
   "cell_type": "markdown",
   "metadata": {},
   "source": [
    "- Most of the popularity below 75% have no ratings.\n",
    "- The average of ratings left is below the mean of the whole data (out of std dev also).\n",
    "- The subset is relatively small compare to the total of data (4155 out of 61214)"
   ]
  },
  {
   "cell_type": "code",
   "execution_count": 45,
   "metadata": {
    "tags": []
   },
   "outputs": [
    {
     "name": "stdout",
     "output_type": "stream",
     "text": [
      "Pourcentage of missing rating for 10k category = 60%\n",
      "Pourcentage of missing rating for 13k category = 60%\n",
      "Pourcentage of 10k rows over total = 11%\n"
     ]
    }
   ],
   "source": [
    "# Validate the rating of each familiy of category (10,000's, 13,000's)\n",
    "num_rows_10k = df_businesses[df_businesses['category_id'].between(10000, 12999)].shape[0]\n",
    "num_rating_10k = df_businesses[(df_businesses['category_id'].between(10000, 12999)) & (df_businesses['rating'].isnull())].shape[0]\n",
    "\n",
    "num_rows_13k = df_businesses[df_businesses['category_id'].between(13000, 13999)].shape[0]\n",
    "num_rating_13k = df_businesses[(df_businesses['category_id'].between(13000, 13999)) & (df_businesses['rating'].isnull())].shape[0]\n",
    "\n",
    "print(f\"Pourcentage of missing rating for 10k category = {num_rating_10k/num_rows_10k*100:.0f}%\")\n",
    "print(f\"Pourcentage of missing rating for 13k category = {num_rating_10k/num_rows_10k*100:.0f}%\")\n",
    "print(f\"Pourcentage of 10k rows over total = {round((num_rows_10k/(num_rows_10k+num_rows_13k))*100)}%\")"
   ]
  },
  {
   "cell_type": "markdown",
   "metadata": {},
   "source": [
    "- It looks like it is difficult to get ratings at all from FourSquare...\n",
    "- Maybe it would be better to conduct seperate regression per category (level to be determined)."
   ]
  },
  {
   "cell_type": "code",
   "execution_count": 46,
   "metadata": {
    "tags": []
   },
   "outputs": [
    {
     "name": "stdout",
     "output_type": "stream",
     "text": [
      "<class 'pandas.core.frame.DataFrame'>\n",
      "Int64Index: 59349 entries, 0 to 61428\n",
      "Data columns (total 12 columns):\n",
      " #   Column         Non-Null Count  Dtype  \n",
      "---  ------         --------------  -----  \n",
      " 0   fsq_id         59349 non-null  object \n",
      " 1   name           59349 non-null  object \n",
      " 2   s_lat          59349 non-null  float64\n",
      " 3   s_lon          59349 non-null  float64\n",
      " 4   p_lat          59349 non-null  float64\n",
      " 5   p_lon          59349 non-null  float64\n",
      " 6   category_id    59349 non-null  int64  \n",
      " 7   category_name  59349 non-null  object \n",
      " 8   distance       59349 non-null  int64  \n",
      " 9   rating         39961 non-null  float64\n",
      " 10  popularity     51230 non-null  float64\n",
      " 11  price          43531 non-null  Int16  \n",
      "dtypes: Int16(1), float64(6), int64(2), object(3)\n",
      "memory usage: 5.6+ MB\n"
     ]
    }
   ],
   "source": [
    "df_businesses.info()"
   ]
  },
  {
   "cell_type": "code",
   "execution_count": 47,
   "metadata": {
    "tags": []
   },
   "outputs": [],
   "source": [
    "# Create csv file\n",
    "df_businesses.to_csv('../data/fsq_businesses.csv', index=False)"
   ]
  },
  {
   "cell_type": "markdown",
   "metadata": {},
   "source": [
    "# Yelp"
   ]
  },
  {
   "cell_type": "markdown",
   "metadata": {},
   "source": [
    "#### Send a request to Yelp with a small radius (1000m) for all the bike stations in your city of choice. "
   ]
  },
  {
   "cell_type": "code",
   "execution_count": 90,
   "metadata": {
    "tags": []
   },
   "outputs": [],
   "source": [
    "# Note: The API does not return businesses without any reviews.\n",
    "\n",
    "# Setting variables\n",
    "api_key = os.getenv('YELP_API')\n",
    "url = 'https://api.yelp.com/v3/businesses/search'\n",
    "headers = {\n",
    "    'Accept': 'application/json',\n",
    "    'Authorization': 'Bearer ' + api_key\n",
    "}\n",
    "radius  = 1000 # 1 km\n",
    "time_per_request = 1 / 100  # 1 second / 100 QPS - Cannot find real QPS - Limit 500 per day\n",
    "responses = [] # list for dumping responses along the way in case of error"
   ]
  },
  {
   "cell_type": "code",
   "execution_count": 91,
   "metadata": {
    "tags": []
   },
   "outputs": [],
   "source": [
    "# GET request for each locations\n",
    "\n",
    "# Continue from last error, if any, or from limit obtained for last day\n",
    "try:\n",
    "    with open('../data/responses_yelp.json', 'r') as f:\n",
    "        responses = json.load(f)\n",
    "except FileNotFoundError:\n",
    "    pass\n",
    "\n",
    "# Loop throught locations - Limit Max 500 per day\n",
    "\n",
    "max_iterations = 500\n",
    "start_index = len(responses)\n",
    "end_index = min(start_index + max_iterations, len(stations))\n",
    "\n",
    "for index in range(start_index, end_index):\n",
    "    params = {\n",
    "        'latitude': stations.iloc[index]['latitude'],\n",
    "        'longitude': stations.iloc[index]['longitude'],\n",
    "        'radius': radius\n",
    "    }\n",
    "\n",
    "    try:\n",
    "        response = requests.get(url, params=params, headers=headers)\n",
    "        response.raise_for_status()\n",
    "\n",
    "        responses.append(response.json())\n",
    "\n",
    "        # Save intermediate progress after each successful request\n",
    "        with open('../data/responses_yelp.json', 'w') as f:\n",
    "            json.dump(responses, f)\n",
    "\n",
    "        # Print progress\n",
    "        remaining = response.headers.get('RateLimit-Remaining')\n",
    "        clear_output(wait=True)\n",
    "        print(f\"Remaining calls: {remaining}\")\n",
    "        \n",
    "    except requests.exceptions.RequestException as error:\n",
    "        print(f\"Error: {error}\")\n",
    "        # Break out of the loop when an error occurs\n",
    "        break\n",
    "\n",
    "    time.sleep(time_per_request)\n",
    "\n",
    "    # Stop the loop if an error occurred\n",
    "    if 'error' in response.json():\n",
    "        break"
   ]
  },
  {
   "cell_type": "markdown",
   "metadata": {},
   "source": [
    "#### Parse through the response to get the POI (such as restaurants, bars, etc) details you want (ratings, name, location, etc)"
   ]
  },
  {
   "cell_type": "code",
   "execution_count": 92,
   "metadata": {
    "tags": []
   },
   "outputs": [],
   "source": [
    "# Load source\n",
    "with open('../data/responses_yelp.json', 'r') as f:\n",
    "        responses = json.load(f)"
   ]
  },
  {
   "cell_type": "code",
   "execution_count": 93,
   "metadata": {
    "tags": []
   },
   "outputs": [
    {
     "name": "stdout",
     "output_type": "stream",
     "text": [
      "{'id': 'vRJPrk-VH75uxLiVVprBhA',\n",
      " 'alias': 'capucine-montreal-nord',\n",
      " 'name': 'Capucine',\n",
      " 'image_url': 'https://s3-media2.fl.yelpcdn.com/bphoto/BOs9f6hjfSGjgEE64IT0lw/o.jpg',\n",
      " 'is_closed': False,\n",
      " 'url': 'https://www.yelp.com/biz/capucine-montreal-nord?adjust_creative=qL1YbVp0nO3zbAD9GxJuXw&utm_campaign=yelp_api_v3&utm_medium=api_v3_business_search&utm_source=qL1YbVp0nO3zbAD9GxJuXw',\n",
      " 'review_count': 4,\n",
      " 'categories': [{'alias': 'italian', 'title': 'Italian'}],\n",
      " 'rating': 5.0,\n",
      " 'coordinates': {'latitude': 45.6196699281717, 'longitude': -73.6097039384337},\n",
      " 'transactions': [],\n",
      " 'location': {'address1': '7000 Boulevard Maurice Duplessis',\n",
      "              'address2': '',\n",
      "              'address3': '',\n",
      "              'city': 'Montreal-Nord',\n",
      "              'zip_code': 'H1G',\n",
      "              'country': 'CA',\n",
      "              'state': 'QC',\n",
      "              'display_address': ['7000 Boulevard Maurice Duplessis',\n",
      "                                  'Montreal-Nord, QC H1G',\n",
      "                                  'Canada']},\n",
      " 'phone': '+15143287604',\n",
      " 'display_phone': '+1 514-328-7604',\n",
      " 'distance': 375.11099955442694}\n",
      "dict_keys(['id', 'alias', 'name', 'image_url', 'is_closed', 'url', 'review_count', 'categories', 'rating', 'coordinates', 'transactions', 'location', 'phone', 'display_phone', 'distance'])\n"
     ]
    }
   ],
   "source": [
    "# Visualize structure of Yelp responses 'businesses'\n",
    "pp(responses[0]['businesses'][0], depth=5)\n",
    "pp(responses[0]['businesses'][0].keys())"
   ]
  },
  {
   "cell_type": "code",
   "execution_count": 94,
   "metadata": {
    "tags": []
   },
   "outputs": [
    {
     "name": "stdout",
     "output_type": "stream",
     "text": [
      "Businesses with multiple categories: 7840\n",
      "                        name  \\\n",
      "1      Restaurant Prima Luna   \n",
      "2      Boulangerie Adriatica   \n",
      "3       Boulangerie Amaretti   \n",
      "5                Tim Hortons   \n",
      "6           Shekz Restaurant   \n",
      "...                      ...   \n",
      "15105        Les Deux Gamins   \n",
      "15106           Ichigo Ichie   \n",
      "15107                 O'Thym   \n",
      "15109               Nil Bleu   \n",
      "15111    La Demande Générale   \n",
      "\n",
      "                                              categories  num_categories  \n",
      "1      [{'alias': 'italian', 'title': 'Italian'}, {'a...               2  \n",
      "2      [{'alias': 'italian', 'title': 'Italian'}, {'a...               2  \n",
      "3      [{'alias': 'bakeries', 'title': 'Bakeries'}, {...               2  \n",
      "5      [{'alias': 'coffee', 'title': 'Coffee & Tea'},...               2  \n",
      "6      [{'alias': 'sushi', 'title': 'Sushi Bars'}, {'...               3  \n",
      "...                                                  ...             ...  \n",
      "15105  [{'alias': 'french', 'title': 'French'}, {'ali...               2  \n",
      "15106  [{'alias': 'japanese', 'title': 'Japanese'}, {...               2  \n",
      "15107  [{'alias': 'french', 'title': 'French'}, {'ali...               2  \n",
      "15109  [{'alias': 'ethiopian', 'title': 'Ethiopian'},...               2  \n",
      "15111  [{'alias': 'bistros', 'title': 'Bistros'}, {'a...               3  \n",
      "\n",
      "[7840 rows x 3 columns]\n"
     ]
    }
   ],
   "source": [
    "# Validate if categories can have mulitple items\n",
    "\n",
    "# Flatten the JSON structure using json_normalize\n",
    "df = json_normalize(responses, record_path='businesses')\n",
    "\n",
    "# Calculate the number of categories for each business\n",
    "df['num_categories'] = df['categories'].apply(len)\n",
    "\n",
    "# Check if any business has multiple categories\n",
    "businesses_with_multiple_categories = df[df['num_categories'] > 1]\n",
    "print(f\"Businesses with multiple categories: {len(businesses_with_multiple_categories)}\")\n",
    "print(businesses_with_multiple_categories[['name', 'categories', 'num_categories']])"
   ]
  },
  {
   "cell_type": "code",
   "execution_count": 95,
   "metadata": {
    "tags": []
   },
   "outputs": [],
   "source": [
    "# Parsing required info\n",
    "\n",
    "# List to store extracted items\n",
    "extracted_items = []\n",
    "\n",
    "# Iterate through each data entry\n",
    "for entry in responses:\n",
    "    # Use json_normalize to flatten the 'businesses' data\n",
    "    flattened_businesses = json_normalize(entry['businesses'])\n",
    "\n",
    "    # Iterate through each row in flattened_businesses\n",
    "    for idx, business in flattened_businesses.iterrows():\n",
    "        # Loop through categories and create a new entry for each category\n",
    "        for category in business['categories']:\n",
    "            extracted_item = {\n",
    "                'id': business['id'],\n",
    "                'name': business['name'],\n",
    "                'rating': business.get('rating', np.nan),\n",
    "                'price': business.get('price', np.nan),\n",
    "                'review_count': business['review_count'],\n",
    "                's_lat': entry['region']['center']['latitude'],\n",
    "                's_lon': entry['region']['center']['longitude'],\n",
    "                'p_lat': business.get('coordinates.latitude', np.nan),\n",
    "                'p_lon': business.get('coordinates.longitude', np.nan),\n",
    "                'category_alias': category['alias'],\n",
    "                'distance': business['distance']\n",
    "            }\n",
    "            extracted_items.append(extracted_item)"
   ]
  },
  {
   "cell_type": "markdown",
   "metadata": {},
   "source": [
    "#### Put your parsed results into a DataFrame"
   ]
  },
  {
   "cell_type": "code",
   "execution_count": 96,
   "metadata": {
    "tags": []
   },
   "outputs": [
    {
     "data": {
      "text/html": [
       "<div>\n",
       "<style scoped>\n",
       "    .dataframe tbody tr th:only-of-type {\n",
       "        vertical-align: middle;\n",
       "    }\n",
       "\n",
       "    .dataframe tbody tr th {\n",
       "        vertical-align: top;\n",
       "    }\n",
       "\n",
       "    .dataframe thead th {\n",
       "        text-align: right;\n",
       "    }\n",
       "</style>\n",
       "<table border=\"1\" class=\"dataframe\">\n",
       "  <thead>\n",
       "    <tr style=\"text-align: right;\">\n",
       "      <th></th>\n",
       "      <th>id</th>\n",
       "      <th>name</th>\n",
       "      <th>rating</th>\n",
       "      <th>price</th>\n",
       "      <th>review_count</th>\n",
       "      <th>s_lat</th>\n",
       "      <th>s_lon</th>\n",
       "      <th>p_lat</th>\n",
       "      <th>p_lon</th>\n",
       "      <th>category_alias</th>\n",
       "      <th>distance</th>\n",
       "    </tr>\n",
       "  </thead>\n",
       "  <tbody>\n",
       "    <tr>\n",
       "      <th>0</th>\n",
       "      <td>vRJPrk-VH75uxLiVVprBhA</td>\n",
       "      <td>Capucine</td>\n",
       "      <td>5.0</td>\n",
       "      <td>NaN</td>\n",
       "      <td>4</td>\n",
       "      <td>45.6175</td>\n",
       "      <td>-73.606011</td>\n",
       "      <td>45.619670</td>\n",
       "      <td>-73.609704</td>\n",
       "      <td>italian</td>\n",
       "      <td>375.111000</td>\n",
       "    </tr>\n",
       "    <tr>\n",
       "      <th>1</th>\n",
       "      <td>TyKGLi1V1PFRHYmHDjFUMQ</td>\n",
       "      <td>Restaurant Prima Luna</td>\n",
       "      <td>4.0</td>\n",
       "      <td>$$$</td>\n",
       "      <td>14</td>\n",
       "      <td>45.6175</td>\n",
       "      <td>-73.606011</td>\n",
       "      <td>45.617234</td>\n",
       "      <td>-73.594176</td>\n",
       "      <td>italian</td>\n",
       "      <td>920.960695</td>\n",
       "    </tr>\n",
       "    <tr>\n",
       "      <th>2</th>\n",
       "      <td>TyKGLi1V1PFRHYmHDjFUMQ</td>\n",
       "      <td>Restaurant Prima Luna</td>\n",
       "      <td>4.0</td>\n",
       "      <td>$$$</td>\n",
       "      <td>14</td>\n",
       "      <td>45.6175</td>\n",
       "      <td>-73.606011</td>\n",
       "      <td>45.617234</td>\n",
       "      <td>-73.594176</td>\n",
       "      <td>sushi</td>\n",
       "      <td>920.960695</td>\n",
       "    </tr>\n",
       "    <tr>\n",
       "      <th>3</th>\n",
       "      <td>DOVOYnq3y-milXVI03GIrg</td>\n",
       "      <td>Boulangerie Adriatica</td>\n",
       "      <td>4.0</td>\n",
       "      <td>NaN</td>\n",
       "      <td>1</td>\n",
       "      <td>45.6175</td>\n",
       "      <td>-73.606011</td>\n",
       "      <td>45.615210</td>\n",
       "      <td>-73.609710</td>\n",
       "      <td>italian</td>\n",
       "      <td>365.542788</td>\n",
       "    </tr>\n",
       "    <tr>\n",
       "      <th>4</th>\n",
       "      <td>DOVOYnq3y-milXVI03GIrg</td>\n",
       "      <td>Boulangerie Adriatica</td>\n",
       "      <td>4.0</td>\n",
       "      <td>NaN</td>\n",
       "      <td>1</td>\n",
       "      <td>45.6175</td>\n",
       "      <td>-73.606011</td>\n",
       "      <td>45.615210</td>\n",
       "      <td>-73.609710</td>\n",
       "      <td>pizza</td>\n",
       "      <td>365.542788</td>\n",
       "    </tr>\n",
       "  </tbody>\n",
       "</table>\n",
       "</div>"
      ],
      "text/plain": [
       "                       id                   name  rating price  review_count  \\\n",
       "0  vRJPrk-VH75uxLiVVprBhA               Capucine     5.0   NaN             4   \n",
       "1  TyKGLi1V1PFRHYmHDjFUMQ  Restaurant Prima Luna     4.0   $$$            14   \n",
       "2  TyKGLi1V1PFRHYmHDjFUMQ  Restaurant Prima Luna     4.0   $$$            14   \n",
       "3  DOVOYnq3y-milXVI03GIrg  Boulangerie Adriatica     4.0   NaN             1   \n",
       "4  DOVOYnq3y-milXVI03GIrg  Boulangerie Adriatica     4.0   NaN             1   \n",
       "\n",
       "     s_lat      s_lon      p_lat      p_lon category_alias    distance  \n",
       "0  45.6175 -73.606011  45.619670 -73.609704        italian  375.111000  \n",
       "1  45.6175 -73.606011  45.617234 -73.594176        italian  920.960695  \n",
       "2  45.6175 -73.606011  45.617234 -73.594176          sushi  920.960695  \n",
       "3  45.6175 -73.606011  45.615210 -73.609710        italian  365.542788  \n",
       "4  45.6175 -73.606011  45.615210 -73.609710          pizza  365.542788  "
      ]
     },
     "execution_count": 96,
     "metadata": {},
     "output_type": "execute_result"
    }
   ],
   "source": [
    "# Create dataframe\n",
    "df_businesses = pd.DataFrame(extracted_items)\n",
    "df_businesses.head()"
   ]
  },
  {
   "cell_type": "markdown",
   "metadata": {},
   "source": [
    "#### Pre_cleaning"
   ]
  },
  {
   "cell_type": "code",
   "execution_count": 97,
   "metadata": {
    "tags": []
   },
   "outputs": [
    {
     "name": "stdout",
     "output_type": "stream",
     "text": [
      "0\n"
     ]
    }
   ],
   "source": [
    "# Any duplicates?\n",
    "print(df_businesses.duplicated().sum())"
   ]
  },
  {
   "cell_type": "code",
   "execution_count": 98,
   "metadata": {
    "tags": []
   },
   "outputs": [
    {
     "name": "stdout",
     "output_type": "stream",
     "text": [
      "<class 'pandas.core.frame.DataFrame'>\n",
      "RangeIndex: 26339 entries, 0 to 26338\n",
      "Data columns (total 11 columns):\n",
      " #   Column          Non-Null Count  Dtype  \n",
      "---  ------          --------------  -----  \n",
      " 0   id              26339 non-null  object \n",
      " 1   name            26339 non-null  object \n",
      " 2   rating          26339 non-null  float64\n",
      " 3   price           20389 non-null  object \n",
      " 4   review_count    26339 non-null  int64  \n",
      " 5   s_lat           26339 non-null  float64\n",
      " 6   s_lon           26339 non-null  float64\n",
      " 7   p_lat           26339 non-null  float64\n",
      " 8   p_lon           26339 non-null  float64\n",
      " 9   category_alias  26339 non-null  object \n",
      " 10  distance        26339 non-null  float64\n",
      "dtypes: float64(6), int64(1), object(4)\n",
      "memory usage: 2.2+ MB\n",
      "None\n"
     ]
    }
   ],
   "source": [
    "# Any-null? and Dtypes info\n",
    "print(df_businesses.info())"
   ]
  },
  {
   "cell_type": "markdown",
   "metadata": {
    "tags": []
   },
   "source": [
    "Some missing values for price only. We could try to get them from FourSquare data."
   ]
  },
  {
   "cell_type": "code",
   "execution_count": 99,
   "metadata": {
    "tags": []
   },
   "outputs": [
    {
     "name": "stdout",
     "output_type": "stream",
     "text": [
      "Index                132\n",
      "id                210712\n",
      "name              210712\n",
      "rating            210712\n",
      "price             210712\n",
      "review_count      210712\n",
      "s_lat             210712\n",
      "s_lon             210712\n",
      "p_lat             210712\n",
      "p_lon             210712\n",
      "category_alias    210712\n",
      "distance          210712\n",
      "dtype: int64\n"
     ]
    }
   ],
   "source": [
    "# Check memory\n",
    "print(df_businesses.memory_usage())"
   ]
  },
  {
   "cell_type": "code",
   "execution_count": 100,
   "metadata": {
    "tags": []
   },
   "outputs": [
    {
     "data": {
      "text/html": [
       "<div>\n",
       "<style scoped>\n",
       "    .dataframe tbody tr th:only-of-type {\n",
       "        vertical-align: middle;\n",
       "    }\n",
       "\n",
       "    .dataframe tbody tr th {\n",
       "        vertical-align: top;\n",
       "    }\n",
       "\n",
       "    .dataframe thead th {\n",
       "        text-align: right;\n",
       "    }\n",
       "</style>\n",
       "<table border=\"1\" class=\"dataframe\">\n",
       "  <thead>\n",
       "    <tr style=\"text-align: right;\">\n",
       "      <th></th>\n",
       "      <th>id</th>\n",
       "      <th>name</th>\n",
       "      <th>rating</th>\n",
       "      <th>price</th>\n",
       "      <th>review_count</th>\n",
       "      <th>s_lat</th>\n",
       "      <th>s_lon</th>\n",
       "      <th>p_lat</th>\n",
       "      <th>p_lon</th>\n",
       "      <th>category_alias</th>\n",
       "      <th>distance</th>\n",
       "    </tr>\n",
       "  </thead>\n",
       "  <tbody>\n",
       "    <tr>\n",
       "      <th>0</th>\n",
       "      <td>vRJPrk-VH75uxLiVVprBhA</td>\n",
       "      <td>Capucine</td>\n",
       "      <td>5.0</td>\n",
       "      <td>NaN</td>\n",
       "      <td>4</td>\n",
       "      <td>45.6175</td>\n",
       "      <td>-73.606011</td>\n",
       "      <td>45.619670</td>\n",
       "      <td>-73.609704</td>\n",
       "      <td>italian</td>\n",
       "      <td>375</td>\n",
       "    </tr>\n",
       "    <tr>\n",
       "      <th>1</th>\n",
       "      <td>TyKGLi1V1PFRHYmHDjFUMQ</td>\n",
       "      <td>Restaurant Prima Luna</td>\n",
       "      <td>4.0</td>\n",
       "      <td>3.0</td>\n",
       "      <td>14</td>\n",
       "      <td>45.6175</td>\n",
       "      <td>-73.606011</td>\n",
       "      <td>45.617234</td>\n",
       "      <td>-73.594176</td>\n",
       "      <td>italian</td>\n",
       "      <td>921</td>\n",
       "    </tr>\n",
       "    <tr>\n",
       "      <th>2</th>\n",
       "      <td>TyKGLi1V1PFRHYmHDjFUMQ</td>\n",
       "      <td>Restaurant Prima Luna</td>\n",
       "      <td>4.0</td>\n",
       "      <td>3.0</td>\n",
       "      <td>14</td>\n",
       "      <td>45.6175</td>\n",
       "      <td>-73.606011</td>\n",
       "      <td>45.617234</td>\n",
       "      <td>-73.594176</td>\n",
       "      <td>sushi</td>\n",
       "      <td>921</td>\n",
       "    </tr>\n",
       "    <tr>\n",
       "      <th>3</th>\n",
       "      <td>DOVOYnq3y-milXVI03GIrg</td>\n",
       "      <td>Boulangerie Adriatica</td>\n",
       "      <td>4.0</td>\n",
       "      <td>NaN</td>\n",
       "      <td>1</td>\n",
       "      <td>45.6175</td>\n",
       "      <td>-73.606011</td>\n",
       "      <td>45.615210</td>\n",
       "      <td>-73.609710</td>\n",
       "      <td>italian</td>\n",
       "      <td>366</td>\n",
       "    </tr>\n",
       "    <tr>\n",
       "      <th>4</th>\n",
       "      <td>DOVOYnq3y-milXVI03GIrg</td>\n",
       "      <td>Boulangerie Adriatica</td>\n",
       "      <td>4.0</td>\n",
       "      <td>NaN</td>\n",
       "      <td>1</td>\n",
       "      <td>45.6175</td>\n",
       "      <td>-73.606011</td>\n",
       "      <td>45.615210</td>\n",
       "      <td>-73.609710</td>\n",
       "      <td>pizza</td>\n",
       "      <td>366</td>\n",
       "    </tr>\n",
       "  </tbody>\n",
       "</table>\n",
       "</div>"
      ],
      "text/plain": [
       "                       id                   name  rating  price  review_count  \\\n",
       "0  vRJPrk-VH75uxLiVVprBhA               Capucine     5.0    NaN             4   \n",
       "1  TyKGLi1V1PFRHYmHDjFUMQ  Restaurant Prima Luna     4.0    3.0            14   \n",
       "2  TyKGLi1V1PFRHYmHDjFUMQ  Restaurant Prima Luna     4.0    3.0            14   \n",
       "3  DOVOYnq3y-milXVI03GIrg  Boulangerie Adriatica     4.0    NaN             1   \n",
       "4  DOVOYnq3y-milXVI03GIrg  Boulangerie Adriatica     4.0    NaN             1   \n",
       "\n",
       "     s_lat      s_lon      p_lat      p_lon category_alias  distance  \n",
       "0  45.6175 -73.606011  45.619670 -73.609704        italian       375  \n",
       "1  45.6175 -73.606011  45.617234 -73.594176        italian       921  \n",
       "2  45.6175 -73.606011  45.617234 -73.594176          sushi       921  \n",
       "3  45.6175 -73.606011  45.615210 -73.609710        italian       366  \n",
       "4  45.6175 -73.606011  45.615210 -73.609710          pizza       366  "
      ]
     },
     "execution_count": 100,
     "metadata": {},
     "output_type": "execute_result"
    }
   ],
   "source": [
    "# Convert type and format\n",
    "\n",
    "# Round distance\n",
    "df_businesses['distance'] = df_businesses['distance'].round().astype(int)\n",
    "\n",
    "# Mapping dictionary for prices\n",
    "price_mapping = {'$': 1, '$$': 2, '$$$': 3, '$$$$': 4, '$$$$$': 5} # to_match FSQ and to be numeric\n",
    "\n",
    "# Apply the mapping function to the 'price' column\n",
    "df_businesses['price'] = df_businesses['price'].map(price_mapping)\n",
    "\n",
    "df_businesses.head()"
   ]
  },
  {
   "cell_type": "code",
   "execution_count": 101,
   "metadata": {
    "tags": []
   },
   "outputs": [],
   "source": [
    "# Scalling the rating to match FSQ (range 1 to 10)\n",
    "\n",
    "# Define the target rating range of the second dataframe\n",
    "target_min = 1\n",
    "target_max = 10\n",
    "\n",
    "# Create a function to scale\n",
    "def scale_rating(rating, source_min, source_max, target_min, target_max):\n",
    "    scaled_rating = ((rating - source_min) / (source_max - source_min)) * (target_max - target_min) + target_min\n",
    "    return scaled_rating\n",
    "\n",
    "df_businesses['scaled_rating'] = (\n",
    "    df_businesses['rating']\n",
    "    .apply(lambda x: scale_rating(x, df_businesses['rating'].min(), df_businesses['rating'].max(), target_min, target_max))\n",
    "    )"
   ]
  },
  {
   "cell_type": "code",
   "execution_count": 102,
   "metadata": {
    "tags": []
   },
   "outputs": [
    {
     "data": {
      "text/html": [
       "<div>\n",
       "<style scoped>\n",
       "    .dataframe tbody tr th:only-of-type {\n",
       "        vertical-align: middle;\n",
       "    }\n",
       "\n",
       "    .dataframe tbody tr th {\n",
       "        vertical-align: top;\n",
       "    }\n",
       "\n",
       "    .dataframe thead th {\n",
       "        text-align: right;\n",
       "    }\n",
       "</style>\n",
       "<table border=\"1\" class=\"dataframe\">\n",
       "  <thead>\n",
       "    <tr style=\"text-align: right;\">\n",
       "      <th></th>\n",
       "      <th>id</th>\n",
       "      <th>name</th>\n",
       "      <th>rating</th>\n",
       "      <th>price</th>\n",
       "      <th>review_count</th>\n",
       "      <th>s_lat</th>\n",
       "      <th>s_lon</th>\n",
       "      <th>p_lat</th>\n",
       "      <th>p_lon</th>\n",
       "      <th>category_alias</th>\n",
       "      <th>distance</th>\n",
       "      <th>scaled_rating</th>\n",
       "    </tr>\n",
       "  </thead>\n",
       "  <tbody>\n",
       "    <tr>\n",
       "      <th>0</th>\n",
       "      <td>vRJPrk-VH75uxLiVVprBhA</td>\n",
       "      <td>Capucine</td>\n",
       "      <td>5.0</td>\n",
       "      <td>NaN</td>\n",
       "      <td>4</td>\n",
       "      <td>45.6175</td>\n",
       "      <td>-73.606011</td>\n",
       "      <td>45.619670</td>\n",
       "      <td>-73.609704</td>\n",
       "      <td>italian</td>\n",
       "      <td>375</td>\n",
       "      <td>10.00</td>\n",
       "    </tr>\n",
       "    <tr>\n",
       "      <th>1</th>\n",
       "      <td>TyKGLi1V1PFRHYmHDjFUMQ</td>\n",
       "      <td>Restaurant Prima Luna</td>\n",
       "      <td>4.0</td>\n",
       "      <td>3.0</td>\n",
       "      <td>14</td>\n",
       "      <td>45.6175</td>\n",
       "      <td>-73.606011</td>\n",
       "      <td>45.617234</td>\n",
       "      <td>-73.594176</td>\n",
       "      <td>italian</td>\n",
       "      <td>921</td>\n",
       "      <td>7.75</td>\n",
       "    </tr>\n",
       "    <tr>\n",
       "      <th>2</th>\n",
       "      <td>TyKGLi1V1PFRHYmHDjFUMQ</td>\n",
       "      <td>Restaurant Prima Luna</td>\n",
       "      <td>4.0</td>\n",
       "      <td>3.0</td>\n",
       "      <td>14</td>\n",
       "      <td>45.6175</td>\n",
       "      <td>-73.606011</td>\n",
       "      <td>45.617234</td>\n",
       "      <td>-73.594176</td>\n",
       "      <td>sushi</td>\n",
       "      <td>921</td>\n",
       "      <td>7.75</td>\n",
       "    </tr>\n",
       "    <tr>\n",
       "      <th>3</th>\n",
       "      <td>DOVOYnq3y-milXVI03GIrg</td>\n",
       "      <td>Boulangerie Adriatica</td>\n",
       "      <td>4.0</td>\n",
       "      <td>NaN</td>\n",
       "      <td>1</td>\n",
       "      <td>45.6175</td>\n",
       "      <td>-73.606011</td>\n",
       "      <td>45.615210</td>\n",
       "      <td>-73.609710</td>\n",
       "      <td>italian</td>\n",
       "      <td>366</td>\n",
       "      <td>7.75</td>\n",
       "    </tr>\n",
       "    <tr>\n",
       "      <th>4</th>\n",
       "      <td>DOVOYnq3y-milXVI03GIrg</td>\n",
       "      <td>Boulangerie Adriatica</td>\n",
       "      <td>4.0</td>\n",
       "      <td>NaN</td>\n",
       "      <td>1</td>\n",
       "      <td>45.6175</td>\n",
       "      <td>-73.606011</td>\n",
       "      <td>45.615210</td>\n",
       "      <td>-73.609710</td>\n",
       "      <td>pizza</td>\n",
       "      <td>366</td>\n",
       "      <td>7.75</td>\n",
       "    </tr>\n",
       "  </tbody>\n",
       "</table>\n",
       "</div>"
      ],
      "text/plain": [
       "                       id                   name  rating  price  review_count  \\\n",
       "0  vRJPrk-VH75uxLiVVprBhA               Capucine     5.0    NaN             4   \n",
       "1  TyKGLi1V1PFRHYmHDjFUMQ  Restaurant Prima Luna     4.0    3.0            14   \n",
       "2  TyKGLi1V1PFRHYmHDjFUMQ  Restaurant Prima Luna     4.0    3.0            14   \n",
       "3  DOVOYnq3y-milXVI03GIrg  Boulangerie Adriatica     4.0    NaN             1   \n",
       "4  DOVOYnq3y-milXVI03GIrg  Boulangerie Adriatica     4.0    NaN             1   \n",
       "\n",
       "     s_lat      s_lon      p_lat      p_lon category_alias  distance  \\\n",
       "0  45.6175 -73.606011  45.619670 -73.609704        italian       375   \n",
       "1  45.6175 -73.606011  45.617234 -73.594176        italian       921   \n",
       "2  45.6175 -73.606011  45.617234 -73.594176          sushi       921   \n",
       "3  45.6175 -73.606011  45.615210 -73.609710        italian       366   \n",
       "4  45.6175 -73.606011  45.615210 -73.609710          pizza       366   \n",
       "\n",
       "   scaled_rating  \n",
       "0          10.00  \n",
       "1           7.75  \n",
       "2           7.75  \n",
       "3           7.75  \n",
       "4           7.75  "
      ]
     },
     "execution_count": 102,
     "metadata": {},
     "output_type": "execute_result"
    }
   ],
   "source": [
    "df_businesses.head()"
   ]
  },
  {
   "cell_type": "code",
   "execution_count": 103,
   "metadata": {
    "tags": []
   },
   "outputs": [
    {
     "name": "stdout",
     "output_type": "stream",
     "text": [
      "             rating         price  review_count         s_lat         s_lon  \\\n",
      "count  26339.000000  20389.000000  26339.000000  26339.000000  26339.000000   \n",
      "mean       4.127757      2.100054    125.427313     45.522838    -73.593403   \n",
      "std        0.611375      0.658321    245.470379      0.036496      0.045010   \n",
      "min        1.000000      1.000000      1.000000     45.416295    -73.758227   \n",
      "25%        4.000000      2.000000     11.000000     45.501804    -73.614708   \n",
      "50%        4.000000      2.000000     44.000000     45.524283    -73.581989   \n",
      "75%        4.500000      2.000000    129.000000     45.543652    -73.566583   \n",
      "max        5.000000      4.000000   3117.000000     45.702349    -73.436058   \n",
      "\n",
      "              p_lat         p_lon      distance  scaled_rating  \n",
      "count  26339.000000  26339.000000  26339.000000   26339.000000  \n",
      "mean      45.522240    -73.593572    655.471278       8.037454  \n",
      "std        0.036352      0.046371   1119.072248       1.375593  \n",
      "min       45.374494    -73.992268      5.000000       1.000000  \n",
      "25%       45.500557    -73.612714    312.000000       7.750000  \n",
      "50%       45.523141    -73.580480    592.000000       7.750000  \n",
      "75%       45.542177    -73.567583    901.000000       8.875000  \n",
      "max       45.710540    -73.428926  39996.000000      10.000000  \n"
     ]
    }
   ],
   "source": [
    "# Descriptive statistics\n",
    "print(df_businesses.describe())"
   ]
  },
  {
   "cell_type": "markdown",
   "metadata": {},
   "source": [
    "#### First impressions\n",
    "\n",
    "- a) Review_count seems really skewed with a high std_dev\n",
    "- b) Distance have outliers as the set radius was 1000 meters.\n",
    "    - According to API documentation:<br>\n",
    "    \"A suggested search radius in meters. This field is used as a suggestion to the search. The actual search radius may be lower than the suggested radius in dense urban areas, and higher in regions of less business density ...\""
   ]
  },
  {
   "cell_type": "code",
   "execution_count": 104,
   "metadata": {
    "tags": []
   },
   "outputs": [
    {
     "name": "stdout",
     "output_type": "stream",
     "text": [
      "                           id                          name  review_count\n",
      "4884   0W4lkclzZThpx3V65bVgig                    Schwartz's          3117\n",
      "496    5T6kFKFycym_GkhgOiysIw                   La Banquise          2174\n",
      "17111  46Ld9Qc9nAx_A0jwclNZiw             Olive + Gourmando          1598\n",
      "1557   46Ld9Qc9nAx_A0jwclNZiw             Olive + Gourmando          1597\n",
      "500    cKdox2gt3L1Dbb7MpOPdWg             Au Pied de Cochon          1381\n",
      "...                       ...                           ...           ...\n",
      "547    tVvymgTOoqjTHeyt9oRTOA          Cremerie Le Tropique             1\n",
      "548    ODF2TwBABHr1Q1YZElyD0Q                   Pizza Elite             1\n",
      "19265  x_GvS6koYswaGRX9I6l8CA  Charcuterie Patisserie Piast             1\n",
      "557    DOtyInSKm-s6nsEe3CxX5Q                Domino's Pizza             1\n",
      "10731  iyp_-nKWESOrdetyABQ_8A  Restaurant La Belle Province             1\n",
      "\n",
      "[2532 rows x 3 columns]\n"
     ]
    }
   ],
   "source": [
    "# a) Get unique business names and review counts\n",
    "unique_businesses = df_businesses[['id', 'name', 'review_count']].drop_duplicates()\n",
    "\n",
    "print(unique_businesses.sort_values('review_count', ascending=False))"
   ]
  },
  {
   "cell_type": "markdown",
   "metadata": {},
   "source": [
    "- c) Due to the fact that I had to request the API in batches (500 per day max), some business ID don't have the same review_count"
   ]
  },
  {
   "cell_type": "code",
   "execution_count": 105,
   "metadata": {
    "tags": []
   },
   "outputs": [],
   "source": [
    "# a) Update the review_count\n",
    "\n",
    "max_review_count = df_businesses.groupby('id')['review_count'].transform('max')\n",
    "\n",
    "# Update the review_count column with the maximum values\n",
    "df_businesses['review_count'] = max_review_count"
   ]
  },
  {
   "cell_type": "code",
   "execution_count": 106,
   "metadata": {
    "tags": []
   },
   "outputs": [
    {
     "name": "stdout",
     "output_type": "stream",
     "text": [
      "                           id               name  review_count\n",
      "4884   0W4lkclzZThpx3V65bVgig         Schwartz's          3117\n",
      "496    5T6kFKFycym_GkhgOiysIw        La Banquise          2174\n",
      "1557   46Ld9Qc9nAx_A0jwclNZiw  Olive + Gourmando          1598\n",
      "500    cKdox2gt3L1Dbb7MpOPdWg  Au Pied de Cochon          1381\n",
      "499    J6qWt6XIUmIGFHX5rQJA-w           L'Avenue          1259\n",
      "...                       ...                ...           ...\n",
      "15665  ZH1HRNintn2TRz1hc8KR-A          Poké Bowl             1\n",
      "15657  i35495JBYvv-NkFA58wFWQ       Bol de Ramen             1\n",
      "15654  0U4bjRWbmAOCK2And4BEhA  Sushi Shop Fleury             1\n",
      "1390   EFbdnD4HLGIPDPiKqwd7SA       Thaï Express             1\n",
      "16497  X3DctEHOq9-vC8qZBw3Wlw   Maison Tsui Yuen             1\n",
      "\n",
      "[2520 rows x 3 columns]\n"
     ]
    }
   ],
   "source": [
    "# a) Validate change\n",
    "unique_businesses = df_businesses[['id', 'name', 'review_count']].drop_duplicates()\n",
    "print(unique_businesses.sort_values('review_count', ascending=False))"
   ]
  },
  {
   "cell_type": "code",
   "execution_count": 107,
   "metadata": {
    "tags": []
   },
   "outputs": [
    {
     "name": "stdout",
     "output_type": "stream",
     "text": [
      "3945\n"
     ]
    }
   ],
   "source": [
    "# b) View if businesses out of radius\n",
    "out_radius = df_businesses[df_businesses['distance'] > 1000]\n",
    "print(len(out_radius))"
   ]
  },
  {
   "cell_type": "code",
   "execution_count": 108,
   "metadata": {
    "tags": []
   },
   "outputs": [
    {
     "name": "stdout",
     "output_type": "stream",
     "text": [
      "             rating        price  review_count         s_lat         s_lon  \\\n",
      "count  22394.000000  17393.00000  22394.000000  22394.000000  22394.000000   \n",
      "mean       4.126150      2.10050    124.673797     45.522215    -73.592639   \n",
      "std        0.606704      0.65301    244.335947      0.036138      0.044564   \n",
      "min        1.000000      1.00000      1.000000     45.416295    -73.758227   \n",
      "25%        4.000000      2.00000     11.000000     45.501407    -73.612969   \n",
      "50%        4.000000      2.00000     45.000000     45.523319    -73.581056   \n",
      "75%        4.500000      2.00000    129.000000     45.543032    -73.566583   \n",
      "max        5.000000      4.00000   3117.000000     45.702349    -73.436058   \n",
      "\n",
      "              p_lat         p_lon      distance  scaled_rating  \n",
      "count  22394.000000  22394.000000  22394.000000   22394.000000  \n",
      "mean      45.521918    -73.592633    516.712423       8.033837  \n",
      "std        0.035891      0.044400    279.510146       1.365083  \n",
      "min       45.415137    -73.859123      5.000000       1.000000  \n",
      "25%       45.500554    -73.612450    279.000000       7.750000  \n",
      "50%       45.522707    -73.580262    494.000000       7.750000  \n",
      "75%       45.542056    -73.567470    766.000000       8.875000  \n",
      "max       45.705185    -73.428926   1000.000000      10.000000  \n"
     ]
    }
   ],
   "source": [
    "# b) Filter out businesses out of radius\n",
    "df_businesses = df_businesses[df_businesses['distance'] <= 1000]\n",
    "print(df_businesses.describe())"
   ]
  },
  {
   "cell_type": "code",
   "execution_count": 109,
   "metadata": {
    "tags": []
   },
   "outputs": [
    {
     "data": {
      "text/plain": [
       "<Figure size 1200x800 with 0 Axes>"
      ]
     },
     "metadata": {},
     "output_type": "display_data"
    },
    {
     "data": {
      "image/png": "[encoded data removed]",
      "text/plain": [
       "<Figure size 640x480 with 4 Axes>"
      ]
     },
     "metadata": {},
     "output_type": "display_data"
    }
   ],
   "source": [
    "# Histogram of each variables (filtered data)\n",
    "plt.figure(figsize=(12, 8))\n",
    "df_businesses[['scaled_rating', 'price', 'review_count', 'distance']].hist(bins=20, alpha=0.8)\n",
    "plt.tight_layout()"
   ]
  },
  {
   "cell_type": "markdown",
   "metadata": {},
   "source": [
    "### OVERVIEW\n",
    "For modeling only:\n",
    "- Rating have some outliers with low value, maybe remove rating < 3.\n",
    "- Review_counts have great outliers with 3000 review, should remove review_count > 1000."
   ]
  },
  {
   "cell_type": "code",
   "execution_count": 110,
   "metadata": {
    "tags": []
   },
   "outputs": [],
   "source": [
    "# Create csv file\n",
    "df_businesses.to_csv('../data/yelp_businesses.csv', index=False)"
   ]
  },
  {
   "cell_type": "markdown",
   "metadata": {},
   "source": [
    "# Comparing Results"
   ]
  },
  {
   "cell_type": "markdown",
   "metadata": {},
   "source": [
    "#### Which API provided you with more complete data? Provide an explanation. "
   ]
  },
  {
   "cell_type": "code",
   "execution_count": 3,
   "metadata": {},
   "outputs": [],
   "source": [
    "# Import csv from sources\n",
    "# Foursquare\n",
    "fsq_poi = pd.read_csv('../data/fsq_businesses.csv', index_col=None)\n",
    "# Yelp\n",
    "yelp_poi = pd.read_csv('../data/yelp_businesses.csv', index_col=None)\n",
    "# Stations\n",
    "stations = pd.read_csv('../data/stations.csv', index_col=None)"
   ]
  },
  {
   "cell_type": "code",
   "execution_count": 4,
   "metadata": {},
   "outputs": [
    {
     "data": {
      "text/html": [
       "<div>\n",
       "<style scoped>\n",
       "    .dataframe tbody tr th:only-of-type {\n",
       "        vertical-align: middle;\n",
       "    }\n",
       "\n",
       "    .dataframe tbody tr th {\n",
       "        vertical-align: top;\n",
       "    }\n",
       "\n",
       "    .dataframe thead th {\n",
       "        text-align: right;\n",
       "    }\n",
       "</style>\n",
       "<table border=\"1\" class=\"dataframe\">\n",
       "  <thead>\n",
       "    <tr style=\"text-align: right;\">\n",
       "      <th></th>\n",
       "      <th>fsq_id</th>\n",
       "      <th>name</th>\n",
       "      <th>s_lat</th>\n",
       "      <th>s_lon</th>\n",
       "      <th>p_lat</th>\n",
       "      <th>p_lon</th>\n",
       "      <th>category_id</th>\n",
       "      <th>category_name</th>\n",
       "      <th>distance</th>\n",
       "      <th>rating</th>\n",
       "      <th>popularity</th>\n",
       "      <th>price</th>\n",
       "      <th>station</th>\n",
       "    </tr>\n",
       "  </thead>\n",
       "  <tbody>\n",
       "    <tr>\n",
       "      <th>0</th>\n",
       "      <td>4cb240b8cbab236ae154af73</td>\n",
       "      <td>Restaurant Prima Luna</td>\n",
       "      <td>45.6175</td>\n",
       "      <td>-73.606011</td>\n",
       "      <td>45.617439</td>\n",
       "      <td>-73.593995</td>\n",
       "      <td>13236</td>\n",
       "      <td>Italian Restaurant</td>\n",
       "      <td>941</td>\n",
       "      <td>7.4</td>\n",
       "      <td>0.985</td>\n",
       "      <td>1.0</td>\n",
       "      <td>790</td>\n",
       "    </tr>\n",
       "    <tr>\n",
       "      <th>1</th>\n",
       "      <td>4e0b48221f6edc06be259aec</td>\n",
       "      <td>Salle Désilets</td>\n",
       "      <td>45.6175</td>\n",
       "      <td>-73.606011</td>\n",
       "      <td>45.617818</td>\n",
       "      <td>-73.606000</td>\n",
       "      <td>10039</td>\n",
       "      <td>Music Venue</td>\n",
       "      <td>19</td>\n",
       "      <td>NaN</td>\n",
       "      <td>0.969</td>\n",
       "      <td>NaN</td>\n",
       "      <td>790</td>\n",
       "    </tr>\n",
       "    <tr>\n",
       "      <th>2</th>\n",
       "      <td>4e0b48221f6edc06be259aec</td>\n",
       "      <td>Salle Désilets</td>\n",
       "      <td>45.6175</td>\n",
       "      <td>-73.606011</td>\n",
       "      <td>45.617818</td>\n",
       "      <td>-73.606000</td>\n",
       "      <td>11130</td>\n",
       "      <td>Office Building</td>\n",
       "      <td>19</td>\n",
       "      <td>NaN</td>\n",
       "      <td>0.969</td>\n",
       "      <td>NaN</td>\n",
       "      <td>790</td>\n",
       "    </tr>\n",
       "    <tr>\n",
       "      <th>3</th>\n",
       "      <td>4ea9b28cb803cf1ffacd7c0d</td>\n",
       "      <td>Café l'Exil</td>\n",
       "      <td>45.6175</td>\n",
       "      <td>-73.606011</td>\n",
       "      <td>45.617214</td>\n",
       "      <td>-73.604961</td>\n",
       "      <td>13034</td>\n",
       "      <td>Café</td>\n",
       "      <td>79</td>\n",
       "      <td>NaN</td>\n",
       "      <td>0.869</td>\n",
       "      <td>1.0</td>\n",
       "      <td>790</td>\n",
       "    </tr>\n",
       "    <tr>\n",
       "      <th>4</th>\n",
       "      <td>4ea9b28cb803cf1ffacd7c0d</td>\n",
       "      <td>Café l'Exil</td>\n",
       "      <td>45.6175</td>\n",
       "      <td>-73.606011</td>\n",
       "      <td>45.617214</td>\n",
       "      <td>-73.604961</td>\n",
       "      <td>13035</td>\n",
       "      <td>Coffee Shop</td>\n",
       "      <td>79</td>\n",
       "      <td>NaN</td>\n",
       "      <td>0.869</td>\n",
       "      <td>1.0</td>\n",
       "      <td>790</td>\n",
       "    </tr>\n",
       "  </tbody>\n",
       "</table>\n",
       "</div>"
      ],
      "text/plain": [
       "                     fsq_id                   name    s_lat      s_lon  \\\n",
       "0  4cb240b8cbab236ae154af73  Restaurant Prima Luna  45.6175 -73.606011   \n",
       "1  4e0b48221f6edc06be259aec         Salle Désilets  45.6175 -73.606011   \n",
       "2  4e0b48221f6edc06be259aec         Salle Désilets  45.6175 -73.606011   \n",
       "3  4ea9b28cb803cf1ffacd7c0d            Café l'Exil  45.6175 -73.606011   \n",
       "4  4ea9b28cb803cf1ffacd7c0d            Café l'Exil  45.6175 -73.606011   \n",
       "\n",
       "       p_lat      p_lon  category_id       category_name  distance  rating  \\\n",
       "0  45.617439 -73.593995        13236  Italian Restaurant       941     7.4   \n",
       "1  45.617818 -73.606000        10039         Music Venue        19     NaN   \n",
       "2  45.617818 -73.606000        11130     Office Building        19     NaN   \n",
       "3  45.617214 -73.604961        13034                Café        79     NaN   \n",
       "4  45.617214 -73.604961        13035         Coffee Shop        79     NaN   \n",
       "\n",
       "   popularity  price  station  \n",
       "0       0.985    1.0      790  \n",
       "1       0.969    NaN      790  \n",
       "2       0.969    NaN      790  \n",
       "3       0.869    1.0      790  \n",
       "4       0.869    1.0      790  "
      ]
     },
     "execution_count": 4,
     "metadata": {},
     "output_type": "execute_result"
    }
   ],
   "source": [
    "fsq_poi.head()"
   ]
  },
  {
   "cell_type": "code",
   "execution_count": 5,
   "metadata": {},
   "outputs": [
    {
     "data": {
      "text/html": [
       "<div>\n",
       "<style scoped>\n",
       "    .dataframe tbody tr th:only-of-type {\n",
       "        vertical-align: middle;\n",
       "    }\n",
       "\n",
       "    .dataframe tbody tr th {\n",
       "        vertical-align: top;\n",
       "    }\n",
       "\n",
       "    .dataframe thead th {\n",
       "        text-align: right;\n",
       "    }\n",
       "</style>\n",
       "<table border=\"1\" class=\"dataframe\">\n",
       "  <thead>\n",
       "    <tr style=\"text-align: right;\">\n",
       "      <th></th>\n",
       "      <th>id</th>\n",
       "      <th>name</th>\n",
       "      <th>rating</th>\n",
       "      <th>price</th>\n",
       "      <th>review_count</th>\n",
       "      <th>s_lat</th>\n",
       "      <th>s_lon</th>\n",
       "      <th>p_lat</th>\n",
       "      <th>p_lon</th>\n",
       "      <th>category_alias</th>\n",
       "      <th>distance</th>\n",
       "      <th>scaled_rating</th>\n",
       "    </tr>\n",
       "  </thead>\n",
       "  <tbody>\n",
       "    <tr>\n",
       "      <th>0</th>\n",
       "      <td>vRJPrk-VH75uxLiVVprBhA</td>\n",
       "      <td>Capucine</td>\n",
       "      <td>5.0</td>\n",
       "      <td>NaN</td>\n",
       "      <td>4</td>\n",
       "      <td>45.6175</td>\n",
       "      <td>-73.606011</td>\n",
       "      <td>45.619670</td>\n",
       "      <td>-73.609704</td>\n",
       "      <td>italian</td>\n",
       "      <td>375</td>\n",
       "      <td>9.400</td>\n",
       "    </tr>\n",
       "    <tr>\n",
       "      <th>1</th>\n",
       "      <td>TyKGLi1V1PFRHYmHDjFUMQ</td>\n",
       "      <td>Restaurant Prima Luna</td>\n",
       "      <td>4.0</td>\n",
       "      <td>3.0</td>\n",
       "      <td>14</td>\n",
       "      <td>45.6175</td>\n",
       "      <td>-73.606011</td>\n",
       "      <td>45.617234</td>\n",
       "      <td>-73.594176</td>\n",
       "      <td>italian</td>\n",
       "      <td>921</td>\n",
       "      <td>8.175</td>\n",
       "    </tr>\n",
       "    <tr>\n",
       "      <th>2</th>\n",
       "      <td>TyKGLi1V1PFRHYmHDjFUMQ</td>\n",
       "      <td>Restaurant Prima Luna</td>\n",
       "      <td>4.0</td>\n",
       "      <td>3.0</td>\n",
       "      <td>14</td>\n",
       "      <td>45.6175</td>\n",
       "      <td>-73.606011</td>\n",
       "      <td>45.617234</td>\n",
       "      <td>-73.594176</td>\n",
       "      <td>sushi</td>\n",
       "      <td>921</td>\n",
       "      <td>8.175</td>\n",
       "    </tr>\n",
       "    <tr>\n",
       "      <th>3</th>\n",
       "      <td>DOVOYnq3y-milXVI03GIrg</td>\n",
       "      <td>Boulangerie Adriatica</td>\n",
       "      <td>4.0</td>\n",
       "      <td>NaN</td>\n",
       "      <td>1</td>\n",
       "      <td>45.6175</td>\n",
       "      <td>-73.606011</td>\n",
       "      <td>45.615210</td>\n",
       "      <td>-73.609710</td>\n",
       "      <td>italian</td>\n",
       "      <td>366</td>\n",
       "      <td>8.175</td>\n",
       "    </tr>\n",
       "    <tr>\n",
       "      <th>4</th>\n",
       "      <td>DOVOYnq3y-milXVI03GIrg</td>\n",
       "      <td>Boulangerie Adriatica</td>\n",
       "      <td>4.0</td>\n",
       "      <td>NaN</td>\n",
       "      <td>1</td>\n",
       "      <td>45.6175</td>\n",
       "      <td>-73.606011</td>\n",
       "      <td>45.615210</td>\n",
       "      <td>-73.609710</td>\n",
       "      <td>pizza</td>\n",
       "      <td>366</td>\n",
       "      <td>8.175</td>\n",
       "    </tr>\n",
       "  </tbody>\n",
       "</table>\n",
       "</div>"
      ],
      "text/plain": [
       "                       id                   name  rating  price  review_count  \\\n",
       "0  vRJPrk-VH75uxLiVVprBhA               Capucine     5.0    NaN             4   \n",
       "1  TyKGLi1V1PFRHYmHDjFUMQ  Restaurant Prima Luna     4.0    3.0            14   \n",
       "2  TyKGLi1V1PFRHYmHDjFUMQ  Restaurant Prima Luna     4.0    3.0            14   \n",
       "3  DOVOYnq3y-milXVI03GIrg  Boulangerie Adriatica     4.0    NaN             1   \n",
       "4  DOVOYnq3y-milXVI03GIrg  Boulangerie Adriatica     4.0    NaN             1   \n",
       "\n",
       "     s_lat      s_lon      p_lat      p_lon category_alias  distance  \\\n",
       "0  45.6175 -73.606011  45.619670 -73.609704        italian       375   \n",
       "1  45.6175 -73.606011  45.617234 -73.594176        italian       921   \n",
       "2  45.6175 -73.606011  45.617234 -73.594176          sushi       921   \n",
       "3  45.6175 -73.606011  45.615210 -73.609710        italian       366   \n",
       "4  45.6175 -73.606011  45.615210 -73.609710          pizza       366   \n",
       "\n",
       "   scaled_rating  \n",
       "0          9.400  \n",
       "1          8.175  \n",
       "2          8.175  \n",
       "3          8.175  \n",
       "4          8.175  "
      ]
     },
     "execution_count": 5,
     "metadata": {},
     "output_type": "execute_result"
    }
   ],
   "source": [
    "yelp_poi.head()"
   ]
  },
  {
   "cell_type": "code",
   "execution_count": 6,
   "metadata": {},
   "outputs": [
    {
     "data": {
      "text/html": [
       "<div>\n",
       "<style scoped>\n",
       "    .dataframe tbody tr th:only-of-type {\n",
       "        vertical-align: middle;\n",
       "    }\n",
       "\n",
       "    .dataframe tbody tr th {\n",
       "        vertical-align: top;\n",
       "    }\n",
       "\n",
       "    .dataframe thead th {\n",
       "        text-align: right;\n",
       "    }\n",
       "</style>\n",
       "<table border=\"1\" class=\"dataframe\">\n",
       "  <thead>\n",
       "    <tr style=\"text-align: right;\">\n",
       "      <th></th>\n",
       "      <th>station_name</th>\n",
       "      <th>latitude</th>\n",
       "      <th>longitude</th>\n",
       "      <th>total_bikes</th>\n",
       "      <th>station</th>\n",
       "    </tr>\n",
       "  </thead>\n",
       "  <tbody>\n",
       "    <tr>\n",
       "      <th>0</th>\n",
       "      <td>de la Commune / Place Jacques-Cartier</td>\n",
       "      <td>45.507610</td>\n",
       "      <td>-73.551836</td>\n",
       "      <td>78</td>\n",
       "      <td>0</td>\n",
       "    </tr>\n",
       "    <tr>\n",
       "      <th>1</th>\n",
       "      <td>de la Commune / King</td>\n",
       "      <td>45.497504</td>\n",
       "      <td>-73.552845</td>\n",
       "      <td>62</td>\n",
       "      <td>1</td>\n",
       "    </tr>\n",
       "    <tr>\n",
       "      <th>2</th>\n",
       "      <td>Jeanne-Mance / René-Lévesque</td>\n",
       "      <td>45.506371</td>\n",
       "      <td>-73.564201</td>\n",
       "      <td>55</td>\n",
       "      <td>2</td>\n",
       "    </tr>\n",
       "    <tr>\n",
       "      <th>3</th>\n",
       "      <td>Métro Viau (Viau / Pierre-de-Coubertin)</td>\n",
       "      <td>45.563084</td>\n",
       "      <td>-73.548194</td>\n",
       "      <td>50</td>\n",
       "      <td>3</td>\n",
       "    </tr>\n",
       "    <tr>\n",
       "      <th>4</th>\n",
       "      <td>Métro Peel (de Maisonneuve / Stanley)</td>\n",
       "      <td>45.500380</td>\n",
       "      <td>-73.575070</td>\n",
       "      <td>48</td>\n",
       "      <td>4</td>\n",
       "    </tr>\n",
       "  </tbody>\n",
       "</table>\n",
       "</div>"
      ],
      "text/plain": [
       "                              station_name   latitude  longitude  total_bikes  \\\n",
       "0    de la Commune / Place Jacques-Cartier  45.507610 -73.551836           78   \n",
       "1                     de la Commune / King  45.497504 -73.552845           62   \n",
       "2             Jeanne-Mance / René-Lévesque  45.506371 -73.564201           55   \n",
       "3  Métro Viau (Viau / Pierre-de-Coubertin)  45.563084 -73.548194           50   \n",
       "4    Métro Peel (de Maisonneuve / Stanley)  45.500380 -73.575070           48   \n",
       "\n",
       "   station  \n",
       "0        0  \n",
       "1        1  \n",
       "2        2  \n",
       "3        3  \n",
       "4        4  "
      ]
     },
     "execution_count": 6,
     "metadata": {},
     "output_type": "execute_result"
    }
   ],
   "source": [
    "stations.head()"
   ]
  },
  {
   "cell_type": "markdown",
   "metadata": {},
   "source": [
    "#### Comparing number of results per station"
   ]
  },
  {
   "cell_type": "markdown",
   "metadata": {},
   "source": [
    "Since stations are determined by a combination of 'latitude' and 'longitude' and the long decimal values are hard to manage when comparing dataframe, we will use the station number as reference."
   ]
  },
  {
   "cell_type": "code",
   "execution_count": 7,
   "metadata": {},
   "outputs": [],
   "source": [
    "# Create the 'station' column using a dictionary\n",
    "# locations dictionary\n",
    "locations = stations.set_index(['latitude', 'longitude'])['station'].to_dict()"
   ]
  },
  {
   "cell_type": "code",
   "execution_count": 8,
   "metadata": {},
   "outputs": [
    {
     "name": "stdout",
     "output_type": "stream",
     "text": [
      "                     fsq_id                   name    s_lat      s_lon  \\\n",
      "0  4cb240b8cbab236ae154af73  Restaurant Prima Luna  45.6175 -73.606011   \n",
      "1  4e0b48221f6edc06be259aec         Salle Désilets  45.6175 -73.606011   \n",
      "2  4e0b48221f6edc06be259aec         Salle Désilets  45.6175 -73.606011   \n",
      "3  4ea9b28cb803cf1ffacd7c0d            Café l'Exil  45.6175 -73.606011   \n",
      "4  4ea9b28cb803cf1ffacd7c0d            Café l'Exil  45.6175 -73.606011   \n",
      "\n",
      "       p_lat      p_lon  category_id       category_name  distance  rating  \\\n",
      "0  45.617439 -73.593995        13236  Italian Restaurant       941     7.4   \n",
      "1  45.617818 -73.606000        10039         Music Venue        19     NaN   \n",
      "2  45.617818 -73.606000        11130     Office Building        19     NaN   \n",
      "3  45.617214 -73.604961        13034                Café        79     NaN   \n",
      "4  45.617214 -73.604961        13035         Coffee Shop        79     NaN   \n",
      "\n",
      "   popularity  price  station  \n",
      "0       0.985    1.0      790  \n",
      "1       0.969    NaN      790  \n",
      "2       0.969    NaN      790  \n",
      "3       0.869    1.0      790  \n",
      "4       0.869    1.0      790  \n",
      "                       id                   name  rating  price  review_count  \\\n",
      "0  vRJPrk-VH75uxLiVVprBhA               Capucine     5.0    NaN             4   \n",
      "1  TyKGLi1V1PFRHYmHDjFUMQ  Restaurant Prima Luna     4.0    3.0            14   \n",
      "2  TyKGLi1V1PFRHYmHDjFUMQ  Restaurant Prima Luna     4.0    3.0            14   \n",
      "3  DOVOYnq3y-milXVI03GIrg  Boulangerie Adriatica     4.0    NaN             1   \n",
      "4  DOVOYnq3y-milXVI03GIrg  Boulangerie Adriatica     4.0    NaN             1   \n",
      "\n",
      "     s_lat      s_lon      p_lat      p_lon category_alias  distance  \\\n",
      "0  45.6175 -73.606011  45.619670 -73.609704        italian       375   \n",
      "1  45.6175 -73.606011  45.617234 -73.594176        italian       921   \n",
      "2  45.6175 -73.606011  45.617234 -73.594176          sushi       921   \n",
      "3  45.6175 -73.606011  45.615210 -73.609710        italian       366   \n",
      "4  45.6175 -73.606011  45.615210 -73.609710          pizza       366   \n",
      "\n",
      "   scaled_rating  station  \n",
      "0          9.400      790  \n",
      "1          8.175      790  \n",
      "2          8.175      790  \n",
      "3          8.175      790  \n",
      "4          8.175      790  \n"
     ]
    }
   ],
   "source": [
    "# stations columns\n",
    "fsq_poi['station'] = fsq_poi.apply(lambda row: locations.get((row['s_lat'], row['s_lon']), 9999), axis=1)\n",
    "yelp_poi['station'] = yelp_poi.apply(lambda row: locations.get((row['s_lat'], row['s_lon']), 9999), axis=1)\n",
    "print(fsq_poi.head())\n",
    "print(yelp_poi.head())"
   ]
  },
  {
   "cell_type": "code",
   "execution_count": 9,
   "metadata": {},
   "outputs": [],
   "source": [
    "# Save these columns in original csv file for future use\n",
    "fsq_poi.to_csv('../data/fsq_businesses.csv', index=False)\n",
    "yelp_poi.to_csv('../data/yelp_businesses.csv', index=False)"
   ]
  },
  {
   "cell_type": "code",
   "execution_count": 11,
   "metadata": {},
   "outputs": [],
   "source": [
    "# Each POI can have multiple categories, filter only unique businesses\n",
    "yelp = (\n",
    "    yelp_poi\n",
    "    .drop_duplicates(subset=['station', 'id']) # each business as a unique id\n",
    "    .groupby(['station'])\n",
    "    .size().reset_index(name='count').sort_values(by='count', ascending=False)\n",
    ")\n",
    "\n",
    "fsq = (\n",
    "    fsq_poi\n",
    "    .drop_duplicates(subset=['station', 'fsq_id']) # each business as a unique fsq_id\n",
    "    .groupby(['station'])\n",
    "    .size().reset_index(name='count').sort_values(by='count', ascending=False)\n",
    ")\n",
    "# Merge and compare the number of businesses around each station\n",
    "compare_yelp_fsq = pd.merge(yelp, fsq, on='station', how='outer', suffixes=('_yelp', '_fsq')) #outer, to see if some stations are not covered"
   ]
  },
  {
   "cell_type": "code",
   "execution_count": 12,
   "metadata": {},
   "outputs": [
    {
     "data": {
      "text/html": [
       "<div>\n",
       "<style scoped>\n",
       "    .dataframe tbody tr th:only-of-type {\n",
       "        vertical-align: middle;\n",
       "    }\n",
       "\n",
       "    .dataframe tbody tr th {\n",
       "        vertical-align: top;\n",
       "    }\n",
       "\n",
       "    .dataframe thead th {\n",
       "        text-align: right;\n",
       "    }\n",
       "</style>\n",
       "<table border=\"1\" class=\"dataframe\">\n",
       "  <thead>\n",
       "    <tr style=\"text-align: right;\">\n",
       "      <th></th>\n",
       "      <th>station</th>\n",
       "      <th>count_yelp</th>\n",
       "      <th>count_fsq</th>\n",
       "    </tr>\n",
       "  </thead>\n",
       "  <tbody>\n",
       "    <tr>\n",
       "      <th>0</th>\n",
       "      <td>0</td>\n",
       "      <td>20.0</td>\n",
       "      <td>49</td>\n",
       "    </tr>\n",
       "    <tr>\n",
       "      <th>58</th>\n",
       "      <td>1</td>\n",
       "      <td>20.0</td>\n",
       "      <td>48</td>\n",
       "    </tr>\n",
       "    <tr>\n",
       "      <th>143</th>\n",
       "      <td>2</td>\n",
       "      <td>20.0</td>\n",
       "      <td>49</td>\n",
       "    </tr>\n",
       "    <tr>\n",
       "      <th>564</th>\n",
       "      <td>3</td>\n",
       "      <td>15.0</td>\n",
       "      <td>49</td>\n",
       "    </tr>\n",
       "    <tr>\n",
       "      <th>135</th>\n",
       "      <td>4</td>\n",
       "      <td>20.0</td>\n",
       "      <td>50</td>\n",
       "    </tr>\n",
       "  </tbody>\n",
       "</table>\n",
       "</div>"
      ],
      "text/plain": [
       "     station  count_yelp  count_fsq\n",
       "0          0        20.0         49\n",
       "58         1        20.0         48\n",
       "143        2        20.0         49\n",
       "564        3        15.0         49\n",
       "135        4        20.0         50"
      ]
     },
     "execution_count": 12,
     "metadata": {},
     "output_type": "execute_result"
    }
   ],
   "source": [
    "compare_yelp_fsq.sort_values('station').head()"
   ]
  },
  {
   "cell_type": "markdown",
   "metadata": {},
   "source": [
    "Yelp seems to provide less POI than FSQ per locations (maybe an internally limit to ⋍ 20???).\n",
    "Let's compare the quality of data for the station with the higher total of bikes (station 0)."
   ]
  },
  {
   "cell_type": "code",
   "execution_count": 13,
   "metadata": {},
   "outputs": [],
   "source": [
    "# Select station 0 and remove duplicate of id because of category\n",
    "yelp_qual_0 = yelp_poi[yelp_poi['station'] == 0].drop_duplicates(subset=['id'])\n",
    "fsq_qual_0 = fsq_poi[fsq_poi['station'] == 0].drop_duplicates(subset=['fsq_id'])"
   ]
  },
  {
   "cell_type": "code",
   "execution_count": 14,
   "metadata": {},
   "outputs": [
    {
     "name": "stdout",
     "output_type": "stream",
     "text": [
      "                          id                     name  rating  price  \\\n",
      "1884  Ht-_i0UAq7YDBaqJwcQMdQ  Le Club Chasse et Pêche     4.5    4.0   \n",
      "1904  uaf_yrwWo35aWM0_qJCgrw                 Pincette     4.5    3.0   \n",
      "1924  ja01cHy1xqUB9DQ1r1OYKQ                   Gibbys     4.5    4.0   \n",
      "1921  XI3iNUgChOfJk5ppjKVEQQ                  Barroco     4.5    3.0   \n",
      "1918  9rT_Zr_A2qYmLaHpSi6eqw        Maison Saint-Paul     4.5    3.0   \n",
      "1916  4eVPP9Qrq2lUYv0dOipIXQ            Un Po' Di Più     4.5    NaN   \n",
      "1913  eJ9L40jm5VOXCIq7xs9kQw     Restaurant Bonaparte     4.5    3.0   \n",
      "1907  QOlpCzJnVdcnxAmuIwdtEQ         Lattuca Barbecue     4.5    2.0   \n",
      "1898  BCSofuQwu1VE8wjzDaQ3qQ             The Coldroom     4.5    2.0   \n",
      "1926  soyZpe78MCeVN-0a11zSdQ                 Monarque     4.5    NaN   \n",
      "\n",
      "      review_count     s_lat      s_lon      p_lat      p_lon  category_alias  \\\n",
      "1884           234  45.50761 -73.551836  45.508930 -73.552410          french   \n",
      "1904            34  45.50761 -73.551836  45.506400 -73.552930         seafood   \n",
      "1924           479  45.50761 -73.551836  45.501410 -73.554750         seafood   \n",
      "1921           295  45.50761 -73.551836  45.501380 -73.555920         spanish   \n",
      "1918            99  45.50761 -73.551836  45.509204 -73.551833  champagne_bars   \n",
      "1916            60  45.50761 -73.551836  45.505585 -73.553253         italian   \n",
      "1913           387  45.50761 -73.551836  45.503344 -73.556115          french   \n",
      "1907           178  45.50761 -73.551836  45.504990 -73.553800             bbq   \n",
      "1898           235  45.50761 -73.551836  45.507117 -73.553148    cocktailbars   \n",
      "1926           133  45.50761 -73.551836  45.501580 -73.559620      brasseries   \n",
      "\n",
      "      distance  scaled_rating  station  \n",
      "1884       156         8.7875        0  \n",
      "1904       154         8.7875        0  \n",
      "1924       737         8.7875        0  \n",
      "1921       760         8.7875        0  \n",
      "1918       177         8.7875        0  \n",
      "1916       251         8.7875        0  \n",
      "1913       580         8.7875        0  \n",
      "1907       324         8.7875        0  \n",
      "1898       116         8.7875        0  \n",
      "1926       909         8.7875        0  \n"
     ]
    }
   ],
   "source": [
    "print(yelp_qual_0.sort_values('rating', ascending=False).head(10))"
   ]
  },
  {
   "cell_type": "code",
   "execution_count": 15,
   "metadata": {},
   "outputs": [
    {
     "name": "stdout",
     "output_type": "stream",
     "text": [
      "                        fsq_id                    name     s_lat      s_lon  \\\n",
      "4335  56e9cf37498e8d07ac01d8f4  Crew Collective & Café  45.50761 -73.551836   \n",
      "4330  4adf0b0ef964a5203d7721e3       Olive & Gourmando  45.50761 -73.551836   \n",
      "4321  4ad4c06df964a5206ffa20e3              Stash Café  45.50761 -73.551836   \n",
      "4304  5aee235b947c05002ca7bd54      Paquebot Vieux-Mtl  45.50761 -73.551836   \n",
      "4326  58ac82d42980db353baa5cdd                 Mandy's  45.50761 -73.551836   \n",
      "4352  57a1fa72498ef754ac40c539  La Finca café & bureau  45.50761 -73.551836   \n",
      "4297  55777789498e80fb292f9b8a            Pub BreWskey  45.50761 -73.551836   \n",
      "4290  4b391e12f964a5208c5625e3    L'Usine de Spaghetti  45.50761 -73.551836   \n",
      "4346  4ff32280e4b0444717c09497      Deli Italien Bello  45.50761 -73.551836   \n",
      "4338  5372ed9f498e6f504d4fe05d   Bar le Mal Nécessaire  45.50761 -73.551836   \n",
      "\n",
      "          p_lat      p_lon  category_id                category_name  \\\n",
      "4335  45.502313 -73.559169        13034                         Café   \n",
      "4330  45.501173 -73.556566        13002                       Bakery   \n",
      "4321  45.502792 -73.555165        13139  Eastern European Restaurant   \n",
      "4304  45.506234 -73.556290        13034                         Café   \n",
      "4326  45.502320 -73.556021        13332             Salad Restaurant   \n",
      "4352  45.504677 -73.563069        13034                         Café   \n",
      "4297  45.509457 -73.551404        13018                          Pub   \n",
      "4290  45.508131 -73.552379        13236           Italian Restaurant   \n",
      "4346  45.500780 -73.556312        13039                         Deli   \n",
      "4338  45.508519 -73.561303        13009                 Cocktail Bar   \n",
      "\n",
      "      distance  rating  popularity  price  station  \n",
      "4335       815     9.3       0.985    1.0        0  \n",
      "4330       780     9.3       0.959    2.0        0  \n",
      "4321       607     9.1       0.960    2.0        0  \n",
      "4304       375     9.1       0.976    1.0        0  \n",
      "4326       691     9.1       0.960    1.0        0  \n",
      "4352       943     9.0       0.954    1.0        0  \n",
      "4297       199     9.0       0.987    1.0        0  \n",
      "4290        63     8.9       0.969    2.0        0  \n",
      "4346       835     8.9       0.920    2.0        0  \n",
      "4338       737     8.9       0.967    3.0        0  \n"
     ]
    }
   ],
   "source": [
    "print(fsq_qual_0.sort_values('rating', ascending=False).head(10))"
   ]
  },
  {
   "cell_type": "markdown",
   "metadata": {},
   "source": [
    "Both API gives completely different result:\n",
    "- Yelp:\n",
    "    - Provides a review count. Rating need to be scaled.\n",
    "    - Provides a price range in dollars signs category (that we had to convert).\n",
    "    - We could have get more attributes, but these are 'Premium Access' like:\n",
    "        - parking_bike - businesses with bike parking type.\n",
    "        - outdoor_seating - businesses with outdoor seating areas.\n",
    "    \n",
    "- FSQ:\n",
    "    - Provides high scale rating (1-10), but no review count.\n",
    "    - Provides attribute like popularity (%) and price category from 1 to 4 (some missing data).\n"
   ]
  },
  {
   "cell_type": "code",
   "execution_count": 16,
   "metadata": {},
   "outputs": [
    {
     "name": "stdout",
     "output_type": "stream",
     "text": [
      "         s_lat      s_lon  distance\n",
      "4291  45.50761 -73.551836        66\n",
      "         s_lat      s_lon  distance\n",
      "1894  45.50761 -73.551836        73\n"
     ]
    }
   ],
   "source": [
    "# Lets compare distance value\n",
    "print(fsq_qual_0[fsq_qual_0['name'] == 'Jardin Nelson'][['s_lat', 's_lon', 'distance']])\n",
    "print(yelp_qual_0[yelp_qual_0['name'] == 'Jardin Nelson'][['s_lat', 's_lon', 'distance']])"
   ]
  },
  {
   "cell_type": "markdown",
   "metadata": {},
   "source": [
    "Using a distance calculator from the web, we find that Jardin Nelson is 79.5m from station:\n",
    "- Yelp is 13.5m offset\n",
    "- FSQ is 6.5m offset\n",
    "<br><br>\n",
    "FSQ distance calculator seems more precise than Yelp."
   ]
  },
  {
   "cell_type": "markdown",
   "metadata": {},
   "source": [
    "#### Get the top 10 restaurants according to their rating"
   ]
  },
  {
   "cell_type": "code",
   "execution_count": 17,
   "metadata": {},
   "outputs": [
    {
     "name": "stdout",
     "output_type": "stream",
     "text": [
      "                         fsq_id                    name      s_lat      s_lon  \\\n",
      "56     56ec4544498e27e294330c2b                   Cadet  45.516926 -73.564257   \n",
      "52     4d920503f5388cfa1a81c23d           Bouillon Bilk  45.516926 -73.564257   \n",
      "34979  54c3ca91498ec42c959c1f36         Mamie Clafoutis  45.570625 -73.651786   \n",
      "1184   4adf0b0ef964a5203d7721e3       Olive & Gourmando  45.507144 -73.555119   \n",
      "12503  55a86753498ee54a8b686b1e                   Damas  45.523026 -73.601840   \n",
      "2848   56edffc9cd10ffe7a54b492c          La Bête à Pain  45.497165 -73.559330   \n",
      "1180   56e9cf37498e8d07ac01d8f4  Crew Collective & Café  45.507144 -73.555119   \n",
      "980    4aeaf971f964a52002bd21e3         Au Kouign-Amann  45.526890 -73.572640   \n",
      "5158   4adb932bf964a5201b2921e3             Cafe Italia  45.535190 -73.615482   \n",
      "2774   55f46d6c498e302d8870255e     Falafel St. Jacques  45.446061 -73.650799   \n",
      "\n",
      "           p_lat      p_lon  category_id       category_name  distance  \\\n",
      "56     45.510388 -73.564365        13065          Restaurant       741   \n",
      "52     45.511038 -73.565936        13065          Restaurant       675   \n",
      "34979  45.564085 -73.655403        13002              Bakery       775   \n",
      "1184   45.501173 -73.556566        13002              Bakery       655   \n",
      "12503  45.522567 -73.613298        13049               Diner       878   \n",
      "2848   45.493236 -73.558591        13002              Bakery       462   \n",
      "1180   45.502313 -73.559169        13034                Café       615   \n",
      "980    45.523125 -73.583423        13002              Bakery       942   \n",
      "5158   45.532772 -73.614409        13034                Café       277   \n",
      "2774   45.443222 -73.648511        13144  Falafel Restaurant       340   \n",
      "\n",
      "       rating  popularity  price  station  \n",
      "56        9.4       0.967    NaN      793  \n",
      "52        9.3       0.956    3.0      793  \n",
      "34979     9.3       0.973    1.0      192  \n",
      "1184      9.3       0.959    2.0      751  \n",
      "12503     9.3       0.962    4.0      245  \n",
      "2848      9.3       0.964    1.0      350  \n",
      "1180      9.3       0.985    1.0      751  \n",
      "980       9.2       0.952    2.0       81  \n",
      "5158      9.2       0.961    1.0      177  \n",
      "2774      9.2       0.981    1.0      629  \n"
     ]
    }
   ],
   "source": [
    "fsq_resto= fsq_poi[fsq_poi['category_id'] >= 13000].drop_duplicates(subset=['fsq_id'])\n",
    "print(fsq_resto.sort_values('rating', ascending=False).head(10))"
   ]
  },
  {
   "cell_type": "code",
   "execution_count": 18,
   "metadata": {},
   "outputs": [
    {
     "name": "stdout",
     "output_type": "stream",
     "text": [
      "                           id                       name  rating  price  \\\n",
      "14147  evTWdlBsQl6EMiVcm0fXww              Cloakroom Bar     5.0    3.0   \n",
      "2040   yLVW9xxnX8se7IFCDppdkw          Café de' Mercanti     5.0    1.0   \n",
      "9629   I4KLIuqnYu_zPV6RCfEtQg             Pasta da Panza     5.0    2.0   \n",
      "9054   Vlg_nesyZJfX_mpy2fslTQ                 Le Marquis     5.0    2.0   \n",
      "12653  0o8kO3S4Khl_lIqrdk67ig                  Ono Pokii     5.0    NaN   \n",
      "3456   RoNi0USDhvCBvXa4bMyxDA                  Mr. Puffs     5.0    1.0   \n",
      "2595   Rx7E8hZQXcSjeHPGUZCeBg  Casse-Croûte Sissi & Paul     5.0    2.0   \n",
      "1256   uH4-Esv5-b31q2y89AqyAw               Place Carmin     5.0    NaN   \n",
      "4128   aLubn-yEUrbL3vlvzK3lVw    Che Churros & Empanadas     5.0    NaN   \n",
      "12657  AQuvwHokJgcv1kchsZqKqg                    Toucheh     5.0    2.0   \n",
      "\n",
      "       review_count      s_lat      s_lon      p_lat      p_lon  \\\n",
      "14147           187  45.496830 -73.579130  45.499440 -73.577860   \n",
      "2040             74  45.510860 -73.549830  45.509858 -73.552606   \n",
      "9629             47  45.557421 -73.748060  45.552610 -73.758720   \n",
      "9054             44  45.536135 -73.622585  45.538806 -73.617828   \n",
      "12653            32  45.476294 -73.606175  45.477870 -73.604250   \n",
      "3456             29  45.539461 -73.576056  45.533078 -73.574255   \n",
      "2595             28  45.559697 -73.601460  45.553980 -73.602140   \n",
      "1256             26  45.497165 -73.559330  45.498208 -73.557607   \n",
      "4128             24  45.518967 -73.583616  45.517670 -73.585220   \n",
      "12657            23  45.476294 -73.606175  45.477760 -73.602650   \n",
      "\n",
      "      category_alias  distance  scaled_rating  station  \n",
      "14147   cocktailbars       310            9.4       36  \n",
      "2040          coffee       243            9.4        6  \n",
      "9629         italian       986            9.4      464  \n",
      "9054        bakeries       475            9.4       21  \n",
      "12653       hawaiian       232            9.4      700  \n",
      "3456        desserts       723            9.4      587  \n",
      "2595         haitian       643            9.4      583  \n",
      "1256          french       177            9.4      350  \n",
      "4128       argentine       183            9.4      306  \n",
      "12657        persian       314            9.4      700  \n"
     ]
    }
   ],
   "source": [
    "yelp_resto = yelp_poi.drop_duplicates(subset=['id'])\n",
    "print(yelp_resto.sort_values(['rating', 'review_count'], ascending=False).head(10))"
   ]
  },
  {
   "cell_type": "markdown",
   "metadata": {},
   "source": [
    "FSQ:<br>\n",
    "Its easy to filter 'restaurant' with FSQ since we have different level of category_id from the API documentation. The rating is wide enough to use only this filter.\n",
    "<br><br>\n",
    "YELP:<br>\n",
    "To be able to see proper top list, we need to consider review_count, which is the primary attribute of the API.\n",
    "Also, it looks like the best rating/review 'restaurant' are fastfoods POI..."
   ]
  },
  {
   "cell_type": "markdown",
   "metadata": {},
   "source": [
    "# CONCLUSION"
   ]
  },
  {
   "cell_type": "markdown",
   "metadata": {},
   "source": [
    "Reminder: The city of choice is Montreal and the citybikes API provides information about the BiXi company (bike rental).\n",
    "\n",
    "Beeing a Montrealer myself, I know people and tourist won't rent a bike because they want to access a fastfood restaurant! There is so many other restaurant options and point of interests.\n",
    "\n",
    "My choice would be to use FSQ only data because:<br>\n",
    "    - More POI (Art & Entertainement, Dining & Restaurant were selected)<br>\n",
    "    - Rating is wide (1-10)<br>\n",
    "    - Price range usable (1-4)<br>\n",
    "    - Easy to differentiate category (could even go deeper and model each category using API documentation)"
   ]
  },
  {
   "cell_type": "markdown",
   "metadata": {},
   "source": []
  }
 ],
 "metadata": {
  "kernelspec": {
   "display_name": "dev_lhl",
   "language": "python",
   "name": "dev_lhl"
  },
  "language_info": {
   "codemirror_mode": {
    "name": "ipython",
    "version": 3
   },
   "file_extension": ".py",
   "mimetype": "text/x-python",
   "name": "python",
   "nbconvert_exporter": "python",
   "pygments_lexer": "ipython3",
   "version": "3.11.3"
  }
 },
 "nbformat": 4,
 "nbformat_minor": 4
}
