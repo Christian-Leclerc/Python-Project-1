{
 "cells": [
  {
   "cell_type": "code",
   "execution_count": 13,
   "metadata": {
    "tags": []
   },
   "outputs": [],
   "source": [
    "# imports\n",
    "import pandas as pd\n",
    "import json\n",
    "import requests\n",
    "import os\n",
    "from pprint import pp\n",
    "import time"
   ]
  },
  {
   "cell_type": "markdown",
   "metadata": {},
   "source": [
    "# Foursquare"
   ]
  },
  {
   "cell_type": "markdown",
   "metadata": {},
   "source": [
    "#### Send a request to Foursquare with a small radius (1000m) for all the bike stations in your city of choice. "
   ]
  },
  {
   "cell_type": "code",
   "execution_count": 24,
   "metadata": {
    "tags": []
   },
   "outputs": [],
   "source": [
    "# Setting variables\n",
    "api_key = os.environ['FOUR_SQUARE_API']\n",
    "url = 'https://api.foursquare.com/v3/places/search'\n",
    "headers = {\n",
    "    'Accept': 'application/json',\n",
    "    'Authorization': api_key\n",
    "}\n",
    "radius  = 1000 # 1 km\n",
    "time_per_request = 1 / 100  # 1 second / 100 QPS - FourSquare API rate limit\n",
    "responses = [] # list for dumping responses along the way in case of error"
   ]
  },
  {
   "cell_type": "code",
   "execution_count": 4,
   "metadata": {
    "tags": []
   },
   "outputs": [],
   "source": [
    "# Load locations from stations.csv\n",
    "stations = pd.read_csv('../data/stations.csv', index_col=None)\n",
    "\n",
    "# Create a list of paired (latitude, longitude)\n",
    "locations = [f\"{lat},{long}\" for lat, long in zip(stations['latitude'], stations['longitude'])]"
   ]
  },
  {
   "cell_type": "code",
   "execution_count": 33,
   "metadata": {
    "tags": []
   },
   "outputs": [],
   "source": [
    "# GET request for each locations\n",
    "\n",
    "# Continue from last error, if any\n",
    "try:\n",
    "    with open('../data/responses_fsq.json', 'r') as f:\n",
    "        responses = json.load(f)\n",
    "except FileNotFoundError:\n",
    "    pass\n",
    "\n",
    "# Loop throught locations\n",
    "for location in locations[len(responses):]:\n",
    "    params = {\n",
    "        'll': location,\n",
    "        'radius': radius\n",
    "    }\n",
    "    try:\n",
    "        response = requests.get(url, params=params, headers=headers)\n",
    "        response.raise_for_status()\n",
    "\n",
    "        responses.append(response.json())\n",
    "\n",
    "        # Save intermediate progress after each successful request\n",
    "        with open('../data/responses_fsq.json', 'w') as f:\n",
    "            json.dump(responses, f)\n",
    "\n",
    "    except requests.exceptions.RequestException as error:\n",
    "        print(f\"Error: {error}\")\n",
    "        # Break out of the loop when an error occurs\n",
    "        break\n",
    "\n",
    "    time.sleep(time_per_request)\n",
    "\n",
    "    # Stop the loop if an error occurred\n",
    "    if 'error' in response.json():\n",
    "        break"
   ]
  },
  {
   "cell_type": "code",
   "execution_count": 59,
   "metadata": {
    "tags": []
   },
   "outputs": [
    {
     "name": "stdout",
     "output_type": "stream",
     "text": [
      "                        fsq_id  \\\n",
      "0     4e0b48221f6edc06be259aec   \n",
      "1     4ea9b28cb803cf1ffacd7c0d   \n",
      "2     52ffddfb498e1ae6fe109272   \n",
      "3     4b68b939f964a52040892be3   \n",
      "4     4de7c3322271b9ccf4e4edbe   \n",
      "...                        ...   \n",
      "7891  510184c6e4b052bb765a20d6   \n",
      "7892  4b049370f964a520505522e3   \n",
      "7893  4c59c9fe2fa89c7495ce1323   \n",
      "7894  4ad4c06cf964a520cef920e3   \n",
      "7895  4ad4c06cf964a520cbf920e3   \n",
      "\n",
      "                                             categories chains  distance  \\\n",
      "0     [{'id': 10039, 'name': 'Music Venue', 'icon': ...     []        19   \n",
      "1     [{'id': 13034, 'name': 'Café', 'icon': {'prefi...     []        79   \n",
      "2     [{'id': 16037, 'name': 'Playground', 'icon': {...     []       106   \n",
      "3     [{'id': 12058, 'name': 'Elementary School', 'i...     []       226   \n",
      "4     [{'id': 13002, 'name': 'Bakery', 'icon': {'pre...     []       240   \n",
      "...                                                 ...    ...       ...   \n",
      "7891  [{'id': 13276, 'name': 'Sushi Restaurant', 'ic...     []       399   \n",
      "7892  [{'id': 13065, 'name': 'Restaurant', 'icon': {...     []       406   \n",
      "7893  [{'id': 13148, 'name': 'French Restaurant', 'i...     []       441   \n",
      "7894  [{'id': 16032, 'name': 'Park', 'icon': {'prefi...     []       520   \n",
      "7895  [{'id': 16039, 'name': 'Urban Park', 'icon': {...     []       510   \n",
      "\n",
      "                                     link                    name  \\\n",
      "0     /v3/places/4e0b48221f6edc06be259aec          Salle Désilets   \n",
      "1     /v3/places/4ea9b28cb803cf1ffacd7c0d             Café l'Exil   \n",
      "2     /v3/places/52ffddfb498e1ae6fe109272               Fun O Max   \n",
      "3     /v3/places/4b68b939f964a52040892be3  Académie Louis-Pasteur   \n",
      "4     /v3/places/4de7c3322271b9ccf4e4edbe                Capucine   \n",
      "...                                   ...                     ...   \n",
      "7891  /v3/places/510184c6e4b052bb765a20d6         Saint Sushi Bar   \n",
      "7892  /v3/places/4b049370f964a520505522e3     La Fabrique Bistrot   \n",
      "7893  /v3/places/4c59c9fe2fa89c7495ce1323    Restaurant de l'ITHQ   \n",
      "7894  /v3/places/4ad4c06cf964a520cef920e3        Parc la Fontaine   \n",
      "7895  /v3/places/4ad4c06cf964a520cbf920e3      Square Saint-Louis   \n",
      "\n",
      "             timezone  geocodes_drop_off_latitude  \\\n",
      "0     America/Toronto                   45.617369   \n",
      "1     America/Toronto                         NaN   \n",
      "2     America/Toronto                         NaN   \n",
      "3     America/Toronto                         NaN   \n",
      "4     America/Toronto                         NaN   \n",
      "...               ...                         ...   \n",
      "7891  America/Toronto                   45.521245   \n",
      "7892  America/Toronto                   45.517908   \n",
      "7893  America/Toronto                   45.517573   \n",
      "7894  America/Toronto                         NaN   \n",
      "7895  America/Toronto                         NaN   \n",
      "\n",
      "      geocodes_drop_off_longitude  geocodes_main_latitude  ...  \\\n",
      "0                      -73.606420               45.617818  ...   \n",
      "1                             NaN               45.617214  ...   \n",
      "2                             NaN               45.618397  ...   \n",
      "3                             NaN               45.617485  ...   \n",
      "4                             NaN               45.619507  ...   \n",
      "...                           ...                     ...  ...   \n",
      "7891                   -73.575440               45.521131  ...   \n",
      "7892                   -73.569593               45.518010  ...   \n",
      "7893                   -73.568854               45.517856  ...   \n",
      "7894                          NaN               45.526246  ...   \n",
      "7895                          NaN               45.516863  ...   \n",
      "\n",
      "      location_locality  location_region  location_postcode  \\\n",
      "0              Montréal               QC                NaN   \n",
      "1              Montréal               QC            H1G 2J6   \n",
      "2              Montreal               QC            H1G 2J6   \n",
      "3              Montréal               QC            H1G 2J5   \n",
      "4              Montréal               QC            H1G 0A1   \n",
      "...                 ...              ...                ...   \n",
      "7891           Montréal               QC            H2L 1A3   \n",
      "7892           Montréal               QC            H2X 3L6   \n",
      "7893           Montréal               QC            H2X 3P1   \n",
      "7894           Montréal               QC            H2L 0C7   \n",
      "7895           Montréal               QC            H2X 3L1   \n",
      "\n",
      "                                related_places_children  \\\n",
      "0                                                   NaN   \n",
      "1                                                   NaN   \n",
      "2                                                   NaN   \n",
      "3                                                   NaN   \n",
      "4                                                   NaN   \n",
      "...                                                 ...   \n",
      "7891                                                NaN   \n",
      "7892                                                NaN   \n",
      "7893                                                NaN   \n",
      "7894  [{'fsq_id': '618552d987c1b16a90aa0088', 'name'...   \n",
      "7895                                                 []   \n",
      "\n",
      "     location_address_extended geocodes_front_door_latitude  \\\n",
      "0                          NaN                          NaN   \n",
      "1                          NaN                          NaN   \n",
      "2                          NaN                          NaN   \n",
      "3                          NaN                          NaN   \n",
      "4                          NaN                          NaN   \n",
      "...                        ...                          ...   \n",
      "7891                       NaN                          NaN   \n",
      "7892           Square St-Louis                          NaN   \n",
      "7893            coin De Rigaud                          NaN   \n",
      "7894                       NaN                          NaN   \n",
      "7895                       NaN                          NaN   \n",
      "\n",
      "     geocodes_front_door_longitude related_places_parent_fsq_id  \\\n",
      "0                              NaN                          NaN   \n",
      "1                              NaN                          NaN   \n",
      "2                              NaN                          NaN   \n",
      "3                              NaN                          NaN   \n",
      "4                              NaN                          NaN   \n",
      "...                            ...                          ...   \n",
      "7891                           NaN                          NaN   \n",
      "7892                           NaN                          NaN   \n",
      "7893                           NaN     4b5f7206f964a520c4ba29e3   \n",
      "7894                           NaN                          NaN   \n",
      "7895                           NaN                          NaN   \n",
      "\n",
      "     related_places_parent_name location_po_box  \n",
      "0                           NaN             NaN  \n",
      "1                           NaN             NaN  \n",
      "2                           NaN             NaN  \n",
      "3                           NaN             NaN  \n",
      "4                           NaN             NaN  \n",
      "...                         ...             ...  \n",
      "7891                        NaN             NaN  \n",
      "7892                        NaN             NaN  \n",
      "7893                       Ithq             NaN  \n",
      "7894                        NaN             NaN  \n",
      "7895                        NaN             NaN  \n",
      "\n",
      "[7896 rows x 27 columns]\n"
     ]
    }
   ],
   "source": [
    "from pandas import json_normalize\n",
    "flattened_data = []\n",
    "\n",
    "# Iterate through each response\n",
    "for response in responses:\n",
    "    # Extract relevant information from the nested dictionaries and flatten\n",
    "    flattened_results = json_normalize(response.get('results', []), sep='_')\n",
    "    \n",
    "    # Add the flattened results to the list\n",
    "    flattened_data.extend(flattened_results.to_dict('records'))\n",
    "\n",
    "# Create a DataFrame from the flattened data\n",
    "flattened_df = pd.DataFrame(flattened_data)\n",
    "\n",
    "# Display the resulting DataFrame\n",
    "print(flattened_df)"
   ]
  },
  {
   "cell_type": "code",
   "execution_count": 57,
   "metadata": {
    "tags": []
   },
   "outputs": [
    {
     "data": {
      "text/html": [
       "<div>\n",
       "<style scoped>\n",
       "    .dataframe tbody tr th:only-of-type {\n",
       "        vertical-align: middle;\n",
       "    }\n",
       "\n",
       "    .dataframe tbody tr th {\n",
       "        vertical-align: top;\n",
       "    }\n",
       "\n",
       "    .dataframe thead th {\n",
       "        text-align: right;\n",
       "    }\n",
       "</style>\n",
       "<table border=\"1\" class=\"dataframe\">\n",
       "  <thead>\n",
       "    <tr style=\"text-align: right;\">\n",
       "      <th></th>\n",
       "      <th>fsq_id</th>\n",
       "      <th>category</th>\n",
       "      <th>name</th>\n",
       "      <th>latitude</th>\n",
       "      <th>longitude</th>\n",
       "    </tr>\n",
       "  </thead>\n",
       "  <tbody>\n",
       "    <tr>\n",
       "      <th>0</th>\n",
       "      <td>4e0b48221f6edc06be259aec</td>\n",
       "      <td>Music Venue</td>\n",
       "      <td>Salle Désilets</td>\n",
       "      <td>None</td>\n",
       "      <td>None</td>\n",
       "    </tr>\n",
       "    <tr>\n",
       "      <th>1</th>\n",
       "      <td>4ea9b28cb803cf1ffacd7c0d</td>\n",
       "      <td>Café</td>\n",
       "      <td>Café l'Exil</td>\n",
       "      <td>None</td>\n",
       "      <td>None</td>\n",
       "    </tr>\n",
       "    <tr>\n",
       "      <th>2</th>\n",
       "      <td>52ffddfb498e1ae6fe109272</td>\n",
       "      <td>Playground</td>\n",
       "      <td>Fun O Max</td>\n",
       "      <td>None</td>\n",
       "      <td>None</td>\n",
       "    </tr>\n",
       "    <tr>\n",
       "      <th>3</th>\n",
       "      <td>4b68b939f964a52040892be3</td>\n",
       "      <td>Elementary School</td>\n",
       "      <td>Académie Louis-Pasteur</td>\n",
       "      <td>None</td>\n",
       "      <td>None</td>\n",
       "    </tr>\n",
       "    <tr>\n",
       "      <th>4</th>\n",
       "      <td>4de7c3322271b9ccf4e4edbe</td>\n",
       "      <td>Bakery</td>\n",
       "      <td>Capucine</td>\n",
       "      <td>None</td>\n",
       "      <td>None</td>\n",
       "    </tr>\n",
       "    <tr>\n",
       "      <th>...</th>\n",
       "      <td>...</td>\n",
       "      <td>...</td>\n",
       "      <td>...</td>\n",
       "      <td>...</td>\n",
       "      <td>...</td>\n",
       "    </tr>\n",
       "    <tr>\n",
       "      <th>7891</th>\n",
       "      <td>510184c6e4b052bb765a20d6</td>\n",
       "      <td>Sushi Restaurant</td>\n",
       "      <td>Saint Sushi Bar</td>\n",
       "      <td>None</td>\n",
       "      <td>None</td>\n",
       "    </tr>\n",
       "    <tr>\n",
       "      <th>7892</th>\n",
       "      <td>4b049370f964a520505522e3</td>\n",
       "      <td>Restaurant</td>\n",
       "      <td>La Fabrique Bistrot</td>\n",
       "      <td>None</td>\n",
       "      <td>None</td>\n",
       "    </tr>\n",
       "    <tr>\n",
       "      <th>7893</th>\n",
       "      <td>4c59c9fe2fa89c7495ce1323</td>\n",
       "      <td>French Restaurant</td>\n",
       "      <td>Restaurant de l'ITHQ</td>\n",
       "      <td>None</td>\n",
       "      <td>None</td>\n",
       "    </tr>\n",
       "    <tr>\n",
       "      <th>7894</th>\n",
       "      <td>4ad4c06cf964a520cef920e3</td>\n",
       "      <td>Park</td>\n",
       "      <td>Parc la Fontaine</td>\n",
       "      <td>None</td>\n",
       "      <td>None</td>\n",
       "    </tr>\n",
       "    <tr>\n",
       "      <th>7895</th>\n",
       "      <td>4ad4c06cf964a520cbf920e3</td>\n",
       "      <td>Urban Park</td>\n",
       "      <td>Square Saint-Louis</td>\n",
       "      <td>None</td>\n",
       "      <td>None</td>\n",
       "    </tr>\n",
       "  </tbody>\n",
       "</table>\n",
       "<p>7896 rows × 5 columns</p>\n",
       "</div>"
      ],
      "text/plain": [
       "                        fsq_id           category                    name  \\\n",
       "0     4e0b48221f6edc06be259aec        Music Venue          Salle Désilets   \n",
       "1     4ea9b28cb803cf1ffacd7c0d               Café             Café l'Exil   \n",
       "2     52ffddfb498e1ae6fe109272         Playground               Fun O Max   \n",
       "3     4b68b939f964a52040892be3  Elementary School  Académie Louis-Pasteur   \n",
       "4     4de7c3322271b9ccf4e4edbe             Bakery                Capucine   \n",
       "...                        ...                ...                     ...   \n",
       "7891  510184c6e4b052bb765a20d6   Sushi Restaurant         Saint Sushi Bar   \n",
       "7892  4b049370f964a520505522e3         Restaurant     La Fabrique Bistrot   \n",
       "7893  4c59c9fe2fa89c7495ce1323  French Restaurant    Restaurant de l'ITHQ   \n",
       "7894  4ad4c06cf964a520cef920e3               Park        Parc la Fontaine   \n",
       "7895  4ad4c06cf964a520cbf920e3         Urban Park      Square Saint-Louis   \n",
       "\n",
       "     latitude longitude  \n",
       "0        None      None  \n",
       "1        None      None  \n",
       "2        None      None  \n",
       "3        None      None  \n",
       "4        None      None  \n",
       "...       ...       ...  \n",
       "7891     None      None  \n",
       "7892     None      None  \n",
       "7893     None      None  \n",
       "7894     None      None  \n",
       "7895     None      None  \n",
       "\n",
       "[7896 rows x 5 columns]"
      ]
     },
     "execution_count": 57,
     "metadata": {},
     "output_type": "execute_result"
    }
   ],
   "source": [
    "# Create an empty list to hold the flattened data\n",
    "\n",
    "flattened_data = []\n",
    "\n",
    "for response in responses:\n",
    "    # Extract relevant information from the nested dictionaries\n",
    "    for result in response.get('results', []):\n",
    "        fsq_id = result.get('fsq_id')\n",
    "        categories = result.get('categories', [])\n",
    "        category_name = categories[0]['name'] if categories else None\n",
    "        name = result.get('name')\n",
    "        location = result.get('location', {})\n",
    "        latitude = location.get('latitude')\n",
    "        longitude = location.get('longitude')\n",
    "        \n",
    "        flattened_item = {\n",
    "            'fsq_id': fsq_id,\n",
    "            'category': category_name,\n",
    "            'name': name,\n",
    "            'latitude': latitude,\n",
    "            'longitude': longitude\n",
    "            # Add more keys as needed\n",
    "        }\n",
    "        flattened_data.append(flattened_item)\n",
    "df = pd.DataFrame(flattened_data)\n",
    "df"
   ]
  },
  {
   "cell_type": "markdown",
   "metadata": {},
   "source": [
    "#### Parse through the response to get the POI (such as restaurants, bars, etc) details you want (ratings, name, location, etc)"
   ]
  },
  {
   "cell_type": "code",
   "execution_count": null,
   "metadata": {},
   "outputs": [],
   "source": []
  },
  {
   "cell_type": "markdown",
   "metadata": {},
   "source": [
    "#### Put your parsed results into a DataFrame"
   ]
  },
  {
   "cell_type": "code",
   "execution_count": null,
   "metadata": {},
   "outputs": [],
   "source": []
  },
  {
   "cell_type": "markdown",
   "metadata": {},
   "source": [
    "# Yelp"
   ]
  },
  {
   "cell_type": "markdown",
   "metadata": {},
   "source": [
    "#### Send a request to Yelp with a small radius (1000m) for all the bike stations in your city of choice. "
   ]
  },
  {
   "cell_type": "code",
   "execution_count": 45,
   "metadata": {
    "tags": []
   },
   "outputs": [],
   "source": [
    "# Setting variables\n",
    "api_key = os.environ['YELP_API']\n",
    "url = 'https://api.yelp.com/v3/businesses/search'\n",
    "headers = {\n",
    "    'Accept': 'application/json',\n",
    "    'Authorization': 'Bearer ' + api_key\n",
    "}\n",
    "radius  = 1000 # 1 km\n",
    "time_per_request = 1 / 100  # 1 second / 100 QPS - Cannot find real QPS - Limit 500 per day\n",
    "responses = [] # list for dumping responses along the way in case of error"
   ]
  },
  {
   "cell_type": "code",
   "execution_count": 50,
   "metadata": {
    "tags": []
   },
   "outputs": [],
   "source": [
    "# GET request for each locations\n",
    "\n",
    "# Continue from last error, if any, or limit obtained for last day\n",
    "try:\n",
    "    with open('../data/responses_yelp.json', 'r') as f:\n",
    "        responses = json.load(f)\n",
    "except FileNotFoundError:\n",
    "    pass\n",
    "\n",
    "# Loop throught locations - Limit Max 500 per day\n",
    "\n",
    "max_iterations = 497\n",
    "start_index = len(responses)\n",
    "end_index = min(start_index + max_iterations, len(stations) - 1)\n",
    "\n",
    "for index in range(start_index, end_index):\n",
    "    params = {\n",
    "        'latitude': stations.iloc[index]['latitude'],\n",
    "        'longitude': stations.iloc[index]['longitude'],\n",
    "        'radius': radius\n",
    "    }\n",
    "    try:\n",
    "        response = requests.get(url, params=params, headers=headers)\n",
    "        response.raise_for_status()\n",
    "\n",
    "        responses.append(response.json())\n",
    "\n",
    "        # Save intermediate progress after each successful request\n",
    "        with open('../data/responses_yelp.json', 'w') as f:\n",
    "            json.dump(responses, f)\n",
    "\n",
    "    except requests.exceptions.RequestException as error:\n",
    "        print(f\"Error: {error}\")\n",
    "        # Break out of the loop when an error occurs\n",
    "        break\n",
    "\n",
    "    time.sleep(time_per_request)\n",
    "\n",
    "    # Stop the loop if an error occurred\n",
    "    if 'error' in response.json():\n",
    "        break"
   ]
  },
  {
   "cell_type": "markdown",
   "metadata": {},
   "source": [
    "#### Parse through the response to get the POI (such as restaurants, bars, etc) details you want (ratings, name, location, etc)"
   ]
  },
  {
   "cell_type": "code",
   "execution_count": 52,
   "metadata": {},
   "outputs": [
    {
     "name": "stdout",
     "output_type": "stream",
     "text": [
      "498\n"
     ]
    }
   ],
   "source": [
    "print(len(responses))"
   ]
  },
  {
   "cell_type": "markdown",
   "metadata": {},
   "source": [
    "#### Put your parsed results into a DataFrame"
   ]
  },
  {
   "cell_type": "markdown",
   "metadata": {},
   "source": []
  },
  {
   "cell_type": "markdown",
   "metadata": {},
   "source": [
    "# Comparing Results"
   ]
  },
  {
   "cell_type": "markdown",
   "metadata": {},
   "source": [
    "#### Which API provided you with more complete data? Provide an explanation. "
   ]
  },
  {
   "cell_type": "markdown",
   "metadata": {},
   "source": []
  },
  {
   "cell_type": "markdown",
   "metadata": {},
   "source": [
    "#### Get the top 10 restaurants according to their rating"
   ]
  },
  {
   "cell_type": "code",
   "execution_count": null,
   "metadata": {},
   "outputs": [],
   "source": []
  }
 ],
 "metadata": {
  "kernelspec": {
   "display_name": "dev_lhl",
   "language": "python",
   "name": "dev_lhl"
  },
  "language_info": {
   "codemirror_mode": {
    "name": "ipython",
    "version": 3
   },
   "file_extension": ".py",
   "mimetype": "text/x-python",
   "name": "python",
   "nbconvert_exporter": "python",
   "pygments_lexer": "ipython3",
   "version": "3.11.3"
  }
 },
 "nbformat": 4,
 "nbformat_minor": 4
}
