{
 "cells": [
  {
   "cell_type": "markdown",
   "metadata": {},
   "source": [
    "# CityBikes"
   ]
  },
  {
   "cell_type": "markdown",
   "metadata": {},
   "source": [
    "## Send a request to CityBikes for the city of your choice. "
   ]
  },
  {
   "cell_type": "code",
   "execution_count": 1,
   "metadata": {
    "tags": []
   },
   "outputs": [],
   "source": [
    "import pandas as pd\n",
    "import json\n",
    "import requests\n",
    "from pprint import pp"
   ]
  },
  {
   "cell_type": "code",
   "execution_count": 2,
   "metadata": {
    "tags": []
   },
   "outputs": [
    {
     "name": "stdout",
     "output_type": "stream",
     "text": [
      "<Response [200]>\n"
     ]
    }
   ],
   "source": [
    "# Finding the API endpoint of the all cities\n",
    "\n",
    "params = \"href,location\" # API cannot filter lower than level 1 for now\n",
    "url = \"http://api.citybik.es/v2/networks?fields=\" + params\n",
    "\n",
    "result_cities = requests.get(url)\n",
    "print(result_cities)"
   ]
  },
  {
   "cell_type": "code",
   "execution_count": 3,
   "metadata": {
    "tags": []
   },
   "outputs": [
    {
     "name": "stdout",
     "output_type": "stream",
     "text": [
      "{'href': '/v2/networks/velobike-moscow',\n",
      " 'location': {'city': 'Moscow',\n",
      "              'country': 'RU',\n",
      "              'latitude': 55.75,\n",
      "              'longitude': 37.616667}}\n"
     ]
    }
   ],
   "source": [
    "# Visualize keys of result\n",
    "networks = result_cities.json()['networks']\n",
    "pp(networks[0])"
   ]
  },
  {
   "cell_type": "code",
   "execution_count": 4,
   "metadata": {
    "tags": []
   },
   "outputs": [
    {
     "name": "stdout",
     "output_type": "stream",
     "text": [
      "The href for montr is: /v2/networks/bixi-montreal\n"
     ]
    }
   ],
   "source": [
    "# Finding API endpoint of city of choice = 'Montréal, Qc'\n",
    "city_choice = 'montr' # Since it's french name, better not use accent\n",
    "\n",
    "## Getting endpoint (href) of city LIKE 'montr'\n",
    "for network in networks:\n",
    "    if city_choice in network['location']['city'].lower():\n",
    "        endpoint = network[\"href\"]\n",
    "        print(f\"The href for {city_choice} is: {endpoint}\")\n",
    "        break\n",
    "else:\n",
    "    print(f\"No network found for {city_choice}\")"
   ]
  },
  {
   "cell_type": "markdown",
   "metadata": {},
   "source": [
    "## Parse through the response to get the details you want for the bike stations in that city (latitude, longitude, number of bikes). "
   ]
  },
  {
   "cell_type": "code",
   "execution_count": 5,
   "metadata": {
    "tags": []
   },
   "outputs": [
    {
     "name": "stdout",
     "output_type": "stream",
     "text": [
      "http://api.citybik.es/v2/networks/bixi-montreal\n",
      "<Response [200]>\n"
     ]
    }
   ],
   "source": [
    "# Extracting the stations data for the specific endpoint\n",
    "\n",
    "url = \"http://api.citybik.es\" + endpoint\n",
    "\n",
    "result_stations = requests.get(url)\n",
    "print(url)\n",
    "print(result_stations)"
   ]
  },
  {
   "cell_type": "code",
   "execution_count": 17,
   "metadata": {
    "tags": []
   },
   "outputs": [
    {
     "name": "stdout",
     "output_type": "stream",
     "text": [
      "{'network': {'stations': [...]}}\n"
     ]
    }
   ],
   "source": [
    "# Visualize keys of result\n",
    "pp(result_stations.json(), depth=2)"
   ]
  },
  {
   "cell_type": "code",
   "execution_count": 7,
   "metadata": {
    "tags": []
   },
   "outputs": [
    {
     "name": "stdout",
     "output_type": "stream",
     "text": [
      "{'empty_slots': 8,\n",
      " 'extra': {'ebikes': 2,\n",
      "           'has_ebikes': True,\n",
      "           'last_updated': 1692730666,\n",
      "           'payment': ['key', 'creditcard'],\n",
      "           'payment-terminal': True,\n",
      "           'renting': 1,\n",
      "           'returning': 1,\n",
      "           'slots': 11,\n",
      "           'uid': '693'},\n",
      " 'free_bikes': 3,\n",
      " 'id': '72bfd647b3d2b650546f42319729757d',\n",
      " 'latitude': 45.617499783128075,\n",
      " 'longitude': -73.60601127147675,\n",
      " 'name': 'Cégep Marie-Victorin',\n",
      " 'timestamp': '2023-08-22T18:59:37.024000Z'}\n"
     ]
    }
   ],
   "source": [
    "# Visualize keys of stations\n",
    "stations = result_stations.json()['network']['stations']\n",
    "\n",
    "# Print keys of the first item\n",
    "pp(stations[0])"
   ]
  },
  {
   "cell_type": "code",
   "execution_count": 8,
   "metadata": {
    "tags": []
   },
   "outputs": [],
   "source": [
    "# Parsing required info\n",
    "\n",
    "# Initialize desired info\n",
    "station_names = []\n",
    "latitudes = []\n",
    "longitudes = []\n",
    "total_bikes = []\n",
    "\n",
    "# Extract station info\n",
    "for station in stations:\n",
    "    station_names.append(station['name'])\n",
    "    latitudes.append(station['latitude'])\n",
    "    longitudes.append(station['longitude'])\n",
    "    total_bikes.append(station['empty_slots'] + station['free_bikes'])"
   ]
  },
  {
   "cell_type": "markdown",
   "metadata": {},
   "source": [
    "## Put your parsed results into a DataFrame."
   ]
  },
  {
   "cell_type": "code",
   "execution_count": 9,
   "metadata": {
    "tags": []
   },
   "outputs": [],
   "source": [
    "# Create a DataFrame\n",
    "df = {\n",
    "    'station_name': station_names,\n",
    "    'latitude': latitudes,\n",
    "    'longitude': longitudes,\n",
    "    'total_bikes': total_bikes\n",
    "}\n",
    "\n",
    "df_stations = pd.DataFrame(df)"
   ]
  },
  {
   "cell_type": "markdown",
   "metadata": {},
   "source": [
    "# Pre_cleaning"
   ]
  },
  {
   "cell_type": "code",
   "execution_count": 10,
   "metadata": {
    "tags": []
   },
   "outputs": [
    {
     "name": "stdout",
     "output_type": "stream",
     "text": [
      "station_name     object\n",
      "latitude        float64\n",
      "longitude       float64\n",
      "total_bikes       int64\n",
      "dtype: object\n",
      "<class 'pandas.core.frame.DataFrame'>\n",
      "RangeIndex: 797 entries, 0 to 796\n",
      "Data columns (total 4 columns):\n",
      " #   Column        Non-Null Count  Dtype  \n",
      "---  ------        --------------  -----  \n",
      " 0   station_name  797 non-null    object \n",
      " 1   latitude      797 non-null    float64\n",
      " 2   longitude     797 non-null    float64\n",
      " 3   total_bikes   797 non-null    int64  \n",
      "dtypes: float64(2), int64(1), object(1)\n",
      "memory usage: 25.0+ KB\n"
     ]
    }
   ],
   "source": [
    "print(df_stations.dtypes)\n",
    "df_stations.info()"
   ]
  },
  {
   "cell_type": "code",
   "execution_count": 11,
   "metadata": {
    "tags": []
   },
   "outputs": [
    {
     "data": {
      "text/html": [
       "<div>\n",
       "<style scoped>\n",
       "    .dataframe tbody tr th:only-of-type {\n",
       "        vertical-align: middle;\n",
       "    }\n",
       "\n",
       "    .dataframe tbody tr th {\n",
       "        vertical-align: top;\n",
       "    }\n",
       "\n",
       "    .dataframe thead th {\n",
       "        text-align: right;\n",
       "    }\n",
       "</style>\n",
       "<table border=\"1\" class=\"dataframe\">\n",
       "  <thead>\n",
       "    <tr style=\"text-align: right;\">\n",
       "      <th></th>\n",
       "      <th>station_name</th>\n",
       "      <th>latitude</th>\n",
       "      <th>longitude</th>\n",
       "      <th>total_bikes</th>\n",
       "    </tr>\n",
       "  </thead>\n",
       "  <tbody>\n",
       "    <tr>\n",
       "      <th>0</th>\n",
       "      <td>Cégep Marie-Victorin</td>\n",
       "      <td>45.617500</td>\n",
       "      <td>-73.606011</td>\n",
       "      <td>11</td>\n",
       "    </tr>\n",
       "    <tr>\n",
       "      <th>1</th>\n",
       "      <td>Gare d'autocars de Montréal (Berri / Ontario)</td>\n",
       "      <td>45.516926</td>\n",
       "      <td>-73.564257</td>\n",
       "      <td>10</td>\n",
       "    </tr>\n",
       "    <tr>\n",
       "      <th>2</th>\n",
       "      <td>Ateliers municipaux de St-Laurent (Cavendish /...</td>\n",
       "      <td>45.506176</td>\n",
       "      <td>-73.711186</td>\n",
       "      <td>19</td>\n",
       "    </tr>\n",
       "    <tr>\n",
       "      <th>3</th>\n",
       "      <td>Place Rodolphe-Rousseau (Gohier / Édouard-Laurin)</td>\n",
       "      <td>45.512994</td>\n",
       "      <td>-73.682498</td>\n",
       "      <td>24</td>\n",
       "    </tr>\n",
       "    <tr>\n",
       "      <th>4</th>\n",
       "      <td>Centre des loisirs (Tassé / Grenet)</td>\n",
       "      <td>45.514734</td>\n",
       "      <td>-73.691449</td>\n",
       "      <td>13</td>\n",
       "    </tr>\n",
       "  </tbody>\n",
       "</table>\n",
       "</div>"
      ],
      "text/plain": [
       "                                        station_name   latitude  longitude  \\\n",
       "0                               Cégep Marie-Victorin  45.617500 -73.606011   \n",
       "1      Gare d'autocars de Montréal (Berri / Ontario)  45.516926 -73.564257   \n",
       "2  Ateliers municipaux de St-Laurent (Cavendish /...  45.506176 -73.711186   \n",
       "3  Place Rodolphe-Rousseau (Gohier / Édouard-Laurin)  45.512994 -73.682498   \n",
       "4                Centre des loisirs (Tassé / Grenet)  45.514734 -73.691449   \n",
       "\n",
       "   total_bikes  \n",
       "0           11  \n",
       "1           10  \n",
       "2           19  \n",
       "3           24  \n",
       "4           13  "
      ]
     },
     "execution_count": 11,
     "metadata": {},
     "output_type": "execute_result"
    }
   ],
   "source": [
    "df_stations.head()"
   ]
  },
  {
   "cell_type": "code",
   "execution_count": 12,
   "metadata": {
    "tags": []
   },
   "outputs": [
    {
     "name": "stdout",
     "output_type": "stream",
     "text": [
      "0\n"
     ]
    }
   ],
   "source": [
    "print(df_stations.duplicated().sum())"
   ]
  },
  {
   "cell_type": "code",
   "execution_count": 13,
   "metadata": {
    "tags": []
   },
   "outputs": [
    {
     "name": "stdout",
     "output_type": "stream",
     "text": [
      "         latitude   longitude  total_bikes\n",
      "count  797.000000  797.000000   797.000000\n",
      "mean    45.524085  -73.592979    20.877039\n",
      "std      0.040555    0.048331     6.941242\n",
      "min     45.416295  -73.758227     5.000000\n",
      "25%     45.501804  -73.616075    16.000000\n",
      "50%     45.525194  -73.582596    19.000000\n",
      "75%     45.545581  -73.565364    23.000000\n",
      "max     45.702349  -73.436058    78.000000\n"
     ]
    }
   ],
   "source": [
    "print(df_stations.describe())"
   ]
  },
  {
   "cell_type": "markdown",
   "metadata": {},
   "source": [
    "# Creating CSV"
   ]
  },
  {
   "cell_type": "code",
   "execution_count": 14,
   "metadata": {},
   "outputs": [],
   "source": [
    "df_stations.to_csv('../data/stations.csv', index=False)"
   ]
  },
  {
   "cell_type": "code",
   "execution_count": null,
   "metadata": {},
   "outputs": [],
   "source": []
  }
 ],
 "metadata": {
  "kernelspec": {
   "display_name": "dev_lhl",
   "language": "python",
   "name": "dev_lhl"
  },
  "language_info": {
   "codemirror_mode": {
    "name": "ipython",
    "version": 3
   },
   "file_extension": ".py",
   "mimetype": "text/x-python",
   "name": "python",
   "nbconvert_exporter": "python",
   "pygments_lexer": "ipython3",
   "version": "3.11.3"
  }
 },
 "nbformat": 4,
 "nbformat_minor": 4
}
